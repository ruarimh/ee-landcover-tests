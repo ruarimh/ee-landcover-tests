{
  "nbformat": 4,
  "nbformat_minor": 0,
  "metadata": {
    "colab": {
      "name": "deforestation prediction.ipynb",
      "provenance": [],
      "collapsed_sections": [
        "pGpjvXvM9iB_",
        "tnnu_PrP1r8X"
      ]
    },
    "kernelspec": {
      "name": "python3",
      "display_name": "Python 3"
    },
    "language_info": {
      "name": "python"
    }
  },
  "cells": [
    {
      "cell_type": "markdown",
      "source": [
        "# Imports and choosing test and train area of interest"
      ],
      "metadata": {
        "id": "xVMnpIUW_szV"
      }
    },
    {
      "cell_type": "code",
      "execution_count": 1,
      "metadata": {
        "id": "6w0Qdyt7yIKW"
      },
      "outputs": [],
      "source": [
        "# Imports\n",
        "import ee\n",
        "import pprint\n",
        "import folium"
      ]
    },
    {
      "cell_type": "code",
      "source": [
        "# Trigger the authentication flow.\n",
        "ee.Authenticate()\n",
        "\n",
        "# Initialize the library.\n",
        "ee.Initialize()"
      ],
      "metadata": {
        "id": "1Ek4dlsZzp5H"
      },
      "execution_count": null,
      "outputs": []
    },
    {
      "cell_type": "code",
      "source": [
        "# Get an area in Brazil using http://geojson.io\n",
        "test_geoJSON = {\n",
        "  \"type\": \"FeatureCollection\",\n",
        "  \"features\": [\n",
        "    {\n",
        "      \"type\": \"Feature\",\n",
        "      \"properties\": {},\n",
        "      \"geometry\": {\n",
        "        \"type\": \"Polygon\",\n",
        "        \"coordinates\": [\n",
        "          [\n",
        "            [\n",
        "              -50.69091796875,\n",
        "              -9.96885060854611\n",
        "            ],\n",
        "            [\n",
        "              -50.614013671875,\n",
        "              -9.96885060854611\n",
        "            ],\n",
        "            [\n",
        "              -50.614013671875,\n",
        "              -9.893098633379571\n",
        "            ],\n",
        "            [\n",
        "              -50.69091796875,\n",
        "              -9.893098633379571\n",
        "            ],\n",
        "            [\n",
        "              -50.69091796875,\n",
        "              -9.96885060854611\n",
        "            ]\n",
        "          ]\n",
        "        ]\n",
        "      }\n",
        "    }\n",
        "  ]\n",
        "}\n",
        "\n",
        "# Put coordinates into ee format\n",
        "test_coords = test_geoJSON['features'][0]['geometry']['coordinates']\n",
        "test_aoi = ee.Geometry.Polygon(test_coords)\n",
        "\n",
        "\n",
        "\n",
        "train_geoJSON = {\n",
        "  \"type\": \"FeatureCollection\",\n",
        "  \"features\": [\n",
        "    {\n",
        "      \"type\": \"Feature\",\n",
        "      \"properties\": {},\n",
        "      \"geometry\": {\n",
        "        \"type\": \"Polygon\",\n",
        "        \"coordinates\": [\n",
        "          [\n",
        "            [\n",
        "              -52.81814575195312,\n",
        "              -10.668705375726015\n",
        "            ],\n",
        "            [\n",
        "              -52.33612060546875,\n",
        "              -10.668705375726015\n",
        "            ],\n",
        "            [\n",
        "              -52.33612060546875,\n",
        "              -10.09867012060338\n",
        "            ],\n",
        "            [\n",
        "              -52.81814575195312,\n",
        "              -10.09867012060338\n",
        "            ],\n",
        "            [\n",
        "              -52.81814575195312,\n",
        "              -10.668705375726015\n",
        "            ]\n",
        "          ]\n",
        "        ]\n",
        "      }\n",
        "    }\n",
        "  ]\n",
        "}\n",
        "\n",
        "\n",
        "train_coords = train_geoJSON['features'][0]['geometry']['coordinates']\n",
        "train_aoi = ee.Geometry.Polygon(train_coords)"
      ],
      "metadata": {
        "id": "SNXcf8HwytgA"
      },
      "execution_count": 3,
      "outputs": []
    },
    {
      "cell_type": "markdown",
      "source": [
        "# Loading Vancutsem and Landsat data"
      ],
      "metadata": {
        "id": "rMU60y44jvHR"
      }
    },
    {
      "cell_type": "markdown",
      "source": [
        "Load data in testing AOI"
      ],
      "metadata": {
        "id": "DpLPl1syrFm4"
      }
    },
    {
      "cell_type": "code",
      "source": [
        "# Vancutsem data guide available at https://forobs.jrc.ec.europa.eu/TMF/download/TMF_DataUsersGuide.pdf\n",
        "\n",
        "# the year a pixel is first deforested\n",
        "test_deforestation_year = ee.ImageCollection('projects/JRC/TMF/v1_2020/DeforestationYear').select(\"DeforestationYear\").filterBounds(test_aoi)\n",
        "\n",
        "# total number of disturbances\n",
        "test_intensity = ee.ImageCollection('projects/JRC/TMF/v1_2020/Intensity').select(\"Intensity\").filterBounds(test_aoi)\n",
        "\n",
        "# transition map: which class each pixel is in\n",
        "test_transition_map = ee.ImageCollection('projects/JRC/TMF/v1_2020/TransitionMap_MainClasses').mosaic()\n",
        "# Remap Vancutsem transition map into something easier to use\n",
        "# Forest regrowth --> Undisturbed tropical moist forest, all deforested land types in one class (including ongoing deforestation)\n",
        "test_transition_map = test_transition_map.remap([10,20,30,41,42,43,50,60,70],[0,0,0,1,1,1,1,1,1]).rename(\"class\")\n",
        "# 0 = Undisturbed, 1 = No forest\n",
        "\n",
        "# PALSAR SAR data\n",
        "test_palsar = ee.ImageCollection('JAXA/ALOS/PALSAR/YEARLY/SAR').filterBounds(test_aoi).filterDate('2019-01-01', '2019-12-31')\n",
        "# check which bands are available in aoi in the most recent image (VV and VH are not available, maybe due to the direction the satellite is pointing)\n",
        "print(\"PALSAR bands: \" ,test_palsar.sort('system:time_start', False).first().clip(test_aoi).bandNames().getInfo()) \n",
        "test_palsar = test_palsar.select('HH')\n",
        "\n",
        "# Sentinel-1 SAR data (split into two lines because it is very long)\n",
        "test_sentinel = ee.ImageCollection('COPERNICUS/S1_GRD').filterBounds(test_aoi).filterDate('2019-01-01', '2019-12-31')\n",
        "# check which bands are available in aoi in the most recent image (HH and HV are not available, maybe due to the direction the satellite is pointing)\n",
        "print(\"Sentinel-1 bands: \" ,test_sentinel.sort('system:time_start', False).first().clip(test_aoi).bandNames().getInfo()) \n",
        "test_sentinel = test_sentinel.select('VV')\n",
        "\n",
        "\n",
        "\n",
        "# Landsat 8 data: we only use 2019 data\n",
        "test_landsat = ee.ImageCollection('LANDSAT/LC08/C01/T1_TOA').filterBounds(test_aoi).filterDate('2019-01-01', '2019-12-31')\n",
        "\n",
        "# function to compute NDVI\n",
        "def calculate_NDVI(image):\n",
        "    ndvi = image.normalizedDifference(['B5', 'B4']).rename('NDVI')\n",
        "    return image.addBands(ndvi)\n",
        "\n",
        "# compute NDVI\n",
        "test_landsat_ndvi = test_landsat.map(calculate_NDVI).select('NDVI')\n",
        "\n",
        "\n"
      ],
      "metadata": {
        "id": "LiPLawbzjtPJ",
        "colab": {
          "base_uri": "https://localhost:8080/"
        },
        "outputId": "89f73038-0702-4217-c398-eae6ae70058c"
      },
      "execution_count": 78,
      "outputs": [
        {
          "output_type": "stream",
          "name": "stdout",
          "text": [
            "PALSAR bands:  ['HH', 'HV', 'angle', 'date', 'qa']\n",
            "Sentinel-1 bands:  ['VV', 'VH', 'angle']\n"
          ]
        }
      ]
    },
    {
      "cell_type": "markdown",
      "source": [
        "Load data in training aoi"
      ],
      "metadata": {
        "id": "A-wezjYCrKEw"
      }
    },
    {
      "cell_type": "code",
      "source": [
        "# Copy/pasting code like this is not ideal, but having different variable names at least means data leakage is impossible\n",
        "\n",
        "# Vancutsem data guide available at https://forobs.jrc.ec.europa.eu/TMF/download/TMF_DataUsersGuide.pdf\n",
        "\n",
        "# the year a pixel is first deforested\n",
        "train_deforestation_year = ee.ImageCollection('projects/JRC/TMF/v1_2020/DeforestationYear').select(\"DeforestationYear\").filterBounds(train_aoi)\n",
        "\n",
        "# total number of disturbances\n",
        "train_intensity = ee.ImageCollection('projects/JRC/TMF/v1_2020/Intensity').select(\"Intensity\").filterBounds(train_aoi)\n",
        "\n",
        "# transition map: which class each pixel is in\n",
        "train_transition_map = ee.ImageCollection('projects/JRC/TMF/v1_2020/TransitionMap_MainClasses').mosaic()\n",
        "# Remap Vancutsem transition map into something easier to use\n",
        "# Forest regrowth --> Undisturbed tropical moist forest, all deforested land types in one class (including ongoing deforestation)\n",
        "train_transition_map = train_transition_map.remap([10,20,30,41,42,43,50,60,70],[0,0,0,1,1,1,1,1,1]).rename(\"class\")\n",
        "# 0 = Undisturbed, 1 = No forest\n",
        "\n",
        "# PALSAR SAR data\n",
        "train_palsar = ee.ImageCollection('JAXA/ALOS/PALSAR/YEARLY/SAR').filterBounds(train_aoi).filterDate('2019-01-01', '2019-12-31')\n",
        "# check which bands are available in aoi in the most recent image (VV and VH are not available, maybe due to the direction the satellite is pointing)\n",
        "print(\"PALSAR bands: \" ,train_palsar.sort('system:time_start', False).first().clip(train_aoi).bandNames().getInfo()) \n",
        "train_palsar = train_palsar.select('HH')\n",
        "\n",
        "# Sentinel-1 SAR data (split into two lines because it is very long)\n",
        "train_sentinel = ee.ImageCollection('COPERNICUS/S1_GRD').filterBounds(train_aoi).filterDate('2019-01-01', '2019-12-31')\n",
        "# check which bands are available in aoi in the most recent image (HH and HV are not available, maybe due to the direction the satellite is pointing)\n",
        "print(\"Sentinel-1 bands: \" ,train_sentinel.sort('system:time_start', False).first().clip(train_aoi).bandNames().getInfo()) \n",
        "train_sentinel = train_sentinel.select('VV')\n",
        "\n",
        "\n",
        "\n",
        "# Landsat 8 data: we only use 2019 data\n",
        "train_landsat = ee.ImageCollection('LANDSAT/LC08/C01/T1_TOA').filterBounds(train_aoi).filterDate('2019-01-01', '2019-12-31')\n",
        "\n",
        "# function to compute NDVI\n",
        "def calculate_NDVI(image):\n",
        "    ndvi = image.normalizedDifference(['B5', 'B4']).rename('NDVI')\n",
        "    return image.addBands(ndvi)\n",
        "\n",
        "# compute NDVI\n",
        "train_landsat_ndvi = train_landsat.map(calculate_NDVI).select('NDVI')\n"
      ],
      "metadata": {
        "colab": {
          "base_uri": "https://localhost:8080/"
        },
        "id": "5GmmOKXKrJSA",
        "outputId": "01f40d54-adc3-415f-feb2-b3879441c433"
      },
      "execution_count": 79,
      "outputs": [
        {
          "output_type": "stream",
          "name": "stdout",
          "text": [
            "PALSAR bands:  ['HH', 'HV', 'angle', 'date', 'qa']\n",
            "Sentinel-1 bands:  ['VV', 'VH', 'angle']\n"
          ]
        }
      ]
    },
    {
      "cell_type": "markdown",
      "source": [
        "# Folium functions"
      ],
      "metadata": {
        "id": "pGpjvXvM9iB_"
      }
    },
    {
      "cell_type": "code",
      "source": [
        "# Add custom basemaps to folium\n",
        "basemaps = {\n",
        "    'Google Maps': folium.TileLayer(\n",
        "        tiles = 'https://mt1.google.com/vt/lyrs=m&x={x}&y={y}&z={z}',\n",
        "        attr = 'Google',\n",
        "        name = 'Google Maps',\n",
        "        overlay = True,\n",
        "        control = True\n",
        "    ),\n",
        "    'Google Satellite': folium.TileLayer(\n",
        "        tiles = 'https://mt1.google.com/vt/lyrs=s&x={x}&y={y}&z={z}',\n",
        "        attr = 'Google',\n",
        "        name = 'Google Satellite',\n",
        "        overlay = True,\n",
        "        control = True\n",
        "    ),\n",
        "    'Google Terrain': folium.TileLayer(\n",
        "        tiles = 'https://mt1.google.com/vt/lyrs=p&x={x}&y={y}&z={z}',\n",
        "        attr = 'Google',\n",
        "        name = 'Google Terrain',\n",
        "        overlay = True,\n",
        "        control = True\n",
        "    ),\n",
        "    'Google Satellite Hybrid': folium.TileLayer(\n",
        "        tiles = 'https://mt1.google.com/vt/lyrs=y&x={x}&y={y}&z={z}',\n",
        "        attr = 'Google',\n",
        "        name = 'Google Satellite',\n",
        "        overlay = True,\n",
        "        control = True\n",
        "    ),\n",
        "    'Esri Satellite': folium.TileLayer(\n",
        "        tiles = 'https://server.arcgisonline.com/ArcGIS/rest/services/World_Imagery/MapServer/tile/{z}/{y}/{x}',\n",
        "        attr = 'Esri',\n",
        "        name = 'Esri Satellite',\n",
        "        overlay = True,\n",
        "        control = True\n",
        "    )\n",
        "}"
      ],
      "metadata": {
        "id": "W8EoDNun5-tu"
      },
      "execution_count": 6,
      "outputs": []
    },
    {
      "cell_type": "code",
      "source": [
        "# Define a method for displaying Earth Engine image tiles on a folium map.\n",
        "def add_ee_layer(self, ee_object, vis_params, name):\n",
        "    \n",
        "    #try:    \n",
        "        # display ee.Image()\n",
        "        if isinstance(ee_object, ee.image.Image):    \n",
        "            map_id_dict = ee.Image(ee_object).getMapId(vis_params)\n",
        "            folium.raster_layers.TileLayer(\n",
        "            tiles = map_id_dict['tile_fetcher'].url_format,\n",
        "            attr = 'Google Earth Engine',\n",
        "            name = name,\n",
        "            overlay = True,\n",
        "            control = True\n",
        "            ).add_to(self)\n",
        "        # display ee.ImageCollection()\n",
        "        elif isinstance(ee_object, ee.imagecollection.ImageCollection):    \n",
        "            ee_object_new = ee_object.mosaic()\n",
        "            map_id_dict = ee.Image(ee_object_new).getMapId(vis_params)\n",
        "            folium.raster_layers.TileLayer(\n",
        "            tiles = map_id_dict['tile_fetcher'].url_format,\n",
        "            attr = 'Google Earth Engine',\n",
        "            name = name,\n",
        "            overlay = True,\n",
        "            control = True\n",
        "            ).add_to(self)\n",
        "        # display ee.Geometry()\n",
        "        elif isinstance(ee_object, ee.geometry.Geometry):    \n",
        "            folium.GeoJson(\n",
        "            data = ee_object.getInfo(),\n",
        "            name = name,\n",
        "            overlay = True,\n",
        "            control = True\n",
        "        ).add_to(self)\n",
        "        # display ee.FeatureCollection()\n",
        "        elif isinstance(ee_object, ee.featurecollection.FeatureCollection):  \n",
        "            ee_object_new = ee.Image().paint(ee_object, 0, 2)\n",
        "            map_id_dict = ee.Image(ee_object_new).getMapId(vis_params)\n",
        "            folium.raster_layers.TileLayer(\n",
        "            tiles = map_id_dict['tile_fetcher'].url_format,\n",
        "            attr = 'Google Earth Engine',\n",
        "            name = name,\n",
        "            overlay = True,\n",
        "            control = True\n",
        "        ).add_to(self)\n",
        "    \n",
        "    #except:\n",
        "    #    print(\"Could not display {}\".format(name))\n",
        "    \n",
        "# Add EE drawing method to folium.\n",
        "folium.Map.add_ee_layer = add_ee_layer"
      ],
      "metadata": {
        "id": "5OqzCbnF5jG-"
      },
      "execution_count": 7,
      "outputs": []
    },
    {
      "cell_type": "code",
      "source": [
        "#converts rgb value to hex\n",
        "def rgb(r, g, b):\n",
        "  return ('#%02x%02x%02x' % (r, g, b))"
      ],
      "metadata": {
        "id": "GbKdEfLDhzZQ"
      },
      "execution_count": 8,
      "outputs": []
    },
    {
      "cell_type": "markdown",
      "source": [
        "# Visualize the training set map"
      ],
      "metadata": {
        "id": "sooUZK6cvFZn"
      }
    },
    {
      "cell_type": "code",
      "source": [
        "# Get one image from the deforestation year collection, and remove values where no deforestation has occurred\n",
        "train_deforestation_year_image = train_deforestation_year.first().clip(train_aoi)\n",
        "train_deforestation_year_image = train_deforestation_year_image.updateMask(train_deforestation_year_image.neq(0))\n",
        "\n",
        "# Convert to folium coordinates\n",
        "train_location = train_aoi.centroid().coordinates().getInfo()[::-1]\n",
        "\n",
        "# Colour parameters for deforestation_year\n",
        "vis_params = {\n",
        "'min': 1982,\n",
        "'max': 2020,\n",
        "#\"palette\": [\"#2892c7\", \"#b30800\"]}\n",
        "\"palette\": [rgb(40,146,199), rgb(179,8,0)]}\n",
        "\n",
        "# Create the map object.\n",
        "f = folium.Figure(width=1000, height=500)\n",
        "m = folium.Map(location=train_location, zoom_start=12).add_to(f)\n",
        "\n",
        "# add satellite imagery\n",
        "basemaps['Google Satellite Hybrid'].add_to(m)\n",
        "\n",
        "# Add the deforestation year to the map\n",
        "m.add_ee_layer(train_deforestation_year_image, vis_params, 'Deforestation Year')\n",
        "\n",
        "\n",
        "\n",
        "# Get one image from the intensity collection\n",
        "train_intensity_image = train_intensity.first().clip(train_aoi)\n",
        "\n",
        "# Colour parameters for intensity\n",
        "vis_params = {\n",
        "'min': 1,\n",
        "'max': 500,\n",
        "\"palette\": [rgb(0,128,0), rgb(255,0,0)]}\n",
        "\n",
        "# Add the intensity to the map\n",
        "m.add_ee_layer(train_intensity_image, vis_params, 'Intensity')\n",
        "\n",
        "\n",
        "\n",
        "\n",
        "# Get one image from the transition map collection\n",
        "train_transition_map_image = train_transition_map.clip(train_aoi)\n",
        "\n",
        "# Colour parameters for transition map\n",
        "vis_params = {\n",
        "\"palette\": [rgb(0,80,0), rgb(255,230,100 )]}\n",
        "\n",
        "# Add the transition map to the map\n",
        "m.add_ee_layer(train_transition_map_image, vis_params, 'Transition Map')\n",
        "\n",
        "\n",
        "\n",
        "\n",
        "# Get one image from the 2019 landsat NDVI collection with the least clouds\n",
        "train_landsat_ndvi_image = train_landsat_ndvi.sort('CLOUD_COVER').first().clip(train_aoi) #2019 image is not blank, but when using .filterDate('2014-01-01', '2020-01-01') it was blank... why?\n",
        "\n",
        "# Colour parameters for NDVI\n",
        "vis_params = {\n",
        "    'min': -1,\n",
        "    'max': 1,\n",
        "    \"palette\": [rgb(255, 255, 204), rgb(0, 153, 0)]}\n",
        "\n",
        "# Add the NDVI to the map\n",
        "m.add_ee_layer(train_landsat_ndvi_image, vis_params, 'Landsat NDVI')\n",
        "\n",
        "\n",
        "\n",
        "# Get one image of the most recent PALSAR data\n",
        "train_palsar_image = train_palsar.sort('system:time_start', False).first().clip(train_aoi)\n",
        "\n",
        "# Colour parameters for PALSAR\n",
        "vis_params = {\n",
        "    'min': 0,\n",
        "    'max': 10000,}\n",
        "\n",
        "# Add the PALSAR to the map\n",
        "m.add_ee_layer(train_palsar_image, vis_params, 'PALSAR')\n",
        "\n",
        "\n",
        "\n",
        "\n",
        "# Get one image of the most recent Sentinel data\n",
        "# train_sentinel_image = train_sentinel.sort('system:time_start', False).first().clip(train_aoi)\n",
        "train_sentinel_image = train_sentinel.mosaic().clip(train_aoi)\n",
        "\n",
        "# Colour parameters for Sentinel\n",
        "vis_params = {\n",
        "    'min': -50,\n",
        "    'max': 1,}\n",
        "\n",
        "# Add the Sentinel to the map\n",
        "m.add_ee_layer(train_sentinel_image, vis_params, 'Sentinel-1')\n",
        "\n",
        "\n",
        "\n",
        "\n",
        "# Add a layer control panel to the map.\n",
        "m.add_child(folium.LayerControl())\n",
        "\n",
        "# Display the map.\n",
        "f"
      ],
      "metadata": {
        "colab": {
          "base_uri": "https://localhost:8080/",
          "height": 521
        },
        "id": "QdmtRSYqvEcf",
        "outputId": "9e42d660-04ad-4b7d-b932-bf3b687882a0"
      },
      "execution_count": 80,
      "outputs": [
        {
          "output_type": "execute_result",
          "data": {
            "text/html": [
              "<iframe src=\"about:blank\" width=\"1000\" height=\"500\"style=\"border:none !important;\" data-html=%3C%21DOCTYPE%20html%3E%0A%3Chead%3E%20%20%20%20%0A%20%20%20%20%3Cmeta%20http-equiv%3D%22content-type%22%20content%3D%22text/html%3B%20charset%3DUTF-8%22%20/%3E%0A%20%20%20%20%3Cscript%3EL_PREFER_CANVAS%3Dfalse%3B%20L_NO_TOUCH%3Dfalse%3B%20L_DISABLE_3D%3Dfalse%3B%3C/script%3E%0A%20%20%20%20%3Cscript%20src%3D%22https%3A//cdn.jsdelivr.net/npm/leaflet%401.4.0/dist/leaflet.js%22%3E%3C/script%3E%0A%20%20%20%20%3Cscript%20src%3D%22https%3A//code.jquery.com/jquery-1.12.4.min.js%22%3E%3C/script%3E%0A%20%20%20%20%3Cscript%20src%3D%22https%3A//maxcdn.bootstrapcdn.com/bootstrap/3.2.0/js/bootstrap.min.js%22%3E%3C/script%3E%0A%20%20%20%20%3Cscript%20src%3D%22https%3A//cdnjs.cloudflare.com/ajax/libs/Leaflet.awesome-markers/2.0.2/leaflet.awesome-markers.js%22%3E%3C/script%3E%0A%20%20%20%20%3Clink%20rel%3D%22stylesheet%22%20href%3D%22https%3A//cdn.jsdelivr.net/npm/leaflet%401.4.0/dist/leaflet.css%22/%3E%0A%20%20%20%20%3Clink%20rel%3D%22stylesheet%22%20href%3D%22https%3A//maxcdn.bootstrapcdn.com/bootstrap/3.2.0/css/bootstrap.min.css%22/%3E%0A%20%20%20%20%3Clink%20rel%3D%22stylesheet%22%20href%3D%22https%3A//maxcdn.bootstrapcdn.com/bootstrap/3.2.0/css/bootstrap-theme.min.css%22/%3E%0A%20%20%20%20%3Clink%20rel%3D%22stylesheet%22%20href%3D%22https%3A//maxcdn.bootstrapcdn.com/font-awesome/4.6.3/css/font-awesome.min.css%22/%3E%0A%20%20%20%20%3Clink%20rel%3D%22stylesheet%22%20href%3D%22https%3A//cdnjs.cloudflare.com/ajax/libs/Leaflet.awesome-markers/2.0.2/leaflet.awesome-markers.css%22/%3E%0A%20%20%20%20%3Clink%20rel%3D%22stylesheet%22%20href%3D%22https%3A//rawcdn.githack.com/python-visualization/folium/master/folium/templates/leaflet.awesome.rotate.css%22/%3E%0A%20%20%20%20%3Cstyle%3Ehtml%2C%20body%20%7Bwidth%3A%20100%25%3Bheight%3A%20100%25%3Bmargin%3A%200%3Bpadding%3A%200%3B%7D%3C/style%3E%0A%20%20%20%20%3Cstyle%3E%23map%20%7Bposition%3Aabsolute%3Btop%3A0%3Bbottom%3A0%3Bright%3A0%3Bleft%3A0%3B%7D%3C/style%3E%0A%20%20%20%20%0A%20%20%20%20%3Cmeta%20name%3D%22viewport%22%20content%3D%22width%3Ddevice-width%2C%0A%20%20%20%20%20%20%20%20initial-scale%3D1.0%2C%20maximum-scale%3D1.0%2C%20user-scalable%3Dno%22%20/%3E%0A%20%20%20%20%3Cstyle%3E%23map_71947a82f26d4b53873327f2fb0a6612%20%7B%0A%20%20%20%20%20%20%20%20position%3A%20relative%3B%0A%20%20%20%20%20%20%20%20width%3A%20100.0%25%3B%0A%20%20%20%20%20%20%20%20height%3A%20100.0%25%3B%0A%20%20%20%20%20%20%20%20left%3A%200.0%25%3B%0A%20%20%20%20%20%20%20%20top%3A%200.0%25%3B%0A%20%20%20%20%20%20%20%20%7D%0A%20%20%20%20%3C/style%3E%0A%3C/head%3E%0A%3Cbody%3E%20%20%20%20%0A%20%20%20%20%0A%20%20%20%20%3Cdiv%20class%3D%22folium-map%22%20id%3D%22map_71947a82f26d4b53873327f2fb0a6612%22%20%3E%3C/div%3E%0A%3C/body%3E%0A%3Cscript%3E%20%20%20%20%0A%20%20%20%20%0A%20%20%20%20%0A%20%20%20%20%20%20%20%20var%20bounds%20%3D%20null%3B%0A%20%20%20%20%0A%0A%20%20%20%20var%20map_71947a82f26d4b53873327f2fb0a6612%20%3D%20L.map%28%0A%20%20%20%20%20%20%20%20%27map_71947a82f26d4b53873327f2fb0a6612%27%2C%20%7B%0A%20%20%20%20%20%20%20%20center%3A%20%5B-10.38369101128682%2C%20-52.577133178711705%5D%2C%0A%20%20%20%20%20%20%20%20zoom%3A%2012%2C%0A%20%20%20%20%20%20%20%20maxBounds%3A%20bounds%2C%0A%20%20%20%20%20%20%20%20layers%3A%20%5B%5D%2C%0A%20%20%20%20%20%20%20%20worldCopyJump%3A%20false%2C%0A%20%20%20%20%20%20%20%20crs%3A%20L.CRS.EPSG3857%2C%0A%20%20%20%20%20%20%20%20zoomControl%3A%20true%2C%0A%20%20%20%20%20%20%20%20%7D%29%3B%0A%0A%0A%20%20%20%20%0A%20%20%20%20var%20tile_layer_e0ea56d751cc4d07b0b2ada842683351%20%3D%20L.tileLayer%28%0A%20%20%20%20%20%20%20%20%27https%3A//%7Bs%7D.tile.openstreetmap.org/%7Bz%7D/%7Bx%7D/%7By%7D.png%27%2C%0A%20%20%20%20%20%20%20%20%7B%0A%20%20%20%20%20%20%20%20%22attribution%22%3A%20null%2C%0A%20%20%20%20%20%20%20%20%22detectRetina%22%3A%20false%2C%0A%20%20%20%20%20%20%20%20%22maxNativeZoom%22%3A%2018%2C%0A%20%20%20%20%20%20%20%20%22maxZoom%22%3A%2018%2C%0A%20%20%20%20%20%20%20%20%22minZoom%22%3A%200%2C%0A%20%20%20%20%20%20%20%20%22noWrap%22%3A%20false%2C%0A%20%20%20%20%20%20%20%20%22opacity%22%3A%201%2C%0A%20%20%20%20%20%20%20%20%22subdomains%22%3A%20%22abc%22%2C%0A%20%20%20%20%20%20%20%20%22tms%22%3A%20false%0A%7D%29.addTo%28map_71947a82f26d4b53873327f2fb0a6612%29%3B%0A%20%20%20%20var%20tile_layer_f5370846e2ae4bd1bdd4557a7bdadd1c%20%3D%20L.tileLayer%28%0A%20%20%20%20%20%20%20%20%27https%3A//mt1.google.com/vt/lyrs%3Dy%26x%3D%7Bx%7D%26y%3D%7By%7D%26z%3D%7Bz%7D%27%2C%0A%20%20%20%20%20%20%20%20%7B%0A%20%20%20%20%20%20%20%20%22attribution%22%3A%20%22Google%22%2C%0A%20%20%20%20%20%20%20%20%22detectRetina%22%3A%20false%2C%0A%20%20%20%20%20%20%20%20%22maxNativeZoom%22%3A%2018%2C%0A%20%20%20%20%20%20%20%20%22maxZoom%22%3A%2018%2C%0A%20%20%20%20%20%20%20%20%22minZoom%22%3A%200%2C%0A%20%20%20%20%20%20%20%20%22noWrap%22%3A%20false%2C%0A%20%20%20%20%20%20%20%20%22opacity%22%3A%201%2C%0A%20%20%20%20%20%20%20%20%22subdomains%22%3A%20%22abc%22%2C%0A%20%20%20%20%20%20%20%20%22tms%22%3A%20false%0A%7D%29.addTo%28map_71947a82f26d4b53873327f2fb0a6612%29%3B%0A%20%20%20%20var%20tile_layer_0cec503db7424fb5a470e0c0297edd37%20%3D%20L.tileLayer%28%0A%20%20%20%20%20%20%20%20%27https%3A//earthengine.googleapis.com/v1alpha/projects/earthengine-legacy/maps/a2f4f6550b6818d89ce0f5ff1535f913-f258c3a48e939c7512b44cf5cc311dd7/tiles/%7Bz%7D/%7Bx%7D/%7By%7D%27%2C%0A%20%20%20%20%20%20%20%20%7B%0A%20%20%20%20%20%20%20%20%22attribution%22%3A%20%22Google%20Earth%20Engine%22%2C%0A%20%20%20%20%20%20%20%20%22detectRetina%22%3A%20false%2C%0A%20%20%20%20%20%20%20%20%22maxNativeZoom%22%3A%2018%2C%0A%20%20%20%20%20%20%20%20%22maxZoom%22%3A%2018%2C%0A%20%20%20%20%20%20%20%20%22minZoom%22%3A%200%2C%0A%20%20%20%20%20%20%20%20%22noWrap%22%3A%20false%2C%0A%20%20%20%20%20%20%20%20%22opacity%22%3A%201%2C%0A%20%20%20%20%20%20%20%20%22subdomains%22%3A%20%22abc%22%2C%0A%20%20%20%20%20%20%20%20%22tms%22%3A%20false%0A%7D%29.addTo%28map_71947a82f26d4b53873327f2fb0a6612%29%3B%0A%20%20%20%20var%20tile_layer_0a20f726225c4f7a803c33f71ac18e75%20%3D%20L.tileLayer%28%0A%20%20%20%20%20%20%20%20%27https%3A//earthengine.googleapis.com/v1alpha/projects/earthengine-legacy/maps/0f7cade52e3f6be307ebf81a04c86f6b-61a58f4445e0d78b35fb8bfdbe6e2e3d/tiles/%7Bz%7D/%7Bx%7D/%7By%7D%27%2C%0A%20%20%20%20%20%20%20%20%7B%0A%20%20%20%20%20%20%20%20%22attribution%22%3A%20%22Google%20Earth%20Engine%22%2C%0A%20%20%20%20%20%20%20%20%22detectRetina%22%3A%20false%2C%0A%20%20%20%20%20%20%20%20%22maxNativeZoom%22%3A%2018%2C%0A%20%20%20%20%20%20%20%20%22maxZoom%22%3A%2018%2C%0A%20%20%20%20%20%20%20%20%22minZoom%22%3A%200%2C%0A%20%20%20%20%20%20%20%20%22noWrap%22%3A%20false%2C%0A%20%20%20%20%20%20%20%20%22opacity%22%3A%201%2C%0A%20%20%20%20%20%20%20%20%22subdomains%22%3A%20%22abc%22%2C%0A%20%20%20%20%20%20%20%20%22tms%22%3A%20false%0A%7D%29.addTo%28map_71947a82f26d4b53873327f2fb0a6612%29%3B%0A%20%20%20%20var%20tile_layer_9506877a2efa412d8c7bd0b3ec5aaf3e%20%3D%20L.tileLayer%28%0A%20%20%20%20%20%20%20%20%27https%3A//earthengine.googleapis.com/v1alpha/projects/earthengine-legacy/maps/a5259e4f2b0407eef29df387bdde034c-e86c9201a6b711a1814bf92be8e572ce/tiles/%7Bz%7D/%7Bx%7D/%7By%7D%27%2C%0A%20%20%20%20%20%20%20%20%7B%0A%20%20%20%20%20%20%20%20%22attribution%22%3A%20%22Google%20Earth%20Engine%22%2C%0A%20%20%20%20%20%20%20%20%22detectRetina%22%3A%20false%2C%0A%20%20%20%20%20%20%20%20%22maxNativeZoom%22%3A%2018%2C%0A%20%20%20%20%20%20%20%20%22maxZoom%22%3A%2018%2C%0A%20%20%20%20%20%20%20%20%22minZoom%22%3A%200%2C%0A%20%20%20%20%20%20%20%20%22noWrap%22%3A%20false%2C%0A%20%20%20%20%20%20%20%20%22opacity%22%3A%201%2C%0A%20%20%20%20%20%20%20%20%22subdomains%22%3A%20%22abc%22%2C%0A%20%20%20%20%20%20%20%20%22tms%22%3A%20false%0A%7D%29.addTo%28map_71947a82f26d4b53873327f2fb0a6612%29%3B%0A%20%20%20%20var%20tile_layer_f5a5c9252f774947a9e6ce881add2438%20%3D%20L.tileLayer%28%0A%20%20%20%20%20%20%20%20%27https%3A//earthengine.googleapis.com/v1alpha/projects/earthengine-legacy/maps/fe98ca46535b5444e2a950809163649b-36aadd3ffb8d11750b00f94569685a77/tiles/%7Bz%7D/%7Bx%7D/%7By%7D%27%2C%0A%20%20%20%20%20%20%20%20%7B%0A%20%20%20%20%20%20%20%20%22attribution%22%3A%20%22Google%20Earth%20Engine%22%2C%0A%20%20%20%20%20%20%20%20%22detectRetina%22%3A%20false%2C%0A%20%20%20%20%20%20%20%20%22maxNativeZoom%22%3A%2018%2C%0A%20%20%20%20%20%20%20%20%22maxZoom%22%3A%2018%2C%0A%20%20%20%20%20%20%20%20%22minZoom%22%3A%200%2C%0A%20%20%20%20%20%20%20%20%22noWrap%22%3A%20false%2C%0A%20%20%20%20%20%20%20%20%22opacity%22%3A%201%2C%0A%20%20%20%20%20%20%20%20%22subdomains%22%3A%20%22abc%22%2C%0A%20%20%20%20%20%20%20%20%22tms%22%3A%20false%0A%7D%29.addTo%28map_71947a82f26d4b53873327f2fb0a6612%29%3B%0A%20%20%20%20var%20tile_layer_bafd747885b6438aba2e0f513662f5d5%20%3D%20L.tileLayer%28%0A%20%20%20%20%20%20%20%20%27https%3A//earthengine.googleapis.com/v1alpha/projects/earthengine-legacy/maps/bb912034e049459d972b3bd3eb639a0d-051b0179ca6260deee0aa481828ead34/tiles/%7Bz%7D/%7Bx%7D/%7By%7D%27%2C%0A%20%20%20%20%20%20%20%20%7B%0A%20%20%20%20%20%20%20%20%22attribution%22%3A%20%22Google%20Earth%20Engine%22%2C%0A%20%20%20%20%20%20%20%20%22detectRetina%22%3A%20false%2C%0A%20%20%20%20%20%20%20%20%22maxNativeZoom%22%3A%2018%2C%0A%20%20%20%20%20%20%20%20%22maxZoom%22%3A%2018%2C%0A%20%20%20%20%20%20%20%20%22minZoom%22%3A%200%2C%0A%20%20%20%20%20%20%20%20%22noWrap%22%3A%20false%2C%0A%20%20%20%20%20%20%20%20%22opacity%22%3A%201%2C%0A%20%20%20%20%20%20%20%20%22subdomains%22%3A%20%22abc%22%2C%0A%20%20%20%20%20%20%20%20%22tms%22%3A%20false%0A%7D%29.addTo%28map_71947a82f26d4b53873327f2fb0a6612%29%3B%0A%20%20%20%20var%20tile_layer_a100f63923e34f1dac0ee7bb976e6d99%20%3D%20L.tileLayer%28%0A%20%20%20%20%20%20%20%20%27https%3A//earthengine.googleapis.com/v1alpha/projects/earthengine-legacy/maps/7f846375c3dde0612cec12febda43e08-6ab64075cab60f8e14f0b4003624364b/tiles/%7Bz%7D/%7Bx%7D/%7By%7D%27%2C%0A%20%20%20%20%20%20%20%20%7B%0A%20%20%20%20%20%20%20%20%22attribution%22%3A%20%22Google%20Earth%20Engine%22%2C%0A%20%20%20%20%20%20%20%20%22detectRetina%22%3A%20false%2C%0A%20%20%20%20%20%20%20%20%22maxNativeZoom%22%3A%2018%2C%0A%20%20%20%20%20%20%20%20%22maxZoom%22%3A%2018%2C%0A%20%20%20%20%20%20%20%20%22minZoom%22%3A%200%2C%0A%20%20%20%20%20%20%20%20%22noWrap%22%3A%20false%2C%0A%20%20%20%20%20%20%20%20%22opacity%22%3A%201%2C%0A%20%20%20%20%20%20%20%20%22subdomains%22%3A%20%22abc%22%2C%0A%20%20%20%20%20%20%20%20%22tms%22%3A%20false%0A%7D%29.addTo%28map_71947a82f26d4b53873327f2fb0a6612%29%3B%0A%20%20%20%20%0A%20%20%20%20%20%20%20%20%20%20%20%20var%20layer_control_6b22ec329d7b4eeb896cc5f1d76cd33c%20%3D%20%7B%0A%20%20%20%20%20%20%20%20%20%20%20%20%20%20%20%20base_layers%20%3A%20%7B%20%22openstreetmap%22%20%3A%20tile_layer_e0ea56d751cc4d07b0b2ada842683351%2C%20%7D%2C%0A%20%20%20%20%20%20%20%20%20%20%20%20%20%20%20%20overlays%20%3A%20%7B%20%22Google%20Satellite%22%20%3A%20tile_layer_f5370846e2ae4bd1bdd4557a7bdadd1c%2C%22Deforestation%20Year%22%20%3A%20tile_layer_0cec503db7424fb5a470e0c0297edd37%2C%22Intensity%22%20%3A%20tile_layer_0a20f726225c4f7a803c33f71ac18e75%2C%22Transition%20Map%22%20%3A%20tile_layer_9506877a2efa412d8c7bd0b3ec5aaf3e%2C%22Landsat%20NDVI%22%20%3A%20tile_layer_f5a5c9252f774947a9e6ce881add2438%2C%22PALSAR%22%20%3A%20tile_layer_bafd747885b6438aba2e0f513662f5d5%2C%22Sentinel-1%22%20%3A%20tile_layer_a100f63923e34f1dac0ee7bb976e6d99%2C%20%7D%0A%20%20%20%20%20%20%20%20%20%20%20%20%20%20%20%20%7D%3B%0A%20%20%20%20%20%20%20%20%20%20%20%20L.control.layers%28%0A%20%20%20%20%20%20%20%20%20%20%20%20%20%20%20%20layer_control_6b22ec329d7b4eeb896cc5f1d76cd33c.base_layers%2C%0A%20%20%20%20%20%20%20%20%20%20%20%20%20%20%20%20layer_control_6b22ec329d7b4eeb896cc5f1d76cd33c.overlays%2C%0A%20%20%20%20%20%20%20%20%20%20%20%20%20%20%20%20%7Bposition%3A%20%27topright%27%2C%0A%20%20%20%20%20%20%20%20%20%20%20%20%20%20%20%20%20collapsed%3A%20true%2C%0A%20%20%20%20%20%20%20%20%20%20%20%20%20%20%20%20%20autoZIndex%3A%20true%0A%20%20%20%20%20%20%20%20%20%20%20%20%20%20%20%20%7D%29.addTo%28map_71947a82f26d4b53873327f2fb0a6612%29%3B%0A%20%20%20%20%20%20%20%20%20%20%20%20%0A%20%20%20%20%20%20%20%20%0A%3C/script%3E onload=\"this.contentDocument.open();this.contentDocument.write(    decodeURIComponent(this.getAttribute('data-html')));this.contentDocument.close();\" \"allowfullscreen\" \"webkitallowfullscreen\" \"mozallowfullscreen\"></iframe>"
            ],
            "text/plain": [
              "<branca.element.Figure at 0x7f5b769914d0>"
            ]
          },
          "metadata": {},
          "execution_count": 80
        }
      ]
    },
    {
      "cell_type": "markdown",
      "source": [
        "# Visualize the test set map"
      ],
      "metadata": {
        "id": "X7RTG6Dj9ppF"
      }
    },
    {
      "cell_type": "code",
      "source": [
        "# Get one image from the deforestation year collection, and remove values where no deforestation has occurred\n",
        "test_deforestation_year_image = test_deforestation_year.first().clip(test_aoi)\n",
        "test_deforestation_year_image = test_deforestation_year_image.updateMask(test_deforestation_year_image.neq(0))\n",
        "\n",
        "# Convert to folium coordinates\n",
        "test_location = test_aoi.centroid().coordinates().getInfo()[::-1]\n",
        "\n",
        "# Colour parameters for deforestation_year\n",
        "vis_params = {\n",
        "'min': 1982,\n",
        "'max': 2020,\n",
        "#\"palette\": [\"#2892c7\", \"#b30800\"]}\n",
        "\"palette\": [rgb(40,146,199), rgb(179,8,0)]}\n",
        "\n",
        "# Create the map object.\n",
        "f = folium.Figure(width=1000, height=500)\n",
        "m = folium.Map(location=test_location, zoom_start=12).add_to(f)\n",
        "\n",
        "# add satellite imagery\n",
        "basemaps['Google Satellite Hybrid'].add_to(m)\n",
        "\n",
        "# Add the deforestation year to the map\n",
        "m.add_ee_layer(test_deforestation_year_image, vis_params, 'Deforestation Year')\n",
        "\n",
        "\n",
        "\n",
        "# Get one image from the intensity collection\n",
        "test_intensity_image = test_intensity.first().clip(test_aoi)\n",
        "\n",
        "# Colour parameters for intensity\n",
        "vis_params = {\n",
        "'min': 1,\n",
        "'max': 500,\n",
        "\"palette\": [rgb(0,128,0), rgb(255,0,0)]}\n",
        "\n",
        "# Add the intensity to the map\n",
        "m.add_ee_layer(test_intensity_image, vis_params, 'Intensity')\n",
        "\n",
        "\n",
        "\n",
        "\n",
        "# Get one image from the transition map collection\n",
        "test_transition_map_image = test_transition_map.clip(test_aoi)\n",
        "\n",
        "# Colour parameters for transition map\n",
        "vis_params = {\n",
        "\"palette\": [rgb(0,80,0), rgb(255,230,100 )]}\n",
        "\n",
        "# Add the transition map to the map\n",
        "m.add_ee_layer(test_transition_map_image, vis_params, 'Transition Map')\n",
        "\n",
        "\n",
        "\n",
        "\n",
        "# Get one image from the 2019 landsat NDVI collection with the least clouds\n",
        "test_landsat_ndvi_image = test_landsat_ndvi.sort('CLOUD_COVER').first().clip(test_aoi) #2019 image is not blank, but when using .filterDate('2014-01-01', '2020-01-01') it was blank... why?\n",
        "\n",
        "# Colour parameters for NDVI\n",
        "vis_params = {\n",
        "    'min': -1,\n",
        "    'max': 1,\n",
        "    \"palette\": [rgb(255, 255, 204), rgb(0, 153, 0)]}\n",
        "\n",
        "# Add the NDVI to the map\n",
        "m.add_ee_layer(test_landsat_ndvi_image, vis_params, 'Landsat NDVI')\n",
        "\n",
        "\n",
        "\n",
        "# Get one image of the most recent PALSAR data\n",
        "test_palsar_image = test_palsar.sort('system:time_start', False).first().clip(test_aoi)\n",
        "\n",
        "# Colour parameters for PALSAR\n",
        "vis_params = {\n",
        "    'min': 0,\n",
        "    'max': 10000,}\n",
        "\n",
        "# Add the PALSAR to the map\n",
        "m.add_ee_layer(test_palsar_image, vis_params, 'PALSAR')\n",
        "\n",
        "\n",
        "\n",
        "\n",
        "# Get one image of the most recent Sentinel data\n",
        "test_sentinel_image = test_sentinel.mosaic().clip(test_aoi)\n",
        "\n",
        "# Colour parameters for Sentinel\n",
        "vis_params = {\n",
        "    'min': -50,\n",
        "    'max': 1,}\n",
        "\n",
        "# Add the Sentinel to the map\n",
        "m.add_ee_layer(test_sentinel_image, vis_params, 'Sentinel-1')\n",
        "\n",
        "\n",
        "\n",
        "\n",
        "# Add a layer control panel to the map.\n",
        "m.add_child(folium.LayerControl())\n",
        "\n",
        "# Display the map.\n",
        "f"
      ],
      "metadata": {
        "colab": {
          "base_uri": "https://localhost:8080/",
          "height": 521
        },
        "id": "tJgkqB8532Wf",
        "outputId": "468cfc41-dc59-4807-f556-5f84eeb6df1b"
      },
      "execution_count": 81,
      "outputs": [
        {
          "output_type": "execute_result",
          "data": {
            "text/html": [
              "<iframe src=\"about:blank\" width=\"1000\" height=\"500\"style=\"border:none !important;\" data-html=%3C%21DOCTYPE%20html%3E%0A%3Chead%3E%20%20%20%20%0A%20%20%20%20%3Cmeta%20http-equiv%3D%22content-type%22%20content%3D%22text/html%3B%20charset%3DUTF-8%22%20/%3E%0A%20%20%20%20%3Cscript%3EL_PREFER_CANVAS%3Dfalse%3B%20L_NO_TOUCH%3Dfalse%3B%20L_DISABLE_3D%3Dfalse%3B%3C/script%3E%0A%20%20%20%20%3Cscript%20src%3D%22https%3A//cdn.jsdelivr.net/npm/leaflet%401.4.0/dist/leaflet.js%22%3E%3C/script%3E%0A%20%20%20%20%3Cscript%20src%3D%22https%3A//code.jquery.com/jquery-1.12.4.min.js%22%3E%3C/script%3E%0A%20%20%20%20%3Cscript%20src%3D%22https%3A//maxcdn.bootstrapcdn.com/bootstrap/3.2.0/js/bootstrap.min.js%22%3E%3C/script%3E%0A%20%20%20%20%3Cscript%20src%3D%22https%3A//cdnjs.cloudflare.com/ajax/libs/Leaflet.awesome-markers/2.0.2/leaflet.awesome-markers.js%22%3E%3C/script%3E%0A%20%20%20%20%3Clink%20rel%3D%22stylesheet%22%20href%3D%22https%3A//cdn.jsdelivr.net/npm/leaflet%401.4.0/dist/leaflet.css%22/%3E%0A%20%20%20%20%3Clink%20rel%3D%22stylesheet%22%20href%3D%22https%3A//maxcdn.bootstrapcdn.com/bootstrap/3.2.0/css/bootstrap.min.css%22/%3E%0A%20%20%20%20%3Clink%20rel%3D%22stylesheet%22%20href%3D%22https%3A//maxcdn.bootstrapcdn.com/bootstrap/3.2.0/css/bootstrap-theme.min.css%22/%3E%0A%20%20%20%20%3Clink%20rel%3D%22stylesheet%22%20href%3D%22https%3A//maxcdn.bootstrapcdn.com/font-awesome/4.6.3/css/font-awesome.min.css%22/%3E%0A%20%20%20%20%3Clink%20rel%3D%22stylesheet%22%20href%3D%22https%3A//cdnjs.cloudflare.com/ajax/libs/Leaflet.awesome-markers/2.0.2/leaflet.awesome-markers.css%22/%3E%0A%20%20%20%20%3Clink%20rel%3D%22stylesheet%22%20href%3D%22https%3A//rawcdn.githack.com/python-visualization/folium/master/folium/templates/leaflet.awesome.rotate.css%22/%3E%0A%20%20%20%20%3Cstyle%3Ehtml%2C%20body%20%7Bwidth%3A%20100%25%3Bheight%3A%20100%25%3Bmargin%3A%200%3Bpadding%3A%200%3B%7D%3C/style%3E%0A%20%20%20%20%3Cstyle%3E%23map%20%7Bposition%3Aabsolute%3Btop%3A0%3Bbottom%3A0%3Bright%3A0%3Bleft%3A0%3B%7D%3C/style%3E%0A%20%20%20%20%0A%20%20%20%20%3Cmeta%20name%3D%22viewport%22%20content%3D%22width%3Ddevice-width%2C%0A%20%20%20%20%20%20%20%20initial-scale%3D1.0%2C%20maximum-scale%3D1.0%2C%20user-scalable%3Dno%22%20/%3E%0A%20%20%20%20%3Cstyle%3E%23map_58c1820cd33a4c7c9fb074333b6af545%20%7B%0A%20%20%20%20%20%20%20%20position%3A%20relative%3B%0A%20%20%20%20%20%20%20%20width%3A%20100.0%25%3B%0A%20%20%20%20%20%20%20%20height%3A%20100.0%25%3B%0A%20%20%20%20%20%20%20%20left%3A%200.0%25%3B%0A%20%20%20%20%20%20%20%20top%3A%200.0%25%3B%0A%20%20%20%20%20%20%20%20%7D%0A%20%20%20%20%3C/style%3E%0A%3C/head%3E%0A%3Cbody%3E%20%20%20%20%0A%20%20%20%20%0A%20%20%20%20%3Cdiv%20class%3D%22folium-map%22%20id%3D%22map_58c1820cd33a4c7c9fb074333b6af545%22%20%3E%3C/div%3E%0A%3C/body%3E%0A%3Cscript%3E%20%20%20%20%0A%20%20%20%20%0A%20%20%20%20%0A%20%20%20%20%20%20%20%20var%20bounds%20%3D%20null%3B%0A%20%20%20%20%0A%0A%20%20%20%20var%20map_58c1820cd33a4c7c9fb074333b6af545%20%3D%20L.map%28%0A%20%20%20%20%20%20%20%20%27map_58c1820cd33a4c7c9fb074333b6af545%27%2C%20%7B%0A%20%20%20%20%20%20%20%20center%3A%20%5B-9.93097535159907%2C%20-50.65246582031609%5D%2C%0A%20%20%20%20%20%20%20%20zoom%3A%2012%2C%0A%20%20%20%20%20%20%20%20maxBounds%3A%20bounds%2C%0A%20%20%20%20%20%20%20%20layers%3A%20%5B%5D%2C%0A%20%20%20%20%20%20%20%20worldCopyJump%3A%20false%2C%0A%20%20%20%20%20%20%20%20crs%3A%20L.CRS.EPSG3857%2C%0A%20%20%20%20%20%20%20%20zoomControl%3A%20true%2C%0A%20%20%20%20%20%20%20%20%7D%29%3B%0A%0A%0A%20%20%20%20%0A%20%20%20%20var%20tile_layer_000ab6f8942e4a85ad13eff3d7d030f5%20%3D%20L.tileLayer%28%0A%20%20%20%20%20%20%20%20%27https%3A//%7Bs%7D.tile.openstreetmap.org/%7Bz%7D/%7Bx%7D/%7By%7D.png%27%2C%0A%20%20%20%20%20%20%20%20%7B%0A%20%20%20%20%20%20%20%20%22attribution%22%3A%20null%2C%0A%20%20%20%20%20%20%20%20%22detectRetina%22%3A%20false%2C%0A%20%20%20%20%20%20%20%20%22maxNativeZoom%22%3A%2018%2C%0A%20%20%20%20%20%20%20%20%22maxZoom%22%3A%2018%2C%0A%20%20%20%20%20%20%20%20%22minZoom%22%3A%200%2C%0A%20%20%20%20%20%20%20%20%22noWrap%22%3A%20false%2C%0A%20%20%20%20%20%20%20%20%22opacity%22%3A%201%2C%0A%20%20%20%20%20%20%20%20%22subdomains%22%3A%20%22abc%22%2C%0A%20%20%20%20%20%20%20%20%22tms%22%3A%20false%0A%7D%29.addTo%28map_58c1820cd33a4c7c9fb074333b6af545%29%3B%0A%20%20%20%20var%20tile_layer_f5370846e2ae4bd1bdd4557a7bdadd1c%20%3D%20L.tileLayer%28%0A%20%20%20%20%20%20%20%20%27https%3A//mt1.google.com/vt/lyrs%3Dy%26x%3D%7Bx%7D%26y%3D%7By%7D%26z%3D%7Bz%7D%27%2C%0A%20%20%20%20%20%20%20%20%7B%0A%20%20%20%20%20%20%20%20%22attribution%22%3A%20%22Google%22%2C%0A%20%20%20%20%20%20%20%20%22detectRetina%22%3A%20false%2C%0A%20%20%20%20%20%20%20%20%22maxNativeZoom%22%3A%2018%2C%0A%20%20%20%20%20%20%20%20%22maxZoom%22%3A%2018%2C%0A%20%20%20%20%20%20%20%20%22minZoom%22%3A%200%2C%0A%20%20%20%20%20%20%20%20%22noWrap%22%3A%20false%2C%0A%20%20%20%20%20%20%20%20%22opacity%22%3A%201%2C%0A%20%20%20%20%20%20%20%20%22subdomains%22%3A%20%22abc%22%2C%0A%20%20%20%20%20%20%20%20%22tms%22%3A%20false%0A%7D%29.addTo%28map_58c1820cd33a4c7c9fb074333b6af545%29%3B%0A%20%20%20%20var%20tile_layer_3172a2f3083647bdaf7e7fd4d805297b%20%3D%20L.tileLayer%28%0A%20%20%20%20%20%20%20%20%27https%3A//earthengine.googleapis.com/v1alpha/projects/earthengine-legacy/maps/0a45d332e00464f7a7de3335ab606522-6fe2e86046fb0b510fd7627c4e0d041d/tiles/%7Bz%7D/%7Bx%7D/%7By%7D%27%2C%0A%20%20%20%20%20%20%20%20%7B%0A%20%20%20%20%20%20%20%20%22attribution%22%3A%20%22Google%20Earth%20Engine%22%2C%0A%20%20%20%20%20%20%20%20%22detectRetina%22%3A%20false%2C%0A%20%20%20%20%20%20%20%20%22maxNativeZoom%22%3A%2018%2C%0A%20%20%20%20%20%20%20%20%22maxZoom%22%3A%2018%2C%0A%20%20%20%20%20%20%20%20%22minZoom%22%3A%200%2C%0A%20%20%20%20%20%20%20%20%22noWrap%22%3A%20false%2C%0A%20%20%20%20%20%20%20%20%22opacity%22%3A%201%2C%0A%20%20%20%20%20%20%20%20%22subdomains%22%3A%20%22abc%22%2C%0A%20%20%20%20%20%20%20%20%22tms%22%3A%20false%0A%7D%29.addTo%28map_58c1820cd33a4c7c9fb074333b6af545%29%3B%0A%20%20%20%20var%20tile_layer_ef101892fddb4a02adabcbe406e4d763%20%3D%20L.tileLayer%28%0A%20%20%20%20%20%20%20%20%27https%3A//earthengine.googleapis.com/v1alpha/projects/earthengine-legacy/maps/b62a994788b0405f2365e47891fb1c52-78ca41974dc5cdd94b85e2da94279ca4/tiles/%7Bz%7D/%7Bx%7D/%7By%7D%27%2C%0A%20%20%20%20%20%20%20%20%7B%0A%20%20%20%20%20%20%20%20%22attribution%22%3A%20%22Google%20Earth%20Engine%22%2C%0A%20%20%20%20%20%20%20%20%22detectRetina%22%3A%20false%2C%0A%20%20%20%20%20%20%20%20%22maxNativeZoom%22%3A%2018%2C%0A%20%20%20%20%20%20%20%20%22maxZoom%22%3A%2018%2C%0A%20%20%20%20%20%20%20%20%22minZoom%22%3A%200%2C%0A%20%20%20%20%20%20%20%20%22noWrap%22%3A%20false%2C%0A%20%20%20%20%20%20%20%20%22opacity%22%3A%201%2C%0A%20%20%20%20%20%20%20%20%22subdomains%22%3A%20%22abc%22%2C%0A%20%20%20%20%20%20%20%20%22tms%22%3A%20false%0A%7D%29.addTo%28map_58c1820cd33a4c7c9fb074333b6af545%29%3B%0A%20%20%20%20var%20tile_layer_2531b1a5cca84296b91e70620e4cade4%20%3D%20L.tileLayer%28%0A%20%20%20%20%20%20%20%20%27https%3A//earthengine.googleapis.com/v1alpha/projects/earthengine-legacy/maps/967adfa61fd0db07567969e09b9ede28-e5cbd85a29e5bfc10ac1c255bd24910d/tiles/%7Bz%7D/%7Bx%7D/%7By%7D%27%2C%0A%20%20%20%20%20%20%20%20%7B%0A%20%20%20%20%20%20%20%20%22attribution%22%3A%20%22Google%20Earth%20Engine%22%2C%0A%20%20%20%20%20%20%20%20%22detectRetina%22%3A%20false%2C%0A%20%20%20%20%20%20%20%20%22maxNativeZoom%22%3A%2018%2C%0A%20%20%20%20%20%20%20%20%22maxZoom%22%3A%2018%2C%0A%20%20%20%20%20%20%20%20%22minZoom%22%3A%200%2C%0A%20%20%20%20%20%20%20%20%22noWrap%22%3A%20false%2C%0A%20%20%20%20%20%20%20%20%22opacity%22%3A%201%2C%0A%20%20%20%20%20%20%20%20%22subdomains%22%3A%20%22abc%22%2C%0A%20%20%20%20%20%20%20%20%22tms%22%3A%20false%0A%7D%29.addTo%28map_58c1820cd33a4c7c9fb074333b6af545%29%3B%0A%20%20%20%20var%20tile_layer_62262907922d40be90fdaf9f76c61e54%20%3D%20L.tileLayer%28%0A%20%20%20%20%20%20%20%20%27https%3A//earthengine.googleapis.com/v1alpha/projects/earthengine-legacy/maps/b06a393ad4e9cee251b074fdd79c03c7-4a28b7ebb086a1d1de0df40418e9064b/tiles/%7Bz%7D/%7Bx%7D/%7By%7D%27%2C%0A%20%20%20%20%20%20%20%20%7B%0A%20%20%20%20%20%20%20%20%22attribution%22%3A%20%22Google%20Earth%20Engine%22%2C%0A%20%20%20%20%20%20%20%20%22detectRetina%22%3A%20false%2C%0A%20%20%20%20%20%20%20%20%22maxNativeZoom%22%3A%2018%2C%0A%20%20%20%20%20%20%20%20%22maxZoom%22%3A%2018%2C%0A%20%20%20%20%20%20%20%20%22minZoom%22%3A%200%2C%0A%20%20%20%20%20%20%20%20%22noWrap%22%3A%20false%2C%0A%20%20%20%20%20%20%20%20%22opacity%22%3A%201%2C%0A%20%20%20%20%20%20%20%20%22subdomains%22%3A%20%22abc%22%2C%0A%20%20%20%20%20%20%20%20%22tms%22%3A%20false%0A%7D%29.addTo%28map_58c1820cd33a4c7c9fb074333b6af545%29%3B%0A%20%20%20%20var%20tile_layer_1fb510152b0e410e943c5442bb4494cb%20%3D%20L.tileLayer%28%0A%20%20%20%20%20%20%20%20%27https%3A//earthengine.googleapis.com/v1alpha/projects/earthengine-legacy/maps/3b5e732ef93a65b7934c48256104dbe7-aa85991c6a8adc93f88e12ad704b1068/tiles/%7Bz%7D/%7Bx%7D/%7By%7D%27%2C%0A%20%20%20%20%20%20%20%20%7B%0A%20%20%20%20%20%20%20%20%22attribution%22%3A%20%22Google%20Earth%20Engine%22%2C%0A%20%20%20%20%20%20%20%20%22detectRetina%22%3A%20false%2C%0A%20%20%20%20%20%20%20%20%22maxNativeZoom%22%3A%2018%2C%0A%20%20%20%20%20%20%20%20%22maxZoom%22%3A%2018%2C%0A%20%20%20%20%20%20%20%20%22minZoom%22%3A%200%2C%0A%20%20%20%20%20%20%20%20%22noWrap%22%3A%20false%2C%0A%20%20%20%20%20%20%20%20%22opacity%22%3A%201%2C%0A%20%20%20%20%20%20%20%20%22subdomains%22%3A%20%22abc%22%2C%0A%20%20%20%20%20%20%20%20%22tms%22%3A%20false%0A%7D%29.addTo%28map_58c1820cd33a4c7c9fb074333b6af545%29%3B%0A%20%20%20%20var%20tile_layer_fe483cb85010490aa7f0e68499d9666a%20%3D%20L.tileLayer%28%0A%20%20%20%20%20%20%20%20%27https%3A//earthengine.googleapis.com/v1alpha/projects/earthengine-legacy/maps/4eb9aae54a980693d2d9c82aba72bc3d-beb2dc55f055a5990166cdb62d4ef9bc/tiles/%7Bz%7D/%7Bx%7D/%7By%7D%27%2C%0A%20%20%20%20%20%20%20%20%7B%0A%20%20%20%20%20%20%20%20%22attribution%22%3A%20%22Google%20Earth%20Engine%22%2C%0A%20%20%20%20%20%20%20%20%22detectRetina%22%3A%20false%2C%0A%20%20%20%20%20%20%20%20%22maxNativeZoom%22%3A%2018%2C%0A%20%20%20%20%20%20%20%20%22maxZoom%22%3A%2018%2C%0A%20%20%20%20%20%20%20%20%22minZoom%22%3A%200%2C%0A%20%20%20%20%20%20%20%20%22noWrap%22%3A%20false%2C%0A%20%20%20%20%20%20%20%20%22opacity%22%3A%201%2C%0A%20%20%20%20%20%20%20%20%22subdomains%22%3A%20%22abc%22%2C%0A%20%20%20%20%20%20%20%20%22tms%22%3A%20false%0A%7D%29.addTo%28map_58c1820cd33a4c7c9fb074333b6af545%29%3B%0A%20%20%20%20%0A%20%20%20%20%20%20%20%20%20%20%20%20var%20layer_control_411566cbe41f451c9aa4cb264b8736f4%20%3D%20%7B%0A%20%20%20%20%20%20%20%20%20%20%20%20%20%20%20%20base_layers%20%3A%20%7B%20%22openstreetmap%22%20%3A%20tile_layer_000ab6f8942e4a85ad13eff3d7d030f5%2C%20%7D%2C%0A%20%20%20%20%20%20%20%20%20%20%20%20%20%20%20%20overlays%20%3A%20%7B%20%22Google%20Satellite%22%20%3A%20tile_layer_f5370846e2ae4bd1bdd4557a7bdadd1c%2C%22Deforestation%20Year%22%20%3A%20tile_layer_3172a2f3083647bdaf7e7fd4d805297b%2C%22Intensity%22%20%3A%20tile_layer_ef101892fddb4a02adabcbe406e4d763%2C%22Transition%20Map%22%20%3A%20tile_layer_2531b1a5cca84296b91e70620e4cade4%2C%22Landsat%20NDVI%22%20%3A%20tile_layer_62262907922d40be90fdaf9f76c61e54%2C%22PALSAR%22%20%3A%20tile_layer_1fb510152b0e410e943c5442bb4494cb%2C%22Sentinel-1%22%20%3A%20tile_layer_fe483cb85010490aa7f0e68499d9666a%2C%20%7D%0A%20%20%20%20%20%20%20%20%20%20%20%20%20%20%20%20%7D%3B%0A%20%20%20%20%20%20%20%20%20%20%20%20L.control.layers%28%0A%20%20%20%20%20%20%20%20%20%20%20%20%20%20%20%20layer_control_411566cbe41f451c9aa4cb264b8736f4.base_layers%2C%0A%20%20%20%20%20%20%20%20%20%20%20%20%20%20%20%20layer_control_411566cbe41f451c9aa4cb264b8736f4.overlays%2C%0A%20%20%20%20%20%20%20%20%20%20%20%20%20%20%20%20%7Bposition%3A%20%27topright%27%2C%0A%20%20%20%20%20%20%20%20%20%20%20%20%20%20%20%20%20collapsed%3A%20true%2C%0A%20%20%20%20%20%20%20%20%20%20%20%20%20%20%20%20%20autoZIndex%3A%20true%0A%20%20%20%20%20%20%20%20%20%20%20%20%20%20%20%20%7D%29.addTo%28map_58c1820cd33a4c7c9fb074333b6af545%29%3B%0A%20%20%20%20%20%20%20%20%20%20%20%20%0A%20%20%20%20%20%20%20%20%0A%3C/script%3E onload=\"this.contentDocument.open();this.contentDocument.write(    decodeURIComponent(this.getAttribute('data-html')));this.contentDocument.close();\" \"allowfullscreen\" \"webkitallowfullscreen\" \"mozallowfullscreen\"></iframe>"
            ],
            "text/plain": [
              "<branca.element.Figure at 0x7f5b76973990>"
            ]
          },
          "metadata": {},
          "execution_count": 81
        }
      ]
    },
    {
      "cell_type": "markdown",
      "source": [
        "# Prepare images for training/testing"
      ],
      "metadata": {
        "id": "tnnu_PrP1r8X"
      }
    },
    {
      "cell_type": "code",
      "source": [
        "# For training/testing data, we only use the SAR + NDVI\n",
        "# Also, we do normalization here based on nominal min/max values of each satellite, though it probably should have been done earlier during data loading\n",
        "train_img = train_palsar_image.rename(\"PALSAR\").unitScale(0,10000)\n",
        "train_img = train_img.addBands(train_sentinel_image.rename(\"Sentinel\").unitScale(-50,1))\n",
        "train_img = train_img.addBands(train_landsat_ndvi_image.rename(\"NDVI\").unitScale(-1,1))\n",
        "\n",
        "# A simplified image for debugging\n",
        "train_img_debug = train_palsar_image.rename(\"PALSAR\").unitScale(0,10000) \n",
        "train_img_debug = train_img_debug.addBands(train_landsat_ndvi_image.rename(\"NDVI\").unitScale(-1,1))\n",
        "train_img_debug = train_img_debug.addBands(train_sentinel_image.rename(\"Sentinel\").unitScale(-50,1))\n",
        "\n",
        "# Add a band to the training data that contains the transition map (i.e. the class label)\n",
        "train_img = train_img.addBands(train_transition_map)\n",
        "train_img_debug = train_img_debug.addBands(train_transition_map)\n",
        "\n",
        "test_img = test_palsar_image.rename(\"PALSAR\").unitScale(0,10000).addBands([test_sentinel_image.rename(\"Sentinel\").unitScale(-50,1), test_landsat_ndvi_image.rename(\"NDVI\").unitScale(-1,1)])\n",
        "test_img_debug = test_landsat_ndvi_image.rename(\"PALSAR\").unitScale(-1,1)\n",
        "\n",
        "# convert classes to a FeatureCollection so they can be used by supervised algorithms\n",
        "#train_classes = ee.FeatureCollection(train_transition_map)\n",
        "\n",
        "#test_classes = ee.FeatureCollection(test_transition_map)\n",
        "\n",
        "# visualize to make sure it is working correctly\n",
        "\n",
        "f = folium.Figure(width=1000, height=500)\n",
        "m = folium.Map(location=train_location, zoom_start=12).add_to(f)\n",
        "\n",
        "vis_params = {\n",
        "    'bands': [\"PALSAR\"],\n",
        "    'min': 0,\n",
        "    'max': 1,}\n",
        "\n",
        "m.add_ee_layer(train_img, vis_params, \"Training Image\")\n",
        "\n",
        "f\n",
        "\n"
      ],
      "metadata": {
        "colab": {
          "base_uri": "https://localhost:8080/",
          "height": 521
        },
        "id": "IIkDTopwxUeW",
        "outputId": "8e38305d-2a46-4c4b-d6d9-d5cfc08f423a"
      },
      "execution_count": 82,
      "outputs": [
        {
          "output_type": "execute_result",
          "data": {
            "text/html": [
              "<iframe src=\"about:blank\" width=\"1000\" height=\"500\"style=\"border:none !important;\" data-html=%3C%21DOCTYPE%20html%3E%0A%3Chead%3E%20%20%20%20%0A%20%20%20%20%3Cmeta%20http-equiv%3D%22content-type%22%20content%3D%22text/html%3B%20charset%3DUTF-8%22%20/%3E%0A%20%20%20%20%3Cscript%3EL_PREFER_CANVAS%3Dfalse%3B%20L_NO_TOUCH%3Dfalse%3B%20L_DISABLE_3D%3Dfalse%3B%3C/script%3E%0A%20%20%20%20%3Cscript%20src%3D%22https%3A//cdn.jsdelivr.net/npm/leaflet%401.4.0/dist/leaflet.js%22%3E%3C/script%3E%0A%20%20%20%20%3Cscript%20src%3D%22https%3A//code.jquery.com/jquery-1.12.4.min.js%22%3E%3C/script%3E%0A%20%20%20%20%3Cscript%20src%3D%22https%3A//maxcdn.bootstrapcdn.com/bootstrap/3.2.0/js/bootstrap.min.js%22%3E%3C/script%3E%0A%20%20%20%20%3Cscript%20src%3D%22https%3A//cdnjs.cloudflare.com/ajax/libs/Leaflet.awesome-markers/2.0.2/leaflet.awesome-markers.js%22%3E%3C/script%3E%0A%20%20%20%20%3Clink%20rel%3D%22stylesheet%22%20href%3D%22https%3A//cdn.jsdelivr.net/npm/leaflet%401.4.0/dist/leaflet.css%22/%3E%0A%20%20%20%20%3Clink%20rel%3D%22stylesheet%22%20href%3D%22https%3A//maxcdn.bootstrapcdn.com/bootstrap/3.2.0/css/bootstrap.min.css%22/%3E%0A%20%20%20%20%3Clink%20rel%3D%22stylesheet%22%20href%3D%22https%3A//maxcdn.bootstrapcdn.com/bootstrap/3.2.0/css/bootstrap-theme.min.css%22/%3E%0A%20%20%20%20%3Clink%20rel%3D%22stylesheet%22%20href%3D%22https%3A//maxcdn.bootstrapcdn.com/font-awesome/4.6.3/css/font-awesome.min.css%22/%3E%0A%20%20%20%20%3Clink%20rel%3D%22stylesheet%22%20href%3D%22https%3A//cdnjs.cloudflare.com/ajax/libs/Leaflet.awesome-markers/2.0.2/leaflet.awesome-markers.css%22/%3E%0A%20%20%20%20%3Clink%20rel%3D%22stylesheet%22%20href%3D%22https%3A//rawcdn.githack.com/python-visualization/folium/master/folium/templates/leaflet.awesome.rotate.css%22/%3E%0A%20%20%20%20%3Cstyle%3Ehtml%2C%20body%20%7Bwidth%3A%20100%25%3Bheight%3A%20100%25%3Bmargin%3A%200%3Bpadding%3A%200%3B%7D%3C/style%3E%0A%20%20%20%20%3Cstyle%3E%23map%20%7Bposition%3Aabsolute%3Btop%3A0%3Bbottom%3A0%3Bright%3A0%3Bleft%3A0%3B%7D%3C/style%3E%0A%20%20%20%20%0A%20%20%20%20%3Cmeta%20name%3D%22viewport%22%20content%3D%22width%3Ddevice-width%2C%0A%20%20%20%20%20%20%20%20initial-scale%3D1.0%2C%20maximum-scale%3D1.0%2C%20user-scalable%3Dno%22%20/%3E%0A%20%20%20%20%3Cstyle%3E%23map_e1bc23a94c30484fa944421aef0108bd%20%7B%0A%20%20%20%20%20%20%20%20position%3A%20relative%3B%0A%20%20%20%20%20%20%20%20width%3A%20100.0%25%3B%0A%20%20%20%20%20%20%20%20height%3A%20100.0%25%3B%0A%20%20%20%20%20%20%20%20left%3A%200.0%25%3B%0A%20%20%20%20%20%20%20%20top%3A%200.0%25%3B%0A%20%20%20%20%20%20%20%20%7D%0A%20%20%20%20%3C/style%3E%0A%3C/head%3E%0A%3Cbody%3E%20%20%20%20%0A%20%20%20%20%0A%20%20%20%20%3Cdiv%20class%3D%22folium-map%22%20id%3D%22map_e1bc23a94c30484fa944421aef0108bd%22%20%3E%3C/div%3E%0A%3C/body%3E%0A%3Cscript%3E%20%20%20%20%0A%20%20%20%20%0A%20%20%20%20%0A%20%20%20%20%20%20%20%20var%20bounds%20%3D%20null%3B%0A%20%20%20%20%0A%0A%20%20%20%20var%20map_e1bc23a94c30484fa944421aef0108bd%20%3D%20L.map%28%0A%20%20%20%20%20%20%20%20%27map_e1bc23a94c30484fa944421aef0108bd%27%2C%20%7B%0A%20%20%20%20%20%20%20%20center%3A%20%5B-10.38369101128682%2C%20-52.577133178711705%5D%2C%0A%20%20%20%20%20%20%20%20zoom%3A%2012%2C%0A%20%20%20%20%20%20%20%20maxBounds%3A%20bounds%2C%0A%20%20%20%20%20%20%20%20layers%3A%20%5B%5D%2C%0A%20%20%20%20%20%20%20%20worldCopyJump%3A%20false%2C%0A%20%20%20%20%20%20%20%20crs%3A%20L.CRS.EPSG3857%2C%0A%20%20%20%20%20%20%20%20zoomControl%3A%20true%2C%0A%20%20%20%20%20%20%20%20%7D%29%3B%0A%0A%0A%20%20%20%20%0A%20%20%20%20var%20tile_layer_5b7b78d341ff4dcc9d5f5ebceb0ed028%20%3D%20L.tileLayer%28%0A%20%20%20%20%20%20%20%20%27https%3A//%7Bs%7D.tile.openstreetmap.org/%7Bz%7D/%7Bx%7D/%7By%7D.png%27%2C%0A%20%20%20%20%20%20%20%20%7B%0A%20%20%20%20%20%20%20%20%22attribution%22%3A%20null%2C%0A%20%20%20%20%20%20%20%20%22detectRetina%22%3A%20false%2C%0A%20%20%20%20%20%20%20%20%22maxNativeZoom%22%3A%2018%2C%0A%20%20%20%20%20%20%20%20%22maxZoom%22%3A%2018%2C%0A%20%20%20%20%20%20%20%20%22minZoom%22%3A%200%2C%0A%20%20%20%20%20%20%20%20%22noWrap%22%3A%20false%2C%0A%20%20%20%20%20%20%20%20%22opacity%22%3A%201%2C%0A%20%20%20%20%20%20%20%20%22subdomains%22%3A%20%22abc%22%2C%0A%20%20%20%20%20%20%20%20%22tms%22%3A%20false%0A%7D%29.addTo%28map_e1bc23a94c30484fa944421aef0108bd%29%3B%0A%20%20%20%20var%20tile_layer_f6fa10905f064439973dc792fe578268%20%3D%20L.tileLayer%28%0A%20%20%20%20%20%20%20%20%27https%3A//earthengine.googleapis.com/v1alpha/projects/earthengine-legacy/maps/60d379178211e46a05b6b667782ab2e7-f1b12fcf17052947c682e0a4683bbb03/tiles/%7Bz%7D/%7Bx%7D/%7By%7D%27%2C%0A%20%20%20%20%20%20%20%20%7B%0A%20%20%20%20%20%20%20%20%22attribution%22%3A%20%22Google%20Earth%20Engine%22%2C%0A%20%20%20%20%20%20%20%20%22detectRetina%22%3A%20false%2C%0A%20%20%20%20%20%20%20%20%22maxNativeZoom%22%3A%2018%2C%0A%20%20%20%20%20%20%20%20%22maxZoom%22%3A%2018%2C%0A%20%20%20%20%20%20%20%20%22minZoom%22%3A%200%2C%0A%20%20%20%20%20%20%20%20%22noWrap%22%3A%20false%2C%0A%20%20%20%20%20%20%20%20%22opacity%22%3A%201%2C%0A%20%20%20%20%20%20%20%20%22subdomains%22%3A%20%22abc%22%2C%0A%20%20%20%20%20%20%20%20%22tms%22%3A%20false%0A%7D%29.addTo%28map_e1bc23a94c30484fa944421aef0108bd%29%3B%0A%3C/script%3E onload=\"this.contentDocument.open();this.contentDocument.write(    decodeURIComponent(this.getAttribute('data-html')));this.contentDocument.close();\" \"allowfullscreen\" \"webkitallowfullscreen\" \"mozallowfullscreen\"></iframe>"
            ],
            "text/plain": [
              "<branca.element.Figure at 0x7f5b7686a250>"
            ]
          },
          "metadata": {},
          "execution_count": 82
        }
      ]
    },
    {
      "cell_type": "markdown",
      "source": [
        "# Supervised learning"
      ],
      "metadata": {
        "id": "aSImv7mTtFSX"
      }
    },
    {
      "cell_type": "markdown",
      "source": [
        "Training"
      ],
      "metadata": {
        "id": "_RD10TDqZ0eA"
      }
    },
    {
      "cell_type": "code",
      "source": [
        "# PALSAR is 25m, Sentinel is 10m, NDVI from Landat8 is 30m, and the Vancutsem transition map is also 30m, so we use a scale of 30m for simplicity\n",
        "# Sample 1000 points from the training dataset\n",
        "train_points = train_img.sample(numPixels = 100000, \n",
        "                                scale = 30, \n",
        "                                seed = 0)\n",
        "\n",
        "train_points_debug = train_img_debug.sample(numPixels = 1000, \n",
        "                                            scale = 30, \n",
        "                                            seed = 0)\n",
        "\n",
        "rf_classifier = ee.Classifier.smileRandomForest(numberOfTrees = 10).train(features = train_points,\n",
        "                                                                          classProperty = 'class',\n",
        "                                                                          inputProperties = [\"PALSAR\", \"Sentinel\", \"NDVI\"])\n",
        "\n",
        "rf_classifier_debug = ee.Classifier.smileRandomForest(numberOfTrees = 10).train(features = train_points,\n",
        "                                                                                classProperty = 'class',\n",
        "                                                                                inputProperties = [\"PALSAR\", \"NDVI\"])\n",
        "\n",
        "\n"
      ],
      "metadata": {
        "id": "V1m1tM6JtIzn"
      },
      "execution_count": 85,
      "outputs": []
    },
    {
      "cell_type": "code",
      "source": [
        "train_points_debug = train_img.sample(numPixels = 5, \n",
        "                                            scale = 30, \n",
        "                                            seed = 0)\n",
        "\n",
        "train_points_debug.getInfo()"
      ],
      "metadata": {
        "colab": {
          "base_uri": "https://localhost:8080/"
        },
        "id": "gj1giVhexP70",
        "outputId": "5c7ce05d-1dad-45bf-f240-05fe39608df5"
      },
      "execution_count": 88,
      "outputs": [
        {
          "output_type": "execute_result",
          "data": {
            "text/plain": [
              "{'columns': {},\n",
              " 'features': [{'geometry': None,\n",
              "   'id': '0',\n",
              "   'properties': {'NDVI': 0.7092303937102096,\n",
              "    'PALSAR': 0.3252,\n",
              "    'Sentinel': 0.8179881827095957,\n",
              "    'class': 1},\n",
              "   'type': 'Feature'},\n",
              "  {'geometry': None,\n",
              "   'id': '1',\n",
              "   'properties': {'NDVI': 0.7406897447237344,\n",
              "    'PALSAR': 0.3057,\n",
              "    'Sentinel': 0.7925108449193131,\n",
              "    'class': 1},\n",
              "   'type': 'Feature'},\n",
              "  {'geometry': None,\n",
              "   'id': '2',\n",
              "   'properties': {'NDVI': 0.8718936443570653,\n",
              "    'PALSAR': 0.5391,\n",
              "    'Sentinel': 0.8213862614682449,\n",
              "    'class': 0},\n",
              "   'type': 'Feature'},\n",
              "  {'geometry': None,\n",
              "   'id': '3',\n",
              "   'properties': {'NDVI': 0.8743726732886683,\n",
              "    'PALSAR': 0.5159,\n",
              "    'Sentinel': 0.8471872890701159,\n",
              "    'class': 0},\n",
              "   'type': 'Feature'},\n",
              "  {'geometry': None,\n",
              "   'id': '4',\n",
              "   'properties': {'NDVI': 0.7894610700428621,\n",
              "    'PALSAR': 0.3398,\n",
              "    'Sentinel': 0.7887886255225349,\n",
              "    'class': 1},\n",
              "   'type': 'Feature'}],\n",
              " 'properties': {'band_order': ['PALSAR', 'Sentinel', 'NDVI', 'class']},\n",
              " 'type': 'FeatureCollection'}"
            ]
          },
          "metadata": {},
          "execution_count": 88
        }
      ]
    },
    {
      "cell_type": "code",
      "source": [
        "train_points_debug = train_img_debug.sample(numPixels = 1, \n",
        "                                            scale = 30, \n",
        "                                            seed = 0)\n",
        "\n",
        "train_points_debug.first().getInfo()"
      ],
      "metadata": {
        "id": "0kS_whdPxwuj"
      },
      "execution_count": 50,
      "outputs": []
    },
    {
      "cell_type": "markdown",
      "source": [
        "Testing"
      ],
      "metadata": {
        "id": "6yQkOXlyZz2o"
      }
    },
    {
      "cell_type": "code",
      "source": [
        "classified_test_img = test_img.classify(rf_classifier).clip(test_aoi)\n",
        "classified_test_img = classified_test_img.rename(\"class\")\n",
        "\n",
        "classified_test_img_debug = test_img_debug.classify(rf_classifier_debug).clip(test_aoi)"
      ],
      "metadata": {
        "id": "inE6t2pcZzqo"
      },
      "execution_count": 101,
      "outputs": []
    },
    {
      "cell_type": "markdown",
      "source": [
        "Visualize predicted classes against true classes"
      ],
      "metadata": {
        "id": "Pl358iFMaOKY"
      }
    },
    {
      "cell_type": "code",
      "source": [
        "f = folium.Figure(width=1000, height=500)\n",
        "m = folium.Map(location=test_location, zoom_start=12).add_to(f)\n",
        "\n",
        "test_transition_map_image = test_transition_map.clip(test_aoi)\n",
        "\n",
        "vis_params = {\n",
        "\"min\": 0,\n",
        "\"max\": 1,\n",
        "\"palette\": [rgb(0,80,0), rgb(255,230,100)]}\n",
        "\n",
        "m.add_ee_layer(test_transition_map_image, vis_params, 'True Transition Map')\n",
        "m.add_ee_layer(classified_test_img, vis_params, 'Predicted Transition Map')\n",
        "m.add_child(folium.LayerControl())\n",
        "\n",
        "f"
      ],
      "metadata": {
        "colab": {
          "base_uri": "https://localhost:8080/",
          "height": 521
        },
        "id": "XKyB3dSfaS3Q",
        "outputId": "55f7e494-d672-4395-a438-6e3090e2bb7d"
      },
      "execution_count": 103,
      "outputs": [
        {
          "output_type": "execute_result",
          "data": {
            "text/html": [
              "<iframe src=\"about:blank\" width=\"1000\" height=\"500\"style=\"border:none !important;\" data-html=%3C%21DOCTYPE%20html%3E%0A%3Chead%3E%20%20%20%20%0A%20%20%20%20%3Cmeta%20http-equiv%3D%22content-type%22%20content%3D%22text/html%3B%20charset%3DUTF-8%22%20/%3E%0A%20%20%20%20%3Cscript%3EL_PREFER_CANVAS%3Dfalse%3B%20L_NO_TOUCH%3Dfalse%3B%20L_DISABLE_3D%3Dfalse%3B%3C/script%3E%0A%20%20%20%20%3Cscript%20src%3D%22https%3A//cdn.jsdelivr.net/npm/leaflet%401.4.0/dist/leaflet.js%22%3E%3C/script%3E%0A%20%20%20%20%3Cscript%20src%3D%22https%3A//code.jquery.com/jquery-1.12.4.min.js%22%3E%3C/script%3E%0A%20%20%20%20%3Cscript%20src%3D%22https%3A//maxcdn.bootstrapcdn.com/bootstrap/3.2.0/js/bootstrap.min.js%22%3E%3C/script%3E%0A%20%20%20%20%3Cscript%20src%3D%22https%3A//cdnjs.cloudflare.com/ajax/libs/Leaflet.awesome-markers/2.0.2/leaflet.awesome-markers.js%22%3E%3C/script%3E%0A%20%20%20%20%3Clink%20rel%3D%22stylesheet%22%20href%3D%22https%3A//cdn.jsdelivr.net/npm/leaflet%401.4.0/dist/leaflet.css%22/%3E%0A%20%20%20%20%3Clink%20rel%3D%22stylesheet%22%20href%3D%22https%3A//maxcdn.bootstrapcdn.com/bootstrap/3.2.0/css/bootstrap.min.css%22/%3E%0A%20%20%20%20%3Clink%20rel%3D%22stylesheet%22%20href%3D%22https%3A//maxcdn.bootstrapcdn.com/bootstrap/3.2.0/css/bootstrap-theme.min.css%22/%3E%0A%20%20%20%20%3Clink%20rel%3D%22stylesheet%22%20href%3D%22https%3A//maxcdn.bootstrapcdn.com/font-awesome/4.6.3/css/font-awesome.min.css%22/%3E%0A%20%20%20%20%3Clink%20rel%3D%22stylesheet%22%20href%3D%22https%3A//cdnjs.cloudflare.com/ajax/libs/Leaflet.awesome-markers/2.0.2/leaflet.awesome-markers.css%22/%3E%0A%20%20%20%20%3Clink%20rel%3D%22stylesheet%22%20href%3D%22https%3A//rawcdn.githack.com/python-visualization/folium/master/folium/templates/leaflet.awesome.rotate.css%22/%3E%0A%20%20%20%20%3Cstyle%3Ehtml%2C%20body%20%7Bwidth%3A%20100%25%3Bheight%3A%20100%25%3Bmargin%3A%200%3Bpadding%3A%200%3B%7D%3C/style%3E%0A%20%20%20%20%3Cstyle%3E%23map%20%7Bposition%3Aabsolute%3Btop%3A0%3Bbottom%3A0%3Bright%3A0%3Bleft%3A0%3B%7D%3C/style%3E%0A%20%20%20%20%0A%20%20%20%20%3Cmeta%20name%3D%22viewport%22%20content%3D%22width%3Ddevice-width%2C%0A%20%20%20%20%20%20%20%20initial-scale%3D1.0%2C%20maximum-scale%3D1.0%2C%20user-scalable%3Dno%22%20/%3E%0A%20%20%20%20%3Cstyle%3E%23map_60bf5373d7814b8da3545547fdf18788%20%7B%0A%20%20%20%20%20%20%20%20position%3A%20relative%3B%0A%20%20%20%20%20%20%20%20width%3A%20100.0%25%3B%0A%20%20%20%20%20%20%20%20height%3A%20100.0%25%3B%0A%20%20%20%20%20%20%20%20left%3A%200.0%25%3B%0A%20%20%20%20%20%20%20%20top%3A%200.0%25%3B%0A%20%20%20%20%20%20%20%20%7D%0A%20%20%20%20%3C/style%3E%0A%3C/head%3E%0A%3Cbody%3E%20%20%20%20%0A%20%20%20%20%0A%20%20%20%20%3Cdiv%20class%3D%22folium-map%22%20id%3D%22map_60bf5373d7814b8da3545547fdf18788%22%20%3E%3C/div%3E%0A%3C/body%3E%0A%3Cscript%3E%20%20%20%20%0A%20%20%20%20%0A%20%20%20%20%0A%20%20%20%20%20%20%20%20var%20bounds%20%3D%20null%3B%0A%20%20%20%20%0A%0A%20%20%20%20var%20map_60bf5373d7814b8da3545547fdf18788%20%3D%20L.map%28%0A%20%20%20%20%20%20%20%20%27map_60bf5373d7814b8da3545547fdf18788%27%2C%20%7B%0A%20%20%20%20%20%20%20%20center%3A%20%5B-9.93097535159907%2C%20-50.65246582031609%5D%2C%0A%20%20%20%20%20%20%20%20zoom%3A%2012%2C%0A%20%20%20%20%20%20%20%20maxBounds%3A%20bounds%2C%0A%20%20%20%20%20%20%20%20layers%3A%20%5B%5D%2C%0A%20%20%20%20%20%20%20%20worldCopyJump%3A%20false%2C%0A%20%20%20%20%20%20%20%20crs%3A%20L.CRS.EPSG3857%2C%0A%20%20%20%20%20%20%20%20zoomControl%3A%20true%2C%0A%20%20%20%20%20%20%20%20%7D%29%3B%0A%0A%0A%20%20%20%20%0A%20%20%20%20var%20tile_layer_7b02ac71223c488c99e26a175953f473%20%3D%20L.tileLayer%28%0A%20%20%20%20%20%20%20%20%27https%3A//%7Bs%7D.tile.openstreetmap.org/%7Bz%7D/%7Bx%7D/%7By%7D.png%27%2C%0A%20%20%20%20%20%20%20%20%7B%0A%20%20%20%20%20%20%20%20%22attribution%22%3A%20null%2C%0A%20%20%20%20%20%20%20%20%22detectRetina%22%3A%20false%2C%0A%20%20%20%20%20%20%20%20%22maxNativeZoom%22%3A%2018%2C%0A%20%20%20%20%20%20%20%20%22maxZoom%22%3A%2018%2C%0A%20%20%20%20%20%20%20%20%22minZoom%22%3A%200%2C%0A%20%20%20%20%20%20%20%20%22noWrap%22%3A%20false%2C%0A%20%20%20%20%20%20%20%20%22opacity%22%3A%201%2C%0A%20%20%20%20%20%20%20%20%22subdomains%22%3A%20%22abc%22%2C%0A%20%20%20%20%20%20%20%20%22tms%22%3A%20false%0A%7D%29.addTo%28map_60bf5373d7814b8da3545547fdf18788%29%3B%0A%20%20%20%20var%20tile_layer_a85e40ee5cd049fe806e14a4c7285715%20%3D%20L.tileLayer%28%0A%20%20%20%20%20%20%20%20%27https%3A//earthengine.googleapis.com/v1alpha/projects/earthengine-legacy/maps/39b0c717c4e15d558be3ac1ed8dca0cd-ab32c01b12d17ea9d6b45b1b13b1b81b/tiles/%7Bz%7D/%7Bx%7D/%7By%7D%27%2C%0A%20%20%20%20%20%20%20%20%7B%0A%20%20%20%20%20%20%20%20%22attribution%22%3A%20%22Google%20Earth%20Engine%22%2C%0A%20%20%20%20%20%20%20%20%22detectRetina%22%3A%20false%2C%0A%20%20%20%20%20%20%20%20%22maxNativeZoom%22%3A%2018%2C%0A%20%20%20%20%20%20%20%20%22maxZoom%22%3A%2018%2C%0A%20%20%20%20%20%20%20%20%22minZoom%22%3A%200%2C%0A%20%20%20%20%20%20%20%20%22noWrap%22%3A%20false%2C%0A%20%20%20%20%20%20%20%20%22opacity%22%3A%201%2C%0A%20%20%20%20%20%20%20%20%22subdomains%22%3A%20%22abc%22%2C%0A%20%20%20%20%20%20%20%20%22tms%22%3A%20false%0A%7D%29.addTo%28map_60bf5373d7814b8da3545547fdf18788%29%3B%0A%20%20%20%20var%20tile_layer_04471fefeaee4231b6b8e16216787140%20%3D%20L.tileLayer%28%0A%20%20%20%20%20%20%20%20%27https%3A//earthengine.googleapis.com/v1alpha/projects/earthengine-legacy/maps/e28f8491c37bcc8c7e0fa309f5535c30-6cb013b6d7948dee3ae3af8e1fe1655f/tiles/%7Bz%7D/%7Bx%7D/%7By%7D%27%2C%0A%20%20%20%20%20%20%20%20%7B%0A%20%20%20%20%20%20%20%20%22attribution%22%3A%20%22Google%20Earth%20Engine%22%2C%0A%20%20%20%20%20%20%20%20%22detectRetina%22%3A%20false%2C%0A%20%20%20%20%20%20%20%20%22maxNativeZoom%22%3A%2018%2C%0A%20%20%20%20%20%20%20%20%22maxZoom%22%3A%2018%2C%0A%20%20%20%20%20%20%20%20%22minZoom%22%3A%200%2C%0A%20%20%20%20%20%20%20%20%22noWrap%22%3A%20false%2C%0A%20%20%20%20%20%20%20%20%22opacity%22%3A%201%2C%0A%20%20%20%20%20%20%20%20%22subdomains%22%3A%20%22abc%22%2C%0A%20%20%20%20%20%20%20%20%22tms%22%3A%20false%0A%7D%29.addTo%28map_60bf5373d7814b8da3545547fdf18788%29%3B%0A%20%20%20%20%0A%20%20%20%20%20%20%20%20%20%20%20%20var%20layer_control_3ec8689e8afa48e293732afefd13f54f%20%3D%20%7B%0A%20%20%20%20%20%20%20%20%20%20%20%20%20%20%20%20base_layers%20%3A%20%7B%20%22openstreetmap%22%20%3A%20tile_layer_7b02ac71223c488c99e26a175953f473%2C%20%7D%2C%0A%20%20%20%20%20%20%20%20%20%20%20%20%20%20%20%20overlays%20%3A%20%7B%20%22True%20Transition%20Map%22%20%3A%20tile_layer_a85e40ee5cd049fe806e14a4c7285715%2C%22Predicted%20Transition%20Map%22%20%3A%20tile_layer_04471fefeaee4231b6b8e16216787140%2C%20%7D%0A%20%20%20%20%20%20%20%20%20%20%20%20%20%20%20%20%7D%3B%0A%20%20%20%20%20%20%20%20%20%20%20%20L.control.layers%28%0A%20%20%20%20%20%20%20%20%20%20%20%20%20%20%20%20layer_control_3ec8689e8afa48e293732afefd13f54f.base_layers%2C%0A%20%20%20%20%20%20%20%20%20%20%20%20%20%20%20%20layer_control_3ec8689e8afa48e293732afefd13f54f.overlays%2C%0A%20%20%20%20%20%20%20%20%20%20%20%20%20%20%20%20%7Bposition%3A%20%27topright%27%2C%0A%20%20%20%20%20%20%20%20%20%20%20%20%20%20%20%20%20collapsed%3A%20true%2C%0A%20%20%20%20%20%20%20%20%20%20%20%20%20%20%20%20%20autoZIndex%3A%20true%0A%20%20%20%20%20%20%20%20%20%20%20%20%20%20%20%20%7D%29.addTo%28map_60bf5373d7814b8da3545547fdf18788%29%3B%0A%20%20%20%20%20%20%20%20%20%20%20%20%0A%20%20%20%20%20%20%20%20%0A%3C/script%3E onload=\"this.contentDocument.open();this.contentDocument.write(    decodeURIComponent(this.getAttribute('data-html')));this.contentDocument.close();\" \"allowfullscreen\" \"webkitallowfullscreen\" \"mozallowfullscreen\"></iframe>"
            ],
            "text/plain": [
              "<branca.element.Figure at 0x7f5b767f39d0>"
            ]
          },
          "metadata": {},
          "execution_count": 103
        }
      ]
    },
    {
      "cell_type": "code",
      "source": [
        "classified_test_img.select(\"classification\").getInfo()"
      ],
      "metadata": {
        "colab": {
          "base_uri": "https://localhost:8080/"
        },
        "id": "ndRtY9fW-jvJ",
        "outputId": "4e5139de-d0c3-41ca-dd45-e4c6499672cb"
      },
      "execution_count": 99,
      "outputs": [
        {
          "output_type": "execute_result",
          "data": {
            "text/plain": [
              "{'bands': [{'crs': 'EPSG:4326',\n",
              "   'crs_transform': [0.00022222222222222223,\n",
              "    0,\n",
              "    -180,\n",
              "    0,\n",
              "    -0.00022222222222222223,\n",
              "    84],\n",
              "   'data_type': {'max': 2147483647,\n",
              "    'min': -2147483648,\n",
              "    'precision': 'int',\n",
              "    'type': 'PixelType'},\n",
              "   'dimensions': [347, 342],\n",
              "   'id': 'classification',\n",
              "   'origin': [581890, 422518]}],\n",
              " 'properties': {'system:footprint': {'coordinates': [[[-50.69091796875,\n",
              "      -9.96885060854611],\n",
              "     [-50.614013671875, -9.96885060854611],\n",
              "     [-50.614013671875, -9.893098633379571],\n",
              "     [-50.69091796875, -9.893098633379571],\n",
              "     [-50.69091796875, -9.96885060854611]]],\n",
              "   'type': 'Polygon'}},\n",
              " 'type': 'Image'}"
            ]
          },
          "metadata": {},
          "execution_count": 99
        }
      ]
    },
    {
      "cell_type": "code",
      "source": [
        "test_transition_map_image.getInfo()"
      ],
      "metadata": {
        "colab": {
          "base_uri": "https://localhost:8080/"
        },
        "id": "IAYN3cnq-rJa",
        "outputId": "9e8f41b2-7b20-441b-b64f-304fc71c1473"
      },
      "execution_count": 98,
      "outputs": [
        {
          "output_type": "execute_result",
          "data": {
            "text/plain": [
              "{'bands': [{'crs': 'EPSG:4326',\n",
              "   'crs_transform': [1, 0, 0, 0, 1, 0],\n",
              "   'data_type': {'max': 1, 'min': 0, 'precision': 'int', 'type': 'PixelType'},\n",
              "   'dimensions': [1, 1],\n",
              "   'id': 'class',\n",
              "   'origin': [-51, -10]}],\n",
              " 'properties': {'system:footprint': {'coordinates': [[[-50.69091796875,\n",
              "      -9.96885060854611],\n",
              "     [-50.614013671875, -9.96885060854611],\n",
              "     [-50.614013671875, -9.893098633379571],\n",
              "     [-50.69091796875, -9.893098633379571],\n",
              "     [-50.69091796875, -9.96885060854611]]],\n",
              "   'type': 'Polygon'}},\n",
              " 'type': 'Image'}"
            ]
          },
          "metadata": {},
          "execution_count": 98
        }
      ]
    },
    {
      "cell_type": "code",
      "source": [
        "classified_points_debug = classified_test_img.sample(numPixels = 5, \n",
        "                                            scale = 30, \n",
        "                                            seed = 0)\n",
        "\n",
        "classified_points_debug.getInfo()"
      ],
      "metadata": {
        "colab": {
          "base_uri": "https://localhost:8080/"
        },
        "id": "aY-zGh-49jbR",
        "outputId": "34a0193e-a512-4a9a-8ee4-d11b2b66bb6e"
      },
      "execution_count": 93,
      "outputs": [
        {
          "output_type": "execute_result",
          "data": {
            "text/plain": [
              "{'columns': {},\n",
              " 'features': [{'geometry': None,\n",
              "   'id': '0',\n",
              "   'properties': {'classification': 0},\n",
              "   'type': 'Feature'},\n",
              "  {'geometry': None,\n",
              "   'id': '1',\n",
              "   'properties': {'classification': 0},\n",
              "   'type': 'Feature'},\n",
              "  {'geometry': None,\n",
              "   'id': '2',\n",
              "   'properties': {'classification': 0},\n",
              "   'type': 'Feature'},\n",
              "  {'geometry': None,\n",
              "   'id': '3',\n",
              "   'properties': {'classification': 1},\n",
              "   'type': 'Feature'},\n",
              "  {'geometry': None,\n",
              "   'id': '4',\n",
              "   'properties': {'classification': 0},\n",
              "   'type': 'Feature'}],\n",
              " 'properties': {'band_order': ['classification']},\n",
              " 'type': 'FeatureCollection'}"
            ]
          },
          "metadata": {},
          "execution_count": 93
        }
      ]
    },
    {
      "cell_type": "code",
      "source": [
        "test_transition_map_points_debug = test_transition_map_image.sample(numPixels = 5, \n",
        "                                            scale = 30, \n",
        "                                            seed = 0)\n",
        "\n",
        "test_transition_map_points_debug.getInfo()"
      ],
      "metadata": {
        "colab": {
          "base_uri": "https://localhost:8080/"
        },
        "id": "ipBv7JXb-Sip",
        "outputId": "ad1db5b7-3d4b-4092-a661-38d9df107955"
      },
      "execution_count": 95,
      "outputs": [
        {
          "output_type": "execute_result",
          "data": {
            "text/plain": [
              "{'columns': {},\n",
              " 'features': [{'geometry': None,\n",
              "   'id': '0',\n",
              "   'properties': {'class': 1},\n",
              "   'type': 'Feature'},\n",
              "  {'geometry': None, 'id': '1', 'properties': {'class': 0}, 'type': 'Feature'},\n",
              "  {'geometry': None, 'id': '2', 'properties': {'class': 0}, 'type': 'Feature'},\n",
              "  {'geometry': None, 'id': '3', 'properties': {'class': 1}, 'type': 'Feature'},\n",
              "  {'geometry': None,\n",
              "   'id': '4',\n",
              "   'properties': {'class': 0},\n",
              "   'type': 'Feature'}],\n",
              " 'properties': {'band_order': ['class']},\n",
              " 'type': 'FeatureCollection'}"
            ]
          },
          "metadata": {},
          "execution_count": 95
        }
      ]
    },
    {
      "cell_type": "markdown",
      "source": [
        "Visualize predicted classes against true classes (debug)"
      ],
      "metadata": {
        "id": "bAu34auWwq3c"
      }
    },
    {
      "cell_type": "code",
      "source": [
        "f = folium.Figure(width=1000, height=500)\n",
        "m = folium.Map(location=test_location, zoom_start=12).add_to(f)\n",
        "\n",
        "test_transition_map_image = test_transition_map.clip(test_aoi)\n",
        "\n",
        "vis_params = {\n",
        "\"palette\": [rgb(0,80,0), rgb(210,250,60), rgb(255,230,100), rgb(0,70,160 ), rgb(255,255,255)]}\n",
        "\n",
        "m.add_ee_layer(test_transition_map_image, vis_params, 'True Transition Map')\n",
        "m.add_ee_layer(classified_test_img_debug, vis_params, 'Predicted Transition Map')\n",
        "m.add_child(folium.LayerControl())\n",
        "\n",
        "f"
      ],
      "metadata": {
        "colab": {
          "base_uri": "https://localhost:8080/",
          "height": 521
        },
        "id": "LP9IwikRwuEr",
        "outputId": "7351d92c-b5cc-4b13-8cdb-8e0b96cccc31"
      },
      "execution_count": 14,
      "outputs": [
        {
          "output_type": "execute_result",
          "data": {
            "text/html": [
              "<iframe src=\"about:blank\" width=\"1000\" height=\"500\"style=\"border:none !important;\" data-html=%3C%21DOCTYPE%20html%3E%0A%3Chead%3E%20%20%20%20%0A%20%20%20%20%3Cmeta%20http-equiv%3D%22content-type%22%20content%3D%22text/html%3B%20charset%3DUTF-8%22%20/%3E%0A%20%20%20%20%3Cscript%3EL_PREFER_CANVAS%3Dfalse%3B%20L_NO_TOUCH%3Dfalse%3B%20L_DISABLE_3D%3Dfalse%3B%3C/script%3E%0A%20%20%20%20%3Cscript%20src%3D%22https%3A//cdn.jsdelivr.net/npm/leaflet%401.4.0/dist/leaflet.js%22%3E%3C/script%3E%0A%20%20%20%20%3Cscript%20src%3D%22https%3A//code.jquery.com/jquery-1.12.4.min.js%22%3E%3C/script%3E%0A%20%20%20%20%3Cscript%20src%3D%22https%3A//maxcdn.bootstrapcdn.com/bootstrap/3.2.0/js/bootstrap.min.js%22%3E%3C/script%3E%0A%20%20%20%20%3Cscript%20src%3D%22https%3A//cdnjs.cloudflare.com/ajax/libs/Leaflet.awesome-markers/2.0.2/leaflet.awesome-markers.js%22%3E%3C/script%3E%0A%20%20%20%20%3Clink%20rel%3D%22stylesheet%22%20href%3D%22https%3A//cdn.jsdelivr.net/npm/leaflet%401.4.0/dist/leaflet.css%22/%3E%0A%20%20%20%20%3Clink%20rel%3D%22stylesheet%22%20href%3D%22https%3A//maxcdn.bootstrapcdn.com/bootstrap/3.2.0/css/bootstrap.min.css%22/%3E%0A%20%20%20%20%3Clink%20rel%3D%22stylesheet%22%20href%3D%22https%3A//maxcdn.bootstrapcdn.com/bootstrap/3.2.0/css/bootstrap-theme.min.css%22/%3E%0A%20%20%20%20%3Clink%20rel%3D%22stylesheet%22%20href%3D%22https%3A//maxcdn.bootstrapcdn.com/font-awesome/4.6.3/css/font-awesome.min.css%22/%3E%0A%20%20%20%20%3Clink%20rel%3D%22stylesheet%22%20href%3D%22https%3A//cdnjs.cloudflare.com/ajax/libs/Leaflet.awesome-markers/2.0.2/leaflet.awesome-markers.css%22/%3E%0A%20%20%20%20%3Clink%20rel%3D%22stylesheet%22%20href%3D%22https%3A//rawcdn.githack.com/python-visualization/folium/master/folium/templates/leaflet.awesome.rotate.css%22/%3E%0A%20%20%20%20%3Cstyle%3Ehtml%2C%20body%20%7Bwidth%3A%20100%25%3Bheight%3A%20100%25%3Bmargin%3A%200%3Bpadding%3A%200%3B%7D%3C/style%3E%0A%20%20%20%20%3Cstyle%3E%23map%20%7Bposition%3Aabsolute%3Btop%3A0%3Bbottom%3A0%3Bright%3A0%3Bleft%3A0%3B%7D%3C/style%3E%0A%20%20%20%20%0A%20%20%20%20%3Cmeta%20name%3D%22viewport%22%20content%3D%22width%3Ddevice-width%2C%0A%20%20%20%20%20%20%20%20initial-scale%3D1.0%2C%20maximum-scale%3D1.0%2C%20user-scalable%3Dno%22%20/%3E%0A%20%20%20%20%3Cstyle%3E%23map_fd6000661e89412bb0358409a7d87567%20%7B%0A%20%20%20%20%20%20%20%20position%3A%20relative%3B%0A%20%20%20%20%20%20%20%20width%3A%20100.0%25%3B%0A%20%20%20%20%20%20%20%20height%3A%20100.0%25%3B%0A%20%20%20%20%20%20%20%20left%3A%200.0%25%3B%0A%20%20%20%20%20%20%20%20top%3A%200.0%25%3B%0A%20%20%20%20%20%20%20%20%7D%0A%20%20%20%20%3C/style%3E%0A%3C/head%3E%0A%3Cbody%3E%20%20%20%20%0A%20%20%20%20%0A%20%20%20%20%3Cdiv%20class%3D%22folium-map%22%20id%3D%22map_fd6000661e89412bb0358409a7d87567%22%20%3E%3C/div%3E%0A%3C/body%3E%0A%3Cscript%3E%20%20%20%20%0A%20%20%20%20%0A%20%20%20%20%0A%20%20%20%20%20%20%20%20var%20bounds%20%3D%20null%3B%0A%20%20%20%20%0A%0A%20%20%20%20var%20map_fd6000661e89412bb0358409a7d87567%20%3D%20L.map%28%0A%20%20%20%20%20%20%20%20%27map_fd6000661e89412bb0358409a7d87567%27%2C%20%7B%0A%20%20%20%20%20%20%20%20center%3A%20%5B-9.93097535159907%2C%20-50.65246582031609%5D%2C%0A%20%20%20%20%20%20%20%20zoom%3A%2012%2C%0A%20%20%20%20%20%20%20%20maxBounds%3A%20bounds%2C%0A%20%20%20%20%20%20%20%20layers%3A%20%5B%5D%2C%0A%20%20%20%20%20%20%20%20worldCopyJump%3A%20false%2C%0A%20%20%20%20%20%20%20%20crs%3A%20L.CRS.EPSG3857%2C%0A%20%20%20%20%20%20%20%20zoomControl%3A%20true%2C%0A%20%20%20%20%20%20%20%20%7D%29%3B%0A%0A%0A%20%20%20%20%0A%20%20%20%20var%20tile_layer_597f0d999e004e80b44411a63b335aac%20%3D%20L.tileLayer%28%0A%20%20%20%20%20%20%20%20%27https%3A//%7Bs%7D.tile.openstreetmap.org/%7Bz%7D/%7Bx%7D/%7By%7D.png%27%2C%0A%20%20%20%20%20%20%20%20%7B%0A%20%20%20%20%20%20%20%20%22attribution%22%3A%20null%2C%0A%20%20%20%20%20%20%20%20%22detectRetina%22%3A%20false%2C%0A%20%20%20%20%20%20%20%20%22maxNativeZoom%22%3A%2018%2C%0A%20%20%20%20%20%20%20%20%22maxZoom%22%3A%2018%2C%0A%20%20%20%20%20%20%20%20%22minZoom%22%3A%200%2C%0A%20%20%20%20%20%20%20%20%22noWrap%22%3A%20false%2C%0A%20%20%20%20%20%20%20%20%22opacity%22%3A%201%2C%0A%20%20%20%20%20%20%20%20%22subdomains%22%3A%20%22abc%22%2C%0A%20%20%20%20%20%20%20%20%22tms%22%3A%20false%0A%7D%29.addTo%28map_fd6000661e89412bb0358409a7d87567%29%3B%0A%20%20%20%20var%20tile_layer_cc177562a98743d682dad0cb92fcfe01%20%3D%20L.tileLayer%28%0A%20%20%20%20%20%20%20%20%27https%3A//earthengine.googleapis.com/v1alpha/projects/earthengine-legacy/maps/0303283648cf9fcc083a310d07beb67e-5797597ce526fb54e473b4ba0cea7cfe/tiles/%7Bz%7D/%7Bx%7D/%7By%7D%27%2C%0A%20%20%20%20%20%20%20%20%7B%0A%20%20%20%20%20%20%20%20%22attribution%22%3A%20%22Google%20Earth%20Engine%22%2C%0A%20%20%20%20%20%20%20%20%22detectRetina%22%3A%20false%2C%0A%20%20%20%20%20%20%20%20%22maxNativeZoom%22%3A%2018%2C%0A%20%20%20%20%20%20%20%20%22maxZoom%22%3A%2018%2C%0A%20%20%20%20%20%20%20%20%22minZoom%22%3A%200%2C%0A%20%20%20%20%20%20%20%20%22noWrap%22%3A%20false%2C%0A%20%20%20%20%20%20%20%20%22opacity%22%3A%201%2C%0A%20%20%20%20%20%20%20%20%22subdomains%22%3A%20%22abc%22%2C%0A%20%20%20%20%20%20%20%20%22tms%22%3A%20false%0A%7D%29.addTo%28map_fd6000661e89412bb0358409a7d87567%29%3B%0A%20%20%20%20var%20tile_layer_40302f9b884b4c8395a1109b6afaabd1%20%3D%20L.tileLayer%28%0A%20%20%20%20%20%20%20%20%27https%3A//earthengine.googleapis.com/v1alpha/projects/earthengine-legacy/maps/53bc50e3bb105de1ac6b2602dca843b7-514083c4d6941a3e21892bacd5338336/tiles/%7Bz%7D/%7Bx%7D/%7By%7D%27%2C%0A%20%20%20%20%20%20%20%20%7B%0A%20%20%20%20%20%20%20%20%22attribution%22%3A%20%22Google%20Earth%20Engine%22%2C%0A%20%20%20%20%20%20%20%20%22detectRetina%22%3A%20false%2C%0A%20%20%20%20%20%20%20%20%22maxNativeZoom%22%3A%2018%2C%0A%20%20%20%20%20%20%20%20%22maxZoom%22%3A%2018%2C%0A%20%20%20%20%20%20%20%20%22minZoom%22%3A%200%2C%0A%20%20%20%20%20%20%20%20%22noWrap%22%3A%20false%2C%0A%20%20%20%20%20%20%20%20%22opacity%22%3A%201%2C%0A%20%20%20%20%20%20%20%20%22subdomains%22%3A%20%22abc%22%2C%0A%20%20%20%20%20%20%20%20%22tms%22%3A%20false%0A%7D%29.addTo%28map_fd6000661e89412bb0358409a7d87567%29%3B%0A%20%20%20%20%0A%20%20%20%20%20%20%20%20%20%20%20%20var%20layer_control_28dd995fcddd40e3bddb0c6bb6edcb42%20%3D%20%7B%0A%20%20%20%20%20%20%20%20%20%20%20%20%20%20%20%20base_layers%20%3A%20%7B%20%22openstreetmap%22%20%3A%20tile_layer_597f0d999e004e80b44411a63b335aac%2C%20%7D%2C%0A%20%20%20%20%20%20%20%20%20%20%20%20%20%20%20%20overlays%20%3A%20%7B%20%22True%20Transition%20Map%22%20%3A%20tile_layer_cc177562a98743d682dad0cb92fcfe01%2C%22Predicted%20Transition%20Map%22%20%3A%20tile_layer_40302f9b884b4c8395a1109b6afaabd1%2C%20%7D%0A%20%20%20%20%20%20%20%20%20%20%20%20%20%20%20%20%7D%3B%0A%20%20%20%20%20%20%20%20%20%20%20%20L.control.layers%28%0A%20%20%20%20%20%20%20%20%20%20%20%20%20%20%20%20layer_control_28dd995fcddd40e3bddb0c6bb6edcb42.base_layers%2C%0A%20%20%20%20%20%20%20%20%20%20%20%20%20%20%20%20layer_control_28dd995fcddd40e3bddb0c6bb6edcb42.overlays%2C%0A%20%20%20%20%20%20%20%20%20%20%20%20%20%20%20%20%7Bposition%3A%20%27topright%27%2C%0A%20%20%20%20%20%20%20%20%20%20%20%20%20%20%20%20%20collapsed%3A%20true%2C%0A%20%20%20%20%20%20%20%20%20%20%20%20%20%20%20%20%20autoZIndex%3A%20true%0A%20%20%20%20%20%20%20%20%20%20%20%20%20%20%20%20%7D%29.addTo%28map_fd6000661e89412bb0358409a7d87567%29%3B%0A%20%20%20%20%20%20%20%20%20%20%20%20%0A%20%20%20%20%20%20%20%20%0A%3C/script%3E onload=\"this.contentDocument.open();this.contentDocument.write(    decodeURIComponent(this.getAttribute('data-html')));this.contentDocument.close();\" \"allowfullscreen\" \"webkitallowfullscreen\" \"mozallowfullscreen\"></iframe>"
            ],
            "text/plain": [
              "<branca.element.Figure at 0x7f5b76b1f650>"
            ]
          },
          "metadata": {},
          "execution_count": 14
        }
      ]
    },
    {
      "cell_type": "markdown",
      "source": [
        "# Unsupervised learning"
      ],
      "metadata": {
        "id": "vGa5cNsOwfpX"
      }
    },
    {
      "cell_type": "code",
      "source": [
        ""
      ],
      "metadata": {
        "id": "7yJm6Sl1widv"
      },
      "execution_count": null,
      "outputs": []
    }
  ]
}