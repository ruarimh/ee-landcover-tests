{
  "nbformat": 4,
  "nbformat_minor": 0,
  "metadata": {
    "colab": {
      "name": "deforestation prediction.ipynb",
      "provenance": [],
      "collapsed_sections": []
    },
    "kernelspec": {
      "name": "python3",
      "display_name": "Python 3"
    },
    "language_info": {
      "name": "python"
    }
  },
  "cells": [
    {
      "cell_type": "markdown",
      "source": [
        "# Imports and choosing area of interest"
      ],
      "metadata": {
        "id": "xVMnpIUW_szV"
      }
    },
    {
      "cell_type": "code",
      "execution_count": 1,
      "metadata": {
        "id": "6w0Qdyt7yIKW"
      },
      "outputs": [],
      "source": [
        "# Imports\n",
        "import ee\n",
        "import pprint\n",
        "import folium"
      ]
    },
    {
      "cell_type": "code",
      "source": [
        "# Trigger the authentication flow.\n",
        "ee.Authenticate()\n",
        "\n",
        "# Initialize the library.\n",
        "ee.Initialize()"
      ],
      "metadata": {
        "id": "1Ek4dlsZzp5H"
      },
      "execution_count": null,
      "outputs": []
    },
    {
      "cell_type": "code",
      "source": [
        "# Get an area in Brazil using http://geojson.io\n",
        "geoJSON = {\n",
        "  \"type\": \"FeatureCollection\",\n",
        "  \"features\": [\n",
        "    {\n",
        "      \"type\": \"Feature\",\n",
        "      \"properties\": {},\n",
        "      \"geometry\": {\n",
        "        \"type\": \"Polygon\",\n",
        "        \"coordinates\": [\n",
        "          [\n",
        "            [\n",
        "              -50.69091796875,\n",
        "              -9.96885060854611\n",
        "            ],\n",
        "            [\n",
        "              -50.614013671875,\n",
        "              -9.96885060854611\n",
        "            ],\n",
        "            [\n",
        "              -50.614013671875,\n",
        "              -9.893098633379571\n",
        "            ],\n",
        "            [\n",
        "              -50.69091796875,\n",
        "              -9.893098633379571\n",
        "            ],\n",
        "            [\n",
        "              -50.69091796875,\n",
        "              -9.96885060854611\n",
        "            ]\n",
        "          ]\n",
        "        ]\n",
        "      }\n",
        "    }\n",
        "  ]\n",
        "}\n",
        "\n",
        "# Put coordinates into ee format\n",
        "coords = geoJSON['features'][0]['geometry']['coordinates']\n",
        "aoi = ee.Geometry.Polygon(coords)\n",
        "\n"
      ],
      "metadata": {
        "id": "SNXcf8HwytgA"
      },
      "execution_count": 3,
      "outputs": []
    },
    {
      "cell_type": "markdown",
      "source": [
        "# Loading Vancutsem and Landsat data"
      ],
      "metadata": {
        "id": "rMU60y44jvHR"
      }
    },
    {
      "cell_type": "code",
      "source": [
        "# Vancutsem data guide available at https://forobs.jrc.ec.europa.eu/TMF/download/TMF_DataUsersGuide.pdf\n",
        "\n",
        "# the year a pixel is first deforested\n",
        "deforestation_year = ee.ImageCollection('projects/JRC/TMF/v1_2020/DeforestationYear').select(\"DeforestationYear\").filterBounds(aoi)#.filterDate('2014-01-01', '2020-01-01')\n",
        "\n",
        "# total number of disturbances\n",
        "intensity = ee.ImageCollection('projects/JRC/TMF/v1_2020/Intensity').select(\"Intensity\").filterBounds(aoi)#.filterDate('2014-01-01', '2020-01-01')\n",
        "\n",
        "# transition map: which class each pixel is in\n",
        "transition_map = ee.ImageCollection('projects/JRC/TMF/v1_2020/TransitionMap_MainClasses').filterBounds(aoi).mosaic()#.filterDate('2014-01-01', '2020-01-01').select(\"TransitionMap_MainClasses\")\n",
        "\n",
        "# PALSAR SAR data\n",
        "palsar = ee.ImageCollection('JAXA/ALOS/PALSAR/YEARLY/SAR').filterBounds(aoi).filterDate('2019-01-01', '2019-12-31')\n",
        "# check which bands are available in aoi in the most recent image (VV and VH are not available, maybe due to the direction the satellite is pointing)\n",
        "print(\"PALSAR bands: \" ,palsar.sort('system:time_start', False).first().clip(aoi).bandNames().getInfo()) \n",
        "palsar = palsar.select('HH')\n",
        "\n",
        "# Sentinel-1 SAR data (split into two lines because it is very long)\n",
        "sentinel = ee.ImageCollection('COPERNICUS/S1_GRD').filterBounds(aoi).filterDate('2019-01-01', '2019-12-31')\n",
        "# check which bands are available in aoi in the most recent image (HH and HV are not available, maybe due to the direction the satellite is pointing)\n",
        "print(\"Sentinel-1 bands: \" ,sentinel.sort('system:time_start', False).first().clip(aoi).bandNames().getInfo()) \n",
        "sentinel = sentinel.select('VV')\n",
        "#sentinel = sentinel.filter(ee.Filter.listContains('transmitterReceiverPolarisation', 'HH')).filter(ee.Filter.eq('instrumentMode', 'IW')).select('HH').filter(ee.Filter.eq('orbitProperties_pass', 'DESCENDING'))\n",
        "\n",
        "\n",
        "\n",
        "# Landsat 8 data: we only use 2019 data\n",
        "landsat = ee.ImageCollection('LANDSAT/LC08/C01/T1_TOA').filterBounds(aoi).filterDate('2019-01-01', '2019-12-31')\n",
        "\n",
        "# function to compute NDVI\n",
        "def calculate_NDVI(image):\n",
        "    ndvi = image.normalizedDifference(['B5', 'B4']).rename('NDVI')\n",
        "    return image.addBands(ndvi)\n",
        "\n",
        "# compute NDVI\n",
        "landsat_ndvi = landsat.map(calculate_NDVI).select('NDVI')\n",
        "\n",
        "\n"
      ],
      "metadata": {
        "id": "LiPLawbzjtPJ",
        "colab": {
          "base_uri": "https://localhost:8080/"
        },
        "outputId": "9126d42f-ec34-4d90-9015-f0c6668d5f85"
      },
      "execution_count": 39,
      "outputs": [
        {
          "output_type": "stream",
          "name": "stdout",
          "text": [
            "PALSAR bands:  ['HH', 'HV', 'angle', 'date', 'qa']\n",
            "Sentinel-1 bands:  ['VV', 'VH', 'angle']\n"
          ]
        }
      ]
    },
    {
      "cell_type": "markdown",
      "source": [
        "# Folium functions"
      ],
      "metadata": {
        "id": "pGpjvXvM9iB_"
      }
    },
    {
      "cell_type": "code",
      "source": [
        "# Add custom basemaps to folium\n",
        "basemaps = {\n",
        "    'Google Maps': folium.TileLayer(\n",
        "        tiles = 'https://mt1.google.com/vt/lyrs=m&x={x}&y={y}&z={z}',\n",
        "        attr = 'Google',\n",
        "        name = 'Google Maps',\n",
        "        overlay = True,\n",
        "        control = True\n",
        "    ),\n",
        "    'Google Satellite': folium.TileLayer(\n",
        "        tiles = 'https://mt1.google.com/vt/lyrs=s&x={x}&y={y}&z={z}',\n",
        "        attr = 'Google',\n",
        "        name = 'Google Satellite',\n",
        "        overlay = True,\n",
        "        control = True\n",
        "    ),\n",
        "    'Google Terrain': folium.TileLayer(\n",
        "        tiles = 'https://mt1.google.com/vt/lyrs=p&x={x}&y={y}&z={z}',\n",
        "        attr = 'Google',\n",
        "        name = 'Google Terrain',\n",
        "        overlay = True,\n",
        "        control = True\n",
        "    ),\n",
        "    'Google Satellite Hybrid': folium.TileLayer(\n",
        "        tiles = 'https://mt1.google.com/vt/lyrs=y&x={x}&y={y}&z={z}',\n",
        "        attr = 'Google',\n",
        "        name = 'Google Satellite',\n",
        "        overlay = True,\n",
        "        control = True\n",
        "    ),\n",
        "    'Esri Satellite': folium.TileLayer(\n",
        "        tiles = 'https://server.arcgisonline.com/ArcGIS/rest/services/World_Imagery/MapServer/tile/{z}/{y}/{x}',\n",
        "        attr = 'Esri',\n",
        "        name = 'Esri Satellite',\n",
        "        overlay = True,\n",
        "        control = True\n",
        "    )\n",
        "}"
      ],
      "metadata": {
        "id": "W8EoDNun5-tu"
      },
      "execution_count": 5,
      "outputs": []
    },
    {
      "cell_type": "code",
      "source": [
        "# Define a method for displaying Earth Engine image tiles on a folium map.\n",
        "def add_ee_layer(self, ee_object, vis_params, name):\n",
        "    \n",
        "    #try:    \n",
        "        # display ee.Image()\n",
        "        if isinstance(ee_object, ee.image.Image):    \n",
        "            map_id_dict = ee.Image(ee_object).getMapId(vis_params)\n",
        "            folium.raster_layers.TileLayer(\n",
        "            tiles = map_id_dict['tile_fetcher'].url_format,\n",
        "            attr = 'Google Earth Engine',\n",
        "            name = name,\n",
        "            overlay = True,\n",
        "            control = True\n",
        "            ).add_to(self)\n",
        "        # display ee.ImageCollection()\n",
        "        elif isinstance(ee_object, ee.imagecollection.ImageCollection):    \n",
        "            ee_object_new = ee_object.mosaic()\n",
        "            map_id_dict = ee.Image(ee_object_new).getMapId(vis_params)\n",
        "            folium.raster_layers.TileLayer(\n",
        "            tiles = map_id_dict['tile_fetcher'].url_format,\n",
        "            attr = 'Google Earth Engine',\n",
        "            name = name,\n",
        "            overlay = True,\n",
        "            control = True\n",
        "            ).add_to(self)\n",
        "        # display ee.Geometry()\n",
        "        elif isinstance(ee_object, ee.geometry.Geometry):    \n",
        "            folium.GeoJson(\n",
        "            data = ee_object.getInfo(),\n",
        "            name = name,\n",
        "            overlay = True,\n",
        "            control = True\n",
        "        ).add_to(self)\n",
        "        # display ee.FeatureCollection()\n",
        "        elif isinstance(ee_object, ee.featurecollection.FeatureCollection):  \n",
        "            ee_object_new = ee.Image().paint(ee_object, 0, 2)\n",
        "            map_id_dict = ee.Image(ee_object_new).getMapId(vis_params)\n",
        "            folium.raster_layers.TileLayer(\n",
        "            tiles = map_id_dict['tile_fetcher'].url_format,\n",
        "            attr = 'Google Earth Engine',\n",
        "            name = name,\n",
        "            overlay = True,\n",
        "            control = True\n",
        "        ).add_to(self)\n",
        "    \n",
        "    #except:\n",
        "    #    print(\"Could not display {}\".format(name))\n",
        "    \n",
        "# Add EE drawing method to folium.\n",
        "folium.Map.add_ee_layer = add_ee_layer"
      ],
      "metadata": {
        "id": "5OqzCbnF5jG-"
      },
      "execution_count": 6,
      "outputs": []
    },
    {
      "cell_type": "code",
      "source": [
        "#converts rgb value to hex\n",
        "def rgb(r, g, b):\n",
        "  return ('#%02x%02x%02x' % (r, g, b))"
      ],
      "metadata": {
        "id": "GbKdEfLDhzZQ"
      },
      "execution_count": 7,
      "outputs": []
    },
    {
      "cell_type": "markdown",
      "source": [
        "# Visualize the deforestation year map"
      ],
      "metadata": {
        "id": "X7RTG6Dj9ppF"
      }
    },
    {
      "cell_type": "code",
      "source": [
        "# Get one image from the deforestation year collection, and remove values where no deforestation has occurred\n",
        "deforestation_year_image = deforestation_year.first().clip(aoi)\n",
        "deforestation_year_image = deforestation_year_image.updateMask(deforestation_year_image.neq(0))\n",
        "\n",
        "# Convert to folium coordinates\n",
        "location = aoi.centroid().coordinates().getInfo()[::-1]\n",
        "\n",
        "# Colour parameters for deforestation_year\n",
        "vis_params = {\n",
        "  'min': 1982,\n",
        "  'max': 2020,\n",
        "  #\"palette\": [\"#2892c7\", \"#b30800\"]}\n",
        "  \"palette\": [rgb(40,146,199), rgb(179,8,0)]}\n",
        "\n",
        "# Create the map object.\n",
        "f = folium.Figure(width=1000, height=500)\n",
        "m = folium.Map(location=location, zoom_start=12).add_to(f)\n",
        "\n",
        "# add satellite imagery\n",
        "basemaps['Google Satellite Hybrid'].add_to(m)\n",
        "\n",
        "# Add the deforestation year to the map\n",
        "m.add_ee_layer(deforestation_year_image, vis_params, 'Deforestation Year')\n",
        "\n",
        "\n",
        "\n",
        "# Get one image from the intensity collection\n",
        "intensity_image = intensity.first().clip(aoi)\n",
        "\n",
        "# Colour parameters for intensity\n",
        "vis_params = {\n",
        "  'min': 1,\n",
        "  'max': 500,\n",
        "  \"palette\": [rgb(0,128,0), rgb(255,0,0)]}\n",
        "\n",
        "# Add the intensity to the map\n",
        "m.add_ee_layer(intensity_image, vis_params, 'Intensity')\n",
        "\n",
        "\n",
        "\n",
        "\n",
        "# Get one image from the transition map collection\n",
        "transition_map_image = transition_map.clip(aoi)\n",
        "\n",
        "# Colour parameters for transition map\n",
        "vis_params = {\n",
        "  \"palette\": [rgb(0,80,0), rgb(100,135,35), rgb(210,250,60 ), rgb(255,200,148), rgb(0,200,150 ), rgb(255,230,100 ), rgb(250,140,10 ), rgb(0,70,160 ), rgb(255,255,255)]}\n",
        "\n",
        "# Add the transition map to the map\n",
        "m.add_ee_layer(transition_map_image, vis_params, 'Transition Map')\n",
        "\n",
        "\n",
        "\n",
        "\n",
        "# Get one image from the 2019 landsat NDVI collection with the least clouds\n",
        "landsat_ndvi_image = landsat_ndvi.sort('CLOUD_COVER').first().clip(aoi) #2019 image is not blank, but when using .filterDate('2014-01-01', '2020-01-01') it was blank... why?\n",
        "\n",
        "# Colour parameters for NDVI\n",
        "vis_params = {\n",
        "    'min': -1,\n",
        "    'max': 1,\n",
        "    \"palette\": [rgb(255, 255, 204), rgb(0, 153, 0)]}\n",
        "\n",
        "# Add the NDVI to the map\n",
        "m.add_ee_layer(landsat_ndvi_image, vis_params, 'Landsat NDVI')\n",
        "\n",
        "\n",
        "\n",
        "# Get one image of the most recent PALSAR data\n",
        "palsar_image = palsar.sort('system:time_start', False).first().clip(aoi)\n",
        "\n",
        "# Colour parameters for PALSAR\n",
        "vis_params = {\n",
        "    'min': 0,\n",
        "    'max': 10000,}\n",
        "\n",
        "# Add the PALSAR to the map\n",
        "m.add_ee_layer(palsar_image, vis_params, 'PALSAR')\n",
        "\n",
        "\n",
        "\n",
        "\n",
        "# Get one image of the most recent Sentinel data\n",
        "sentinel_image = sentinel.sort('system:time_start', False).first().clip(aoi)\n",
        "\n",
        "# Colour parameters for Sentinel\n",
        "vis_params = {\n",
        "    'min': -50,\n",
        "    'max': 1,}\n",
        "\n",
        "# Add the Sentinel to the map\n",
        "m.add_ee_layer(sentinel_image, vis_params, 'Sentinel-1')\n",
        "\n",
        "\n",
        "\n",
        "\n",
        "# Add a layer control panel to the map.\n",
        "m.add_child(folium.LayerControl())\n",
        "\n",
        "# Display the map.\n",
        "f"
      ],
      "metadata": {
        "colab": {
          "base_uri": "https://localhost:8080/",
          "height": 521
        },
        "id": "tJgkqB8532Wf",
        "outputId": "829c2c0e-0f8d-4324-8a9c-db91e5b2587f"
      },
      "execution_count": 40,
      "outputs": [
        {
          "output_type": "execute_result",
          "data": {
            "text/html": [
              "<iframe src=\"about:blank\" width=\"1000\" height=\"500\"style=\"border:none !important;\" data-html=%3C%21DOCTYPE%20html%3E%0A%3Chead%3E%20%20%20%20%0A%20%20%20%20%3Cmeta%20http-equiv%3D%22content-type%22%20content%3D%22text/html%3B%20charset%3DUTF-8%22%20/%3E%0A%20%20%20%20%3Cscript%3EL_PREFER_CANVAS%3Dfalse%3B%20L_NO_TOUCH%3Dfalse%3B%20L_DISABLE_3D%3Dfalse%3B%3C/script%3E%0A%20%20%20%20%3Cscript%20src%3D%22https%3A//cdn.jsdelivr.net/npm/leaflet%401.4.0/dist/leaflet.js%22%3E%3C/script%3E%0A%20%20%20%20%3Cscript%20src%3D%22https%3A//code.jquery.com/jquery-1.12.4.min.js%22%3E%3C/script%3E%0A%20%20%20%20%3Cscript%20src%3D%22https%3A//maxcdn.bootstrapcdn.com/bootstrap/3.2.0/js/bootstrap.min.js%22%3E%3C/script%3E%0A%20%20%20%20%3Cscript%20src%3D%22https%3A//cdnjs.cloudflare.com/ajax/libs/Leaflet.awesome-markers/2.0.2/leaflet.awesome-markers.js%22%3E%3C/script%3E%0A%20%20%20%20%3Clink%20rel%3D%22stylesheet%22%20href%3D%22https%3A//cdn.jsdelivr.net/npm/leaflet%401.4.0/dist/leaflet.css%22/%3E%0A%20%20%20%20%3Clink%20rel%3D%22stylesheet%22%20href%3D%22https%3A//maxcdn.bootstrapcdn.com/bootstrap/3.2.0/css/bootstrap.min.css%22/%3E%0A%20%20%20%20%3Clink%20rel%3D%22stylesheet%22%20href%3D%22https%3A//maxcdn.bootstrapcdn.com/bootstrap/3.2.0/css/bootstrap-theme.min.css%22/%3E%0A%20%20%20%20%3Clink%20rel%3D%22stylesheet%22%20href%3D%22https%3A//maxcdn.bootstrapcdn.com/font-awesome/4.6.3/css/font-awesome.min.css%22/%3E%0A%20%20%20%20%3Clink%20rel%3D%22stylesheet%22%20href%3D%22https%3A//cdnjs.cloudflare.com/ajax/libs/Leaflet.awesome-markers/2.0.2/leaflet.awesome-markers.css%22/%3E%0A%20%20%20%20%3Clink%20rel%3D%22stylesheet%22%20href%3D%22https%3A//rawcdn.githack.com/python-visualization/folium/master/folium/templates/leaflet.awesome.rotate.css%22/%3E%0A%20%20%20%20%3Cstyle%3Ehtml%2C%20body%20%7Bwidth%3A%20100%25%3Bheight%3A%20100%25%3Bmargin%3A%200%3Bpadding%3A%200%3B%7D%3C/style%3E%0A%20%20%20%20%3Cstyle%3E%23map%20%7Bposition%3Aabsolute%3Btop%3A0%3Bbottom%3A0%3Bright%3A0%3Bleft%3A0%3B%7D%3C/style%3E%0A%20%20%20%20%0A%20%20%20%20%3Cmeta%20name%3D%22viewport%22%20content%3D%22width%3Ddevice-width%2C%0A%20%20%20%20%20%20%20%20initial-scale%3D1.0%2C%20maximum-scale%3D1.0%2C%20user-scalable%3Dno%22%20/%3E%0A%20%20%20%20%3Cstyle%3E%23map_f9be77affc0943968fc959c7520579c7%20%7B%0A%20%20%20%20%20%20%20%20position%3A%20relative%3B%0A%20%20%20%20%20%20%20%20width%3A%20100.0%25%3B%0A%20%20%20%20%20%20%20%20height%3A%20100.0%25%3B%0A%20%20%20%20%20%20%20%20left%3A%200.0%25%3B%0A%20%20%20%20%20%20%20%20top%3A%200.0%25%3B%0A%20%20%20%20%20%20%20%20%7D%0A%20%20%20%20%3C/style%3E%0A%3C/head%3E%0A%3Cbody%3E%20%20%20%20%0A%20%20%20%20%0A%20%20%20%20%3Cdiv%20class%3D%22folium-map%22%20id%3D%22map_f9be77affc0943968fc959c7520579c7%22%20%3E%3C/div%3E%0A%3C/body%3E%0A%3Cscript%3E%20%20%20%20%0A%20%20%20%20%0A%20%20%20%20%0A%20%20%20%20%20%20%20%20var%20bounds%20%3D%20null%3B%0A%20%20%20%20%0A%0A%20%20%20%20var%20map_f9be77affc0943968fc959c7520579c7%20%3D%20L.map%28%0A%20%20%20%20%20%20%20%20%27map_f9be77affc0943968fc959c7520579c7%27%2C%20%7B%0A%20%20%20%20%20%20%20%20center%3A%20%5B-9.93097535159907%2C%20-50.65246582031609%5D%2C%0A%20%20%20%20%20%20%20%20zoom%3A%2012%2C%0A%20%20%20%20%20%20%20%20maxBounds%3A%20bounds%2C%0A%20%20%20%20%20%20%20%20layers%3A%20%5B%5D%2C%0A%20%20%20%20%20%20%20%20worldCopyJump%3A%20false%2C%0A%20%20%20%20%20%20%20%20crs%3A%20L.CRS.EPSG3857%2C%0A%20%20%20%20%20%20%20%20zoomControl%3A%20true%2C%0A%20%20%20%20%20%20%20%20%7D%29%3B%0A%0A%0A%20%20%20%20%0A%20%20%20%20var%20tile_layer_ad45d0cc99064463af268f1c82ebef9a%20%3D%20L.tileLayer%28%0A%20%20%20%20%20%20%20%20%27https%3A//%7Bs%7D.tile.openstreetmap.org/%7Bz%7D/%7Bx%7D/%7By%7D.png%27%2C%0A%20%20%20%20%20%20%20%20%7B%0A%20%20%20%20%20%20%20%20%22attribution%22%3A%20null%2C%0A%20%20%20%20%20%20%20%20%22detectRetina%22%3A%20false%2C%0A%20%20%20%20%20%20%20%20%22maxNativeZoom%22%3A%2018%2C%0A%20%20%20%20%20%20%20%20%22maxZoom%22%3A%2018%2C%0A%20%20%20%20%20%20%20%20%22minZoom%22%3A%200%2C%0A%20%20%20%20%20%20%20%20%22noWrap%22%3A%20false%2C%0A%20%20%20%20%20%20%20%20%22opacity%22%3A%201%2C%0A%20%20%20%20%20%20%20%20%22subdomains%22%3A%20%22abc%22%2C%0A%20%20%20%20%20%20%20%20%22tms%22%3A%20false%0A%7D%29.addTo%28map_f9be77affc0943968fc959c7520579c7%29%3B%0A%20%20%20%20var%20tile_layer_750d7d7b968b46968c47a4dd0ab45772%20%3D%20L.tileLayer%28%0A%20%20%20%20%20%20%20%20%27https%3A//mt1.google.com/vt/lyrs%3Dy%26x%3D%7Bx%7D%26y%3D%7By%7D%26z%3D%7Bz%7D%27%2C%0A%20%20%20%20%20%20%20%20%7B%0A%20%20%20%20%20%20%20%20%22attribution%22%3A%20%22Google%22%2C%0A%20%20%20%20%20%20%20%20%22detectRetina%22%3A%20false%2C%0A%20%20%20%20%20%20%20%20%22maxNativeZoom%22%3A%2018%2C%0A%20%20%20%20%20%20%20%20%22maxZoom%22%3A%2018%2C%0A%20%20%20%20%20%20%20%20%22minZoom%22%3A%200%2C%0A%20%20%20%20%20%20%20%20%22noWrap%22%3A%20false%2C%0A%20%20%20%20%20%20%20%20%22opacity%22%3A%201%2C%0A%20%20%20%20%20%20%20%20%22subdomains%22%3A%20%22abc%22%2C%0A%20%20%20%20%20%20%20%20%22tms%22%3A%20false%0A%7D%29.addTo%28map_f9be77affc0943968fc959c7520579c7%29%3B%0A%20%20%20%20var%20tile_layer_b3fdc819da274fbeb8e34e2bd8cd94c3%20%3D%20L.tileLayer%28%0A%20%20%20%20%20%20%20%20%27https%3A//earthengine.googleapis.com/v1alpha/projects/earthengine-legacy/maps/0a45d332e00464f7a7de3335ab606522-9a17de38db594785c2357eb5db9a26a7/tiles/%7Bz%7D/%7Bx%7D/%7By%7D%27%2C%0A%20%20%20%20%20%20%20%20%7B%0A%20%20%20%20%20%20%20%20%22attribution%22%3A%20%22Google%20Earth%20Engine%22%2C%0A%20%20%20%20%20%20%20%20%22detectRetina%22%3A%20false%2C%0A%20%20%20%20%20%20%20%20%22maxNativeZoom%22%3A%2018%2C%0A%20%20%20%20%20%20%20%20%22maxZoom%22%3A%2018%2C%0A%20%20%20%20%20%20%20%20%22minZoom%22%3A%200%2C%0A%20%20%20%20%20%20%20%20%22noWrap%22%3A%20false%2C%0A%20%20%20%20%20%20%20%20%22opacity%22%3A%201%2C%0A%20%20%20%20%20%20%20%20%22subdomains%22%3A%20%22abc%22%2C%0A%20%20%20%20%20%20%20%20%22tms%22%3A%20false%0A%7D%29.addTo%28map_f9be77affc0943968fc959c7520579c7%29%3B%0A%20%20%20%20var%20tile_layer_0a83844a937c4c18adc681e98985b9d7%20%3D%20L.tileLayer%28%0A%20%20%20%20%20%20%20%20%27https%3A//earthengine.googleapis.com/v1alpha/projects/earthengine-legacy/maps/b62a994788b0405f2365e47891fb1c52-d4ba210269e41b5f7efe3e251bca5000/tiles/%7Bz%7D/%7Bx%7D/%7By%7D%27%2C%0A%20%20%20%20%20%20%20%20%7B%0A%20%20%20%20%20%20%20%20%22attribution%22%3A%20%22Google%20Earth%20Engine%22%2C%0A%20%20%20%20%20%20%20%20%22detectRetina%22%3A%20false%2C%0A%20%20%20%20%20%20%20%20%22maxNativeZoom%22%3A%2018%2C%0A%20%20%20%20%20%20%20%20%22maxZoom%22%3A%2018%2C%0A%20%20%20%20%20%20%20%20%22minZoom%22%3A%200%2C%0A%20%20%20%20%20%20%20%20%22noWrap%22%3A%20false%2C%0A%20%20%20%20%20%20%20%20%22opacity%22%3A%201%2C%0A%20%20%20%20%20%20%20%20%22subdomains%22%3A%20%22abc%22%2C%0A%20%20%20%20%20%20%20%20%22tms%22%3A%20false%0A%7D%29.addTo%28map_f9be77affc0943968fc959c7520579c7%29%3B%0A%20%20%20%20var%20tile_layer_67a26efc499e42948962bcc2c5257e02%20%3D%20L.tileLayer%28%0A%20%20%20%20%20%20%20%20%27https%3A//earthengine.googleapis.com/v1alpha/projects/earthengine-legacy/maps/47afdf637b34a005af74da97be38c4a8-283a50741ebe23be06614112555d842f/tiles/%7Bz%7D/%7Bx%7D/%7By%7D%27%2C%0A%20%20%20%20%20%20%20%20%7B%0A%20%20%20%20%20%20%20%20%22attribution%22%3A%20%22Google%20Earth%20Engine%22%2C%0A%20%20%20%20%20%20%20%20%22detectRetina%22%3A%20false%2C%0A%20%20%20%20%20%20%20%20%22maxNativeZoom%22%3A%2018%2C%0A%20%20%20%20%20%20%20%20%22maxZoom%22%3A%2018%2C%0A%20%20%20%20%20%20%20%20%22minZoom%22%3A%200%2C%0A%20%20%20%20%20%20%20%20%22noWrap%22%3A%20false%2C%0A%20%20%20%20%20%20%20%20%22opacity%22%3A%201%2C%0A%20%20%20%20%20%20%20%20%22subdomains%22%3A%20%22abc%22%2C%0A%20%20%20%20%20%20%20%20%22tms%22%3A%20false%0A%7D%29.addTo%28map_f9be77affc0943968fc959c7520579c7%29%3B%0A%20%20%20%20var%20tile_layer_988bac62af494f26b68325bebb1364e7%20%3D%20L.tileLayer%28%0A%20%20%20%20%20%20%20%20%27https%3A//earthengine.googleapis.com/v1alpha/projects/earthengine-legacy/maps/095b5b1eee8196b006f420b266953342-ecf2739b071f33af324af23cc800b783/tiles/%7Bz%7D/%7Bx%7D/%7By%7D%27%2C%0A%20%20%20%20%20%20%20%20%7B%0A%20%20%20%20%20%20%20%20%22attribution%22%3A%20%22Google%20Earth%20Engine%22%2C%0A%20%20%20%20%20%20%20%20%22detectRetina%22%3A%20false%2C%0A%20%20%20%20%20%20%20%20%22maxNativeZoom%22%3A%2018%2C%0A%20%20%20%20%20%20%20%20%22maxZoom%22%3A%2018%2C%0A%20%20%20%20%20%20%20%20%22minZoom%22%3A%200%2C%0A%20%20%20%20%20%20%20%20%22noWrap%22%3A%20false%2C%0A%20%20%20%20%20%20%20%20%22opacity%22%3A%201%2C%0A%20%20%20%20%20%20%20%20%22subdomains%22%3A%20%22abc%22%2C%0A%20%20%20%20%20%20%20%20%22tms%22%3A%20false%0A%7D%29.addTo%28map_f9be77affc0943968fc959c7520579c7%29%3B%0A%20%20%20%20var%20tile_layer_fcf0a9df9eb34c668d19d70d525b1852%20%3D%20L.tileLayer%28%0A%20%20%20%20%20%20%20%20%27https%3A//earthengine.googleapis.com/v1alpha/projects/earthengine-legacy/maps/3b5e732ef93a65b7934c48256104dbe7-6509511afa5bc096daf40144a829f5d7/tiles/%7Bz%7D/%7Bx%7D/%7By%7D%27%2C%0A%20%20%20%20%20%20%20%20%7B%0A%20%20%20%20%20%20%20%20%22attribution%22%3A%20%22Google%20Earth%20Engine%22%2C%0A%20%20%20%20%20%20%20%20%22detectRetina%22%3A%20false%2C%0A%20%20%20%20%20%20%20%20%22maxNativeZoom%22%3A%2018%2C%0A%20%20%20%20%20%20%20%20%22maxZoom%22%3A%2018%2C%0A%20%20%20%20%20%20%20%20%22minZoom%22%3A%200%2C%0A%20%20%20%20%20%20%20%20%22noWrap%22%3A%20false%2C%0A%20%20%20%20%20%20%20%20%22opacity%22%3A%201%2C%0A%20%20%20%20%20%20%20%20%22subdomains%22%3A%20%22abc%22%2C%0A%20%20%20%20%20%20%20%20%22tms%22%3A%20false%0A%7D%29.addTo%28map_f9be77affc0943968fc959c7520579c7%29%3B%0A%20%20%20%20var%20tile_layer_2ca6ca90dabf492ca3615a4964a96e76%20%3D%20L.tileLayer%28%0A%20%20%20%20%20%20%20%20%27https%3A//earthengine.googleapis.com/v1alpha/projects/earthengine-legacy/maps/a3596fcbd6024af7d15f6d130decc5c0-2c02a6dd0adc9ba0b7a860e0cdc41908/tiles/%7Bz%7D/%7Bx%7D/%7By%7D%27%2C%0A%20%20%20%20%20%20%20%20%7B%0A%20%20%20%20%20%20%20%20%22attribution%22%3A%20%22Google%20Earth%20Engine%22%2C%0A%20%20%20%20%20%20%20%20%22detectRetina%22%3A%20false%2C%0A%20%20%20%20%20%20%20%20%22maxNativeZoom%22%3A%2018%2C%0A%20%20%20%20%20%20%20%20%22maxZoom%22%3A%2018%2C%0A%20%20%20%20%20%20%20%20%22minZoom%22%3A%200%2C%0A%20%20%20%20%20%20%20%20%22noWrap%22%3A%20false%2C%0A%20%20%20%20%20%20%20%20%22opacity%22%3A%201%2C%0A%20%20%20%20%20%20%20%20%22subdomains%22%3A%20%22abc%22%2C%0A%20%20%20%20%20%20%20%20%22tms%22%3A%20false%0A%7D%29.addTo%28map_f9be77affc0943968fc959c7520579c7%29%3B%0A%20%20%20%20%0A%20%20%20%20%20%20%20%20%20%20%20%20var%20layer_control_5724fbfc5c43484e935fa2a2cef2802d%20%3D%20%7B%0A%20%20%20%20%20%20%20%20%20%20%20%20%20%20%20%20base_layers%20%3A%20%7B%20%22openstreetmap%22%20%3A%20tile_layer_ad45d0cc99064463af268f1c82ebef9a%2C%20%7D%2C%0A%20%20%20%20%20%20%20%20%20%20%20%20%20%20%20%20overlays%20%3A%20%7B%20%22Google%20Satellite%22%20%3A%20tile_layer_750d7d7b968b46968c47a4dd0ab45772%2C%22Deforestation%20Year%22%20%3A%20tile_layer_b3fdc819da274fbeb8e34e2bd8cd94c3%2C%22Intensity%22%20%3A%20tile_layer_0a83844a937c4c18adc681e98985b9d7%2C%22Transition%20Map%22%20%3A%20tile_layer_67a26efc499e42948962bcc2c5257e02%2C%22Landsat%20NDVI%22%20%3A%20tile_layer_988bac62af494f26b68325bebb1364e7%2C%22PALSAR%22%20%3A%20tile_layer_fcf0a9df9eb34c668d19d70d525b1852%2C%22Sentinel-1%22%20%3A%20tile_layer_2ca6ca90dabf492ca3615a4964a96e76%2C%20%7D%0A%20%20%20%20%20%20%20%20%20%20%20%20%20%20%20%20%7D%3B%0A%20%20%20%20%20%20%20%20%20%20%20%20L.control.layers%28%0A%20%20%20%20%20%20%20%20%20%20%20%20%20%20%20%20layer_control_5724fbfc5c43484e935fa2a2cef2802d.base_layers%2C%0A%20%20%20%20%20%20%20%20%20%20%20%20%20%20%20%20layer_control_5724fbfc5c43484e935fa2a2cef2802d.overlays%2C%0A%20%20%20%20%20%20%20%20%20%20%20%20%20%20%20%20%7Bposition%3A%20%27topright%27%2C%0A%20%20%20%20%20%20%20%20%20%20%20%20%20%20%20%20%20collapsed%3A%20true%2C%0A%20%20%20%20%20%20%20%20%20%20%20%20%20%20%20%20%20autoZIndex%3A%20true%0A%20%20%20%20%20%20%20%20%20%20%20%20%20%20%20%20%7D%29.addTo%28map_f9be77affc0943968fc959c7520579c7%29%3B%0A%20%20%20%20%20%20%20%20%20%20%20%20%0A%20%20%20%20%20%20%20%20%0A%3C/script%3E onload=\"this.contentDocument.open();this.contentDocument.write(    decodeURIComponent(this.getAttribute('data-html')));this.contentDocument.close();\" \"allowfullscreen\" \"webkitallowfullscreen\" \"mozallowfullscreen\"></iframe>"
            ],
            "text/plain": [
              "<branca.element.Figure at 0x7f3e9dab4b90>"
            ]
          },
          "metadata": {},
          "execution_count": 40
        }
      ]
    }
  ]
}