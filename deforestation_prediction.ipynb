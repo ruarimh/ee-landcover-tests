{
  "nbformat": 4,
  "nbformat_minor": 0,
  "metadata": {
    "colab": {
      "name": "deforestation prediction.ipynb",
      "provenance": [],
      "collapsed_sections": []
    },
    "kernelspec": {
      "name": "python3",
      "display_name": "Python 3"
    },
    "language_info": {
      "name": "python"
    }
  },
  "cells": [
    {
      "cell_type": "markdown",
      "source": [
        "# Imports and choosing test and train area of interest"
      ],
      "metadata": {
        "id": "xVMnpIUW_szV"
      }
    },
    {
      "cell_type": "code",
      "execution_count": 1,
      "metadata": {
        "id": "6w0Qdyt7yIKW"
      },
      "outputs": [],
      "source": [
        "# Imports\n",
        "import ee\n",
        "import pprint\n",
        "import folium"
      ]
    },
    {
      "cell_type": "code",
      "source": [
        "# Trigger the authentication flow.\n",
        "ee.Authenticate()\n",
        "\n",
        "# Initialize the library.\n",
        "ee.Initialize()"
      ],
      "metadata": {
        "id": "1Ek4dlsZzp5H"
      },
      "execution_count": null,
      "outputs": []
    },
    {
      "cell_type": "code",
      "source": [
        "# Get an area in Brazil using http://geojson.io\n",
        "test_geoJSON = {\n",
        "  \"type\": \"FeatureCollection\",\n",
        "  \"features\": [\n",
        "    {\n",
        "      \"type\": \"Feature\",\n",
        "      \"properties\": {},\n",
        "      \"geometry\": {\n",
        "        \"type\": \"Polygon\",\n",
        "        \"coordinates\": [\n",
        "          [\n",
        "            [\n",
        "              -50.69091796875,\n",
        "              -9.96885060854611\n",
        "            ],\n",
        "            [\n",
        "              -50.614013671875,\n",
        "              -9.96885060854611\n",
        "            ],\n",
        "            [\n",
        "              -50.614013671875,\n",
        "              -9.893098633379571\n",
        "            ],\n",
        "            [\n",
        "              -50.69091796875,\n",
        "              -9.893098633379571\n",
        "            ],\n",
        "            [\n",
        "              -50.69091796875,\n",
        "              -9.96885060854611\n",
        "            ]\n",
        "          ]\n",
        "        ]\n",
        "      }\n",
        "    }\n",
        "  ]\n",
        "}\n",
        "\n",
        "# Put coordinates into ee format\n",
        "test_coords = test_geoJSON['features'][0]['geometry']['coordinates']\n",
        "test_aoi = ee.Geometry.Polygon(test_coords)\n",
        "\n",
        "\n",
        "\n",
        "train_geoJSON = {\n",
        "  \"type\": \"FeatureCollection\",\n",
        "  \"features\": [\n",
        "    {\n",
        "      \"type\": \"Feature\",\n",
        "      \"properties\": {},\n",
        "      \"geometry\": {\n",
        "        \"type\": \"Polygon\",\n",
        "        \"coordinates\": [\n",
        "          [\n",
        "            [\n",
        "              -51.78920745849609,\n",
        "              -10.352072244431293\n",
        "            ],\n",
        "            [\n",
        "              -51.68140411376953,\n",
        "              -10.352072244431293\n",
        "            ],\n",
        "            [\n",
        "              -51.68140411376953,\n",
        "              -10.245667991389672\n",
        "            ],\n",
        "            [\n",
        "              -51.78920745849609,\n",
        "              -10.245667991389672\n",
        "            ],\n",
        "            [\n",
        "              -51.78920745849609,\n",
        "              -10.352072244431293\n",
        "            ]\n",
        "          ]\n",
        "        ]\n",
        "      }\n",
        "    }\n",
        "  ]\n",
        "}\n",
        "\n",
        "\n",
        "train_coords = train_geoJSON['features'][0]['geometry']['coordinates']\n",
        "train_aoi = ee.Geometry.Polygon(train_coords)"
      ],
      "metadata": {
        "id": "SNXcf8HwytgA"
      },
      "execution_count": 3,
      "outputs": []
    },
    {
      "cell_type": "markdown",
      "source": [
        "# Loading Vancutsem and Landsat data"
      ],
      "metadata": {
        "id": "rMU60y44jvHR"
      }
    },
    {
      "cell_type": "markdown",
      "source": [
        "Load data in testing AOI"
      ],
      "metadata": {
        "id": "DpLPl1syrFm4"
      }
    },
    {
      "cell_type": "code",
      "source": [
        "# Vancutsem data guide available at https://forobs.jrc.ec.europa.eu/TMF/download/TMF_DataUsersGuide.pdf\n",
        "\n",
        "# the year a pixel is first deforested\n",
        "test_deforestation_year = ee.ImageCollection('projects/JRC/TMF/v1_2020/DeforestationYear').select(\"DeforestationYear\").filterBounds(test_aoi)\n",
        "\n",
        "# total number of disturbances\n",
        "test_intensity = ee.ImageCollection('projects/JRC/TMF/v1_2020/Intensity').select(\"Intensity\").filterBounds(test_aoi)\n",
        "\n",
        "# transition map: which class each pixel is in\n",
        "test_transition_map = ee.ImageCollection('projects/JRC/TMF/v1_2020/TransitionMap_MainClasses').mosaic()\n",
        "# Remap Vancutsem transition map into something easier to use\n",
        "# Forest regrowth --> Undisturbed tropical moist forest, all deforested land types in one class (including ongoing deforestation)\n",
        "test_transition_map = test_transition_map.remap([10,20,30,41,42,43,50,60,70],[0,1,0,2,2,2,2,3,4]).rename(\"class\")\n",
        "# 0 = Undisturbed, 1 = Degraded, 2 = Deforested, 3 = Water, 4 = Other\n",
        "\n",
        "# PALSAR SAR data\n",
        "test_palsar = ee.ImageCollection('JAXA/ALOS/PALSAR/YEARLY/SAR').filterBounds(test_aoi).filterDate('2019-01-01', '2019-12-31')\n",
        "# check which bands are available in aoi in the most recent image (VV and VH are not available, maybe due to the direction the satellite is pointing)\n",
        "print(\"PALSAR bands: \" ,test_palsar.sort('system:time_start', False).first().clip(test_aoi).bandNames().getInfo()) \n",
        "test_palsar = test_palsar.select('HH')\n",
        "\n",
        "# Sentinel-1 SAR data (split into two lines because it is very long)\n",
        "test_sentinel = ee.ImageCollection('COPERNICUS/S1_GRD').filterBounds(test_aoi).filterDate('2019-01-01', '2019-12-31')\n",
        "# check which bands are available in aoi in the most recent image (HH and HV are not available, maybe due to the direction the satellite is pointing)\n",
        "print(\"Sentinel-1 bands: \" ,test_sentinel.sort('system:time_start', False).first().clip(test_aoi).bandNames().getInfo()) \n",
        "test_sentinel = test_sentinel.select('VV')\n",
        "\n",
        "\n",
        "\n",
        "# Landsat 8 data: we only use 2019 data\n",
        "test_landsat = ee.ImageCollection('LANDSAT/LC08/C01/T1_TOA').filterBounds(test_aoi).filterDate('2019-01-01', '2019-12-31')\n",
        "\n",
        "# function to compute NDVI\n",
        "def calculate_NDVI(image):\n",
        "    ndvi = image.normalizedDifference(['B5', 'B4']).rename('NDVI')\n",
        "    return image.addBands(ndvi)\n",
        "\n",
        "# compute NDVI\n",
        "test_landsat_ndvi = test_landsat.map(calculate_NDVI).select('NDVI')\n",
        "\n",
        "\n"
      ],
      "metadata": {
        "id": "LiPLawbzjtPJ",
        "colab": {
          "base_uri": "https://localhost:8080/"
        },
        "outputId": "3a73056c-33a9-4171-f276-8a2912293765"
      },
      "execution_count": 4,
      "outputs": [
        {
          "output_type": "stream",
          "name": "stdout",
          "text": [
            "PALSAR bands:  ['HH', 'HV', 'angle', 'date', 'qa']\n",
            "Sentinel-1 bands:  ['VV', 'VH', 'angle']\n"
          ]
        }
      ]
    },
    {
      "cell_type": "markdown",
      "source": [
        "Load data in training aoi"
      ],
      "metadata": {
        "id": "A-wezjYCrKEw"
      }
    },
    {
      "cell_type": "code",
      "source": [
        "# Copy/pasting code like this is not ideal, but having different variable names at least means data leakage is impossible\n",
        "\n",
        "# Vancutsem data guide available at https://forobs.jrc.ec.europa.eu/TMF/download/TMF_DataUsersGuide.pdf\n",
        "\n",
        "# the year a pixel is first deforested\n",
        "train_deforestation_year = ee.ImageCollection('projects/JRC/TMF/v1_2020/DeforestationYear').select(\"DeforestationYear\").filterBounds(train_aoi)\n",
        "\n",
        "# total number of disturbances\n",
        "train_intensity = ee.ImageCollection('projects/JRC/TMF/v1_2020/Intensity').select(\"Intensity\").filterBounds(train_aoi)\n",
        "\n",
        "# transition map: which class each pixel is in\n",
        "train_transition_map = ee.ImageCollection('projects/JRC/TMF/v1_2020/TransitionMap_MainClasses').mosaic()\n",
        "# Remap Vancutsem transition map into something easier to use\n",
        "# Forest regrowth --> Undisturbed tropical moist forest, all deforested land types in one class (including ongoing deforestation)\n",
        "train_transition_map = train_transition_map.remap([10,20,30,41,42,43,50,60,70],[0,1,0,2,2,2,2,3,4]).rename(\"class\")\n",
        "# 0 = Undisturbed, 1 = Degraded, 2 = Deforested, 3 = Water, 4 = Other\n",
        "\n",
        "# PALSAR SAR data\n",
        "train_palsar = ee.ImageCollection('JAXA/ALOS/PALSAR/YEARLY/SAR').filterBounds(train_aoi).filterDate('2019-01-01', '2019-12-31')\n",
        "# check which bands are available in aoi in the most recent image (VV and VH are not available, maybe due to the direction the satellite is pointing)\n",
        "print(\"PALSAR bands: \" ,train_palsar.sort('system:time_start', False).first().clip(train_aoi).bandNames().getInfo()) \n",
        "train_palsar = train_palsar.select('HH')\n",
        "\n",
        "# Sentinel-1 SAR data (split into two lines because it is very long)\n",
        "train_sentinel = ee.ImageCollection('COPERNICUS/S1_GRD').filterBounds(train_aoi).filterDate('2019-01-01', '2019-12-31')\n",
        "# check which bands are available in aoi in the most recent image (HH and HV are not available, maybe due to the direction the satellite is pointing)\n",
        "print(\"Sentinel-1 bands: \" ,train_sentinel.sort('system:time_start', False).first().clip(train_aoi).bandNames().getInfo()) \n",
        "train_sentinel = train_sentinel.select('VV')\n",
        "\n",
        "\n",
        "\n",
        "# Landsat 8 data: we only use 2019 data\n",
        "train_landsat = ee.ImageCollection('LANDSAT/LC08/C01/T1_TOA').filterBounds(train_aoi).filterDate('2019-01-01', '2019-12-31')\n",
        "\n",
        "# function to compute NDVI\n",
        "def calculate_NDVI(image):\n",
        "    ndvi = image.normalizedDifference(['B5', 'B4']).rename('NDVI')\n",
        "    return image.addBands(ndvi)\n",
        "\n",
        "# compute NDVI\n",
        "train_landsat_ndvi = train_landsat.map(calculate_NDVI).select('NDVI')\n"
      ],
      "metadata": {
        "colab": {
          "base_uri": "https://localhost:8080/"
        },
        "id": "5GmmOKXKrJSA",
        "outputId": "646bb32d-4028-4fed-dd9d-688bfe0c749e"
      },
      "execution_count": 5,
      "outputs": [
        {
          "output_type": "stream",
          "name": "stdout",
          "text": [
            "PALSAR bands:  ['HH', 'HV', 'angle', 'date', 'qa']\n",
            "Sentinel-1 bands:  ['VV', 'VH', 'angle']\n"
          ]
        }
      ]
    },
    {
      "cell_type": "markdown",
      "source": [
        "# Folium functions"
      ],
      "metadata": {
        "id": "pGpjvXvM9iB_"
      }
    },
    {
      "cell_type": "code",
      "source": [
        "# Add custom basemaps to folium\n",
        "basemaps = {\n",
        "    'Google Maps': folium.TileLayer(\n",
        "        tiles = 'https://mt1.google.com/vt/lyrs=m&x={x}&y={y}&z={z}',\n",
        "        attr = 'Google',\n",
        "        name = 'Google Maps',\n",
        "        overlay = True,\n",
        "        control = True\n",
        "    ),\n",
        "    'Google Satellite': folium.TileLayer(\n",
        "        tiles = 'https://mt1.google.com/vt/lyrs=s&x={x}&y={y}&z={z}',\n",
        "        attr = 'Google',\n",
        "        name = 'Google Satellite',\n",
        "        overlay = True,\n",
        "        control = True\n",
        "    ),\n",
        "    'Google Terrain': folium.TileLayer(\n",
        "        tiles = 'https://mt1.google.com/vt/lyrs=p&x={x}&y={y}&z={z}',\n",
        "        attr = 'Google',\n",
        "        name = 'Google Terrain',\n",
        "        overlay = True,\n",
        "        control = True\n",
        "    ),\n",
        "    'Google Satellite Hybrid': folium.TileLayer(\n",
        "        tiles = 'https://mt1.google.com/vt/lyrs=y&x={x}&y={y}&z={z}',\n",
        "        attr = 'Google',\n",
        "        name = 'Google Satellite',\n",
        "        overlay = True,\n",
        "        control = True\n",
        "    ),\n",
        "    'Esri Satellite': folium.TileLayer(\n",
        "        tiles = 'https://server.arcgisonline.com/ArcGIS/rest/services/World_Imagery/MapServer/tile/{z}/{y}/{x}',\n",
        "        attr = 'Esri',\n",
        "        name = 'Esri Satellite',\n",
        "        overlay = True,\n",
        "        control = True\n",
        "    )\n",
        "}"
      ],
      "metadata": {
        "id": "W8EoDNun5-tu"
      },
      "execution_count": 7,
      "outputs": []
    },
    {
      "cell_type": "code",
      "source": [
        "# Define a method for displaying Earth Engine image tiles on a folium map.\n",
        "def add_ee_layer(self, ee_object, vis_params, name):\n",
        "    \n",
        "    #try:    \n",
        "        # display ee.Image()\n",
        "        if isinstance(ee_object, ee.image.Image):    \n",
        "            map_id_dict = ee.Image(ee_object).getMapId(vis_params)\n",
        "            folium.raster_layers.TileLayer(\n",
        "            tiles = map_id_dict['tile_fetcher'].url_format,\n",
        "            attr = 'Google Earth Engine',\n",
        "            name = name,\n",
        "            overlay = True,\n",
        "            control = True\n",
        "            ).add_to(self)\n",
        "        # display ee.ImageCollection()\n",
        "        elif isinstance(ee_object, ee.imagecollection.ImageCollection):    \n",
        "            ee_object_new = ee_object.mosaic()\n",
        "            map_id_dict = ee.Image(ee_object_new).getMapId(vis_params)\n",
        "            folium.raster_layers.TileLayer(\n",
        "            tiles = map_id_dict['tile_fetcher'].url_format,\n",
        "            attr = 'Google Earth Engine',\n",
        "            name = name,\n",
        "            overlay = True,\n",
        "            control = True\n",
        "            ).add_to(self)\n",
        "        # display ee.Geometry()\n",
        "        elif isinstance(ee_object, ee.geometry.Geometry):    \n",
        "            folium.GeoJson(\n",
        "            data = ee_object.getInfo(),\n",
        "            name = name,\n",
        "            overlay = True,\n",
        "            control = True\n",
        "        ).add_to(self)\n",
        "        # display ee.FeatureCollection()\n",
        "        elif isinstance(ee_object, ee.featurecollection.FeatureCollection):  \n",
        "            ee_object_new = ee.Image().paint(ee_object, 0, 2)\n",
        "            map_id_dict = ee.Image(ee_object_new).getMapId(vis_params)\n",
        "            folium.raster_layers.TileLayer(\n",
        "            tiles = map_id_dict['tile_fetcher'].url_format,\n",
        "            attr = 'Google Earth Engine',\n",
        "            name = name,\n",
        "            overlay = True,\n",
        "            control = True\n",
        "        ).add_to(self)\n",
        "    \n",
        "    #except:\n",
        "    #    print(\"Could not display {}\".format(name))\n",
        "    \n",
        "# Add EE drawing method to folium.\n",
        "folium.Map.add_ee_layer = add_ee_layer"
      ],
      "metadata": {
        "id": "5OqzCbnF5jG-"
      },
      "execution_count": 8,
      "outputs": []
    },
    {
      "cell_type": "code",
      "source": [
        "#converts rgb value to hex\n",
        "def rgb(r, g, b):\n",
        "  return ('#%02x%02x%02x' % (r, g, b))"
      ],
      "metadata": {
        "id": "GbKdEfLDhzZQ"
      },
      "execution_count": 9,
      "outputs": []
    },
    {
      "cell_type": "markdown",
      "source": [
        "# Visualize the training set map"
      ],
      "metadata": {
        "id": "sooUZK6cvFZn"
      }
    },
    {
      "cell_type": "code",
      "source": [
        "# Get one image from the deforestation year collection, and remove values where no deforestation has occurred\n",
        "train_deforestation_year_image = train_deforestation_year.first().clip(train_aoi)\n",
        "train_deforestation_year_image = train_deforestation_year_image.updateMask(train_deforestation_year_image.neq(0))\n",
        "\n",
        "# Convert to folium coordinates\n",
        "train_location = train_aoi.centroid().coordinates().getInfo()[::-1]\n",
        "\n",
        "# Colour parameters for deforestation_year\n",
        "vis_params = {\n",
        "'min': 1982,\n",
        "'max': 2020,\n",
        "#\"palette\": [\"#2892c7\", \"#b30800\"]}\n",
        "\"palette\": [rgb(40,146,199), rgb(179,8,0)]}\n",
        "\n",
        "# Create the map object.\n",
        "f = folium.Figure(width=1000, height=500)\n",
        "m = folium.Map(location=train_location, zoom_start=12).add_to(f)\n",
        "\n",
        "# add satellite imagery\n",
        "basemaps['Google Satellite Hybrid'].add_to(m)\n",
        "\n",
        "# Add the deforestation year to the map\n",
        "m.add_ee_layer(train_deforestation_year_image, vis_params, 'Deforestation Year')\n",
        "\n",
        "\n",
        "\n",
        "# Get one image from the intensity collection\n",
        "train_intensity_image = train_intensity.first().clip(train_aoi)\n",
        "\n",
        "# Colour parameters for intensity\n",
        "vis_params = {\n",
        "'min': 1,\n",
        "'max': 500,\n",
        "\"palette\": [rgb(0,128,0), rgb(255,0,0)]}\n",
        "\n",
        "# Add the intensity to the map\n",
        "m.add_ee_layer(train_intensity_image, vis_params, 'Intensity')\n",
        "\n",
        "\n",
        "\n",
        "\n",
        "# Get one image from the transition map collection\n",
        "train_transition_map_image = train_transition_map.clip(train_aoi)\n",
        "\n",
        "# Colour parameters for transition map\n",
        "vis_params = {\n",
        "\"palette\": [rgb(0,80,0), rgb(210,250,60 ), rgb(255,230,100 ), rgb(0,70,160 ), rgb(255,255,255)]}\n",
        "\n",
        "# Add the transition map to the map\n",
        "m.add_ee_layer(train_transition_map_image, vis_params, 'Transition Map')\n",
        "\n",
        "\n",
        "\n",
        "\n",
        "# Get one image from the 2019 landsat NDVI collection with the least clouds\n",
        "train_landsat_ndvi_image = train_landsat_ndvi.sort('CLOUD_COVER').first().clip(train_aoi) #2019 image is not blank, but when using .filterDate('2014-01-01', '2020-01-01') it was blank... why?\n",
        "\n",
        "# Colour parameters for NDVI\n",
        "vis_params = {\n",
        "    'min': -1,\n",
        "    'max': 1,\n",
        "    \"palette\": [rgb(255, 255, 204), rgb(0, 153, 0)]}\n",
        "\n",
        "# Add the NDVI to the map\n",
        "m.add_ee_layer(train_landsat_ndvi_image, vis_params, 'Landsat NDVI')\n",
        "\n",
        "\n",
        "\n",
        "# Get one image of the most recent PALSAR data\n",
        "train_palsar_image = train_palsar.sort('system:time_start', False).first().clip(train_aoi)\n",
        "\n",
        "# Colour parameters for PALSAR\n",
        "vis_params = {\n",
        "    'min': 0,\n",
        "    'max': 10000,}\n",
        "\n",
        "# Add the PALSAR to the map\n",
        "m.add_ee_layer(train_palsar_image, vis_params, 'PALSAR')\n",
        "\n",
        "\n",
        "\n",
        "\n",
        "# Get one image of the most recent Sentinel data\n",
        "train_sentinel_image = train_sentinel.sort('system:time_start', False).first().clip(train_aoi)\n",
        "\n",
        "# Colour parameters for Sentinel\n",
        "vis_params = {\n",
        "    'min': -50,\n",
        "    'max': 1,}\n",
        "\n",
        "# Add the Sentinel to the map\n",
        "m.add_ee_layer(train_sentinel_image, vis_params, 'Sentinel-1')\n",
        "\n",
        "\n",
        "\n",
        "\n",
        "# Add a layer control panel to the map.\n",
        "m.add_child(folium.LayerControl())\n",
        "\n",
        "# Display the map.\n",
        "f"
      ],
      "metadata": {
        "colab": {
          "base_uri": "https://localhost:8080/",
          "height": 521
        },
        "id": "QdmtRSYqvEcf",
        "outputId": "3350bb51-c4da-47ac-de62-6f06821b343d"
      },
      "execution_count": 10,
      "outputs": [
        {
          "output_type": "execute_result",
          "data": {
            "text/html": [
              "<iframe src=\"about:blank\" width=\"1000\" height=\"500\"style=\"border:none !important;\" data-html=%3C%21DOCTYPE%20html%3E%0A%3Chead%3E%20%20%20%20%0A%20%20%20%20%3Cmeta%20http-equiv%3D%22content-type%22%20content%3D%22text/html%3B%20charset%3DUTF-8%22%20/%3E%0A%20%20%20%20%3Cscript%3EL_PREFER_CANVAS%3Dfalse%3B%20L_NO_TOUCH%3Dfalse%3B%20L_DISABLE_3D%3Dfalse%3B%3C/script%3E%0A%20%20%20%20%3Cscript%20src%3D%22https%3A//cdn.jsdelivr.net/npm/leaflet%401.4.0/dist/leaflet.js%22%3E%3C/script%3E%0A%20%20%20%20%3Cscript%20src%3D%22https%3A//code.jquery.com/jquery-1.12.4.min.js%22%3E%3C/script%3E%0A%20%20%20%20%3Cscript%20src%3D%22https%3A//maxcdn.bootstrapcdn.com/bootstrap/3.2.0/js/bootstrap.min.js%22%3E%3C/script%3E%0A%20%20%20%20%3Cscript%20src%3D%22https%3A//cdnjs.cloudflare.com/ajax/libs/Leaflet.awesome-markers/2.0.2/leaflet.awesome-markers.js%22%3E%3C/script%3E%0A%20%20%20%20%3Clink%20rel%3D%22stylesheet%22%20href%3D%22https%3A//cdn.jsdelivr.net/npm/leaflet%401.4.0/dist/leaflet.css%22/%3E%0A%20%20%20%20%3Clink%20rel%3D%22stylesheet%22%20href%3D%22https%3A//maxcdn.bootstrapcdn.com/bootstrap/3.2.0/css/bootstrap.min.css%22/%3E%0A%20%20%20%20%3Clink%20rel%3D%22stylesheet%22%20href%3D%22https%3A//maxcdn.bootstrapcdn.com/bootstrap/3.2.0/css/bootstrap-theme.min.css%22/%3E%0A%20%20%20%20%3Clink%20rel%3D%22stylesheet%22%20href%3D%22https%3A//maxcdn.bootstrapcdn.com/font-awesome/4.6.3/css/font-awesome.min.css%22/%3E%0A%20%20%20%20%3Clink%20rel%3D%22stylesheet%22%20href%3D%22https%3A//cdnjs.cloudflare.com/ajax/libs/Leaflet.awesome-markers/2.0.2/leaflet.awesome-markers.css%22/%3E%0A%20%20%20%20%3Clink%20rel%3D%22stylesheet%22%20href%3D%22https%3A//rawcdn.githack.com/python-visualization/folium/master/folium/templates/leaflet.awesome.rotate.css%22/%3E%0A%20%20%20%20%3Cstyle%3Ehtml%2C%20body%20%7Bwidth%3A%20100%25%3Bheight%3A%20100%25%3Bmargin%3A%200%3Bpadding%3A%200%3B%7D%3C/style%3E%0A%20%20%20%20%3Cstyle%3E%23map%20%7Bposition%3Aabsolute%3Btop%3A0%3Bbottom%3A0%3Bright%3A0%3Bleft%3A0%3B%7D%3C/style%3E%0A%20%20%20%20%0A%20%20%20%20%3Cmeta%20name%3D%22viewport%22%20content%3D%22width%3Ddevice-width%2C%0A%20%20%20%20%20%20%20%20initial-scale%3D1.0%2C%20maximum-scale%3D1.0%2C%20user-scalable%3Dno%22%20/%3E%0A%20%20%20%20%3Cstyle%3E%23map_9a46ea9618cd495aa26d26bd93105a64%20%7B%0A%20%20%20%20%20%20%20%20position%3A%20relative%3B%0A%20%20%20%20%20%20%20%20width%3A%20100.0%25%3B%0A%20%20%20%20%20%20%20%20height%3A%20100.0%25%3B%0A%20%20%20%20%20%20%20%20left%3A%200.0%25%3B%0A%20%20%20%20%20%20%20%20top%3A%200.0%25%3B%0A%20%20%20%20%20%20%20%20%7D%0A%20%20%20%20%3C/style%3E%0A%3C/head%3E%0A%3Cbody%3E%20%20%20%20%0A%20%20%20%20%0A%20%20%20%20%3Cdiv%20class%3D%22folium-map%22%20id%3D%22map_9a46ea9618cd495aa26d26bd93105a64%22%20%3E%3C/div%3E%0A%3C/body%3E%0A%3Cscript%3E%20%20%20%20%0A%20%20%20%20%0A%20%20%20%20%0A%20%20%20%20%20%20%20%20var%20bounds%20%3D%20null%3B%0A%20%20%20%20%0A%0A%20%20%20%20var%20map_9a46ea9618cd495aa26d26bd93105a64%20%3D%20L.map%28%0A%20%20%20%20%20%20%20%20%27map_9a46ea9618cd495aa26d26bd93105a64%27%2C%20%7B%0A%20%20%20%20%20%20%20%20center%3A%20%5B-10.298871585563312%2C%20-51.73530578613507%5D%2C%0A%20%20%20%20%20%20%20%20zoom%3A%2012%2C%0A%20%20%20%20%20%20%20%20maxBounds%3A%20bounds%2C%0A%20%20%20%20%20%20%20%20layers%3A%20%5B%5D%2C%0A%20%20%20%20%20%20%20%20worldCopyJump%3A%20false%2C%0A%20%20%20%20%20%20%20%20crs%3A%20L.CRS.EPSG3857%2C%0A%20%20%20%20%20%20%20%20zoomControl%3A%20true%2C%0A%20%20%20%20%20%20%20%20%7D%29%3B%0A%0A%0A%20%20%20%20%0A%20%20%20%20var%20tile_layer_6c9f531352bd442eb35c92d846f00a9c%20%3D%20L.tileLayer%28%0A%20%20%20%20%20%20%20%20%27https%3A//%7Bs%7D.tile.openstreetmap.org/%7Bz%7D/%7Bx%7D/%7By%7D.png%27%2C%0A%20%20%20%20%20%20%20%20%7B%0A%20%20%20%20%20%20%20%20%22attribution%22%3A%20null%2C%0A%20%20%20%20%20%20%20%20%22detectRetina%22%3A%20false%2C%0A%20%20%20%20%20%20%20%20%22maxNativeZoom%22%3A%2018%2C%0A%20%20%20%20%20%20%20%20%22maxZoom%22%3A%2018%2C%0A%20%20%20%20%20%20%20%20%22minZoom%22%3A%200%2C%0A%20%20%20%20%20%20%20%20%22noWrap%22%3A%20false%2C%0A%20%20%20%20%20%20%20%20%22opacity%22%3A%201%2C%0A%20%20%20%20%20%20%20%20%22subdomains%22%3A%20%22abc%22%2C%0A%20%20%20%20%20%20%20%20%22tms%22%3A%20false%0A%7D%29.addTo%28map_9a46ea9618cd495aa26d26bd93105a64%29%3B%0A%20%20%20%20var%20tile_layer_93fefb52ef194608af1c68257b660d7c%20%3D%20L.tileLayer%28%0A%20%20%20%20%20%20%20%20%27https%3A//mt1.google.com/vt/lyrs%3Dy%26x%3D%7Bx%7D%26y%3D%7By%7D%26z%3D%7Bz%7D%27%2C%0A%20%20%20%20%20%20%20%20%7B%0A%20%20%20%20%20%20%20%20%22attribution%22%3A%20%22Google%22%2C%0A%20%20%20%20%20%20%20%20%22detectRetina%22%3A%20false%2C%0A%20%20%20%20%20%20%20%20%22maxNativeZoom%22%3A%2018%2C%0A%20%20%20%20%20%20%20%20%22maxZoom%22%3A%2018%2C%0A%20%20%20%20%20%20%20%20%22minZoom%22%3A%200%2C%0A%20%20%20%20%20%20%20%20%22noWrap%22%3A%20false%2C%0A%20%20%20%20%20%20%20%20%22opacity%22%3A%201%2C%0A%20%20%20%20%20%20%20%20%22subdomains%22%3A%20%22abc%22%2C%0A%20%20%20%20%20%20%20%20%22tms%22%3A%20false%0A%7D%29.addTo%28map_9a46ea9618cd495aa26d26bd93105a64%29%3B%0A%20%20%20%20var%20tile_layer_b29ec2b2ad574b5d97ecaa59e0f14505%20%3D%20L.tileLayer%28%0A%20%20%20%20%20%20%20%20%27https%3A//earthengine.googleapis.com/v1alpha/projects/earthengine-legacy/maps/9ce6878ab3462090e6825f3269f77472-7420e7d235418a530ad1dd0a94ab7cc6/tiles/%7Bz%7D/%7Bx%7D/%7By%7D%27%2C%0A%20%20%20%20%20%20%20%20%7B%0A%20%20%20%20%20%20%20%20%22attribution%22%3A%20%22Google%20Earth%20Engine%22%2C%0A%20%20%20%20%20%20%20%20%22detectRetina%22%3A%20false%2C%0A%20%20%20%20%20%20%20%20%22maxNativeZoom%22%3A%2018%2C%0A%20%20%20%20%20%20%20%20%22maxZoom%22%3A%2018%2C%0A%20%20%20%20%20%20%20%20%22minZoom%22%3A%200%2C%0A%20%20%20%20%20%20%20%20%22noWrap%22%3A%20false%2C%0A%20%20%20%20%20%20%20%20%22opacity%22%3A%201%2C%0A%20%20%20%20%20%20%20%20%22subdomains%22%3A%20%22abc%22%2C%0A%20%20%20%20%20%20%20%20%22tms%22%3A%20false%0A%7D%29.addTo%28map_9a46ea9618cd495aa26d26bd93105a64%29%3B%0A%20%20%20%20var%20tile_layer_b425b6318e8643e482f3615866b8bf22%20%3D%20L.tileLayer%28%0A%20%20%20%20%20%20%20%20%27https%3A//earthengine.googleapis.com/v1alpha/projects/earthengine-legacy/maps/985c164a057d5b3a0030d41b44944a61-1c9368765844f37a762d2b07c3e86317/tiles/%7Bz%7D/%7Bx%7D/%7By%7D%27%2C%0A%20%20%20%20%20%20%20%20%7B%0A%20%20%20%20%20%20%20%20%22attribution%22%3A%20%22Google%20Earth%20Engine%22%2C%0A%20%20%20%20%20%20%20%20%22detectRetina%22%3A%20false%2C%0A%20%20%20%20%20%20%20%20%22maxNativeZoom%22%3A%2018%2C%0A%20%20%20%20%20%20%20%20%22maxZoom%22%3A%2018%2C%0A%20%20%20%20%20%20%20%20%22minZoom%22%3A%200%2C%0A%20%20%20%20%20%20%20%20%22noWrap%22%3A%20false%2C%0A%20%20%20%20%20%20%20%20%22opacity%22%3A%201%2C%0A%20%20%20%20%20%20%20%20%22subdomains%22%3A%20%22abc%22%2C%0A%20%20%20%20%20%20%20%20%22tms%22%3A%20false%0A%7D%29.addTo%28map_9a46ea9618cd495aa26d26bd93105a64%29%3B%0A%20%20%20%20var%20tile_layer_e1bc29b262b94056a36c2366bd70e8e0%20%3D%20L.tileLayer%28%0A%20%20%20%20%20%20%20%20%27https%3A//earthengine.googleapis.com/v1alpha/projects/earthengine-legacy/maps/90fb6dc04eea33cdf229a75cbb0b931f-7311d2c19b6bcad7fe92f65a6a9d7000/tiles/%7Bz%7D/%7Bx%7D/%7By%7D%27%2C%0A%20%20%20%20%20%20%20%20%7B%0A%20%20%20%20%20%20%20%20%22attribution%22%3A%20%22Google%20Earth%20Engine%22%2C%0A%20%20%20%20%20%20%20%20%22detectRetina%22%3A%20false%2C%0A%20%20%20%20%20%20%20%20%22maxNativeZoom%22%3A%2018%2C%0A%20%20%20%20%20%20%20%20%22maxZoom%22%3A%2018%2C%0A%20%20%20%20%20%20%20%20%22minZoom%22%3A%200%2C%0A%20%20%20%20%20%20%20%20%22noWrap%22%3A%20false%2C%0A%20%20%20%20%20%20%20%20%22opacity%22%3A%201%2C%0A%20%20%20%20%20%20%20%20%22subdomains%22%3A%20%22abc%22%2C%0A%20%20%20%20%20%20%20%20%22tms%22%3A%20false%0A%7D%29.addTo%28map_9a46ea9618cd495aa26d26bd93105a64%29%3B%0A%20%20%20%20var%20tile_layer_4eb226d7cc564ccfa0c0c5694e6b8782%20%3D%20L.tileLayer%28%0A%20%20%20%20%20%20%20%20%27https%3A//earthengine.googleapis.com/v1alpha/projects/earthengine-legacy/maps/73eb13e34735b18a824810c5d69aa140-5568b7a4d7943c59ec3ad4a415b33f6d/tiles/%7Bz%7D/%7Bx%7D/%7By%7D%27%2C%0A%20%20%20%20%20%20%20%20%7B%0A%20%20%20%20%20%20%20%20%22attribution%22%3A%20%22Google%20Earth%20Engine%22%2C%0A%20%20%20%20%20%20%20%20%22detectRetina%22%3A%20false%2C%0A%20%20%20%20%20%20%20%20%22maxNativeZoom%22%3A%2018%2C%0A%20%20%20%20%20%20%20%20%22maxZoom%22%3A%2018%2C%0A%20%20%20%20%20%20%20%20%22minZoom%22%3A%200%2C%0A%20%20%20%20%20%20%20%20%22noWrap%22%3A%20false%2C%0A%20%20%20%20%20%20%20%20%22opacity%22%3A%201%2C%0A%20%20%20%20%20%20%20%20%22subdomains%22%3A%20%22abc%22%2C%0A%20%20%20%20%20%20%20%20%22tms%22%3A%20false%0A%7D%29.addTo%28map_9a46ea9618cd495aa26d26bd93105a64%29%3B%0A%20%20%20%20var%20tile_layer_b7dd795c802a4266b3998684cdf26939%20%3D%20L.tileLayer%28%0A%20%20%20%20%20%20%20%20%27https%3A//earthengine.googleapis.com/v1alpha/projects/earthengine-legacy/maps/ef527486f0ef246b8e8320aa61eae95d-c3d84ccb2c81cb3723214de6a383d11e/tiles/%7Bz%7D/%7Bx%7D/%7By%7D%27%2C%0A%20%20%20%20%20%20%20%20%7B%0A%20%20%20%20%20%20%20%20%22attribution%22%3A%20%22Google%20Earth%20Engine%22%2C%0A%20%20%20%20%20%20%20%20%22detectRetina%22%3A%20false%2C%0A%20%20%20%20%20%20%20%20%22maxNativeZoom%22%3A%2018%2C%0A%20%20%20%20%20%20%20%20%22maxZoom%22%3A%2018%2C%0A%20%20%20%20%20%20%20%20%22minZoom%22%3A%200%2C%0A%20%20%20%20%20%20%20%20%22noWrap%22%3A%20false%2C%0A%20%20%20%20%20%20%20%20%22opacity%22%3A%201%2C%0A%20%20%20%20%20%20%20%20%22subdomains%22%3A%20%22abc%22%2C%0A%20%20%20%20%20%20%20%20%22tms%22%3A%20false%0A%7D%29.addTo%28map_9a46ea9618cd495aa26d26bd93105a64%29%3B%0A%20%20%20%20var%20tile_layer_039dc0f39aab4d22b883097772597dc2%20%3D%20L.tileLayer%28%0A%20%20%20%20%20%20%20%20%27https%3A//earthengine.googleapis.com/v1alpha/projects/earthengine-legacy/maps/8bb67911a34ad294cb41725be3090176-62a56cd5e081622b3f27f155dde46c8d/tiles/%7Bz%7D/%7Bx%7D/%7By%7D%27%2C%0A%20%20%20%20%20%20%20%20%7B%0A%20%20%20%20%20%20%20%20%22attribution%22%3A%20%22Google%20Earth%20Engine%22%2C%0A%20%20%20%20%20%20%20%20%22detectRetina%22%3A%20false%2C%0A%20%20%20%20%20%20%20%20%22maxNativeZoom%22%3A%2018%2C%0A%20%20%20%20%20%20%20%20%22maxZoom%22%3A%2018%2C%0A%20%20%20%20%20%20%20%20%22minZoom%22%3A%200%2C%0A%20%20%20%20%20%20%20%20%22noWrap%22%3A%20false%2C%0A%20%20%20%20%20%20%20%20%22opacity%22%3A%201%2C%0A%20%20%20%20%20%20%20%20%22subdomains%22%3A%20%22abc%22%2C%0A%20%20%20%20%20%20%20%20%22tms%22%3A%20false%0A%7D%29.addTo%28map_9a46ea9618cd495aa26d26bd93105a64%29%3B%0A%20%20%20%20%0A%20%20%20%20%20%20%20%20%20%20%20%20var%20layer_control_f0da562fe89e42668ae1d7c73683163b%20%3D%20%7B%0A%20%20%20%20%20%20%20%20%20%20%20%20%20%20%20%20base_layers%20%3A%20%7B%20%22openstreetmap%22%20%3A%20tile_layer_6c9f531352bd442eb35c92d846f00a9c%2C%20%7D%2C%0A%20%20%20%20%20%20%20%20%20%20%20%20%20%20%20%20overlays%20%3A%20%7B%20%22Google%20Satellite%22%20%3A%20tile_layer_93fefb52ef194608af1c68257b660d7c%2C%22Deforestation%20Year%22%20%3A%20tile_layer_b29ec2b2ad574b5d97ecaa59e0f14505%2C%22Intensity%22%20%3A%20tile_layer_b425b6318e8643e482f3615866b8bf22%2C%22Transition%20Map%22%20%3A%20tile_layer_e1bc29b262b94056a36c2366bd70e8e0%2C%22Landsat%20NDVI%22%20%3A%20tile_layer_4eb226d7cc564ccfa0c0c5694e6b8782%2C%22PALSAR%22%20%3A%20tile_layer_b7dd795c802a4266b3998684cdf26939%2C%22Sentinel-1%22%20%3A%20tile_layer_039dc0f39aab4d22b883097772597dc2%2C%20%7D%0A%20%20%20%20%20%20%20%20%20%20%20%20%20%20%20%20%7D%3B%0A%20%20%20%20%20%20%20%20%20%20%20%20L.control.layers%28%0A%20%20%20%20%20%20%20%20%20%20%20%20%20%20%20%20layer_control_f0da562fe89e42668ae1d7c73683163b.base_layers%2C%0A%20%20%20%20%20%20%20%20%20%20%20%20%20%20%20%20layer_control_f0da562fe89e42668ae1d7c73683163b.overlays%2C%0A%20%20%20%20%20%20%20%20%20%20%20%20%20%20%20%20%7Bposition%3A%20%27topright%27%2C%0A%20%20%20%20%20%20%20%20%20%20%20%20%20%20%20%20%20collapsed%3A%20true%2C%0A%20%20%20%20%20%20%20%20%20%20%20%20%20%20%20%20%20autoZIndex%3A%20true%0A%20%20%20%20%20%20%20%20%20%20%20%20%20%20%20%20%7D%29.addTo%28map_9a46ea9618cd495aa26d26bd93105a64%29%3B%0A%20%20%20%20%20%20%20%20%20%20%20%20%0A%20%20%20%20%20%20%20%20%0A%3C/script%3E onload=\"this.contentDocument.open();this.contentDocument.write(    decodeURIComponent(this.getAttribute('data-html')));this.contentDocument.close();\" \"allowfullscreen\" \"webkitallowfullscreen\" \"mozallowfullscreen\"></iframe>"
            ],
            "text/plain": [
              "<branca.element.Figure at 0x7fc407883810>"
            ]
          },
          "metadata": {},
          "execution_count": 10
        }
      ]
    },
    {
      "cell_type": "markdown",
      "source": [
        "# Visualize the test set map"
      ],
      "metadata": {
        "id": "X7RTG6Dj9ppF"
      }
    },
    {
      "cell_type": "code",
      "source": [
        "# Get one image from the deforestation year collection, and remove values where no deforestation has occurred\n",
        "test_deforestation_year_image = test_deforestation_year.first().clip(test_aoi)\n",
        "test_deforestation_year_image = test_deforestation_year_image.updateMask(test_deforestation_year_image.neq(0))\n",
        "\n",
        "# Convert to folium coordinates\n",
        "test_location = test_aoi.centroid().coordinates().getInfo()[::-1]\n",
        "\n",
        "# Colour parameters for deforestation_year\n",
        "vis_params = {\n",
        "'min': 1982,\n",
        "'max': 2020,\n",
        "#\"palette\": [\"#2892c7\", \"#b30800\"]}\n",
        "\"palette\": [rgb(40,146,199), rgb(179,8,0)]}\n",
        "\n",
        "# Create the map object.\n",
        "f = folium.Figure(width=1000, height=500)\n",
        "m = folium.Map(location=test_location, zoom_start=12).add_to(f)\n",
        "\n",
        "# add satellite imagery\n",
        "basemaps['Google Satellite Hybrid'].add_to(m)\n",
        "\n",
        "# Add the deforestation year to the map\n",
        "m.add_ee_layer(test_deforestation_year_image, vis_params, 'Deforestation Year')\n",
        "\n",
        "\n",
        "\n",
        "# Get one image from the intensity collection\n",
        "test_intensity_image = test_intensity.first().clip(test_aoi)\n",
        "\n",
        "# Colour parameters for intensity\n",
        "vis_params = {\n",
        "'min': 1,\n",
        "'max': 500,\n",
        "\"palette\": [rgb(0,128,0), rgb(255,0,0)]}\n",
        "\n",
        "# Add the intensity to the map\n",
        "m.add_ee_layer(test_intensity_image, vis_params, 'Intensity')\n",
        "\n",
        "\n",
        "\n",
        "\n",
        "# Get one image from the transition map collection\n",
        "test_transition_map_image = test_transition_map.clip(test_aoi)\n",
        "\n",
        "# Colour parameters for transition map\n",
        "vis_params = {\n",
        "\"palette\": [rgb(0,80,0), rgb(210,250,60 ), rgb(255,230,100 ), rgb(0,70,160 ), rgb(255,255,255)]}\n",
        "\n",
        "# Add the transition map to the map\n",
        "m.add_ee_layer(test_transition_map_image, vis_params, 'Transition Map')\n",
        "\n",
        "\n",
        "\n",
        "\n",
        "# Get one image from the 2019 landsat NDVI collection with the least clouds\n",
        "test_landsat_ndvi_image = test_landsat_ndvi.sort('CLOUD_COVER').first().clip(test_aoi) #2019 image is not blank, but when using .filterDate('2014-01-01', '2020-01-01') it was blank... why?\n",
        "\n",
        "# Colour parameters for NDVI\n",
        "vis_params = {\n",
        "    'min': -1,\n",
        "    'max': 1,\n",
        "    \"palette\": [rgb(255, 255, 204), rgb(0, 153, 0)]}\n",
        "\n",
        "# Add the NDVI to the map\n",
        "m.add_ee_layer(test_landsat_ndvi_image, vis_params, 'Landsat NDVI')\n",
        "\n",
        "\n",
        "\n",
        "# Get one image of the most recent PALSAR data\n",
        "test_palsar_image = test_palsar.sort('system:time_start', False).first().clip(test_aoi)\n",
        "\n",
        "# Colour parameters for PALSAR\n",
        "vis_params = {\n",
        "    'min': 0,\n",
        "    'max': 10000,}\n",
        "\n",
        "# Add the PALSAR to the map\n",
        "m.add_ee_layer(test_palsar_image, vis_params, 'PALSAR')\n",
        "\n",
        "\n",
        "\n",
        "\n",
        "# Get one image of the most recent Sentinel data\n",
        "test_sentinel_image = test_sentinel.sort('system:time_start', False).first().clip(test_aoi)\n",
        "\n",
        "# Colour parameters for Sentinel\n",
        "vis_params = {\n",
        "    'min': -50,\n",
        "    'max': 1,}\n",
        "\n",
        "# Add the Sentinel to the map\n",
        "m.add_ee_layer(test_sentinel_image, vis_params, 'Sentinel-1')\n",
        "\n",
        "\n",
        "\n",
        "\n",
        "# Add a layer control panel to the map.\n",
        "m.add_child(folium.LayerControl())\n",
        "\n",
        "# Display the map.\n",
        "f"
      ],
      "metadata": {
        "colab": {
          "base_uri": "https://localhost:8080/",
          "height": 521
        },
        "id": "tJgkqB8532Wf",
        "outputId": "b9de6f2b-f6f1-4090-cf59-11066159f173"
      },
      "execution_count": 11,
      "outputs": [
        {
          "output_type": "execute_result",
          "data": {
            "text/html": [
              "<iframe src=\"about:blank\" width=\"1000\" height=\"500\"style=\"border:none !important;\" data-html=%3C%21DOCTYPE%20html%3E%0A%3Chead%3E%20%20%20%20%0A%20%20%20%20%3Cmeta%20http-equiv%3D%22content-type%22%20content%3D%22text/html%3B%20charset%3DUTF-8%22%20/%3E%0A%20%20%20%20%3Cscript%3EL_PREFER_CANVAS%3Dfalse%3B%20L_NO_TOUCH%3Dfalse%3B%20L_DISABLE_3D%3Dfalse%3B%3C/script%3E%0A%20%20%20%20%3Cscript%20src%3D%22https%3A//cdn.jsdelivr.net/npm/leaflet%401.4.0/dist/leaflet.js%22%3E%3C/script%3E%0A%20%20%20%20%3Cscript%20src%3D%22https%3A//code.jquery.com/jquery-1.12.4.min.js%22%3E%3C/script%3E%0A%20%20%20%20%3Cscript%20src%3D%22https%3A//maxcdn.bootstrapcdn.com/bootstrap/3.2.0/js/bootstrap.min.js%22%3E%3C/script%3E%0A%20%20%20%20%3Cscript%20src%3D%22https%3A//cdnjs.cloudflare.com/ajax/libs/Leaflet.awesome-markers/2.0.2/leaflet.awesome-markers.js%22%3E%3C/script%3E%0A%20%20%20%20%3Clink%20rel%3D%22stylesheet%22%20href%3D%22https%3A//cdn.jsdelivr.net/npm/leaflet%401.4.0/dist/leaflet.css%22/%3E%0A%20%20%20%20%3Clink%20rel%3D%22stylesheet%22%20href%3D%22https%3A//maxcdn.bootstrapcdn.com/bootstrap/3.2.0/css/bootstrap.min.css%22/%3E%0A%20%20%20%20%3Clink%20rel%3D%22stylesheet%22%20href%3D%22https%3A//maxcdn.bootstrapcdn.com/bootstrap/3.2.0/css/bootstrap-theme.min.css%22/%3E%0A%20%20%20%20%3Clink%20rel%3D%22stylesheet%22%20href%3D%22https%3A//maxcdn.bootstrapcdn.com/font-awesome/4.6.3/css/font-awesome.min.css%22/%3E%0A%20%20%20%20%3Clink%20rel%3D%22stylesheet%22%20href%3D%22https%3A//cdnjs.cloudflare.com/ajax/libs/Leaflet.awesome-markers/2.0.2/leaflet.awesome-markers.css%22/%3E%0A%20%20%20%20%3Clink%20rel%3D%22stylesheet%22%20href%3D%22https%3A//rawcdn.githack.com/python-visualization/folium/master/folium/templates/leaflet.awesome.rotate.css%22/%3E%0A%20%20%20%20%3Cstyle%3Ehtml%2C%20body%20%7Bwidth%3A%20100%25%3Bheight%3A%20100%25%3Bmargin%3A%200%3Bpadding%3A%200%3B%7D%3C/style%3E%0A%20%20%20%20%3Cstyle%3E%23map%20%7Bposition%3Aabsolute%3Btop%3A0%3Bbottom%3A0%3Bright%3A0%3Bleft%3A0%3B%7D%3C/style%3E%0A%20%20%20%20%0A%20%20%20%20%3Cmeta%20name%3D%22viewport%22%20content%3D%22width%3Ddevice-width%2C%0A%20%20%20%20%20%20%20%20initial-scale%3D1.0%2C%20maximum-scale%3D1.0%2C%20user-scalable%3Dno%22%20/%3E%0A%20%20%20%20%3Cstyle%3E%23map_47bd9749cf5644e0b290e306508c51fa%20%7B%0A%20%20%20%20%20%20%20%20position%3A%20relative%3B%0A%20%20%20%20%20%20%20%20width%3A%20100.0%25%3B%0A%20%20%20%20%20%20%20%20height%3A%20100.0%25%3B%0A%20%20%20%20%20%20%20%20left%3A%200.0%25%3B%0A%20%20%20%20%20%20%20%20top%3A%200.0%25%3B%0A%20%20%20%20%20%20%20%20%7D%0A%20%20%20%20%3C/style%3E%0A%3C/head%3E%0A%3Cbody%3E%20%20%20%20%0A%20%20%20%20%0A%20%20%20%20%3Cdiv%20class%3D%22folium-map%22%20id%3D%22map_47bd9749cf5644e0b290e306508c51fa%22%20%3E%3C/div%3E%0A%3C/body%3E%0A%3Cscript%3E%20%20%20%20%0A%20%20%20%20%0A%20%20%20%20%0A%20%20%20%20%20%20%20%20var%20bounds%20%3D%20null%3B%0A%20%20%20%20%0A%0A%20%20%20%20var%20map_47bd9749cf5644e0b290e306508c51fa%20%3D%20L.map%28%0A%20%20%20%20%20%20%20%20%27map_47bd9749cf5644e0b290e306508c51fa%27%2C%20%7B%0A%20%20%20%20%20%20%20%20center%3A%20%5B-9.93097535159907%2C%20-50.65246582031609%5D%2C%0A%20%20%20%20%20%20%20%20zoom%3A%2012%2C%0A%20%20%20%20%20%20%20%20maxBounds%3A%20bounds%2C%0A%20%20%20%20%20%20%20%20layers%3A%20%5B%5D%2C%0A%20%20%20%20%20%20%20%20worldCopyJump%3A%20false%2C%0A%20%20%20%20%20%20%20%20crs%3A%20L.CRS.EPSG3857%2C%0A%20%20%20%20%20%20%20%20zoomControl%3A%20true%2C%0A%20%20%20%20%20%20%20%20%7D%29%3B%0A%0A%0A%20%20%20%20%0A%20%20%20%20var%20tile_layer_f4fe6d4449234a4bba0a29ed283fa7fa%20%3D%20L.tileLayer%28%0A%20%20%20%20%20%20%20%20%27https%3A//%7Bs%7D.tile.openstreetmap.org/%7Bz%7D/%7Bx%7D/%7By%7D.png%27%2C%0A%20%20%20%20%20%20%20%20%7B%0A%20%20%20%20%20%20%20%20%22attribution%22%3A%20null%2C%0A%20%20%20%20%20%20%20%20%22detectRetina%22%3A%20false%2C%0A%20%20%20%20%20%20%20%20%22maxNativeZoom%22%3A%2018%2C%0A%20%20%20%20%20%20%20%20%22maxZoom%22%3A%2018%2C%0A%20%20%20%20%20%20%20%20%22minZoom%22%3A%200%2C%0A%20%20%20%20%20%20%20%20%22noWrap%22%3A%20false%2C%0A%20%20%20%20%20%20%20%20%22opacity%22%3A%201%2C%0A%20%20%20%20%20%20%20%20%22subdomains%22%3A%20%22abc%22%2C%0A%20%20%20%20%20%20%20%20%22tms%22%3A%20false%0A%7D%29.addTo%28map_47bd9749cf5644e0b290e306508c51fa%29%3B%0A%20%20%20%20var%20tile_layer_93fefb52ef194608af1c68257b660d7c%20%3D%20L.tileLayer%28%0A%20%20%20%20%20%20%20%20%27https%3A//mt1.google.com/vt/lyrs%3Dy%26x%3D%7Bx%7D%26y%3D%7By%7D%26z%3D%7Bz%7D%27%2C%0A%20%20%20%20%20%20%20%20%7B%0A%20%20%20%20%20%20%20%20%22attribution%22%3A%20%22Google%22%2C%0A%20%20%20%20%20%20%20%20%22detectRetina%22%3A%20false%2C%0A%20%20%20%20%20%20%20%20%22maxNativeZoom%22%3A%2018%2C%0A%20%20%20%20%20%20%20%20%22maxZoom%22%3A%2018%2C%0A%20%20%20%20%20%20%20%20%22minZoom%22%3A%200%2C%0A%20%20%20%20%20%20%20%20%22noWrap%22%3A%20false%2C%0A%20%20%20%20%20%20%20%20%22opacity%22%3A%201%2C%0A%20%20%20%20%20%20%20%20%22subdomains%22%3A%20%22abc%22%2C%0A%20%20%20%20%20%20%20%20%22tms%22%3A%20false%0A%7D%29.addTo%28map_47bd9749cf5644e0b290e306508c51fa%29%3B%0A%20%20%20%20var%20tile_layer_6bf12673cff641339f446b3172eaae35%20%3D%20L.tileLayer%28%0A%20%20%20%20%20%20%20%20%27https%3A//earthengine.googleapis.com/v1alpha/projects/earthengine-legacy/maps/0a45d332e00464f7a7de3335ab606522-7a58639ca9628c4d69cdfc5a41d05fc6/tiles/%7Bz%7D/%7Bx%7D/%7By%7D%27%2C%0A%20%20%20%20%20%20%20%20%7B%0A%20%20%20%20%20%20%20%20%22attribution%22%3A%20%22Google%20Earth%20Engine%22%2C%0A%20%20%20%20%20%20%20%20%22detectRetina%22%3A%20false%2C%0A%20%20%20%20%20%20%20%20%22maxNativeZoom%22%3A%2018%2C%0A%20%20%20%20%20%20%20%20%22maxZoom%22%3A%2018%2C%0A%20%20%20%20%20%20%20%20%22minZoom%22%3A%200%2C%0A%20%20%20%20%20%20%20%20%22noWrap%22%3A%20false%2C%0A%20%20%20%20%20%20%20%20%22opacity%22%3A%201%2C%0A%20%20%20%20%20%20%20%20%22subdomains%22%3A%20%22abc%22%2C%0A%20%20%20%20%20%20%20%20%22tms%22%3A%20false%0A%7D%29.addTo%28map_47bd9749cf5644e0b290e306508c51fa%29%3B%0A%20%20%20%20var%20tile_layer_c0b8780dd8524d22a63ca6334cf00353%20%3D%20L.tileLayer%28%0A%20%20%20%20%20%20%20%20%27https%3A//earthengine.googleapis.com/v1alpha/projects/earthengine-legacy/maps/b62a994788b0405f2365e47891fb1c52-0f1ef824de93b01a25f54b254e90930d/tiles/%7Bz%7D/%7Bx%7D/%7By%7D%27%2C%0A%20%20%20%20%20%20%20%20%7B%0A%20%20%20%20%20%20%20%20%22attribution%22%3A%20%22Google%20Earth%20Engine%22%2C%0A%20%20%20%20%20%20%20%20%22detectRetina%22%3A%20false%2C%0A%20%20%20%20%20%20%20%20%22maxNativeZoom%22%3A%2018%2C%0A%20%20%20%20%20%20%20%20%22maxZoom%22%3A%2018%2C%0A%20%20%20%20%20%20%20%20%22minZoom%22%3A%200%2C%0A%20%20%20%20%20%20%20%20%22noWrap%22%3A%20false%2C%0A%20%20%20%20%20%20%20%20%22opacity%22%3A%201%2C%0A%20%20%20%20%20%20%20%20%22subdomains%22%3A%20%22abc%22%2C%0A%20%20%20%20%20%20%20%20%22tms%22%3A%20false%0A%7D%29.addTo%28map_47bd9749cf5644e0b290e306508c51fa%29%3B%0A%20%20%20%20var%20tile_layer_b963901eae714686987e29fcc351e0f7%20%3D%20L.tileLayer%28%0A%20%20%20%20%20%20%20%20%27https%3A//earthengine.googleapis.com/v1alpha/projects/earthengine-legacy/maps/0303283648cf9fcc083a310d07beb67e-5b89b7280ef5d514e9107e1607a2269b/tiles/%7Bz%7D/%7Bx%7D/%7By%7D%27%2C%0A%20%20%20%20%20%20%20%20%7B%0A%20%20%20%20%20%20%20%20%22attribution%22%3A%20%22Google%20Earth%20Engine%22%2C%0A%20%20%20%20%20%20%20%20%22detectRetina%22%3A%20false%2C%0A%20%20%20%20%20%20%20%20%22maxNativeZoom%22%3A%2018%2C%0A%20%20%20%20%20%20%20%20%22maxZoom%22%3A%2018%2C%0A%20%20%20%20%20%20%20%20%22minZoom%22%3A%200%2C%0A%20%20%20%20%20%20%20%20%22noWrap%22%3A%20false%2C%0A%20%20%20%20%20%20%20%20%22opacity%22%3A%201%2C%0A%20%20%20%20%20%20%20%20%22subdomains%22%3A%20%22abc%22%2C%0A%20%20%20%20%20%20%20%20%22tms%22%3A%20false%0A%7D%29.addTo%28map_47bd9749cf5644e0b290e306508c51fa%29%3B%0A%20%20%20%20var%20tile_layer_3a2860ba3ade4e639b2cf39a81201309%20%3D%20L.tileLayer%28%0A%20%20%20%20%20%20%20%20%27https%3A//earthengine.googleapis.com/v1alpha/projects/earthengine-legacy/maps/eae00971ba7c92308b000288632522ef-2894aa1dadacca9c42b8711e64f2b05a/tiles/%7Bz%7D/%7Bx%7D/%7By%7D%27%2C%0A%20%20%20%20%20%20%20%20%7B%0A%20%20%20%20%20%20%20%20%22attribution%22%3A%20%22Google%20Earth%20Engine%22%2C%0A%20%20%20%20%20%20%20%20%22detectRetina%22%3A%20false%2C%0A%20%20%20%20%20%20%20%20%22maxNativeZoom%22%3A%2018%2C%0A%20%20%20%20%20%20%20%20%22maxZoom%22%3A%2018%2C%0A%20%20%20%20%20%20%20%20%22minZoom%22%3A%200%2C%0A%20%20%20%20%20%20%20%20%22noWrap%22%3A%20false%2C%0A%20%20%20%20%20%20%20%20%22opacity%22%3A%201%2C%0A%20%20%20%20%20%20%20%20%22subdomains%22%3A%20%22abc%22%2C%0A%20%20%20%20%20%20%20%20%22tms%22%3A%20false%0A%7D%29.addTo%28map_47bd9749cf5644e0b290e306508c51fa%29%3B%0A%20%20%20%20var%20tile_layer_d34a4fb3c5e44dc099c65762a26eb2c5%20%3D%20L.tileLayer%28%0A%20%20%20%20%20%20%20%20%27https%3A//earthengine.googleapis.com/v1alpha/projects/earthengine-legacy/maps/3b5e732ef93a65b7934c48256104dbe7-9a4db4dd0d602c50fe4859352a1121ae/tiles/%7Bz%7D/%7Bx%7D/%7By%7D%27%2C%0A%20%20%20%20%20%20%20%20%7B%0A%20%20%20%20%20%20%20%20%22attribution%22%3A%20%22Google%20Earth%20Engine%22%2C%0A%20%20%20%20%20%20%20%20%22detectRetina%22%3A%20false%2C%0A%20%20%20%20%20%20%20%20%22maxNativeZoom%22%3A%2018%2C%0A%20%20%20%20%20%20%20%20%22maxZoom%22%3A%2018%2C%0A%20%20%20%20%20%20%20%20%22minZoom%22%3A%200%2C%0A%20%20%20%20%20%20%20%20%22noWrap%22%3A%20false%2C%0A%20%20%20%20%20%20%20%20%22opacity%22%3A%201%2C%0A%20%20%20%20%20%20%20%20%22subdomains%22%3A%20%22abc%22%2C%0A%20%20%20%20%20%20%20%20%22tms%22%3A%20false%0A%7D%29.addTo%28map_47bd9749cf5644e0b290e306508c51fa%29%3B%0A%20%20%20%20var%20tile_layer_1adce8b455f7468d9f0e2c006e99b402%20%3D%20L.tileLayer%28%0A%20%20%20%20%20%20%20%20%27https%3A//earthengine.googleapis.com/v1alpha/projects/earthengine-legacy/maps/baa870aed032ea28b84e03ae2e4b3d89-56f076cc8ed508244ffc73daa7c882fc/tiles/%7Bz%7D/%7Bx%7D/%7By%7D%27%2C%0A%20%20%20%20%20%20%20%20%7B%0A%20%20%20%20%20%20%20%20%22attribution%22%3A%20%22Google%20Earth%20Engine%22%2C%0A%20%20%20%20%20%20%20%20%22detectRetina%22%3A%20false%2C%0A%20%20%20%20%20%20%20%20%22maxNativeZoom%22%3A%2018%2C%0A%20%20%20%20%20%20%20%20%22maxZoom%22%3A%2018%2C%0A%20%20%20%20%20%20%20%20%22minZoom%22%3A%200%2C%0A%20%20%20%20%20%20%20%20%22noWrap%22%3A%20false%2C%0A%20%20%20%20%20%20%20%20%22opacity%22%3A%201%2C%0A%20%20%20%20%20%20%20%20%22subdomains%22%3A%20%22abc%22%2C%0A%20%20%20%20%20%20%20%20%22tms%22%3A%20false%0A%7D%29.addTo%28map_47bd9749cf5644e0b290e306508c51fa%29%3B%0A%20%20%20%20%0A%20%20%20%20%20%20%20%20%20%20%20%20var%20layer_control_76f5f174d25241e883be4ad950c8fb0e%20%3D%20%7B%0A%20%20%20%20%20%20%20%20%20%20%20%20%20%20%20%20base_layers%20%3A%20%7B%20%22openstreetmap%22%20%3A%20tile_layer_f4fe6d4449234a4bba0a29ed283fa7fa%2C%20%7D%2C%0A%20%20%20%20%20%20%20%20%20%20%20%20%20%20%20%20overlays%20%3A%20%7B%20%22Google%20Satellite%22%20%3A%20tile_layer_93fefb52ef194608af1c68257b660d7c%2C%22Deforestation%20Year%22%20%3A%20tile_layer_6bf12673cff641339f446b3172eaae35%2C%22Intensity%22%20%3A%20tile_layer_c0b8780dd8524d22a63ca6334cf00353%2C%22Transition%20Map%22%20%3A%20tile_layer_b963901eae714686987e29fcc351e0f7%2C%22Landsat%20NDVI%22%20%3A%20tile_layer_3a2860ba3ade4e639b2cf39a81201309%2C%22PALSAR%22%20%3A%20tile_layer_d34a4fb3c5e44dc099c65762a26eb2c5%2C%22Sentinel-1%22%20%3A%20tile_layer_1adce8b455f7468d9f0e2c006e99b402%2C%20%7D%0A%20%20%20%20%20%20%20%20%20%20%20%20%20%20%20%20%7D%3B%0A%20%20%20%20%20%20%20%20%20%20%20%20L.control.layers%28%0A%20%20%20%20%20%20%20%20%20%20%20%20%20%20%20%20layer_control_76f5f174d25241e883be4ad950c8fb0e.base_layers%2C%0A%20%20%20%20%20%20%20%20%20%20%20%20%20%20%20%20layer_control_76f5f174d25241e883be4ad950c8fb0e.overlays%2C%0A%20%20%20%20%20%20%20%20%20%20%20%20%20%20%20%20%7Bposition%3A%20%27topright%27%2C%0A%20%20%20%20%20%20%20%20%20%20%20%20%20%20%20%20%20collapsed%3A%20true%2C%0A%20%20%20%20%20%20%20%20%20%20%20%20%20%20%20%20%20autoZIndex%3A%20true%0A%20%20%20%20%20%20%20%20%20%20%20%20%20%20%20%20%7D%29.addTo%28map_47bd9749cf5644e0b290e306508c51fa%29%3B%0A%20%20%20%20%20%20%20%20%20%20%20%20%0A%20%20%20%20%20%20%20%20%0A%3C/script%3E onload=\"this.contentDocument.open();this.contentDocument.write(    decodeURIComponent(this.getAttribute('data-html')));this.contentDocument.close();\" \"allowfullscreen\" \"webkitallowfullscreen\" \"mozallowfullscreen\"></iframe>"
            ],
            "text/plain": [
              "<branca.element.Figure at 0x7fc407ba1c90>"
            ]
          },
          "metadata": {},
          "execution_count": 11
        }
      ]
    },
    {
      "cell_type": "markdown",
      "source": [
        "# Prepare images for training/testing"
      ],
      "metadata": {
        "id": "tnnu_PrP1r8X"
      }
    },
    {
      "cell_type": "code",
      "source": [
        "# For training/testing data, we only use the SAR + NDVI\n",
        "# Also, we do normalization here based on nominal min/max values of each satellite, though it probably should have been done earlier during data loading\n",
        "train_img = train_palsar_image.rename(\"PALSAR\").unitScale(0,10000).addBands([train_sentinel_image.rename(\"Sentinel\").unitScale(-50,1), train_landsat_ndvi_image.rename(\"NDVI\").unitScale(-1,1)])\n",
        "\n",
        "test_img = test_palsar_image.rename(\"PALSAR\").unitScale(0,10000).addBands([test_sentinel_image.rename(\"Sentinel\").unitScale(-50,1), test_landsat_ndvi_image.rename(\"NDVI\").unitScale(-1,1)])\n",
        "\n",
        "# convert classes to a FeatureCollection so they can be used by supervised algorithms\n",
        "train_classes = ee.FeatureCollection(train_transition_map)\n",
        "\n",
        "test_classes = ee.FeatureCollection(test_transition_map)\n",
        "\n",
        "# visualize to make sure it is working correctly\n",
        "\n",
        "f = folium.Figure(width=1000, height=500)\n",
        "m = folium.Map(location=train_location, zoom_start=12).add_to(f)\n",
        "\n",
        "vis_params = {\n",
        "    'bands': [\"Sentinel\"],\n",
        "    'min': 0,\n",
        "    'max': 1,}\n",
        "\n",
        "m.add_ee_layer(train_img, vis_params, \"Training Image\")\n",
        "\n",
        "f\n",
        "\n"
      ],
      "metadata": {
        "colab": {
          "base_uri": "https://localhost:8080/",
          "height": 521
        },
        "id": "IIkDTopwxUeW",
        "outputId": "61aeda40-2e5b-43ef-f824-0933f233a87f"
      },
      "execution_count": 46,
      "outputs": [
        {
          "output_type": "execute_result",
          "data": {
            "text/html": [
              "<iframe src=\"about:blank\" width=\"1000\" height=\"500\"style=\"border:none !important;\" data-html=%3C%21DOCTYPE%20html%3E%0A%3Chead%3E%20%20%20%20%0A%20%20%20%20%3Cmeta%20http-equiv%3D%22content-type%22%20content%3D%22text/html%3B%20charset%3DUTF-8%22%20/%3E%0A%20%20%20%20%3Cscript%3EL_PREFER_CANVAS%3Dfalse%3B%20L_NO_TOUCH%3Dfalse%3B%20L_DISABLE_3D%3Dfalse%3B%3C/script%3E%0A%20%20%20%20%3Cscript%20src%3D%22https%3A//cdn.jsdelivr.net/npm/leaflet%401.4.0/dist/leaflet.js%22%3E%3C/script%3E%0A%20%20%20%20%3Cscript%20src%3D%22https%3A//code.jquery.com/jquery-1.12.4.min.js%22%3E%3C/script%3E%0A%20%20%20%20%3Cscript%20src%3D%22https%3A//maxcdn.bootstrapcdn.com/bootstrap/3.2.0/js/bootstrap.min.js%22%3E%3C/script%3E%0A%20%20%20%20%3Cscript%20src%3D%22https%3A//cdnjs.cloudflare.com/ajax/libs/Leaflet.awesome-markers/2.0.2/leaflet.awesome-markers.js%22%3E%3C/script%3E%0A%20%20%20%20%3Clink%20rel%3D%22stylesheet%22%20href%3D%22https%3A//cdn.jsdelivr.net/npm/leaflet%401.4.0/dist/leaflet.css%22/%3E%0A%20%20%20%20%3Clink%20rel%3D%22stylesheet%22%20href%3D%22https%3A//maxcdn.bootstrapcdn.com/bootstrap/3.2.0/css/bootstrap.min.css%22/%3E%0A%20%20%20%20%3Clink%20rel%3D%22stylesheet%22%20href%3D%22https%3A//maxcdn.bootstrapcdn.com/bootstrap/3.2.0/css/bootstrap-theme.min.css%22/%3E%0A%20%20%20%20%3Clink%20rel%3D%22stylesheet%22%20href%3D%22https%3A//maxcdn.bootstrapcdn.com/font-awesome/4.6.3/css/font-awesome.min.css%22/%3E%0A%20%20%20%20%3Clink%20rel%3D%22stylesheet%22%20href%3D%22https%3A//cdnjs.cloudflare.com/ajax/libs/Leaflet.awesome-markers/2.0.2/leaflet.awesome-markers.css%22/%3E%0A%20%20%20%20%3Clink%20rel%3D%22stylesheet%22%20href%3D%22https%3A//rawcdn.githack.com/python-visualization/folium/master/folium/templates/leaflet.awesome.rotate.css%22/%3E%0A%20%20%20%20%3Cstyle%3Ehtml%2C%20body%20%7Bwidth%3A%20100%25%3Bheight%3A%20100%25%3Bmargin%3A%200%3Bpadding%3A%200%3B%7D%3C/style%3E%0A%20%20%20%20%3Cstyle%3E%23map%20%7Bposition%3Aabsolute%3Btop%3A0%3Bbottom%3A0%3Bright%3A0%3Bleft%3A0%3B%7D%3C/style%3E%0A%20%20%20%20%0A%20%20%20%20%3Cmeta%20name%3D%22viewport%22%20content%3D%22width%3Ddevice-width%2C%0A%20%20%20%20%20%20%20%20initial-scale%3D1.0%2C%20maximum-scale%3D1.0%2C%20user-scalable%3Dno%22%20/%3E%0A%20%20%20%20%3Cstyle%3E%23map_ba092464df3d4b26a049dd36a223ad94%20%7B%0A%20%20%20%20%20%20%20%20position%3A%20relative%3B%0A%20%20%20%20%20%20%20%20width%3A%20100.0%25%3B%0A%20%20%20%20%20%20%20%20height%3A%20100.0%25%3B%0A%20%20%20%20%20%20%20%20left%3A%200.0%25%3B%0A%20%20%20%20%20%20%20%20top%3A%200.0%25%3B%0A%20%20%20%20%20%20%20%20%7D%0A%20%20%20%20%3C/style%3E%0A%3C/head%3E%0A%3Cbody%3E%20%20%20%20%0A%20%20%20%20%0A%20%20%20%20%3Cdiv%20class%3D%22folium-map%22%20id%3D%22map_ba092464df3d4b26a049dd36a223ad94%22%20%3E%3C/div%3E%0A%3C/body%3E%0A%3Cscript%3E%20%20%20%20%0A%20%20%20%20%0A%20%20%20%20%0A%20%20%20%20%20%20%20%20var%20bounds%20%3D%20null%3B%0A%20%20%20%20%0A%0A%20%20%20%20var%20map_ba092464df3d4b26a049dd36a223ad94%20%3D%20L.map%28%0A%20%20%20%20%20%20%20%20%27map_ba092464df3d4b26a049dd36a223ad94%27%2C%20%7B%0A%20%20%20%20%20%20%20%20center%3A%20%5B-10.298871585563312%2C%20-51.73530578613507%5D%2C%0A%20%20%20%20%20%20%20%20zoom%3A%2012%2C%0A%20%20%20%20%20%20%20%20maxBounds%3A%20bounds%2C%0A%20%20%20%20%20%20%20%20layers%3A%20%5B%5D%2C%0A%20%20%20%20%20%20%20%20worldCopyJump%3A%20false%2C%0A%20%20%20%20%20%20%20%20crs%3A%20L.CRS.EPSG3857%2C%0A%20%20%20%20%20%20%20%20zoomControl%3A%20true%2C%0A%20%20%20%20%20%20%20%20%7D%29%3B%0A%0A%0A%20%20%20%20%0A%20%20%20%20var%20tile_layer_c2e37370cd294b5f84d0894d74c84bae%20%3D%20L.tileLayer%28%0A%20%20%20%20%20%20%20%20%27https%3A//%7Bs%7D.tile.openstreetmap.org/%7Bz%7D/%7Bx%7D/%7By%7D.png%27%2C%0A%20%20%20%20%20%20%20%20%7B%0A%20%20%20%20%20%20%20%20%22attribution%22%3A%20null%2C%0A%20%20%20%20%20%20%20%20%22detectRetina%22%3A%20false%2C%0A%20%20%20%20%20%20%20%20%22maxNativeZoom%22%3A%2018%2C%0A%20%20%20%20%20%20%20%20%22maxZoom%22%3A%2018%2C%0A%20%20%20%20%20%20%20%20%22minZoom%22%3A%200%2C%0A%20%20%20%20%20%20%20%20%22noWrap%22%3A%20false%2C%0A%20%20%20%20%20%20%20%20%22opacity%22%3A%201%2C%0A%20%20%20%20%20%20%20%20%22subdomains%22%3A%20%22abc%22%2C%0A%20%20%20%20%20%20%20%20%22tms%22%3A%20false%0A%7D%29.addTo%28map_ba092464df3d4b26a049dd36a223ad94%29%3B%0A%20%20%20%20var%20tile_layer_47f038676690451eb969aaeadf98a72f%20%3D%20L.tileLayer%28%0A%20%20%20%20%20%20%20%20%27https%3A//earthengine.googleapis.com/v1alpha/projects/earthengine-legacy/maps/51dd9eedc72955655d30756df5a15275-26ea6b3ac70bc2dcb5cf36af09793863/tiles/%7Bz%7D/%7Bx%7D/%7By%7D%27%2C%0A%20%20%20%20%20%20%20%20%7B%0A%20%20%20%20%20%20%20%20%22attribution%22%3A%20%22Google%20Earth%20Engine%22%2C%0A%20%20%20%20%20%20%20%20%22detectRetina%22%3A%20false%2C%0A%20%20%20%20%20%20%20%20%22maxNativeZoom%22%3A%2018%2C%0A%20%20%20%20%20%20%20%20%22maxZoom%22%3A%2018%2C%0A%20%20%20%20%20%20%20%20%22minZoom%22%3A%200%2C%0A%20%20%20%20%20%20%20%20%22noWrap%22%3A%20false%2C%0A%20%20%20%20%20%20%20%20%22opacity%22%3A%201%2C%0A%20%20%20%20%20%20%20%20%22subdomains%22%3A%20%22abc%22%2C%0A%20%20%20%20%20%20%20%20%22tms%22%3A%20false%0A%7D%29.addTo%28map_ba092464df3d4b26a049dd36a223ad94%29%3B%0A%3C/script%3E onload=\"this.contentDocument.open();this.contentDocument.write(    decodeURIComponent(this.getAttribute('data-html')));this.contentDocument.close();\" \"allowfullscreen\" \"webkitallowfullscreen\" \"mozallowfullscreen\"></iframe>"
            ],
            "text/plain": [
              "<branca.element.Figure at 0x7fc405dff3d0>"
            ]
          },
          "metadata": {},
          "execution_count": 46
        }
      ]
    },
    {
      "cell_type": "markdown",
      "source": [
        "# Supervised learning"
      ],
      "metadata": {
        "id": "aSImv7mTtFSX"
      }
    },
    {
      "cell_type": "code",
      "source": [
        ""
      ],
      "metadata": {
        "id": "V1m1tM6JtIzn"
      },
      "execution_count": null,
      "outputs": []
    },
    {
      "cell_type": "markdown",
      "source": [
        "# Unsupervised learning"
      ],
      "metadata": {
        "id": "vGa5cNsOwfpX"
      }
    },
    {
      "cell_type": "code",
      "source": [
        ""
      ],
      "metadata": {
        "id": "7yJm6Sl1widv"
      },
      "execution_count": null,
      "outputs": []
    }
  ]
}