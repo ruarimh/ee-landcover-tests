{
  "nbformat": 4,
  "nbformat_minor": 0,
  "metadata": {
    "colab": {
      "name": "deforestation_prediction.ipynb",
      "provenance": [],
      "collapsed_sections": [
        "rMU60y44jvHR",
        "pGpjvXvM9iB_"
      ]
    },
    "kernelspec": {
      "name": "python3",
      "display_name": "Python 3"
    },
    "language_info": {
      "name": "python"
    }
  },
  "cells": [
    {
      "cell_type": "markdown",
      "source": [
        "# Imports and choosing test and train area of interest"
      ],
      "metadata": {
        "id": "xVMnpIUW_szV"
      }
    },
    {
      "cell_type": "code",
      "execution_count": 1,
      "metadata": {
        "id": "6w0Qdyt7yIKW"
      },
      "outputs": [],
      "source": [
        "# Imports\n",
        "import ee\n",
        "import pprint\n",
        "import folium"
      ]
    },
    {
      "cell_type": "code",
      "source": [
        "# Trigger the authentication flow.\n",
        "ee.Authenticate()\n",
        "\n",
        "# Initialize the library.\n",
        "ee.Initialize()"
      ],
      "metadata": {
        "id": "1Ek4dlsZzp5H"
      },
      "execution_count": null,
      "outputs": []
    },
    {
      "cell_type": "code",
      "source": [
        "# Get an area in Brazil using http://geojson.io\n",
        "test_geoJSON = {\n",
        "  \"type\": \"FeatureCollection\",\n",
        "  \"features\": [\n",
        "    {\n",
        "      \"type\": \"Feature\",\n",
        "      \"properties\": {},\n",
        "      \"geometry\": {\n",
        "        \"type\": \"Polygon\",\n",
        "        \"coordinates\": [\n",
        "          [\n",
        "            [\n",
        "              -50.69091796875,\n",
        "              -9.96885060854611\n",
        "            ],\n",
        "            [\n",
        "              -50.614013671875,\n",
        "              -9.96885060854611\n",
        "            ],\n",
        "            [\n",
        "              -50.614013671875,\n",
        "              -9.893098633379571\n",
        "            ],\n",
        "            [\n",
        "              -50.69091796875,\n",
        "              -9.893098633379571\n",
        "            ],\n",
        "            [\n",
        "              -50.69091796875,\n",
        "              -9.96885060854611\n",
        "            ]\n",
        "          ]\n",
        "        ]\n",
        "      }\n",
        "    }\n",
        "  ]\n",
        "}\n",
        "\n",
        "# Put coordinates into ee format\n",
        "test_coords = test_geoJSON['features'][0]['geometry']['coordinates']\n",
        "test_aoi = ee.Geometry.Polygon(test_coords)\n",
        "\n",
        "\n",
        "\n",
        "train_geoJSON = {\n",
        "  \"type\": \"FeatureCollection\",\n",
        "  \"features\": [\n",
        "    {\n",
        "      \"type\": \"Feature\",\n",
        "      \"properties\": {},\n",
        "      \"geometry\": {\n",
        "        \"type\": \"Polygon\",\n",
        "        \"coordinates\": [\n",
        "          [\n",
        "            [\n",
        "              -52.81814575195312,\n",
        "              -10.668705375726015\n",
        "            ],\n",
        "            [\n",
        "              -52.33612060546875,\n",
        "              -10.668705375726015\n",
        "            ],\n",
        "            [\n",
        "              -52.33612060546875,\n",
        "              -10.09867012060338\n",
        "            ],\n",
        "            [\n",
        "              -52.81814575195312,\n",
        "              -10.09867012060338\n",
        "            ],\n",
        "            [\n",
        "              -52.81814575195312,\n",
        "              -10.668705375726015\n",
        "            ]\n",
        "          ]\n",
        "        ]\n",
        "      }\n",
        "    }\n",
        "  ]\n",
        "}\n",
        "\n",
        "\n",
        "train_coords = train_geoJSON['features'][0]['geometry']['coordinates']\n",
        "train_aoi = ee.Geometry.Polygon(train_coords)"
      ],
      "metadata": {
        "id": "SNXcf8HwytgA"
      },
      "execution_count": 3,
      "outputs": []
    },
    {
      "cell_type": "markdown",
      "source": [
        "# Loading Vancutsem and Landsat data"
      ],
      "metadata": {
        "id": "rMU60y44jvHR"
      }
    },
    {
      "cell_type": "markdown",
      "source": [
        "Load data in testing AOI"
      ],
      "metadata": {
        "id": "DpLPl1syrFm4"
      }
    },
    {
      "cell_type": "code",
      "source": [
        "# Vancutsem data guide available at https://forobs.jrc.ec.europa.eu/TMF/download/TMF_DataUsersGuide.pdf\n",
        "\n",
        "# the year a pixel is first deforested\n",
        "test_deforestation_year = ee.ImageCollection('projects/JRC/TMF/v1_2020/DeforestationYear').select(\"DeforestationYear\").filterBounds(test_aoi)\n",
        "\n",
        "# total number of disturbances\n",
        "test_intensity = ee.ImageCollection('projects/JRC/TMF/v1_2020/Intensity').select(\"Intensity\").filterBounds(test_aoi)\n",
        "\n",
        "# transition map: which class each pixel is in\n",
        "test_transition_map = ee.ImageCollection('projects/JRC/TMF/v1_2020/TransitionMap_MainClasses').mosaic()\n",
        "# Remap Vancutsem transition map into something easier to use\n",
        "# Forest regrowth --> Undisturbed tropical moist forest, all deforested land types in one class (including ongoing deforestation)\n",
        "test_transition_map = test_transition_map.remap([10,20,30,41,42,43,50,60,70],[0,1,0,2,2,2,2,3,4]).rename(\"class\")\n",
        "# 0 = Undisturbed, 1 = Degraded, 2 = Deforested, 3 = Water, 4 = Other\n",
        "\n",
        "# PALSAR SAR data\n",
        "test_palsar = ee.ImageCollection('JAXA/ALOS/PALSAR/YEARLY/SAR').filterBounds(test_aoi).filterDate('2019-01-01', '2019-12-31')\n",
        "# check which bands are available in aoi in the most recent image (VV and VH are not available, maybe due to the direction the satellite is pointing)\n",
        "print(\"PALSAR bands: \" ,test_palsar.sort('system:time_start', False).first().clip(test_aoi).bandNames().getInfo()) \n",
        "test_palsar = test_palsar.select('HH')\n",
        "\n",
        "# Sentinel-1 SAR data (split into two lines because it is very long)\n",
        "test_sentinel = ee.ImageCollection('COPERNICUS/S1_GRD').filterBounds(test_aoi).filterDate('2019-01-01', '2019-12-31')\n",
        "# check which bands are available in aoi in the most recent image (HH and HV are not available, maybe due to the direction the satellite is pointing)\n",
        "print(\"Sentinel-1 bands: \" ,test_sentinel.sort('system:time_start', False).first().clip(test_aoi).bandNames().getInfo()) \n",
        "test_sentinel = test_sentinel.select('VV')\n",
        "\n",
        "\n",
        "\n",
        "# Landsat 8 data: we only use 2019 data\n",
        "test_landsat = ee.ImageCollection('LANDSAT/LC08/C01/T1_TOA').filterBounds(test_aoi).filterDate('2019-01-01', '2019-12-31')\n",
        "\n",
        "# function to compute NDVI\n",
        "def calculate_NDVI(image):\n",
        "    ndvi = image.normalizedDifference(['B5', 'B4']).rename('NDVI')\n",
        "    return image.addBands(ndvi)\n",
        "\n",
        "# compute NDVI\n",
        "test_landsat_ndvi = test_landsat.map(calculate_NDVI).select('NDVI')\n",
        "\n",
        "\n"
      ],
      "metadata": {
        "id": "LiPLawbzjtPJ",
        "colab": {
          "base_uri": "https://localhost:8080/"
        },
        "outputId": "8099d7ef-d4d5-4d08-85cb-53a1911c21ae"
      },
      "execution_count": 4,
      "outputs": [
        {
          "output_type": "stream",
          "name": "stdout",
          "text": [
            "PALSAR bands:  ['HH', 'HV', 'angle', 'date', 'qa']\n",
            "Sentinel-1 bands:  ['VV', 'VH', 'angle']\n"
          ]
        }
      ]
    },
    {
      "cell_type": "markdown",
      "source": [
        "Load data in training aoi"
      ],
      "metadata": {
        "id": "A-wezjYCrKEw"
      }
    },
    {
      "cell_type": "code",
      "source": [
        "# Copy/pasting code like this is not ideal, but having different variable names at least means data leakage is impossible\n",
        "\n",
        "# Vancutsem data guide available at https://forobs.jrc.ec.europa.eu/TMF/download/TMF_DataUsersGuide.pdf\n",
        "\n",
        "# the year a pixel is first deforested\n",
        "train_deforestation_year = ee.ImageCollection('projects/JRC/TMF/v1_2020/DeforestationYear').select(\"DeforestationYear\").filterBounds(train_aoi)\n",
        "\n",
        "# total number of disturbances\n",
        "train_intensity = ee.ImageCollection('projects/JRC/TMF/v1_2020/Intensity').select(\"Intensity\").filterBounds(train_aoi)\n",
        "\n",
        "# transition map: which class each pixel is in\n",
        "train_transition_map = ee.ImageCollection('projects/JRC/TMF/v1_2020/TransitionMap_MainClasses').mosaic()\n",
        "# Remap Vancutsem transition map into something easier to use\n",
        "# Forest regrowth --> Undisturbed tropical moist forest, all deforested land types in one class (including ongoing deforestation)\n",
        "train_transition_map = train_transition_map.remap([10,20,30,41,42,43,50,60,70],[0,1,0,2,2,2,2,3,4]).rename(\"class\")\n",
        "# 0 = Undisturbed, 1 = Degraded, 2 = Deforested, 3 = Water, 4 = Other\n",
        "\n",
        "# PALSAR SAR data\n",
        "train_palsar = ee.ImageCollection('JAXA/ALOS/PALSAR/YEARLY/SAR').filterBounds(train_aoi).filterDate('2019-01-01', '2019-12-31')\n",
        "# check which bands are available in aoi in the most recent image (VV and VH are not available, maybe due to the direction the satellite is pointing)\n",
        "print(\"PALSAR bands: \" ,train_palsar.sort('system:time_start', False).first().clip(train_aoi).bandNames().getInfo()) \n",
        "train_palsar = train_palsar.select('HH')\n",
        "\n",
        "# Sentinel-1 SAR data (split into two lines because it is very long)\n",
        "train_sentinel = ee.ImageCollection('COPERNICUS/S1_GRD').filterBounds(train_aoi).filterDate('2019-01-01', '2019-12-31')\n",
        "# check which bands are available in aoi in the most recent image (HH and HV are not available, maybe due to the direction the satellite is pointing)\n",
        "print(\"Sentinel-1 bands: \" ,train_sentinel.sort('system:time_start', False).first().clip(train_aoi).bandNames().getInfo()) \n",
        "train_sentinel = train_sentinel.select('VV')\n",
        "\n",
        "\n",
        "\n",
        "# Landsat 8 data: we only use 2019 data\n",
        "train_landsat = ee.ImageCollection('LANDSAT/LC08/C01/T1_TOA').filterBounds(train_aoi).filterDate('2019-01-01', '2019-12-31')\n",
        "\n",
        "# function to compute NDVI\n",
        "def calculate_NDVI(image):\n",
        "    ndvi = image.normalizedDifference(['B5', 'B4']).rename('NDVI')\n",
        "    return image.addBands(ndvi)\n",
        "\n",
        "# compute NDVI\n",
        "train_landsat_ndvi = train_landsat.map(calculate_NDVI).select('NDVI')\n"
      ],
      "metadata": {
        "colab": {
          "base_uri": "https://localhost:8080/"
        },
        "id": "5GmmOKXKrJSA",
        "outputId": "ae4f84fe-3f6a-4938-e504-9963658f8b42"
      },
      "execution_count": 5,
      "outputs": [
        {
          "output_type": "stream",
          "name": "stdout",
          "text": [
            "PALSAR bands:  ['HH', 'HV', 'angle', 'date', 'qa']\n",
            "Sentinel-1 bands:  ['VV', 'VH', 'angle']\n"
          ]
        }
      ]
    },
    {
      "cell_type": "markdown",
      "source": [
        "# Folium functions"
      ],
      "metadata": {
        "id": "pGpjvXvM9iB_"
      }
    },
    {
      "cell_type": "code",
      "source": [
        "# Add custom basemaps to folium\n",
        "basemaps = {\n",
        "    'Google Maps': folium.TileLayer(\n",
        "        tiles = 'https://mt1.google.com/vt/lyrs=m&x={x}&y={y}&z={z}',\n",
        "        attr = 'Google',\n",
        "        name = 'Google Maps',\n",
        "        overlay = True,\n",
        "        control = True\n",
        "    ),\n",
        "    'Google Satellite': folium.TileLayer(\n",
        "        tiles = 'https://mt1.google.com/vt/lyrs=s&x={x}&y={y}&z={z}',\n",
        "        attr = 'Google',\n",
        "        name = 'Google Satellite',\n",
        "        overlay = True,\n",
        "        control = True\n",
        "    ),\n",
        "    'Google Terrain': folium.TileLayer(\n",
        "        tiles = 'https://mt1.google.com/vt/lyrs=p&x={x}&y={y}&z={z}',\n",
        "        attr = 'Google',\n",
        "        name = 'Google Terrain',\n",
        "        overlay = True,\n",
        "        control = True\n",
        "    ),\n",
        "    'Google Satellite Hybrid': folium.TileLayer(\n",
        "        tiles = 'https://mt1.google.com/vt/lyrs=y&x={x}&y={y}&z={z}',\n",
        "        attr = 'Google',\n",
        "        name = 'Google Satellite',\n",
        "        overlay = True,\n",
        "        control = True\n",
        "    ),\n",
        "    'Esri Satellite': folium.TileLayer(\n",
        "        tiles = 'https://server.arcgisonline.com/ArcGIS/rest/services/World_Imagery/MapServer/tile/{z}/{y}/{x}',\n",
        "        attr = 'Esri',\n",
        "        name = 'Esri Satellite',\n",
        "        overlay = True,\n",
        "        control = True\n",
        "    )\n",
        "}"
      ],
      "metadata": {
        "id": "W8EoDNun5-tu"
      },
      "execution_count": 6,
      "outputs": []
    },
    {
      "cell_type": "code",
      "source": [
        "# Define a method for displaying Earth Engine image tiles on a folium map.\n",
        "def add_ee_layer(self, ee_object, vis_params, name):\n",
        "    \n",
        "        # display ee.Image()\n",
        "        if isinstance(ee_object, ee.image.Image):    \n",
        "            map_id_dict = ee.Image(ee_object).getMapId(vis_params)\n",
        "            folium.raster_layers.TileLayer(\n",
        "            tiles = map_id_dict['tile_fetcher'].url_format,\n",
        "            attr = 'Google Earth Engine',\n",
        "            name = name,\n",
        "            overlay = True,\n",
        "            control = True\n",
        "            ).add_to(self)\n",
        "        # display ee.ImageCollection()\n",
        "        elif isinstance(ee_object, ee.imagecollection.ImageCollection):    \n",
        "            ee_object_new = ee_object.mosaic()\n",
        "            map_id_dict = ee.Image(ee_object_new).getMapId(vis_params)\n",
        "            folium.raster_layers.TileLayer(\n",
        "            tiles = map_id_dict['tile_fetcher'].url_format,\n",
        "            attr = 'Google Earth Engine',\n",
        "            name = name,\n",
        "            overlay = True,\n",
        "            control = True\n",
        "            ).add_to(self)\n",
        "        # display ee.Geometry()\n",
        "        elif isinstance(ee_object, ee.geometry.Geometry):    \n",
        "            folium.GeoJson(\n",
        "            data = ee_object.getInfo(),\n",
        "            name = name,\n",
        "            overlay = True,\n",
        "            control = True\n",
        "        ).add_to(self)\n",
        "        # display ee.FeatureCollection()\n",
        "        elif isinstance(ee_object, ee.featurecollection.FeatureCollection):  \n",
        "            ee_object_new = ee.Image().paint(ee_object, 0, 2)\n",
        "            map_id_dict = ee.Image(ee_object_new).getMapId(vis_params)\n",
        "            folium.raster_layers.TileLayer(\n",
        "            tiles = map_id_dict['tile_fetcher'].url_format,\n",
        "            attr = 'Google Earth Engine',\n",
        "            name = name,\n",
        "            overlay = True,\n",
        "            control = True\n",
        "        ).add_to(self)\n",
        "    \n",
        "    \n",
        "# Add EE drawing method to folium.\n",
        "folium.Map.add_ee_layer = add_ee_layer"
      ],
      "metadata": {
        "id": "5OqzCbnF5jG-"
      },
      "execution_count": 7,
      "outputs": []
    },
    {
      "cell_type": "code",
      "source": [
        "#converts rgb value to hex\n",
        "def rgb(r, g, b):\n",
        "  return ('#%02x%02x%02x' % (r, g, b))"
      ],
      "metadata": {
        "id": "GbKdEfLDhzZQ"
      },
      "execution_count": 8,
      "outputs": []
    },
    {
      "cell_type": "markdown",
      "source": [
        "# Visualize the training set map"
      ],
      "metadata": {
        "id": "sooUZK6cvFZn"
      }
    },
    {
      "cell_type": "code",
      "source": [
        "# Get one image from the deforestation year collection, and remove values where no deforestation has occurred\n",
        "train_deforestation_year_image = train_deforestation_year.first().clip(train_aoi)\n",
        "train_deforestation_year_image = train_deforestation_year_image.updateMask(train_deforestation_year_image.neq(0))\n",
        "\n",
        "# Convert to folium coordinates\n",
        "train_location = train_aoi.centroid().coordinates().getInfo()[::-1]\n",
        "\n",
        "# Colour parameters for deforestation_year\n",
        "vis_params = {\n",
        "'min': 1982,\n",
        "'max': 2020,\n",
        "\"palette\": [rgb(40,146,199), rgb(179,8,0)]}\n",
        "\n",
        "# Create the map object.\n",
        "f = folium.Figure(width=1000, height=500)\n",
        "m = folium.Map(location=train_location, zoom_start=12).add_to(f)\n",
        "\n",
        "# add satellite imagery\n",
        "basemaps['Google Satellite Hybrid'].add_to(m)\n",
        "\n",
        "# Add the deforestation year to the map\n",
        "m.add_ee_layer(train_deforestation_year_image, vis_params, 'Deforestation Year')\n",
        "\n",
        "\n",
        "\n",
        "# Get one image from the intensity collection\n",
        "train_intensity_image = train_intensity.first().clip(train_aoi)\n",
        "\n",
        "# Colour parameters for intensity\n",
        "vis_params = {\n",
        "'min': 1,\n",
        "'max': 500,\n",
        "\"palette\": [rgb(0,128,0), rgb(255,0,0)]}\n",
        "\n",
        "# Add the intensity to the map\n",
        "m.add_ee_layer(train_intensity_image, vis_params, 'Intensity')\n",
        "\n",
        "\n",
        "\n",
        "\n",
        "# Get one image from the transition map collection\n",
        "train_transition_map_image = train_transition_map.clip(train_aoi)\n",
        "\n",
        "# Colour parameters for transition map\n",
        "vis_params = {\n",
        "\"palette\": [rgb(0,80,0), rgb(210,250,60 ), rgb(255,230,100 ), rgb(0,70,160 ), rgb(255,255,255)]}\n",
        "\n",
        "# Add the transition map to the map\n",
        "m.add_ee_layer(train_transition_map_image, vis_params, 'Transition Map')\n",
        "\n",
        "\n",
        "\n",
        "\n",
        "# Get one image from the 2019 landsat NDVI collection with the least clouds\n",
        "train_landsat_ndvi_image = train_landsat_ndvi.sort('CLOUD_COVER').first().clip(train_aoi) #2019 image is not blank, but when using .filterDate('2014-01-01', '2020-01-01') it was blank... why?\n",
        "\n",
        "# Colour parameters for NDVI\n",
        "vis_params = {\n",
        "    'min': -1,\n",
        "    'max': 1,\n",
        "    \"palette\": [rgb(255, 255, 204), rgb(0, 153, 0)]}\n",
        "\n",
        "# Add the NDVI to the map\n",
        "m.add_ee_layer(train_landsat_ndvi_image, vis_params, 'Landsat NDVI')\n",
        "\n",
        "\n",
        "\n",
        "# Get one image of the most recent PALSAR data\n",
        "train_palsar_image = train_palsar.sort('system:time_start', False).first().clip(train_aoi)\n",
        "\n",
        "# Colour parameters for PALSAR\n",
        "vis_params = {\n",
        "    'min': 0,\n",
        "    'max': 10000,}\n",
        "\n",
        "# Add the PALSAR to the map\n",
        "m.add_ee_layer(train_palsar_image, vis_params, 'PALSAR')\n",
        "\n",
        "\n",
        "\n",
        "\n",
        "# Get one image of the most recent Sentinel data\n",
        "train_sentinel_image = train_sentinel.mosaic().clip(train_aoi)\n",
        "\n",
        "# Colour parameters for Sentinel\n",
        "vis_params = {\n",
        "    'min': -50,\n",
        "    'max': 1,}\n",
        "\n",
        "# Add the Sentinel to the map\n",
        "m.add_ee_layer(train_sentinel_image, vis_params, 'Sentinel-1')\n",
        "\n",
        "\n",
        "\n",
        "\n",
        "# Add a layer control panel to the map.\n",
        "m.add_child(folium.LayerControl())\n",
        "\n",
        "# Display the map.\n",
        "f"
      ],
      "metadata": {
        "colab": {
          "base_uri": "https://localhost:8080/",
          "height": 521
        },
        "id": "QdmtRSYqvEcf",
        "outputId": "60c0b6a2-e296-485b-b078-813d64837c67"
      },
      "execution_count": 9,
      "outputs": [
        {
          "output_type": "execute_result",
          "data": {
            "text/html": [
              "<iframe src=\"about:blank\" width=\"1000\" height=\"500\"style=\"border:none !important;\" data-html=%3C%21DOCTYPE%20html%3E%0A%3Chead%3E%20%20%20%20%0A%20%20%20%20%3Cmeta%20http-equiv%3D%22content-type%22%20content%3D%22text/html%3B%20charset%3DUTF-8%22%20/%3E%0A%20%20%20%20%3Cscript%3EL_PREFER_CANVAS%3Dfalse%3B%20L_NO_TOUCH%3Dfalse%3B%20L_DISABLE_3D%3Dfalse%3B%3C/script%3E%0A%20%20%20%20%3Cscript%20src%3D%22https%3A//cdn.jsdelivr.net/npm/leaflet%401.4.0/dist/leaflet.js%22%3E%3C/script%3E%0A%20%20%20%20%3Cscript%20src%3D%22https%3A//code.jquery.com/jquery-1.12.4.min.js%22%3E%3C/script%3E%0A%20%20%20%20%3Cscript%20src%3D%22https%3A//maxcdn.bootstrapcdn.com/bootstrap/3.2.0/js/bootstrap.min.js%22%3E%3C/script%3E%0A%20%20%20%20%3Cscript%20src%3D%22https%3A//cdnjs.cloudflare.com/ajax/libs/Leaflet.awesome-markers/2.0.2/leaflet.awesome-markers.js%22%3E%3C/script%3E%0A%20%20%20%20%3Clink%20rel%3D%22stylesheet%22%20href%3D%22https%3A//cdn.jsdelivr.net/npm/leaflet%401.4.0/dist/leaflet.css%22/%3E%0A%20%20%20%20%3Clink%20rel%3D%22stylesheet%22%20href%3D%22https%3A//maxcdn.bootstrapcdn.com/bootstrap/3.2.0/css/bootstrap.min.css%22/%3E%0A%20%20%20%20%3Clink%20rel%3D%22stylesheet%22%20href%3D%22https%3A//maxcdn.bootstrapcdn.com/bootstrap/3.2.0/css/bootstrap-theme.min.css%22/%3E%0A%20%20%20%20%3Clink%20rel%3D%22stylesheet%22%20href%3D%22https%3A//maxcdn.bootstrapcdn.com/font-awesome/4.6.3/css/font-awesome.min.css%22/%3E%0A%20%20%20%20%3Clink%20rel%3D%22stylesheet%22%20href%3D%22https%3A//cdnjs.cloudflare.com/ajax/libs/Leaflet.awesome-markers/2.0.2/leaflet.awesome-markers.css%22/%3E%0A%20%20%20%20%3Clink%20rel%3D%22stylesheet%22%20href%3D%22https%3A//rawcdn.githack.com/python-visualization/folium/master/folium/templates/leaflet.awesome.rotate.css%22/%3E%0A%20%20%20%20%3Cstyle%3Ehtml%2C%20body%20%7Bwidth%3A%20100%25%3Bheight%3A%20100%25%3Bmargin%3A%200%3Bpadding%3A%200%3B%7D%3C/style%3E%0A%20%20%20%20%3Cstyle%3E%23map%20%7Bposition%3Aabsolute%3Btop%3A0%3Bbottom%3A0%3Bright%3A0%3Bleft%3A0%3B%7D%3C/style%3E%0A%20%20%20%20%0A%20%20%20%20%3Cmeta%20name%3D%22viewport%22%20content%3D%22width%3Ddevice-width%2C%0A%20%20%20%20%20%20%20%20initial-scale%3D1.0%2C%20maximum-scale%3D1.0%2C%20user-scalable%3Dno%22%20/%3E%0A%20%20%20%20%3Cstyle%3E%23map_a022f6e8134e4dcaa064a8c9e8a53592%20%7B%0A%20%20%20%20%20%20%20%20position%3A%20relative%3B%0A%20%20%20%20%20%20%20%20width%3A%20100.0%25%3B%0A%20%20%20%20%20%20%20%20height%3A%20100.0%25%3B%0A%20%20%20%20%20%20%20%20left%3A%200.0%25%3B%0A%20%20%20%20%20%20%20%20top%3A%200.0%25%3B%0A%20%20%20%20%20%20%20%20%7D%0A%20%20%20%20%3C/style%3E%0A%3C/head%3E%0A%3Cbody%3E%20%20%20%20%0A%20%20%20%20%0A%20%20%20%20%3Cdiv%20class%3D%22folium-map%22%20id%3D%22map_a022f6e8134e4dcaa064a8c9e8a53592%22%20%3E%3C/div%3E%0A%3C/body%3E%0A%3Cscript%3E%20%20%20%20%0A%20%20%20%20%0A%20%20%20%20%0A%20%20%20%20%20%20%20%20var%20bounds%20%3D%20null%3B%0A%20%20%20%20%0A%0A%20%20%20%20var%20map_a022f6e8134e4dcaa064a8c9e8a53592%20%3D%20L.map%28%0A%20%20%20%20%20%20%20%20%27map_a022f6e8134e4dcaa064a8c9e8a53592%27%2C%20%7B%0A%20%20%20%20%20%20%20%20center%3A%20%5B-10.38369101128682%2C%20-52.577133178711705%5D%2C%0A%20%20%20%20%20%20%20%20zoom%3A%2012%2C%0A%20%20%20%20%20%20%20%20maxBounds%3A%20bounds%2C%0A%20%20%20%20%20%20%20%20layers%3A%20%5B%5D%2C%0A%20%20%20%20%20%20%20%20worldCopyJump%3A%20false%2C%0A%20%20%20%20%20%20%20%20crs%3A%20L.CRS.EPSG3857%2C%0A%20%20%20%20%20%20%20%20zoomControl%3A%20true%2C%0A%20%20%20%20%20%20%20%20%7D%29%3B%0A%0A%0A%20%20%20%20%0A%20%20%20%20var%20tile_layer_24c179e5ebb54fc2bf265e31a715de2c%20%3D%20L.tileLayer%28%0A%20%20%20%20%20%20%20%20%27https%3A//%7Bs%7D.tile.openstreetmap.org/%7Bz%7D/%7Bx%7D/%7By%7D.png%27%2C%0A%20%20%20%20%20%20%20%20%7B%0A%20%20%20%20%20%20%20%20%22attribution%22%3A%20null%2C%0A%20%20%20%20%20%20%20%20%22detectRetina%22%3A%20false%2C%0A%20%20%20%20%20%20%20%20%22maxNativeZoom%22%3A%2018%2C%0A%20%20%20%20%20%20%20%20%22maxZoom%22%3A%2018%2C%0A%20%20%20%20%20%20%20%20%22minZoom%22%3A%200%2C%0A%20%20%20%20%20%20%20%20%22noWrap%22%3A%20false%2C%0A%20%20%20%20%20%20%20%20%22opacity%22%3A%201%2C%0A%20%20%20%20%20%20%20%20%22subdomains%22%3A%20%22abc%22%2C%0A%20%20%20%20%20%20%20%20%22tms%22%3A%20false%0A%7D%29.addTo%28map_a022f6e8134e4dcaa064a8c9e8a53592%29%3B%0A%20%20%20%20var%20tile_layer_c98cce28559c4d1485326ac5e4d3202f%20%3D%20L.tileLayer%28%0A%20%20%20%20%20%20%20%20%27https%3A//mt1.google.com/vt/lyrs%3Dy%26x%3D%7Bx%7D%26y%3D%7By%7D%26z%3D%7Bz%7D%27%2C%0A%20%20%20%20%20%20%20%20%7B%0A%20%20%20%20%20%20%20%20%22attribution%22%3A%20%22Google%22%2C%0A%20%20%20%20%20%20%20%20%22detectRetina%22%3A%20false%2C%0A%20%20%20%20%20%20%20%20%22maxNativeZoom%22%3A%2018%2C%0A%20%20%20%20%20%20%20%20%22maxZoom%22%3A%2018%2C%0A%20%20%20%20%20%20%20%20%22minZoom%22%3A%200%2C%0A%20%20%20%20%20%20%20%20%22noWrap%22%3A%20false%2C%0A%20%20%20%20%20%20%20%20%22opacity%22%3A%201%2C%0A%20%20%20%20%20%20%20%20%22subdomains%22%3A%20%22abc%22%2C%0A%20%20%20%20%20%20%20%20%22tms%22%3A%20false%0A%7D%29.addTo%28map_a022f6e8134e4dcaa064a8c9e8a53592%29%3B%0A%20%20%20%20var%20tile_layer_2132c0f209da4cc0bb587ef3de0ed848%20%3D%20L.tileLayer%28%0A%20%20%20%20%20%20%20%20%27https%3A//earthengine.googleapis.com/v1alpha/projects/earthengine-legacy/maps/a2f4f6550b6818d89ce0f5ff1535f913-06ab59c6f789fea9897f9c0078f0c63b/tiles/%7Bz%7D/%7Bx%7D/%7By%7D%27%2C%0A%20%20%20%20%20%20%20%20%7B%0A%20%20%20%20%20%20%20%20%22attribution%22%3A%20%22Google%20Earth%20Engine%22%2C%0A%20%20%20%20%20%20%20%20%22detectRetina%22%3A%20false%2C%0A%20%20%20%20%20%20%20%20%22maxNativeZoom%22%3A%2018%2C%0A%20%20%20%20%20%20%20%20%22maxZoom%22%3A%2018%2C%0A%20%20%20%20%20%20%20%20%22minZoom%22%3A%200%2C%0A%20%20%20%20%20%20%20%20%22noWrap%22%3A%20false%2C%0A%20%20%20%20%20%20%20%20%22opacity%22%3A%201%2C%0A%20%20%20%20%20%20%20%20%22subdomains%22%3A%20%22abc%22%2C%0A%20%20%20%20%20%20%20%20%22tms%22%3A%20false%0A%7D%29.addTo%28map_a022f6e8134e4dcaa064a8c9e8a53592%29%3B%0A%20%20%20%20var%20tile_layer_bf779235316d459f87cf9ae00b31b843%20%3D%20L.tileLayer%28%0A%20%20%20%20%20%20%20%20%27https%3A//earthengine.googleapis.com/v1alpha/projects/earthengine-legacy/maps/0f7cade52e3f6be307ebf81a04c86f6b-35e71f6d7f02e23197a517a459c120e3/tiles/%7Bz%7D/%7Bx%7D/%7By%7D%27%2C%0A%20%20%20%20%20%20%20%20%7B%0A%20%20%20%20%20%20%20%20%22attribution%22%3A%20%22Google%20Earth%20Engine%22%2C%0A%20%20%20%20%20%20%20%20%22detectRetina%22%3A%20false%2C%0A%20%20%20%20%20%20%20%20%22maxNativeZoom%22%3A%2018%2C%0A%20%20%20%20%20%20%20%20%22maxZoom%22%3A%2018%2C%0A%20%20%20%20%20%20%20%20%22minZoom%22%3A%200%2C%0A%20%20%20%20%20%20%20%20%22noWrap%22%3A%20false%2C%0A%20%20%20%20%20%20%20%20%22opacity%22%3A%201%2C%0A%20%20%20%20%20%20%20%20%22subdomains%22%3A%20%22abc%22%2C%0A%20%20%20%20%20%20%20%20%22tms%22%3A%20false%0A%7D%29.addTo%28map_a022f6e8134e4dcaa064a8c9e8a53592%29%3B%0A%20%20%20%20var%20tile_layer_12626a21d8e047d0a05cef8889241997%20%3D%20L.tileLayer%28%0A%20%20%20%20%20%20%20%20%27https%3A//earthengine.googleapis.com/v1alpha/projects/earthengine-legacy/maps/3ffb839166803930855d991446a5da51-d76ccc641caa4f00024695d6b3e20744/tiles/%7Bz%7D/%7Bx%7D/%7By%7D%27%2C%0A%20%20%20%20%20%20%20%20%7B%0A%20%20%20%20%20%20%20%20%22attribution%22%3A%20%22Google%20Earth%20Engine%22%2C%0A%20%20%20%20%20%20%20%20%22detectRetina%22%3A%20false%2C%0A%20%20%20%20%20%20%20%20%22maxNativeZoom%22%3A%2018%2C%0A%20%20%20%20%20%20%20%20%22maxZoom%22%3A%2018%2C%0A%20%20%20%20%20%20%20%20%22minZoom%22%3A%200%2C%0A%20%20%20%20%20%20%20%20%22noWrap%22%3A%20false%2C%0A%20%20%20%20%20%20%20%20%22opacity%22%3A%201%2C%0A%20%20%20%20%20%20%20%20%22subdomains%22%3A%20%22abc%22%2C%0A%20%20%20%20%20%20%20%20%22tms%22%3A%20false%0A%7D%29.addTo%28map_a022f6e8134e4dcaa064a8c9e8a53592%29%3B%0A%20%20%20%20var%20tile_layer_5ec003a576e34717ac82f5519f4207a7%20%3D%20L.tileLayer%28%0A%20%20%20%20%20%20%20%20%27https%3A//earthengine.googleapis.com/v1alpha/projects/earthengine-legacy/maps/db0039e3642825cae2ddfd39aced693a-3b282711ababbb215bb7050c77c2e580/tiles/%7Bz%7D/%7Bx%7D/%7By%7D%27%2C%0A%20%20%20%20%20%20%20%20%7B%0A%20%20%20%20%20%20%20%20%22attribution%22%3A%20%22Google%20Earth%20Engine%22%2C%0A%20%20%20%20%20%20%20%20%22detectRetina%22%3A%20false%2C%0A%20%20%20%20%20%20%20%20%22maxNativeZoom%22%3A%2018%2C%0A%20%20%20%20%20%20%20%20%22maxZoom%22%3A%2018%2C%0A%20%20%20%20%20%20%20%20%22minZoom%22%3A%200%2C%0A%20%20%20%20%20%20%20%20%22noWrap%22%3A%20false%2C%0A%20%20%20%20%20%20%20%20%22opacity%22%3A%201%2C%0A%20%20%20%20%20%20%20%20%22subdomains%22%3A%20%22abc%22%2C%0A%20%20%20%20%20%20%20%20%22tms%22%3A%20false%0A%7D%29.addTo%28map_a022f6e8134e4dcaa064a8c9e8a53592%29%3B%0A%20%20%20%20var%20tile_layer_8480201d577e4c3ca1cdebf92982fc96%20%3D%20L.tileLayer%28%0A%20%20%20%20%20%20%20%20%27https%3A//earthengine.googleapis.com/v1alpha/projects/earthengine-legacy/maps/bb912034e049459d972b3bd3eb639a0d-383f7c8a0124d552316ba7ea1fc7e2ab/tiles/%7Bz%7D/%7Bx%7D/%7By%7D%27%2C%0A%20%20%20%20%20%20%20%20%7B%0A%20%20%20%20%20%20%20%20%22attribution%22%3A%20%22Google%20Earth%20Engine%22%2C%0A%20%20%20%20%20%20%20%20%22detectRetina%22%3A%20false%2C%0A%20%20%20%20%20%20%20%20%22maxNativeZoom%22%3A%2018%2C%0A%20%20%20%20%20%20%20%20%22maxZoom%22%3A%2018%2C%0A%20%20%20%20%20%20%20%20%22minZoom%22%3A%200%2C%0A%20%20%20%20%20%20%20%20%22noWrap%22%3A%20false%2C%0A%20%20%20%20%20%20%20%20%22opacity%22%3A%201%2C%0A%20%20%20%20%20%20%20%20%22subdomains%22%3A%20%22abc%22%2C%0A%20%20%20%20%20%20%20%20%22tms%22%3A%20false%0A%7D%29.addTo%28map_a022f6e8134e4dcaa064a8c9e8a53592%29%3B%0A%20%20%20%20var%20tile_layer_6a65c5180ab24f5d8524104a6d399ded%20%3D%20L.tileLayer%28%0A%20%20%20%20%20%20%20%20%27https%3A//earthengine.googleapis.com/v1alpha/projects/earthengine-legacy/maps/430ba337460f0e08f38a3f34ee0cdc7f-62a0e3862ae2b85f59fcf8f6be2d776a/tiles/%7Bz%7D/%7Bx%7D/%7By%7D%27%2C%0A%20%20%20%20%20%20%20%20%7B%0A%20%20%20%20%20%20%20%20%22attribution%22%3A%20%22Google%20Earth%20Engine%22%2C%0A%20%20%20%20%20%20%20%20%22detectRetina%22%3A%20false%2C%0A%20%20%20%20%20%20%20%20%22maxNativeZoom%22%3A%2018%2C%0A%20%20%20%20%20%20%20%20%22maxZoom%22%3A%2018%2C%0A%20%20%20%20%20%20%20%20%22minZoom%22%3A%200%2C%0A%20%20%20%20%20%20%20%20%22noWrap%22%3A%20false%2C%0A%20%20%20%20%20%20%20%20%22opacity%22%3A%201%2C%0A%20%20%20%20%20%20%20%20%22subdomains%22%3A%20%22abc%22%2C%0A%20%20%20%20%20%20%20%20%22tms%22%3A%20false%0A%7D%29.addTo%28map_a022f6e8134e4dcaa064a8c9e8a53592%29%3B%0A%20%20%20%20%0A%20%20%20%20%20%20%20%20%20%20%20%20var%20layer_control_9ded2fdee9b041d99ef3b077ee517ba3%20%3D%20%7B%0A%20%20%20%20%20%20%20%20%20%20%20%20%20%20%20%20base_layers%20%3A%20%7B%20%22openstreetmap%22%20%3A%20tile_layer_24c179e5ebb54fc2bf265e31a715de2c%2C%20%7D%2C%0A%20%20%20%20%20%20%20%20%20%20%20%20%20%20%20%20overlays%20%3A%20%7B%20%22Google%20Satellite%22%20%3A%20tile_layer_c98cce28559c4d1485326ac5e4d3202f%2C%22Deforestation%20Year%22%20%3A%20tile_layer_2132c0f209da4cc0bb587ef3de0ed848%2C%22Intensity%22%20%3A%20tile_layer_bf779235316d459f87cf9ae00b31b843%2C%22Transition%20Map%22%20%3A%20tile_layer_12626a21d8e047d0a05cef8889241997%2C%22Landsat%20NDVI%22%20%3A%20tile_layer_5ec003a576e34717ac82f5519f4207a7%2C%22PALSAR%22%20%3A%20tile_layer_8480201d577e4c3ca1cdebf92982fc96%2C%22Sentinel-1%22%20%3A%20tile_layer_6a65c5180ab24f5d8524104a6d399ded%2C%20%7D%0A%20%20%20%20%20%20%20%20%20%20%20%20%20%20%20%20%7D%3B%0A%20%20%20%20%20%20%20%20%20%20%20%20L.control.layers%28%0A%20%20%20%20%20%20%20%20%20%20%20%20%20%20%20%20layer_control_9ded2fdee9b041d99ef3b077ee517ba3.base_layers%2C%0A%20%20%20%20%20%20%20%20%20%20%20%20%20%20%20%20layer_control_9ded2fdee9b041d99ef3b077ee517ba3.overlays%2C%0A%20%20%20%20%20%20%20%20%20%20%20%20%20%20%20%20%7Bposition%3A%20%27topright%27%2C%0A%20%20%20%20%20%20%20%20%20%20%20%20%20%20%20%20%20collapsed%3A%20true%2C%0A%20%20%20%20%20%20%20%20%20%20%20%20%20%20%20%20%20autoZIndex%3A%20true%0A%20%20%20%20%20%20%20%20%20%20%20%20%20%20%20%20%7D%29.addTo%28map_a022f6e8134e4dcaa064a8c9e8a53592%29%3B%0A%20%20%20%20%20%20%20%20%20%20%20%20%0A%20%20%20%20%20%20%20%20%0A%3C/script%3E onload=\"this.contentDocument.open();this.contentDocument.write(    decodeURIComponent(this.getAttribute('data-html')));this.contentDocument.close();\" \"allowfullscreen\" \"webkitallowfullscreen\" \"mozallowfullscreen\"></iframe>"
            ],
            "text/plain": [
              "<branca.element.Figure at 0x7fdfea4f0090>"
            ]
          },
          "metadata": {},
          "execution_count": 9
        }
      ]
    },
    {
      "cell_type": "markdown",
      "source": [
        "# Visualize the test set map"
      ],
      "metadata": {
        "id": "X7RTG6Dj9ppF"
      }
    },
    {
      "cell_type": "code",
      "source": [
        "# Get one image from the deforestation year collection, and remove values where no deforestation has occurred\n",
        "test_deforestation_year_image = test_deforestation_year.first().clip(test_aoi)\n",
        "test_deforestation_year_image = test_deforestation_year_image.updateMask(test_deforestation_year_image.neq(0))\n",
        "\n",
        "# Convert to folium coordinates\n",
        "test_location = test_aoi.centroid().coordinates().getInfo()[::-1]\n",
        "\n",
        "# Colour parameters for deforestation_year\n",
        "vis_params = {\n",
        "'min': 1982,\n",
        "'max': 2020,\n",
        "#\"palette\": [\"#2892c7\", \"#b30800\"]}\n",
        "\"palette\": [rgb(40,146,199), rgb(179,8,0)]}\n",
        "\n",
        "# Create the map object.\n",
        "f = folium.Figure(width=1000, height=500)\n",
        "m = folium.Map(location=test_location, zoom_start=12).add_to(f)\n",
        "\n",
        "# add satellite imagery\n",
        "basemaps['Google Satellite Hybrid'].add_to(m)\n",
        "\n",
        "# Add the deforestation year to the map\n",
        "m.add_ee_layer(test_deforestation_year_image, vis_params, 'Deforestation Year')\n",
        "\n",
        "\n",
        "\n",
        "# Get one image from the intensity collection\n",
        "test_intensity_image = test_intensity.first().clip(test_aoi)\n",
        "\n",
        "# Colour parameters for intensity\n",
        "vis_params = {\n",
        "'min': 1,\n",
        "'max': 500,\n",
        "\"palette\": [rgb(0,128,0), rgb(255,0,0)]}\n",
        "\n",
        "# Add the intensity to the map\n",
        "m.add_ee_layer(test_intensity_image, vis_params, 'Intensity')\n",
        "\n",
        "\n",
        "\n",
        "\n",
        "# Get one image from the transition map collection\n",
        "test_transition_map_image = test_transition_map.clip(test_aoi)\n",
        "\n",
        "# Colour parameters for transition map\n",
        "vis_params = {\n",
        "\"palette\": [rgb(0,80,0), rgb(210,250,60 ), rgb(255,230,100 ), rgb(0,70,160 ), rgb(255,255,255)]}\n",
        "\n",
        "# Add the transition map to the map\n",
        "m.add_ee_layer(test_transition_map_image, vis_params, 'Transition Map')\n",
        "\n",
        "\n",
        "\n",
        "\n",
        "# Get one image from the 2019 landsat NDVI collection with the least clouds\n",
        "test_landsat_ndvi_image = test_landsat_ndvi.sort('CLOUD_COVER').first().clip(test_aoi) #2019 image is not blank, but when using .filterDate('2014-01-01', '2020-01-01') it was blank... why?\n",
        "\n",
        "# Colour parameters for NDVI\n",
        "vis_params = {\n",
        "    'min': -1,\n",
        "    'max': 1,\n",
        "    \"palette\": [rgb(255, 255, 204), rgb(0, 153, 0)]}\n",
        "\n",
        "# Add the NDVI to the map\n",
        "m.add_ee_layer(test_landsat_ndvi_image, vis_params, 'Landsat NDVI')\n",
        "\n",
        "\n",
        "\n",
        "# Get one image of the most recent PALSAR data\n",
        "test_palsar_image = test_palsar.sort('system:time_start', False).first().clip(test_aoi)\n",
        "\n",
        "# Colour parameters for PALSAR\n",
        "vis_params = {\n",
        "    'min': 0,\n",
        "    'max': 10000,}\n",
        "\n",
        "# Add the PALSAR to the map\n",
        "m.add_ee_layer(test_palsar_image, vis_params, 'PALSAR')\n",
        "\n",
        "\n",
        "\n",
        "\n",
        "# Get one image of the most recent Sentinel data\n",
        "test_sentinel_image = test_sentinel.mosaic().clip(test_aoi)\n",
        "\n",
        "# Colour parameters for Sentinel\n",
        "vis_params = {\n",
        "    'min': -50,\n",
        "    'max': 1,}\n",
        "\n",
        "# Add the Sentinel to the map\n",
        "m.add_ee_layer(test_sentinel_image, vis_params, 'Sentinel-1')\n",
        "\n",
        "\n",
        "\n",
        "\n",
        "# Add a layer control panel to the map.\n",
        "m.add_child(folium.LayerControl())\n",
        "\n",
        "# Display the map.\n",
        "f"
      ],
      "metadata": {
        "colab": {
          "base_uri": "https://localhost:8080/",
          "height": 521
        },
        "id": "tJgkqB8532Wf",
        "outputId": "334c02f6-51b3-414d-ad68-2b0d748ca8e7"
      },
      "execution_count": 10,
      "outputs": [
        {
          "output_type": "execute_result",
          "data": {
            "text/html": [
              "<iframe src=\"about:blank\" width=\"1000\" height=\"500\"style=\"border:none !important;\" data-html=%3C%21DOCTYPE%20html%3E%0A%3Chead%3E%20%20%20%20%0A%20%20%20%20%3Cmeta%20http-equiv%3D%22content-type%22%20content%3D%22text/html%3B%20charset%3DUTF-8%22%20/%3E%0A%20%20%20%20%3Cscript%3EL_PREFER_CANVAS%3Dfalse%3B%20L_NO_TOUCH%3Dfalse%3B%20L_DISABLE_3D%3Dfalse%3B%3C/script%3E%0A%20%20%20%20%3Cscript%20src%3D%22https%3A//cdn.jsdelivr.net/npm/leaflet%401.4.0/dist/leaflet.js%22%3E%3C/script%3E%0A%20%20%20%20%3Cscript%20src%3D%22https%3A//code.jquery.com/jquery-1.12.4.min.js%22%3E%3C/script%3E%0A%20%20%20%20%3Cscript%20src%3D%22https%3A//maxcdn.bootstrapcdn.com/bootstrap/3.2.0/js/bootstrap.min.js%22%3E%3C/script%3E%0A%20%20%20%20%3Cscript%20src%3D%22https%3A//cdnjs.cloudflare.com/ajax/libs/Leaflet.awesome-markers/2.0.2/leaflet.awesome-markers.js%22%3E%3C/script%3E%0A%20%20%20%20%3Clink%20rel%3D%22stylesheet%22%20href%3D%22https%3A//cdn.jsdelivr.net/npm/leaflet%401.4.0/dist/leaflet.css%22/%3E%0A%20%20%20%20%3Clink%20rel%3D%22stylesheet%22%20href%3D%22https%3A//maxcdn.bootstrapcdn.com/bootstrap/3.2.0/css/bootstrap.min.css%22/%3E%0A%20%20%20%20%3Clink%20rel%3D%22stylesheet%22%20href%3D%22https%3A//maxcdn.bootstrapcdn.com/bootstrap/3.2.0/css/bootstrap-theme.min.css%22/%3E%0A%20%20%20%20%3Clink%20rel%3D%22stylesheet%22%20href%3D%22https%3A//maxcdn.bootstrapcdn.com/font-awesome/4.6.3/css/font-awesome.min.css%22/%3E%0A%20%20%20%20%3Clink%20rel%3D%22stylesheet%22%20href%3D%22https%3A//cdnjs.cloudflare.com/ajax/libs/Leaflet.awesome-markers/2.0.2/leaflet.awesome-markers.css%22/%3E%0A%20%20%20%20%3Clink%20rel%3D%22stylesheet%22%20href%3D%22https%3A//rawcdn.githack.com/python-visualization/folium/master/folium/templates/leaflet.awesome.rotate.css%22/%3E%0A%20%20%20%20%3Cstyle%3Ehtml%2C%20body%20%7Bwidth%3A%20100%25%3Bheight%3A%20100%25%3Bmargin%3A%200%3Bpadding%3A%200%3B%7D%3C/style%3E%0A%20%20%20%20%3Cstyle%3E%23map%20%7Bposition%3Aabsolute%3Btop%3A0%3Bbottom%3A0%3Bright%3A0%3Bleft%3A0%3B%7D%3C/style%3E%0A%20%20%20%20%0A%20%20%20%20%3Cmeta%20name%3D%22viewport%22%20content%3D%22width%3Ddevice-width%2C%0A%20%20%20%20%20%20%20%20initial-scale%3D1.0%2C%20maximum-scale%3D1.0%2C%20user-scalable%3Dno%22%20/%3E%0A%20%20%20%20%3Cstyle%3E%23map_e8b525ecf1444e9f9ffc7e4cafdffdee%20%7B%0A%20%20%20%20%20%20%20%20position%3A%20relative%3B%0A%20%20%20%20%20%20%20%20width%3A%20100.0%25%3B%0A%20%20%20%20%20%20%20%20height%3A%20100.0%25%3B%0A%20%20%20%20%20%20%20%20left%3A%200.0%25%3B%0A%20%20%20%20%20%20%20%20top%3A%200.0%25%3B%0A%20%20%20%20%20%20%20%20%7D%0A%20%20%20%20%3C/style%3E%0A%3C/head%3E%0A%3Cbody%3E%20%20%20%20%0A%20%20%20%20%0A%20%20%20%20%3Cdiv%20class%3D%22folium-map%22%20id%3D%22map_e8b525ecf1444e9f9ffc7e4cafdffdee%22%20%3E%3C/div%3E%0A%3C/body%3E%0A%3Cscript%3E%20%20%20%20%0A%20%20%20%20%0A%20%20%20%20%0A%20%20%20%20%20%20%20%20var%20bounds%20%3D%20null%3B%0A%20%20%20%20%0A%0A%20%20%20%20var%20map_e8b525ecf1444e9f9ffc7e4cafdffdee%20%3D%20L.map%28%0A%20%20%20%20%20%20%20%20%27map_e8b525ecf1444e9f9ffc7e4cafdffdee%27%2C%20%7B%0A%20%20%20%20%20%20%20%20center%3A%20%5B-9.93097535159907%2C%20-50.65246582031609%5D%2C%0A%20%20%20%20%20%20%20%20zoom%3A%2012%2C%0A%20%20%20%20%20%20%20%20maxBounds%3A%20bounds%2C%0A%20%20%20%20%20%20%20%20layers%3A%20%5B%5D%2C%0A%20%20%20%20%20%20%20%20worldCopyJump%3A%20false%2C%0A%20%20%20%20%20%20%20%20crs%3A%20L.CRS.EPSG3857%2C%0A%20%20%20%20%20%20%20%20zoomControl%3A%20true%2C%0A%20%20%20%20%20%20%20%20%7D%29%3B%0A%0A%0A%20%20%20%20%0A%20%20%20%20var%20tile_layer_2a893ce8979c4bbaa61f6778834fc36c%20%3D%20L.tileLayer%28%0A%20%20%20%20%20%20%20%20%27https%3A//%7Bs%7D.tile.openstreetmap.org/%7Bz%7D/%7Bx%7D/%7By%7D.png%27%2C%0A%20%20%20%20%20%20%20%20%7B%0A%20%20%20%20%20%20%20%20%22attribution%22%3A%20null%2C%0A%20%20%20%20%20%20%20%20%22detectRetina%22%3A%20false%2C%0A%20%20%20%20%20%20%20%20%22maxNativeZoom%22%3A%2018%2C%0A%20%20%20%20%20%20%20%20%22maxZoom%22%3A%2018%2C%0A%20%20%20%20%20%20%20%20%22minZoom%22%3A%200%2C%0A%20%20%20%20%20%20%20%20%22noWrap%22%3A%20false%2C%0A%20%20%20%20%20%20%20%20%22opacity%22%3A%201%2C%0A%20%20%20%20%20%20%20%20%22subdomains%22%3A%20%22abc%22%2C%0A%20%20%20%20%20%20%20%20%22tms%22%3A%20false%0A%7D%29.addTo%28map_e8b525ecf1444e9f9ffc7e4cafdffdee%29%3B%0A%20%20%20%20var%20tile_layer_c98cce28559c4d1485326ac5e4d3202f%20%3D%20L.tileLayer%28%0A%20%20%20%20%20%20%20%20%27https%3A//mt1.google.com/vt/lyrs%3Dy%26x%3D%7Bx%7D%26y%3D%7By%7D%26z%3D%7Bz%7D%27%2C%0A%20%20%20%20%20%20%20%20%7B%0A%20%20%20%20%20%20%20%20%22attribution%22%3A%20%22Google%22%2C%0A%20%20%20%20%20%20%20%20%22detectRetina%22%3A%20false%2C%0A%20%20%20%20%20%20%20%20%22maxNativeZoom%22%3A%2018%2C%0A%20%20%20%20%20%20%20%20%22maxZoom%22%3A%2018%2C%0A%20%20%20%20%20%20%20%20%22minZoom%22%3A%200%2C%0A%20%20%20%20%20%20%20%20%22noWrap%22%3A%20false%2C%0A%20%20%20%20%20%20%20%20%22opacity%22%3A%201%2C%0A%20%20%20%20%20%20%20%20%22subdomains%22%3A%20%22abc%22%2C%0A%20%20%20%20%20%20%20%20%22tms%22%3A%20false%0A%7D%29.addTo%28map_e8b525ecf1444e9f9ffc7e4cafdffdee%29%3B%0A%20%20%20%20var%20tile_layer_4e8ff6c539334aec8090eb5d1cc1a592%20%3D%20L.tileLayer%28%0A%20%20%20%20%20%20%20%20%27https%3A//earthengine.googleapis.com/v1alpha/projects/earthengine-legacy/maps/0a45d332e00464f7a7de3335ab606522-0f449c66639063f08fdd71c81313e156/tiles/%7Bz%7D/%7Bx%7D/%7By%7D%27%2C%0A%20%20%20%20%20%20%20%20%7B%0A%20%20%20%20%20%20%20%20%22attribution%22%3A%20%22Google%20Earth%20Engine%22%2C%0A%20%20%20%20%20%20%20%20%22detectRetina%22%3A%20false%2C%0A%20%20%20%20%20%20%20%20%22maxNativeZoom%22%3A%2018%2C%0A%20%20%20%20%20%20%20%20%22maxZoom%22%3A%2018%2C%0A%20%20%20%20%20%20%20%20%22minZoom%22%3A%200%2C%0A%20%20%20%20%20%20%20%20%22noWrap%22%3A%20false%2C%0A%20%20%20%20%20%20%20%20%22opacity%22%3A%201%2C%0A%20%20%20%20%20%20%20%20%22subdomains%22%3A%20%22abc%22%2C%0A%20%20%20%20%20%20%20%20%22tms%22%3A%20false%0A%7D%29.addTo%28map_e8b525ecf1444e9f9ffc7e4cafdffdee%29%3B%0A%20%20%20%20var%20tile_layer_9af2db95ebdb4e5d8297130cac898002%20%3D%20L.tileLayer%28%0A%20%20%20%20%20%20%20%20%27https%3A//earthengine.googleapis.com/v1alpha/projects/earthengine-legacy/maps/b62a994788b0405f2365e47891fb1c52-7e1b194d01d047bcb7a353a2da3de0d9/tiles/%7Bz%7D/%7Bx%7D/%7By%7D%27%2C%0A%20%20%20%20%20%20%20%20%7B%0A%20%20%20%20%20%20%20%20%22attribution%22%3A%20%22Google%20Earth%20Engine%22%2C%0A%20%20%20%20%20%20%20%20%22detectRetina%22%3A%20false%2C%0A%20%20%20%20%20%20%20%20%22maxNativeZoom%22%3A%2018%2C%0A%20%20%20%20%20%20%20%20%22maxZoom%22%3A%2018%2C%0A%20%20%20%20%20%20%20%20%22minZoom%22%3A%200%2C%0A%20%20%20%20%20%20%20%20%22noWrap%22%3A%20false%2C%0A%20%20%20%20%20%20%20%20%22opacity%22%3A%201%2C%0A%20%20%20%20%20%20%20%20%22subdomains%22%3A%20%22abc%22%2C%0A%20%20%20%20%20%20%20%20%22tms%22%3A%20false%0A%7D%29.addTo%28map_e8b525ecf1444e9f9ffc7e4cafdffdee%29%3B%0A%20%20%20%20var%20tile_layer_127f3973ed47410096423889925dfb91%20%3D%20L.tileLayer%28%0A%20%20%20%20%20%20%20%20%27https%3A//earthengine.googleapis.com/v1alpha/projects/earthengine-legacy/maps/0303283648cf9fcc083a310d07beb67e-b35ff24c3f26ca89bb273688f4e6d1f3/tiles/%7Bz%7D/%7Bx%7D/%7By%7D%27%2C%0A%20%20%20%20%20%20%20%20%7B%0A%20%20%20%20%20%20%20%20%22attribution%22%3A%20%22Google%20Earth%20Engine%22%2C%0A%20%20%20%20%20%20%20%20%22detectRetina%22%3A%20false%2C%0A%20%20%20%20%20%20%20%20%22maxNativeZoom%22%3A%2018%2C%0A%20%20%20%20%20%20%20%20%22maxZoom%22%3A%2018%2C%0A%20%20%20%20%20%20%20%20%22minZoom%22%3A%200%2C%0A%20%20%20%20%20%20%20%20%22noWrap%22%3A%20false%2C%0A%20%20%20%20%20%20%20%20%22opacity%22%3A%201%2C%0A%20%20%20%20%20%20%20%20%22subdomains%22%3A%20%22abc%22%2C%0A%20%20%20%20%20%20%20%20%22tms%22%3A%20false%0A%7D%29.addTo%28map_e8b525ecf1444e9f9ffc7e4cafdffdee%29%3B%0A%20%20%20%20var%20tile_layer_31ce1b8f3d564e41be6dc14a5a633d3b%20%3D%20L.tileLayer%28%0A%20%20%20%20%20%20%20%20%27https%3A//earthengine.googleapis.com/v1alpha/projects/earthengine-legacy/maps/0012c58e2186d2bcd0f9344fa3666946-bdad62b5018318bf66936bedae21d45d/tiles/%7Bz%7D/%7Bx%7D/%7By%7D%27%2C%0A%20%20%20%20%20%20%20%20%7B%0A%20%20%20%20%20%20%20%20%22attribution%22%3A%20%22Google%20Earth%20Engine%22%2C%0A%20%20%20%20%20%20%20%20%22detectRetina%22%3A%20false%2C%0A%20%20%20%20%20%20%20%20%22maxNativeZoom%22%3A%2018%2C%0A%20%20%20%20%20%20%20%20%22maxZoom%22%3A%2018%2C%0A%20%20%20%20%20%20%20%20%22minZoom%22%3A%200%2C%0A%20%20%20%20%20%20%20%20%22noWrap%22%3A%20false%2C%0A%20%20%20%20%20%20%20%20%22opacity%22%3A%201%2C%0A%20%20%20%20%20%20%20%20%22subdomains%22%3A%20%22abc%22%2C%0A%20%20%20%20%20%20%20%20%22tms%22%3A%20false%0A%7D%29.addTo%28map_e8b525ecf1444e9f9ffc7e4cafdffdee%29%3B%0A%20%20%20%20var%20tile_layer_4ccc621718804a80a49e585a3a84f33f%20%3D%20L.tileLayer%28%0A%20%20%20%20%20%20%20%20%27https%3A//earthengine.googleapis.com/v1alpha/projects/earthengine-legacy/maps/3b5e732ef93a65b7934c48256104dbe7-306276b717ad69f512ffa1ef23351aea/tiles/%7Bz%7D/%7Bx%7D/%7By%7D%27%2C%0A%20%20%20%20%20%20%20%20%7B%0A%20%20%20%20%20%20%20%20%22attribution%22%3A%20%22Google%20Earth%20Engine%22%2C%0A%20%20%20%20%20%20%20%20%22detectRetina%22%3A%20false%2C%0A%20%20%20%20%20%20%20%20%22maxNativeZoom%22%3A%2018%2C%0A%20%20%20%20%20%20%20%20%22maxZoom%22%3A%2018%2C%0A%20%20%20%20%20%20%20%20%22minZoom%22%3A%200%2C%0A%20%20%20%20%20%20%20%20%22noWrap%22%3A%20false%2C%0A%20%20%20%20%20%20%20%20%22opacity%22%3A%201%2C%0A%20%20%20%20%20%20%20%20%22subdomains%22%3A%20%22abc%22%2C%0A%20%20%20%20%20%20%20%20%22tms%22%3A%20false%0A%7D%29.addTo%28map_e8b525ecf1444e9f9ffc7e4cafdffdee%29%3B%0A%20%20%20%20var%20tile_layer_2210c5bc8a6248c6bc803bd6a0c9b88e%20%3D%20L.tileLayer%28%0A%20%20%20%20%20%20%20%20%27https%3A//earthengine.googleapis.com/v1alpha/projects/earthengine-legacy/maps/f6f56d212a0e5347a482a1eb8c0c8ffd-ed4786542bfbe5e611d5f1b90ab44077/tiles/%7Bz%7D/%7Bx%7D/%7By%7D%27%2C%0A%20%20%20%20%20%20%20%20%7B%0A%20%20%20%20%20%20%20%20%22attribution%22%3A%20%22Google%20Earth%20Engine%22%2C%0A%20%20%20%20%20%20%20%20%22detectRetina%22%3A%20false%2C%0A%20%20%20%20%20%20%20%20%22maxNativeZoom%22%3A%2018%2C%0A%20%20%20%20%20%20%20%20%22maxZoom%22%3A%2018%2C%0A%20%20%20%20%20%20%20%20%22minZoom%22%3A%200%2C%0A%20%20%20%20%20%20%20%20%22noWrap%22%3A%20false%2C%0A%20%20%20%20%20%20%20%20%22opacity%22%3A%201%2C%0A%20%20%20%20%20%20%20%20%22subdomains%22%3A%20%22abc%22%2C%0A%20%20%20%20%20%20%20%20%22tms%22%3A%20false%0A%7D%29.addTo%28map_e8b525ecf1444e9f9ffc7e4cafdffdee%29%3B%0A%20%20%20%20%0A%20%20%20%20%20%20%20%20%20%20%20%20var%20layer_control_bfc6486b135f4d298563802f6573c67a%20%3D%20%7B%0A%20%20%20%20%20%20%20%20%20%20%20%20%20%20%20%20base_layers%20%3A%20%7B%20%22openstreetmap%22%20%3A%20tile_layer_2a893ce8979c4bbaa61f6778834fc36c%2C%20%7D%2C%0A%20%20%20%20%20%20%20%20%20%20%20%20%20%20%20%20overlays%20%3A%20%7B%20%22Google%20Satellite%22%20%3A%20tile_layer_c98cce28559c4d1485326ac5e4d3202f%2C%22Deforestation%20Year%22%20%3A%20tile_layer_4e8ff6c539334aec8090eb5d1cc1a592%2C%22Intensity%22%20%3A%20tile_layer_9af2db95ebdb4e5d8297130cac898002%2C%22Transition%20Map%22%20%3A%20tile_layer_127f3973ed47410096423889925dfb91%2C%22Landsat%20NDVI%22%20%3A%20tile_layer_31ce1b8f3d564e41be6dc14a5a633d3b%2C%22PALSAR%22%20%3A%20tile_layer_4ccc621718804a80a49e585a3a84f33f%2C%22Sentinel-1%22%20%3A%20tile_layer_2210c5bc8a6248c6bc803bd6a0c9b88e%2C%20%7D%0A%20%20%20%20%20%20%20%20%20%20%20%20%20%20%20%20%7D%3B%0A%20%20%20%20%20%20%20%20%20%20%20%20L.control.layers%28%0A%20%20%20%20%20%20%20%20%20%20%20%20%20%20%20%20layer_control_bfc6486b135f4d298563802f6573c67a.base_layers%2C%0A%20%20%20%20%20%20%20%20%20%20%20%20%20%20%20%20layer_control_bfc6486b135f4d298563802f6573c67a.overlays%2C%0A%20%20%20%20%20%20%20%20%20%20%20%20%20%20%20%20%7Bposition%3A%20%27topright%27%2C%0A%20%20%20%20%20%20%20%20%20%20%20%20%20%20%20%20%20collapsed%3A%20true%2C%0A%20%20%20%20%20%20%20%20%20%20%20%20%20%20%20%20%20autoZIndex%3A%20true%0A%20%20%20%20%20%20%20%20%20%20%20%20%20%20%20%20%7D%29.addTo%28map_e8b525ecf1444e9f9ffc7e4cafdffdee%29%3B%0A%20%20%20%20%20%20%20%20%20%20%20%20%0A%20%20%20%20%20%20%20%20%0A%3C/script%3E onload=\"this.contentDocument.open();this.contentDocument.write(    decodeURIComponent(this.getAttribute('data-html')));this.contentDocument.close();\" \"allowfullscreen\" \"webkitallowfullscreen\" \"mozallowfullscreen\"></iframe>"
            ],
            "text/plain": [
              "<branca.element.Figure at 0x7fdfea418250>"
            ]
          },
          "metadata": {},
          "execution_count": 10
        }
      ]
    },
    {
      "cell_type": "markdown",
      "source": [
        "# Prepare images for training/testing"
      ],
      "metadata": {
        "id": "tnnu_PrP1r8X"
      }
    },
    {
      "cell_type": "code",
      "source": [
        "# For training/testing data, we only use the SAR + NDVI\n",
        "# Also, we do normalization here based on nominal min/max values of each satellite, though it probably should have been done earlier during data loading\n",
        "train_img = train_palsar_image.rename(\"PALSAR\").unitScale(0,10000).addBands([train_sentinel_image.rename(\"Sentinel\").unitScale(-50,1), train_landsat_ndvi_image.rename(\"NDVI\").unitScale(-1,1)])\n",
        "\n",
        "# Add a band to the training data that contains the transition map (i.e. the class label)\n",
        "train_img_cluster = train_img\n",
        "train_img = train_img.addBands(train_transition_map)\n",
        "\n",
        "test_img = test_palsar_image.rename(\"PALSAR\").unitScale(0,10000).addBands([test_sentinel_image.rename(\"Sentinel\").unitScale(-50,1), test_landsat_ndvi_image.rename(\"NDVI\").unitScale(-1,1)])\n",
        "\n",
        "# visualize to make sure it is working correctly\n",
        "\n",
        "f = folium.Figure(width=1000, height=500)\n",
        "m = folium.Map(location=train_location, zoom_start=12).add_to(f)\n",
        "\n",
        "vis_params = {\n",
        "    'bands': [\"NDVI\"],\n",
        "    'min': 0,\n",
        "    'max': 1,}\n",
        "\n",
        "m.add_ee_layer(train_img, vis_params, \"Training Image\")\n",
        "\n",
        "f\n",
        "\n"
      ],
      "metadata": {
        "colab": {
          "base_uri": "https://localhost:8080/",
          "height": 521
        },
        "id": "IIkDTopwxUeW",
        "outputId": "bd1602d3-04b1-4110-80f9-37ea6b40d36f"
      },
      "execution_count": 18,
      "outputs": [
        {
          "output_type": "execute_result",
          "data": {
            "text/html": [
              "<iframe src=\"about:blank\" width=\"1000\" height=\"500\"style=\"border:none !important;\" data-html=%3C%21DOCTYPE%20html%3E%0A%3Chead%3E%20%20%20%20%0A%20%20%20%20%3Cmeta%20http-equiv%3D%22content-type%22%20content%3D%22text/html%3B%20charset%3DUTF-8%22%20/%3E%0A%20%20%20%20%3Cscript%3EL_PREFER_CANVAS%3Dfalse%3B%20L_NO_TOUCH%3Dfalse%3B%20L_DISABLE_3D%3Dfalse%3B%3C/script%3E%0A%20%20%20%20%3Cscript%20src%3D%22https%3A//cdn.jsdelivr.net/npm/leaflet%401.4.0/dist/leaflet.js%22%3E%3C/script%3E%0A%20%20%20%20%3Cscript%20src%3D%22https%3A//code.jquery.com/jquery-1.12.4.min.js%22%3E%3C/script%3E%0A%20%20%20%20%3Cscript%20src%3D%22https%3A//maxcdn.bootstrapcdn.com/bootstrap/3.2.0/js/bootstrap.min.js%22%3E%3C/script%3E%0A%20%20%20%20%3Cscript%20src%3D%22https%3A//cdnjs.cloudflare.com/ajax/libs/Leaflet.awesome-markers/2.0.2/leaflet.awesome-markers.js%22%3E%3C/script%3E%0A%20%20%20%20%3Clink%20rel%3D%22stylesheet%22%20href%3D%22https%3A//cdn.jsdelivr.net/npm/leaflet%401.4.0/dist/leaflet.css%22/%3E%0A%20%20%20%20%3Clink%20rel%3D%22stylesheet%22%20href%3D%22https%3A//maxcdn.bootstrapcdn.com/bootstrap/3.2.0/css/bootstrap.min.css%22/%3E%0A%20%20%20%20%3Clink%20rel%3D%22stylesheet%22%20href%3D%22https%3A//maxcdn.bootstrapcdn.com/bootstrap/3.2.0/css/bootstrap-theme.min.css%22/%3E%0A%20%20%20%20%3Clink%20rel%3D%22stylesheet%22%20href%3D%22https%3A//maxcdn.bootstrapcdn.com/font-awesome/4.6.3/css/font-awesome.min.css%22/%3E%0A%20%20%20%20%3Clink%20rel%3D%22stylesheet%22%20href%3D%22https%3A//cdnjs.cloudflare.com/ajax/libs/Leaflet.awesome-markers/2.0.2/leaflet.awesome-markers.css%22/%3E%0A%20%20%20%20%3Clink%20rel%3D%22stylesheet%22%20href%3D%22https%3A//rawcdn.githack.com/python-visualization/folium/master/folium/templates/leaflet.awesome.rotate.css%22/%3E%0A%20%20%20%20%3Cstyle%3Ehtml%2C%20body%20%7Bwidth%3A%20100%25%3Bheight%3A%20100%25%3Bmargin%3A%200%3Bpadding%3A%200%3B%7D%3C/style%3E%0A%20%20%20%20%3Cstyle%3E%23map%20%7Bposition%3Aabsolute%3Btop%3A0%3Bbottom%3A0%3Bright%3A0%3Bleft%3A0%3B%7D%3C/style%3E%0A%20%20%20%20%0A%20%20%20%20%3Cmeta%20name%3D%22viewport%22%20content%3D%22width%3Ddevice-width%2C%0A%20%20%20%20%20%20%20%20initial-scale%3D1.0%2C%20maximum-scale%3D1.0%2C%20user-scalable%3Dno%22%20/%3E%0A%20%20%20%20%3Cstyle%3E%23map_94ee642273fc4a7db4c30e98ff3be0d7%20%7B%0A%20%20%20%20%20%20%20%20position%3A%20relative%3B%0A%20%20%20%20%20%20%20%20width%3A%20100.0%25%3B%0A%20%20%20%20%20%20%20%20height%3A%20100.0%25%3B%0A%20%20%20%20%20%20%20%20left%3A%200.0%25%3B%0A%20%20%20%20%20%20%20%20top%3A%200.0%25%3B%0A%20%20%20%20%20%20%20%20%7D%0A%20%20%20%20%3C/style%3E%0A%3C/head%3E%0A%3Cbody%3E%20%20%20%20%0A%20%20%20%20%0A%20%20%20%20%3Cdiv%20class%3D%22folium-map%22%20id%3D%22map_94ee642273fc4a7db4c30e98ff3be0d7%22%20%3E%3C/div%3E%0A%3C/body%3E%0A%3Cscript%3E%20%20%20%20%0A%20%20%20%20%0A%20%20%20%20%0A%20%20%20%20%20%20%20%20var%20bounds%20%3D%20null%3B%0A%20%20%20%20%0A%0A%20%20%20%20var%20map_94ee642273fc4a7db4c30e98ff3be0d7%20%3D%20L.map%28%0A%20%20%20%20%20%20%20%20%27map_94ee642273fc4a7db4c30e98ff3be0d7%27%2C%20%7B%0A%20%20%20%20%20%20%20%20center%3A%20%5B-10.38369101128682%2C%20-52.577133178711705%5D%2C%0A%20%20%20%20%20%20%20%20zoom%3A%2012%2C%0A%20%20%20%20%20%20%20%20maxBounds%3A%20bounds%2C%0A%20%20%20%20%20%20%20%20layers%3A%20%5B%5D%2C%0A%20%20%20%20%20%20%20%20worldCopyJump%3A%20false%2C%0A%20%20%20%20%20%20%20%20crs%3A%20L.CRS.EPSG3857%2C%0A%20%20%20%20%20%20%20%20zoomControl%3A%20true%2C%0A%20%20%20%20%20%20%20%20%7D%29%3B%0A%0A%0A%20%20%20%20%0A%20%20%20%20var%20tile_layer_b242fe5a0e0d437ca9df1bb093303366%20%3D%20L.tileLayer%28%0A%20%20%20%20%20%20%20%20%27https%3A//%7Bs%7D.tile.openstreetmap.org/%7Bz%7D/%7Bx%7D/%7By%7D.png%27%2C%0A%20%20%20%20%20%20%20%20%7B%0A%20%20%20%20%20%20%20%20%22attribution%22%3A%20null%2C%0A%20%20%20%20%20%20%20%20%22detectRetina%22%3A%20false%2C%0A%20%20%20%20%20%20%20%20%22maxNativeZoom%22%3A%2018%2C%0A%20%20%20%20%20%20%20%20%22maxZoom%22%3A%2018%2C%0A%20%20%20%20%20%20%20%20%22minZoom%22%3A%200%2C%0A%20%20%20%20%20%20%20%20%22noWrap%22%3A%20false%2C%0A%20%20%20%20%20%20%20%20%22opacity%22%3A%201%2C%0A%20%20%20%20%20%20%20%20%22subdomains%22%3A%20%22abc%22%2C%0A%20%20%20%20%20%20%20%20%22tms%22%3A%20false%0A%7D%29.addTo%28map_94ee642273fc4a7db4c30e98ff3be0d7%29%3B%0A%20%20%20%20var%20tile_layer_59e295b866484a8d95291733bff70308%20%3D%20L.tileLayer%28%0A%20%20%20%20%20%20%20%20%27https%3A//earthengine.googleapis.com/v1alpha/projects/earthengine-legacy/maps/e87793d1415d22f474bc22e455fc911d-cc033cc3fccfc25844885823b666fae4/tiles/%7Bz%7D/%7Bx%7D/%7By%7D%27%2C%0A%20%20%20%20%20%20%20%20%7B%0A%20%20%20%20%20%20%20%20%22attribution%22%3A%20%22Google%20Earth%20Engine%22%2C%0A%20%20%20%20%20%20%20%20%22detectRetina%22%3A%20false%2C%0A%20%20%20%20%20%20%20%20%22maxNativeZoom%22%3A%2018%2C%0A%20%20%20%20%20%20%20%20%22maxZoom%22%3A%2018%2C%0A%20%20%20%20%20%20%20%20%22minZoom%22%3A%200%2C%0A%20%20%20%20%20%20%20%20%22noWrap%22%3A%20false%2C%0A%20%20%20%20%20%20%20%20%22opacity%22%3A%201%2C%0A%20%20%20%20%20%20%20%20%22subdomains%22%3A%20%22abc%22%2C%0A%20%20%20%20%20%20%20%20%22tms%22%3A%20false%0A%7D%29.addTo%28map_94ee642273fc4a7db4c30e98ff3be0d7%29%3B%0A%3C/script%3E onload=\"this.contentDocument.open();this.contentDocument.write(    decodeURIComponent(this.getAttribute('data-html')));this.contentDocument.close();\" \"allowfullscreen\" \"webkitallowfullscreen\" \"mozallowfullscreen\"></iframe>"
            ],
            "text/plain": [
              "<branca.element.Figure at 0x7fdfea3ee810>"
            ]
          },
          "metadata": {},
          "execution_count": 18
        }
      ]
    },
    {
      "cell_type": "markdown",
      "source": [
        "# Supervised learning"
      ],
      "metadata": {
        "id": "aSImv7mTtFSX"
      }
    },
    {
      "cell_type": "markdown",
      "source": [
        "Training"
      ],
      "metadata": {
        "id": "_RD10TDqZ0eA"
      }
    },
    {
      "cell_type": "code",
      "source": [
        "# PALSAR is 25m, Sentinel is 10m, NDVI from Landat8 is 30m, and the Vancutsem transition map is also 30m, so we use a scale of 30m for simplicity\n",
        "# Sample 1000 points from the training dataset\n",
        "train_points = train_img.sample(numPixels = 10000, \n",
        "                                scale = 30, \n",
        "                                seed = 0)\n",
        "\n",
        "rf_classifier = ee.Classifier.smileRandomForest(numberOfTrees = 10).train(features = train_points,\n",
        "                                                                          classProperty = 'class',\n",
        "                                                                          inputProperties = [\"PALSAR\", \"Sentinel\", \"NDVI\"])\n",
        "\n",
        "\n"
      ],
      "metadata": {
        "id": "V1m1tM6JtIzn"
      },
      "execution_count": 12,
      "outputs": []
    },
    {
      "cell_type": "markdown",
      "source": [
        "Testing"
      ],
      "metadata": {
        "id": "6yQkOXlyZz2o"
      }
    },
    {
      "cell_type": "code",
      "source": [
        "classified_test_img = test_img.classify(rf_classifier).clip(test_aoi)"
      ],
      "metadata": {
        "id": "inE6t2pcZzqo"
      },
      "execution_count": 13,
      "outputs": []
    },
    {
      "cell_type": "markdown",
      "source": [
        "Visualize predicted classes against true classes"
      ],
      "metadata": {
        "id": "Pl358iFMaOKY"
      }
    },
    {
      "cell_type": "code",
      "source": [
        "f = folium.Figure(width=1000, height=500)\n",
        "m = folium.Map(location=test_location, zoom_start=12).add_to(f)\n",
        "\n",
        "test_transition_map_image = test_transition_map.clip(test_aoi)\n",
        "\n",
        "vis_params = {\n",
        "\"min\": 0,\n",
        "\"max\": 4,\n",
        "\"palette\": [rgb(0,80,0), rgb(210,250,60), rgb(255,230,100), rgb(0,70,160 ), rgb(255,255,255)]}\n",
        "\n",
        "# this forces Earth Engine to render at 30m scale\n",
        "classified_test_img = classified_test_img.reproject(classified_test_img.projection().crs(), scale=30)\n",
        "\n",
        "\n",
        "m.add_ee_layer(test_transition_map_image, vis_params, 'True Transition Map')\n",
        "m.add_ee_layer(classified_test_img, vis_params, 'Predicted Transition Map')\n",
        "m.add_child(folium.LayerControl())\n",
        "\n",
        "f"
      ],
      "metadata": {
        "colab": {
          "base_uri": "https://localhost:8080/",
          "height": 521
        },
        "id": "XKyB3dSfaS3Q",
        "outputId": "04e7782c-f79d-4527-d274-ea3a43a4c4c3"
      },
      "execution_count": 14,
      "outputs": [
        {
          "output_type": "execute_result",
          "data": {
            "text/html": [
              "<iframe src=\"about:blank\" width=\"1000\" height=\"500\"style=\"border:none !important;\" data-html=%3C%21DOCTYPE%20html%3E%0A%3Chead%3E%20%20%20%20%0A%20%20%20%20%3Cmeta%20http-equiv%3D%22content-type%22%20content%3D%22text/html%3B%20charset%3DUTF-8%22%20/%3E%0A%20%20%20%20%3Cscript%3EL_PREFER_CANVAS%3Dfalse%3B%20L_NO_TOUCH%3Dfalse%3B%20L_DISABLE_3D%3Dfalse%3B%3C/script%3E%0A%20%20%20%20%3Cscript%20src%3D%22https%3A//cdn.jsdelivr.net/npm/leaflet%401.4.0/dist/leaflet.js%22%3E%3C/script%3E%0A%20%20%20%20%3Cscript%20src%3D%22https%3A//code.jquery.com/jquery-1.12.4.min.js%22%3E%3C/script%3E%0A%20%20%20%20%3Cscript%20src%3D%22https%3A//maxcdn.bootstrapcdn.com/bootstrap/3.2.0/js/bootstrap.min.js%22%3E%3C/script%3E%0A%20%20%20%20%3Cscript%20src%3D%22https%3A//cdnjs.cloudflare.com/ajax/libs/Leaflet.awesome-markers/2.0.2/leaflet.awesome-markers.js%22%3E%3C/script%3E%0A%20%20%20%20%3Clink%20rel%3D%22stylesheet%22%20href%3D%22https%3A//cdn.jsdelivr.net/npm/leaflet%401.4.0/dist/leaflet.css%22/%3E%0A%20%20%20%20%3Clink%20rel%3D%22stylesheet%22%20href%3D%22https%3A//maxcdn.bootstrapcdn.com/bootstrap/3.2.0/css/bootstrap.min.css%22/%3E%0A%20%20%20%20%3Clink%20rel%3D%22stylesheet%22%20href%3D%22https%3A//maxcdn.bootstrapcdn.com/bootstrap/3.2.0/css/bootstrap-theme.min.css%22/%3E%0A%20%20%20%20%3Clink%20rel%3D%22stylesheet%22%20href%3D%22https%3A//maxcdn.bootstrapcdn.com/font-awesome/4.6.3/css/font-awesome.min.css%22/%3E%0A%20%20%20%20%3Clink%20rel%3D%22stylesheet%22%20href%3D%22https%3A//cdnjs.cloudflare.com/ajax/libs/Leaflet.awesome-markers/2.0.2/leaflet.awesome-markers.css%22/%3E%0A%20%20%20%20%3Clink%20rel%3D%22stylesheet%22%20href%3D%22https%3A//rawcdn.githack.com/python-visualization/folium/master/folium/templates/leaflet.awesome.rotate.css%22/%3E%0A%20%20%20%20%3Cstyle%3Ehtml%2C%20body%20%7Bwidth%3A%20100%25%3Bheight%3A%20100%25%3Bmargin%3A%200%3Bpadding%3A%200%3B%7D%3C/style%3E%0A%20%20%20%20%3Cstyle%3E%23map%20%7Bposition%3Aabsolute%3Btop%3A0%3Bbottom%3A0%3Bright%3A0%3Bleft%3A0%3B%7D%3C/style%3E%0A%20%20%20%20%0A%20%20%20%20%3Cmeta%20name%3D%22viewport%22%20content%3D%22width%3Ddevice-width%2C%0A%20%20%20%20%20%20%20%20initial-scale%3D1.0%2C%20maximum-scale%3D1.0%2C%20user-scalable%3Dno%22%20/%3E%0A%20%20%20%20%3Cstyle%3E%23map_c36e4efd3ea644b1b30f72f26a830f8a%20%7B%0A%20%20%20%20%20%20%20%20position%3A%20relative%3B%0A%20%20%20%20%20%20%20%20width%3A%20100.0%25%3B%0A%20%20%20%20%20%20%20%20height%3A%20100.0%25%3B%0A%20%20%20%20%20%20%20%20left%3A%200.0%25%3B%0A%20%20%20%20%20%20%20%20top%3A%200.0%25%3B%0A%20%20%20%20%20%20%20%20%7D%0A%20%20%20%20%3C/style%3E%0A%3C/head%3E%0A%3Cbody%3E%20%20%20%20%0A%20%20%20%20%0A%20%20%20%20%3Cdiv%20class%3D%22folium-map%22%20id%3D%22map_c36e4efd3ea644b1b30f72f26a830f8a%22%20%3E%3C/div%3E%0A%3C/body%3E%0A%3Cscript%3E%20%20%20%20%0A%20%20%20%20%0A%20%20%20%20%0A%20%20%20%20%20%20%20%20var%20bounds%20%3D%20null%3B%0A%20%20%20%20%0A%0A%20%20%20%20var%20map_c36e4efd3ea644b1b30f72f26a830f8a%20%3D%20L.map%28%0A%20%20%20%20%20%20%20%20%27map_c36e4efd3ea644b1b30f72f26a830f8a%27%2C%20%7B%0A%20%20%20%20%20%20%20%20center%3A%20%5B-9.93097535159907%2C%20-50.65246582031609%5D%2C%0A%20%20%20%20%20%20%20%20zoom%3A%2012%2C%0A%20%20%20%20%20%20%20%20maxBounds%3A%20bounds%2C%0A%20%20%20%20%20%20%20%20layers%3A%20%5B%5D%2C%0A%20%20%20%20%20%20%20%20worldCopyJump%3A%20false%2C%0A%20%20%20%20%20%20%20%20crs%3A%20L.CRS.EPSG3857%2C%0A%20%20%20%20%20%20%20%20zoomControl%3A%20true%2C%0A%20%20%20%20%20%20%20%20%7D%29%3B%0A%0A%0A%20%20%20%20%0A%20%20%20%20var%20tile_layer_82109f11c2aa43a2bc32929f4e484061%20%3D%20L.tileLayer%28%0A%20%20%20%20%20%20%20%20%27https%3A//%7Bs%7D.tile.openstreetmap.org/%7Bz%7D/%7Bx%7D/%7By%7D.png%27%2C%0A%20%20%20%20%20%20%20%20%7B%0A%20%20%20%20%20%20%20%20%22attribution%22%3A%20null%2C%0A%20%20%20%20%20%20%20%20%22detectRetina%22%3A%20false%2C%0A%20%20%20%20%20%20%20%20%22maxNativeZoom%22%3A%2018%2C%0A%20%20%20%20%20%20%20%20%22maxZoom%22%3A%2018%2C%0A%20%20%20%20%20%20%20%20%22minZoom%22%3A%200%2C%0A%20%20%20%20%20%20%20%20%22noWrap%22%3A%20false%2C%0A%20%20%20%20%20%20%20%20%22opacity%22%3A%201%2C%0A%20%20%20%20%20%20%20%20%22subdomains%22%3A%20%22abc%22%2C%0A%20%20%20%20%20%20%20%20%22tms%22%3A%20false%0A%7D%29.addTo%28map_c36e4efd3ea644b1b30f72f26a830f8a%29%3B%0A%20%20%20%20var%20tile_layer_91916afe0a6d4a8d8ba8f44284549401%20%3D%20L.tileLayer%28%0A%20%20%20%20%20%20%20%20%27https%3A//earthengine.googleapis.com/v1alpha/projects/earthengine-legacy/maps/ae26cd7df8ba80e7d58ecd1d090fd91e-36330a42faeb8a77f6d43b031c589b3e/tiles/%7Bz%7D/%7Bx%7D/%7By%7D%27%2C%0A%20%20%20%20%20%20%20%20%7B%0A%20%20%20%20%20%20%20%20%22attribution%22%3A%20%22Google%20Earth%20Engine%22%2C%0A%20%20%20%20%20%20%20%20%22detectRetina%22%3A%20false%2C%0A%20%20%20%20%20%20%20%20%22maxNativeZoom%22%3A%2018%2C%0A%20%20%20%20%20%20%20%20%22maxZoom%22%3A%2018%2C%0A%20%20%20%20%20%20%20%20%22minZoom%22%3A%200%2C%0A%20%20%20%20%20%20%20%20%22noWrap%22%3A%20false%2C%0A%20%20%20%20%20%20%20%20%22opacity%22%3A%201%2C%0A%20%20%20%20%20%20%20%20%22subdomains%22%3A%20%22abc%22%2C%0A%20%20%20%20%20%20%20%20%22tms%22%3A%20false%0A%7D%29.addTo%28map_c36e4efd3ea644b1b30f72f26a830f8a%29%3B%0A%20%20%20%20var%20tile_layer_ddd378c8e3eb481bb88c4a26feb1a69d%20%3D%20L.tileLayer%28%0A%20%20%20%20%20%20%20%20%27https%3A//earthengine.googleapis.com/v1alpha/projects/earthengine-legacy/maps/f46a88fced0aece4e63c8f841a507a98-59d01f509880af18f04715fd40ed5fa4/tiles/%7Bz%7D/%7Bx%7D/%7By%7D%27%2C%0A%20%20%20%20%20%20%20%20%7B%0A%20%20%20%20%20%20%20%20%22attribution%22%3A%20%22Google%20Earth%20Engine%22%2C%0A%20%20%20%20%20%20%20%20%22detectRetina%22%3A%20false%2C%0A%20%20%20%20%20%20%20%20%22maxNativeZoom%22%3A%2018%2C%0A%20%20%20%20%20%20%20%20%22maxZoom%22%3A%2018%2C%0A%20%20%20%20%20%20%20%20%22minZoom%22%3A%200%2C%0A%20%20%20%20%20%20%20%20%22noWrap%22%3A%20false%2C%0A%20%20%20%20%20%20%20%20%22opacity%22%3A%201%2C%0A%20%20%20%20%20%20%20%20%22subdomains%22%3A%20%22abc%22%2C%0A%20%20%20%20%20%20%20%20%22tms%22%3A%20false%0A%7D%29.addTo%28map_c36e4efd3ea644b1b30f72f26a830f8a%29%3B%0A%20%20%20%20%0A%20%20%20%20%20%20%20%20%20%20%20%20var%20layer_control_b56ccbac367345b18e0c961e518881f2%20%3D%20%7B%0A%20%20%20%20%20%20%20%20%20%20%20%20%20%20%20%20base_layers%20%3A%20%7B%20%22openstreetmap%22%20%3A%20tile_layer_82109f11c2aa43a2bc32929f4e484061%2C%20%7D%2C%0A%20%20%20%20%20%20%20%20%20%20%20%20%20%20%20%20overlays%20%3A%20%7B%20%22True%20Transition%20Map%22%20%3A%20tile_layer_91916afe0a6d4a8d8ba8f44284549401%2C%22Predicted%20Transition%20Map%22%20%3A%20tile_layer_ddd378c8e3eb481bb88c4a26feb1a69d%2C%20%7D%0A%20%20%20%20%20%20%20%20%20%20%20%20%20%20%20%20%7D%3B%0A%20%20%20%20%20%20%20%20%20%20%20%20L.control.layers%28%0A%20%20%20%20%20%20%20%20%20%20%20%20%20%20%20%20layer_control_b56ccbac367345b18e0c961e518881f2.base_layers%2C%0A%20%20%20%20%20%20%20%20%20%20%20%20%20%20%20%20layer_control_b56ccbac367345b18e0c961e518881f2.overlays%2C%0A%20%20%20%20%20%20%20%20%20%20%20%20%20%20%20%20%7Bposition%3A%20%27topright%27%2C%0A%20%20%20%20%20%20%20%20%20%20%20%20%20%20%20%20%20collapsed%3A%20true%2C%0A%20%20%20%20%20%20%20%20%20%20%20%20%20%20%20%20%20autoZIndex%3A%20true%0A%20%20%20%20%20%20%20%20%20%20%20%20%20%20%20%20%7D%29.addTo%28map_c36e4efd3ea644b1b30f72f26a830f8a%29%3B%0A%20%20%20%20%20%20%20%20%20%20%20%20%0A%20%20%20%20%20%20%20%20%0A%3C/script%3E onload=\"this.contentDocument.open();this.contentDocument.write(    decodeURIComponent(this.getAttribute('data-html')));this.contentDocument.close();\" \"allowfullscreen\" \"webkitallowfullscreen\" \"mozallowfullscreen\"></iframe>"
            ],
            "text/plain": [
              "<branca.element.Figure at 0x7fdfea44e850>"
            ]
          },
          "metadata": {},
          "execution_count": 14
        }
      ]
    },
    {
      "cell_type": "markdown",
      "source": [
        "# Unsupervised learning"
      ],
      "metadata": {
        "id": "vGa5cNsOwfpX"
      }
    },
    {
      "cell_type": "markdown",
      "source": [
        "Training"
      ],
      "metadata": {
        "id": "iZq8MauGDkyD"
      }
    },
    {
      "cell_type": "code",
      "source": [
        "train_points = train_img_cluster.sample(numPixels = 10000, \n",
        "                                        scale = 30, \n",
        "                                        seed = 0)\n",
        "\n",
        "# Note that although this outputs four classes (all classes except water are present in the image) the colours are randomly assigned when visualizing\n",
        "k_means = ee.Clusterer.wekaKMeans(4).train(train_points)"
      ],
      "metadata": {
        "id": "7yJm6Sl1widv"
      },
      "execution_count": 19,
      "outputs": []
    },
    {
      "cell_type": "markdown",
      "source": [
        "Testing"
      ],
      "metadata": {
        "id": "6DAN6sgXD1O7"
      }
    },
    {
      "cell_type": "code",
      "source": [
        "clustered_test_img = test_img.cluster(k_means).clip(test_aoi)"
      ],
      "metadata": {
        "id": "4vKBbG6CD2ps"
      },
      "execution_count": 20,
      "outputs": []
    },
    {
      "cell_type": "markdown",
      "source": [
        "Visualize results"
      ],
      "metadata": {
        "id": "WiS-O18xEFE7"
      }
    },
    {
      "cell_type": "code",
      "source": [
        "f = folium.Figure(width=1000, height=500)\n",
        "m = folium.Map(location=test_location, zoom_start=12).add_to(f)\n",
        "\n",
        "test_transition_map_image = test_transition_map.clip(test_aoi)\n",
        "\n",
        "vis_params = {\n",
        "\"min\": 0,\n",
        "\"max\": 4,\n",
        "\"palette\": [rgb(0,80,0), rgb(210,250,60), rgb(255,230,100), rgb(0,70,160 ), rgb(255,255,255)]}\n",
        "\n",
        "# this forces Earth Engine to render at 30m scale\n",
        "clustered_test_img = clustered_test_img.reproject(clustered_test_img.projection().crs(), scale=30)\n",
        "\n",
        "\n",
        "m.add_ee_layer(test_transition_map_image, vis_params, 'True Transition Map')\n",
        "m.add_ee_layer(clustered_test_img, vis_params, 'Predicted Transition Map')\n",
        "m.add_child(folium.LayerControl())\n",
        "\n",
        "f"
      ],
      "metadata": {
        "colab": {
          "base_uri": "https://localhost:8080/",
          "height": 521
        },
        "id": "clMWGBAqEGQs",
        "outputId": "f4d4743f-98ff-4aea-a482-53e4733c26f7"
      },
      "execution_count": 21,
      "outputs": [
        {
          "output_type": "execute_result",
          "data": {
            "text/html": [
              "<iframe src=\"about:blank\" width=\"1000\" height=\"500\"style=\"border:none !important;\" data-html=%3C%21DOCTYPE%20html%3E%0A%3Chead%3E%20%20%20%20%0A%20%20%20%20%3Cmeta%20http-equiv%3D%22content-type%22%20content%3D%22text/html%3B%20charset%3DUTF-8%22%20/%3E%0A%20%20%20%20%3Cscript%3EL_PREFER_CANVAS%3Dfalse%3B%20L_NO_TOUCH%3Dfalse%3B%20L_DISABLE_3D%3Dfalse%3B%3C/script%3E%0A%20%20%20%20%3Cscript%20src%3D%22https%3A//cdn.jsdelivr.net/npm/leaflet%401.4.0/dist/leaflet.js%22%3E%3C/script%3E%0A%20%20%20%20%3Cscript%20src%3D%22https%3A//code.jquery.com/jquery-1.12.4.min.js%22%3E%3C/script%3E%0A%20%20%20%20%3Cscript%20src%3D%22https%3A//maxcdn.bootstrapcdn.com/bootstrap/3.2.0/js/bootstrap.min.js%22%3E%3C/script%3E%0A%20%20%20%20%3Cscript%20src%3D%22https%3A//cdnjs.cloudflare.com/ajax/libs/Leaflet.awesome-markers/2.0.2/leaflet.awesome-markers.js%22%3E%3C/script%3E%0A%20%20%20%20%3Clink%20rel%3D%22stylesheet%22%20href%3D%22https%3A//cdn.jsdelivr.net/npm/leaflet%401.4.0/dist/leaflet.css%22/%3E%0A%20%20%20%20%3Clink%20rel%3D%22stylesheet%22%20href%3D%22https%3A//maxcdn.bootstrapcdn.com/bootstrap/3.2.0/css/bootstrap.min.css%22/%3E%0A%20%20%20%20%3Clink%20rel%3D%22stylesheet%22%20href%3D%22https%3A//maxcdn.bootstrapcdn.com/bootstrap/3.2.0/css/bootstrap-theme.min.css%22/%3E%0A%20%20%20%20%3Clink%20rel%3D%22stylesheet%22%20href%3D%22https%3A//maxcdn.bootstrapcdn.com/font-awesome/4.6.3/css/font-awesome.min.css%22/%3E%0A%20%20%20%20%3Clink%20rel%3D%22stylesheet%22%20href%3D%22https%3A//cdnjs.cloudflare.com/ajax/libs/Leaflet.awesome-markers/2.0.2/leaflet.awesome-markers.css%22/%3E%0A%20%20%20%20%3Clink%20rel%3D%22stylesheet%22%20href%3D%22https%3A//rawcdn.githack.com/python-visualization/folium/master/folium/templates/leaflet.awesome.rotate.css%22/%3E%0A%20%20%20%20%3Cstyle%3Ehtml%2C%20body%20%7Bwidth%3A%20100%25%3Bheight%3A%20100%25%3Bmargin%3A%200%3Bpadding%3A%200%3B%7D%3C/style%3E%0A%20%20%20%20%3Cstyle%3E%23map%20%7Bposition%3Aabsolute%3Btop%3A0%3Bbottom%3A0%3Bright%3A0%3Bleft%3A0%3B%7D%3C/style%3E%0A%20%20%20%20%0A%20%20%20%20%3Cmeta%20name%3D%22viewport%22%20content%3D%22width%3Ddevice-width%2C%0A%20%20%20%20%20%20%20%20initial-scale%3D1.0%2C%20maximum-scale%3D1.0%2C%20user-scalable%3Dno%22%20/%3E%0A%20%20%20%20%3Cstyle%3E%23map_941ad451deee4010a6e52b5842ee8b8b%20%7B%0A%20%20%20%20%20%20%20%20position%3A%20relative%3B%0A%20%20%20%20%20%20%20%20width%3A%20100.0%25%3B%0A%20%20%20%20%20%20%20%20height%3A%20100.0%25%3B%0A%20%20%20%20%20%20%20%20left%3A%200.0%25%3B%0A%20%20%20%20%20%20%20%20top%3A%200.0%25%3B%0A%20%20%20%20%20%20%20%20%7D%0A%20%20%20%20%3C/style%3E%0A%3C/head%3E%0A%3Cbody%3E%20%20%20%20%0A%20%20%20%20%0A%20%20%20%20%3Cdiv%20class%3D%22folium-map%22%20id%3D%22map_941ad451deee4010a6e52b5842ee8b8b%22%20%3E%3C/div%3E%0A%3C/body%3E%0A%3Cscript%3E%20%20%20%20%0A%20%20%20%20%0A%20%20%20%20%0A%20%20%20%20%20%20%20%20var%20bounds%20%3D%20null%3B%0A%20%20%20%20%0A%0A%20%20%20%20var%20map_941ad451deee4010a6e52b5842ee8b8b%20%3D%20L.map%28%0A%20%20%20%20%20%20%20%20%27map_941ad451deee4010a6e52b5842ee8b8b%27%2C%20%7B%0A%20%20%20%20%20%20%20%20center%3A%20%5B-9.93097535159907%2C%20-50.65246582031609%5D%2C%0A%20%20%20%20%20%20%20%20zoom%3A%2012%2C%0A%20%20%20%20%20%20%20%20maxBounds%3A%20bounds%2C%0A%20%20%20%20%20%20%20%20layers%3A%20%5B%5D%2C%0A%20%20%20%20%20%20%20%20worldCopyJump%3A%20false%2C%0A%20%20%20%20%20%20%20%20crs%3A%20L.CRS.EPSG3857%2C%0A%20%20%20%20%20%20%20%20zoomControl%3A%20true%2C%0A%20%20%20%20%20%20%20%20%7D%29%3B%0A%0A%0A%20%20%20%20%0A%20%20%20%20var%20tile_layer_aaa9208c5583462d94ada164f51c9fea%20%3D%20L.tileLayer%28%0A%20%20%20%20%20%20%20%20%27https%3A//%7Bs%7D.tile.openstreetmap.org/%7Bz%7D/%7Bx%7D/%7By%7D.png%27%2C%0A%20%20%20%20%20%20%20%20%7B%0A%20%20%20%20%20%20%20%20%22attribution%22%3A%20null%2C%0A%20%20%20%20%20%20%20%20%22detectRetina%22%3A%20false%2C%0A%20%20%20%20%20%20%20%20%22maxNativeZoom%22%3A%2018%2C%0A%20%20%20%20%20%20%20%20%22maxZoom%22%3A%2018%2C%0A%20%20%20%20%20%20%20%20%22minZoom%22%3A%200%2C%0A%20%20%20%20%20%20%20%20%22noWrap%22%3A%20false%2C%0A%20%20%20%20%20%20%20%20%22opacity%22%3A%201%2C%0A%20%20%20%20%20%20%20%20%22subdomains%22%3A%20%22abc%22%2C%0A%20%20%20%20%20%20%20%20%22tms%22%3A%20false%0A%7D%29.addTo%28map_941ad451deee4010a6e52b5842ee8b8b%29%3B%0A%20%20%20%20var%20tile_layer_8ae1b3718c6e4b1384a0d93b1e9eb40f%20%3D%20L.tileLayer%28%0A%20%20%20%20%20%20%20%20%27https%3A//earthengine.googleapis.com/v1alpha/projects/earthengine-legacy/maps/ae26cd7df8ba80e7d58ecd1d090fd91e-98bdd7d13487b3a6536c0a7c69ee9eed/tiles/%7Bz%7D/%7Bx%7D/%7By%7D%27%2C%0A%20%20%20%20%20%20%20%20%7B%0A%20%20%20%20%20%20%20%20%22attribution%22%3A%20%22Google%20Earth%20Engine%22%2C%0A%20%20%20%20%20%20%20%20%22detectRetina%22%3A%20false%2C%0A%20%20%20%20%20%20%20%20%22maxNativeZoom%22%3A%2018%2C%0A%20%20%20%20%20%20%20%20%22maxZoom%22%3A%2018%2C%0A%20%20%20%20%20%20%20%20%22minZoom%22%3A%200%2C%0A%20%20%20%20%20%20%20%20%22noWrap%22%3A%20false%2C%0A%20%20%20%20%20%20%20%20%22opacity%22%3A%201%2C%0A%20%20%20%20%20%20%20%20%22subdomains%22%3A%20%22abc%22%2C%0A%20%20%20%20%20%20%20%20%22tms%22%3A%20false%0A%7D%29.addTo%28map_941ad451deee4010a6e52b5842ee8b8b%29%3B%0A%20%20%20%20var%20tile_layer_430f4f78f2af4137a05262d4d583908a%20%3D%20L.tileLayer%28%0A%20%20%20%20%20%20%20%20%27https%3A//earthengine.googleapis.com/v1alpha/projects/earthengine-legacy/maps/3c44b8d9c2b9c77d3b23122a0f0d84ad-2fdc2a784d53111672e915ca6496500f/tiles/%7Bz%7D/%7Bx%7D/%7By%7D%27%2C%0A%20%20%20%20%20%20%20%20%7B%0A%20%20%20%20%20%20%20%20%22attribution%22%3A%20%22Google%20Earth%20Engine%22%2C%0A%20%20%20%20%20%20%20%20%22detectRetina%22%3A%20false%2C%0A%20%20%20%20%20%20%20%20%22maxNativeZoom%22%3A%2018%2C%0A%20%20%20%20%20%20%20%20%22maxZoom%22%3A%2018%2C%0A%20%20%20%20%20%20%20%20%22minZoom%22%3A%200%2C%0A%20%20%20%20%20%20%20%20%22noWrap%22%3A%20false%2C%0A%20%20%20%20%20%20%20%20%22opacity%22%3A%201%2C%0A%20%20%20%20%20%20%20%20%22subdomains%22%3A%20%22abc%22%2C%0A%20%20%20%20%20%20%20%20%22tms%22%3A%20false%0A%7D%29.addTo%28map_941ad451deee4010a6e52b5842ee8b8b%29%3B%0A%20%20%20%20%0A%20%20%20%20%20%20%20%20%20%20%20%20var%20layer_control_8b1c8ec61d494ab19e552e3440ee7b5d%20%3D%20%7B%0A%20%20%20%20%20%20%20%20%20%20%20%20%20%20%20%20base_layers%20%3A%20%7B%20%22openstreetmap%22%20%3A%20tile_layer_aaa9208c5583462d94ada164f51c9fea%2C%20%7D%2C%0A%20%20%20%20%20%20%20%20%20%20%20%20%20%20%20%20overlays%20%3A%20%7B%20%22True%20Transition%20Map%22%20%3A%20tile_layer_8ae1b3718c6e4b1384a0d93b1e9eb40f%2C%22Predicted%20Transition%20Map%22%20%3A%20tile_layer_430f4f78f2af4137a05262d4d583908a%2C%20%7D%0A%20%20%20%20%20%20%20%20%20%20%20%20%20%20%20%20%7D%3B%0A%20%20%20%20%20%20%20%20%20%20%20%20L.control.layers%28%0A%20%20%20%20%20%20%20%20%20%20%20%20%20%20%20%20layer_control_8b1c8ec61d494ab19e552e3440ee7b5d.base_layers%2C%0A%20%20%20%20%20%20%20%20%20%20%20%20%20%20%20%20layer_control_8b1c8ec61d494ab19e552e3440ee7b5d.overlays%2C%0A%20%20%20%20%20%20%20%20%20%20%20%20%20%20%20%20%7Bposition%3A%20%27topright%27%2C%0A%20%20%20%20%20%20%20%20%20%20%20%20%20%20%20%20%20collapsed%3A%20true%2C%0A%20%20%20%20%20%20%20%20%20%20%20%20%20%20%20%20%20autoZIndex%3A%20true%0A%20%20%20%20%20%20%20%20%20%20%20%20%20%20%20%20%7D%29.addTo%28map_941ad451deee4010a6e52b5842ee8b8b%29%3B%0A%20%20%20%20%20%20%20%20%20%20%20%20%0A%20%20%20%20%20%20%20%20%0A%3C/script%3E onload=\"this.contentDocument.open();this.contentDocument.write(    decodeURIComponent(this.getAttribute('data-html')));this.contentDocument.close();\" \"allowfullscreen\" \"webkitallowfullscreen\" \"mozallowfullscreen\"></iframe>"
            ],
            "text/plain": [
              "<branca.element.Figure at 0x7fdfea264f10>"
            ]
          },
          "metadata": {},
          "execution_count": 21
        }
      ]
    }
  ]
}