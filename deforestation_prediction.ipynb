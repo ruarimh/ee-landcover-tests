{
  "nbformat": 4,
  "nbformat_minor": 0,
  "metadata": {
    "colab": {
      "name": "deforestation_prediction.ipynb",
      "provenance": [],
      "collapsed_sections": [
        "rMU60y44jvHR",
        "pGpjvXvM9iB_"
      ]
    },
    "kernelspec": {
      "name": "python3",
      "display_name": "Python 3"
    },
    "language_info": {
      "name": "python"
    }
  },
  "cells": [
    {
      "cell_type": "markdown",
      "source": [
        "# Imports and choosing test and train area of interest"
      ],
      "metadata": {
        "id": "xVMnpIUW_szV"
      }
    },
    {
      "cell_type": "code",
      "execution_count": 1,
      "metadata": {
        "id": "6w0Qdyt7yIKW"
      },
      "outputs": [],
      "source": [
        "# Imports\n",
        "import ee\n",
        "import pprint\n",
        "import folium"
      ]
    },
    {
      "cell_type": "code",
      "source": [
        "# Trigger the authentication flow.\n",
        "ee.Authenticate()\n",
        "\n",
        "# Initialize the library.\n",
        "ee.Initialize()"
      ],
      "metadata": {
        "id": "1Ek4dlsZzp5H"
      },
      "execution_count": null,
      "outputs": []
    },
    {
      "cell_type": "code",
      "source": [
        "# Get an area in Brazil using http://geojson.io\n",
        "test_geoJSON = {\n",
        "  \"type\": \"FeatureCollection\",\n",
        "  \"features\": [\n",
        "    {\n",
        "      \"type\": \"Feature\",\n",
        "      \"properties\": {},\n",
        "      \"geometry\": {\n",
        "        \"type\": \"Polygon\",\n",
        "        \"coordinates\": [\n",
        "          [\n",
        "            [\n",
        "              -50.69091796875,\n",
        "              -9.96885060854611\n",
        "            ],\n",
        "            [\n",
        "              -50.614013671875,\n",
        "              -9.96885060854611\n",
        "            ],\n",
        "            [\n",
        "              -50.614013671875,\n",
        "              -9.893098633379571\n",
        "            ],\n",
        "            [\n",
        "              -50.69091796875,\n",
        "              -9.893098633379571\n",
        "            ],\n",
        "            [\n",
        "              -50.69091796875,\n",
        "              -9.96885060854611\n",
        "            ]\n",
        "          ]\n",
        "        ]\n",
        "      }\n",
        "    }\n",
        "  ]\n",
        "}\n",
        "\n",
        "# Put coordinates into ee format\n",
        "test_coords = test_geoJSON['features'][0]['geometry']['coordinates']\n",
        "test_aoi = ee.Geometry.Polygon(test_coords)\n",
        "\n",
        "\n",
        "\n",
        "train_geoJSON = {\n",
        "  \"type\": \"FeatureCollection\",\n",
        "  \"features\": [\n",
        "    {\n",
        "      \"type\": \"Feature\",\n",
        "      \"properties\": {},\n",
        "      \"geometry\": {\n",
        "        \"type\": \"Polygon\",\n",
        "        \"coordinates\": [\n",
        "          [\n",
        "            [\n",
        "              -52.81814575195312,\n",
        "              -10.668705375726015\n",
        "            ],\n",
        "            [\n",
        "              -52.33612060546875,\n",
        "              -10.668705375726015\n",
        "            ],\n",
        "            [\n",
        "              -52.33612060546875,\n",
        "              -10.09867012060338\n",
        "            ],\n",
        "            [\n",
        "              -52.81814575195312,\n",
        "              -10.09867012060338\n",
        "            ],\n",
        "            [\n",
        "              -52.81814575195312,\n",
        "              -10.668705375726015\n",
        "            ]\n",
        "          ]\n",
        "        ]\n",
        "      }\n",
        "    }\n",
        "  ]\n",
        "}\n",
        "\n",
        "\n",
        "train_coords = train_geoJSON['features'][0]['geometry']['coordinates']\n",
        "train_aoi = ee.Geometry.Polygon(train_coords)"
      ],
      "metadata": {
        "id": "SNXcf8HwytgA"
      },
      "execution_count": 3,
      "outputs": []
    },
    {
      "cell_type": "markdown",
      "source": [
        "# Loading Vancutsem and Landsat data"
      ],
      "metadata": {
        "id": "rMU60y44jvHR"
      }
    },
    {
      "cell_type": "markdown",
      "source": [
        "Load data in testing AOI"
      ],
      "metadata": {
        "id": "DpLPl1syrFm4"
      }
    },
    {
      "cell_type": "code",
      "source": [
        "# Vancutsem data guide available at https://forobs.jrc.ec.europa.eu/TMF/download/TMF_DataUsersGuide.pdf\n",
        "\n",
        "# the year a pixel is first deforested\n",
        "test_deforestation_year = ee.ImageCollection('projects/JRC/TMF/v1_2020/DeforestationYear').select(\"DeforestationYear\").filterBounds(test_aoi)\n",
        "\n",
        "# total number of disturbances\n",
        "test_intensity = ee.ImageCollection('projects/JRC/TMF/v1_2020/Intensity').select(\"Intensity\").filterBounds(test_aoi)\n",
        "\n",
        "# transition map: which class each pixel is in\n",
        "test_transition_map = ee.ImageCollection('projects/JRC/TMF/v1_2020/TransitionMap_MainClasses').mosaic()\n",
        "# Remap Vancutsem transition map into something easier to use\n",
        "# Forest regrowth --> Undisturbed tropical moist forest, all deforested land types in one class (including ongoing deforestation)\n",
        "test_transition_map = test_transition_map.remap([10,20,30,41,42,43,50,60,70],[0,1,0,2,2,2,2,3,4]).rename(\"class\")\n",
        "# 0 = Undisturbed, 1 = Degraded, 2 = Deforested, 3 = Water, 4 = Other\n",
        "\n",
        "# PALSAR SAR data\n",
        "test_palsar = ee.ImageCollection('JAXA/ALOS/PALSAR/YEARLY/SAR').filterBounds(test_aoi).filterDate('2019-01-01', '2019-12-31')\n",
        "# check which bands are available in aoi in the most recent image (VV and VH are not available, maybe due to the direction the satellite is pointing)\n",
        "print(\"PALSAR bands: \" ,test_palsar.sort('system:time_start', False).first().clip(test_aoi).bandNames().getInfo()) \n",
        "test_palsar = test_palsar.select('HH')\n",
        "\n",
        "# Sentinel-1 SAR data (split into two lines because it is very long)\n",
        "test_sentinel = ee.ImageCollection('COPERNICUS/S1_GRD').filterBounds(test_aoi).filterDate('2019-01-01', '2019-12-31')\n",
        "# check which bands are available in aoi in the most recent image (HH and HV are not available, maybe due to the direction the satellite is pointing)\n",
        "print(\"Sentinel-1 bands: \" ,test_sentinel.sort('system:time_start', False).first().clip(test_aoi).bandNames().getInfo()) \n",
        "test_sentinel = test_sentinel.select('VV')\n",
        "\n",
        "\n",
        "\n",
        "# Landsat 8 data: we only use 2019 data\n",
        "test_landsat = ee.ImageCollection('LANDSAT/LC08/C01/T1_TOA').filterBounds(test_aoi).filterDate('2019-01-01', '2019-12-31')\n",
        "\n",
        "# function to compute NDVI\n",
        "def calculate_NDVI(image):\n",
        "    ndvi = image.normalizedDifference(['B5', 'B4']).rename('NDVI')\n",
        "    return image.addBands(ndvi)\n",
        "\n",
        "# compute NDVI\n",
        "test_landsat_ndvi = test_landsat.map(calculate_NDVI).select('NDVI')\n",
        "\n",
        "\n"
      ],
      "metadata": {
        "id": "LiPLawbzjtPJ",
        "colab": {
          "base_uri": "https://localhost:8080/"
        },

        "outputId": "520545c5-e035-4977-df5e-2ef11d7a6b81"

      },
      "execution_count": 4,
      "outputs": [
        {
          "output_type": "stream",
          "name": "stdout",
          "text": [
            "PALSAR bands:  ['HH', 'HV', 'angle', 'date', 'qa']\n",
            "Sentinel-1 bands:  ['VV', 'VH', 'angle']\n"
          ]
        }
      ]
    },
    {
      "cell_type": "markdown",
      "source": [
        "Load data in training aoi"
      ],
      "metadata": {
        "id": "A-wezjYCrKEw"
      }
    },
    {
      "cell_type": "code",
      "source": [
        "# Copy/pasting code like this is not ideal, but having different variable names at least means data leakage is impossible\n",
        "\n",
        "# Vancutsem data guide available at https://forobs.jrc.ec.europa.eu/TMF/download/TMF_DataUsersGuide.pdf\n",
        "\n",
        "# the year a pixel is first deforested\n",
        "train_deforestation_year = ee.ImageCollection('projects/JRC/TMF/v1_2020/DeforestationYear').select(\"DeforestationYear\").filterBounds(train_aoi)\n",
        "\n",
        "# total number of disturbances\n",
        "train_intensity = ee.ImageCollection('projects/JRC/TMF/v1_2020/Intensity').select(\"Intensity\").filterBounds(train_aoi)\n",
        "\n",
        "# transition map: which class each pixel is in\n",
        "train_transition_map = ee.ImageCollection('projects/JRC/TMF/v1_2020/TransitionMap_MainClasses').mosaic()\n",
        "# Remap Vancutsem transition map into something easier to use\n",
        "# Forest regrowth --> Undisturbed tropical moist forest, all deforested land types in one class (including ongoing deforestation)\n",
        "train_transition_map = train_transition_map.remap([10,20,30,41,42,43,50,60,70],[0,1,0,2,2,2,2,3,4]).rename(\"class\")\n",
        "# 0 = Undisturbed, 1 = Degraded, 2 = Deforested, 3 = Water, 4 = Other\n",
        "\n",
        "# PALSAR SAR data\n",
        "train_palsar = ee.ImageCollection('JAXA/ALOS/PALSAR/YEARLY/SAR').filterBounds(train_aoi).filterDate('2019-01-01', '2019-12-31')\n",
        "# check which bands are available in aoi in the most recent image (VV and VH are not available, maybe due to the direction the satellite is pointing)\n",
        "print(\"PALSAR bands: \" ,train_palsar.sort('system:time_start', False).first().clip(train_aoi).bandNames().getInfo()) \n",
        "train_palsar = train_palsar.select('HH')\n",
        "\n",
        "# Sentinel-1 SAR data (split into two lines because it is very long)\n",
        "train_sentinel = ee.ImageCollection('COPERNICUS/S1_GRD').filterBounds(train_aoi).filterDate('2019-01-01', '2019-12-31')\n",
        "# check which bands are available in aoi in the most recent image (HH and HV are not available, maybe due to the direction the satellite is pointing)\n",
        "print(\"Sentinel-1 bands: \" ,train_sentinel.sort('system:time_start', False).first().clip(train_aoi).bandNames().getInfo()) \n",
        "train_sentinel = train_sentinel.select('VV')\n",
        "\n",
        "\n",
        "\n",
        "# Landsat 8 data: we only use 2019 data\n",
        "train_landsat = ee.ImageCollection('LANDSAT/LC08/C01/T1_TOA').filterBounds(train_aoi).filterDate('2019-01-01', '2019-12-31')\n",
        "\n",
        "# function to compute NDVI\n",
        "def calculate_NDVI(image):\n",
        "    ndvi = image.normalizedDifference(['B5', 'B4']).rename('NDVI')\n",
        "    return image.addBands(ndvi)\n",
        "\n",
        "# compute NDVI\n",
        "train_landsat_ndvi = train_landsat.map(calculate_NDVI).select('NDVI')\n"
      ],
      "metadata": {
        "colab": {
          "base_uri": "https://localhost:8080/"
        },
        "id": "5GmmOKXKrJSA",

        "outputId": "5c4aac17-9cac-4d9f-ed7f-620a2e74fafc"

      },
      "execution_count": 5,
      "outputs": [
        {
          "output_type": "stream",
          "name": "stdout",
          "text": [
            "PALSAR bands:  ['HH', 'HV', 'angle', 'date', 'qa']\n",
            "Sentinel-1 bands:  ['VV', 'VH', 'angle']\n"
          ]
        }
      ]
    },
    {
      "cell_type": "markdown",
      "source": [
        "# Folium functions"
      ],
      "metadata": {
        "id": "pGpjvXvM9iB_"
      }
    },
    {
      "cell_type": "code",
      "source": [
        "# Add custom basemaps to folium\n",
        "basemaps = {\n",
        "    'Google Maps': folium.TileLayer(\n",
        "        tiles = 'https://mt1.google.com/vt/lyrs=m&x={x}&y={y}&z={z}',\n",
        "        attr = 'Google',\n",
        "        name = 'Google Maps',\n",
        "        overlay = True,\n",
        "        control = True\n",
        "    ),\n",
        "    'Google Satellite': folium.TileLayer(\n",
        "        tiles = 'https://mt1.google.com/vt/lyrs=s&x={x}&y={y}&z={z}',\n",
        "        attr = 'Google',\n",
        "        name = 'Google Satellite',\n",
        "        overlay = True,\n",
        "        control = True\n",
        "    ),\n",
        "    'Google Terrain': folium.TileLayer(\n",
        "        tiles = 'https://mt1.google.com/vt/lyrs=p&x={x}&y={y}&z={z}',\n",
        "        attr = 'Google',\n",
        "        name = 'Google Terrain',\n",
        "        overlay = True,\n",
        "        control = True\n",
        "    ),\n",
        "    'Google Satellite Hybrid': folium.TileLayer(\n",
        "        tiles = 'https://mt1.google.com/vt/lyrs=y&x={x}&y={y}&z={z}',\n",
        "        attr = 'Google',\n",
        "        name = 'Google Satellite',\n",
        "        overlay = True,\n",
        "        control = True\n",
        "    ),\n",
        "    'Esri Satellite': folium.TileLayer(\n",
        "        tiles = 'https://server.arcgisonline.com/ArcGIS/rest/services/World_Imagery/MapServer/tile/{z}/{y}/{x}',\n",
        "        attr = 'Esri',\n",
        "        name = 'Esri Satellite',\n",
        "        overlay = True,\n",
        "        control = True\n",
        "    )\n",
        "}"
      ],
      "metadata": {
        "id": "W8EoDNun5-tu"
      },
      "execution_count": 6,
      "outputs": []
    },
    {
      "cell_type": "code",
      "source": [
        "# Define a method for displaying Earth Engine image tiles on a folium map.\n",
        "def add_ee_layer(self, ee_object, vis_params, name):\n",
        "    \n",
        "        # display ee.Image()\n",
        "        if isinstance(ee_object, ee.image.Image):    \n",
        "            map_id_dict = ee.Image(ee_object).getMapId(vis_params)\n",
        "            folium.raster_layers.TileLayer(\n",
        "            tiles = map_id_dict['tile_fetcher'].url_format,\n",
        "            attr = 'Google Earth Engine',\n",
        "            name = name,\n",
        "            overlay = True,\n",
        "            control = True\n",
        "            ).add_to(self)\n",
        "        # display ee.ImageCollection()\n",
        "        elif isinstance(ee_object, ee.imagecollection.ImageCollection):    \n",
        "            ee_object_new = ee_object.mosaic()\n",
        "            map_id_dict = ee.Image(ee_object_new).getMapId(vis_params)\n",
        "            folium.raster_layers.TileLayer(\n",
        "            tiles = map_id_dict['tile_fetcher'].url_format,\n",
        "            attr = 'Google Earth Engine',\n",
        "            name = name,\n",
        "            overlay = True,\n",
        "            control = True\n",
        "            ).add_to(self)\n",
        "        # display ee.Geometry()\n",
        "        elif isinstance(ee_object, ee.geometry.Geometry):    \n",
        "            folium.GeoJson(\n",
        "            data = ee_object.getInfo(),\n",
        "            name = name,\n",
        "            overlay = True,\n",
        "            control = True\n",
        "        ).add_to(self)\n",
        "        # display ee.FeatureCollection()\n",
        "        elif isinstance(ee_object, ee.featurecollection.FeatureCollection):  \n",
        "            ee_object_new = ee.Image().paint(ee_object, 0, 2)\n",
        "            map_id_dict = ee.Image(ee_object_new).getMapId(vis_params)\n",
        "            folium.raster_layers.TileLayer(\n",
        "            tiles = map_id_dict['tile_fetcher'].url_format,\n",
        "            attr = 'Google Earth Engine',\n",
        "            name = name,\n",
        "            overlay = True,\n",
        "            control = True\n",
        "        ).add_to(self)\n",
        "    \n",
        "    \n",
        "# Add EE drawing method to folium.\n",
        "folium.Map.add_ee_layer = add_ee_layer"
      ],
      "metadata": {
        "id": "5OqzCbnF5jG-"
      },
      "execution_count": 7,
      "outputs": []
    },
    {
      "cell_type": "code",
      "source": [
        "#converts rgb value to hex\n",
        "def rgb(r, g, b):\n",
        "  return ('#%02x%02x%02x' % (r, g, b))"
      ],
      "metadata": {
        "id": "GbKdEfLDhzZQ"
      },
      "execution_count": 8,
      "outputs": []
    },
    {
      "cell_type": "markdown",
      "source": [
        "# Visualize the training set map"
      ],
      "metadata": {
        "id": "sooUZK6cvFZn"
      }
    },
    {
      "cell_type": "code",
      "source": [
        "# Get one image from the deforestation year collection, and remove values where no deforestation has occurred\n",
        "train_deforestation_year_image = train_deforestation_year.first().clip(train_aoi)\n",
        "train_deforestation_year_image = train_deforestation_year_image.updateMask(train_deforestation_year_image.neq(0))\n",
        "\n",
        "# Convert to folium coordinates\n",
        "train_location = train_aoi.centroid().coordinates().getInfo()[::-1]\n",
        "\n",
        "# Colour parameters for deforestation_year\n",
        "vis_params = {\n",
        "'min': 1982,\n",
        "'max': 2020,\n",
        "\"palette\": [rgb(40,146,199), rgb(179,8,0)]}\n",
        "\n",
        "# Create the map object.\n",
        "f = folium.Figure(width=1000, height=500)\n",
        "m = folium.Map(location=train_location, zoom_start=12).add_to(f)\n",
        "\n",
        "# add satellite imagery\n",
        "basemaps['Google Satellite Hybrid'].add_to(m)\n",
        "\n",
        "# Add the deforestation year to the map\n",
        "m.add_ee_layer(train_deforestation_year_image, vis_params, 'Deforestation Year')\n",
        "\n",
        "\n",
        "\n",
        "# Get one image from the intensity collection\n",
        "train_intensity_image = train_intensity.first().clip(train_aoi)\n",
        "\n",
        "# Colour parameters for intensity\n",
        "vis_params = {\n",
        "'min': 1,\n",
        "'max': 500,\n",
        "\"palette\": [rgb(0,128,0), rgb(255,0,0)]}\n",
        "\n",
        "# Add the intensity to the map\n",
        "m.add_ee_layer(train_intensity_image, vis_params, 'Intensity')\n",
        "\n",
        "\n",
        "\n",
        "\n",
        "# Get one image from the transition map collection\n",
        "train_transition_map_image = train_transition_map.clip(train_aoi)\n",
        "\n",
        "# Colour parameters for transition map\n",
        "vis_params = {\n",
        "\"palette\": [rgb(0,80,0), rgb(210,250,60 ), rgb(255,230,100 ), rgb(0,70,160 ), rgb(255,255,255)]}\n",
        "\n",
        "# Add the transition map to the map\n",
        "m.add_ee_layer(train_transition_map_image, vis_params, 'Transition Map')\n",
        "\n",
        "\n",
        "\n",
        "\n",
        "# Get one image from the 2019 landsat NDVI collection with the least clouds\n",
        "train_landsat_ndvi_image = train_landsat_ndvi.sort('CLOUD_COVER').first().clip(train_aoi) #2019 image is not blank, but when using .filterDate('2014-01-01', '2020-01-01') it was blank... why?\n",
        "\n",
        "# Colour parameters for NDVI\n",
        "vis_params = {\n",
        "    'min': -1,\n",
        "    'max': 1,\n",
        "    \"palette\": [rgb(255, 255, 204), rgb(0, 153, 0)]}\n",
        "\n",
        "# Add the NDVI to the map\n",
        "m.add_ee_layer(train_landsat_ndvi_image, vis_params, 'Landsat NDVI')\n",
        "\n",
        "\n",
        "\n",
        "# Get one image of the most recent PALSAR data\n",
        "train_palsar_image = train_palsar.sort('system:time_start', False).first().clip(train_aoi)\n",
        "\n",
        "# Colour parameters for PALSAR\n",
        "vis_params = {\n",
        "    'min': 0,\n",
        "    'max': 10000,}\n",
        "\n",
        "# Add the PALSAR to the map\n",
        "m.add_ee_layer(train_palsar_image, vis_params, 'PALSAR')\n",
        "\n",
        "\n",
        "\n",
        "\n",
        "# Get one image of the most recent Sentinel data\n",
        "train_sentinel_image = train_sentinel.mosaic().clip(train_aoi)\n",
        "\n",
        "# Colour parameters for Sentinel\n",
        "vis_params = {\n",
        "    'min': -50,\n",
        "    'max': 1,}\n",
        "\n",
        "# Add the Sentinel to the map\n",
        "m.add_ee_layer(train_sentinel_image, vis_params, 'Sentinel-1')\n",
        "\n",
        "\n",
        "\n",
        "\n",
        "# Add a layer control panel to the map.\n",
        "m.add_child(folium.LayerControl())\n",
        "\n",
        "# Display the map.\n",
        "f"
      ],
      "metadata": {
        "colab": {
          "base_uri": "https://localhost:8080/",
          "height": 541
        },
        "id": "QdmtRSYqvEcf",

        "outputId": "da41a4e6-907b-4497-95e1-0d5f7e289ea3"

      },
      "execution_count": 9,
      "outputs": [
        {
          "output_type": "execute_result",
          "data": {
            "text/html": [

              "<iframe src=\"about:blank\" width=\"1000\" height=\"500\"style=\"border:none !important;\" data-html=%3C%21DOCTYPE%20html%3E%0A%3Chead%3E%20%20%20%20%0A%20%20%20%20%3Cmeta%20http-equiv%3D%22content-type%22%20content%3D%22text/html%3B%20charset%3DUTF-8%22%20/%3E%0A%20%20%20%20%3Cscript%3EL_PREFER_CANVAS%3Dfalse%3B%20L_NO_TOUCH%3Dfalse%3B%20L_DISABLE_3D%3Dfalse%3B%3C/script%3E%0A%20%20%20%20%3Cscript%20src%3D%22https%3A//cdn.jsdelivr.net/npm/leaflet%401.4.0/dist/leaflet.js%22%3E%3C/script%3E%0A%20%20%20%20%3Cscript%20src%3D%22https%3A//code.jquery.com/jquery-1.12.4.min.js%22%3E%3C/script%3E%0A%20%20%20%20%3Cscript%20src%3D%22https%3A//maxcdn.bootstrapcdn.com/bootstrap/3.2.0/js/bootstrap.min.js%22%3E%3C/script%3E%0A%20%20%20%20%3Cscript%20src%3D%22https%3A//cdnjs.cloudflare.com/ajax/libs/Leaflet.awesome-markers/2.0.2/leaflet.awesome-markers.js%22%3E%3C/script%3E%0A%20%20%20%20%3Clink%20rel%3D%22stylesheet%22%20href%3D%22https%3A//cdn.jsdelivr.net/npm/leaflet%401.4.0/dist/leaflet.css%22/%3E%0A%20%20%20%20%3Clink%20rel%3D%22stylesheet%22%20href%3D%22https%3A//maxcdn.bootstrapcdn.com/bootstrap/3.2.0/css/bootstrap.min.css%22/%3E%0A%20%20%20%20%3Clink%20rel%3D%22stylesheet%22%20href%3D%22https%3A//maxcdn.bootstrapcdn.com/bootstrap/3.2.0/css/bootstrap-theme.min.css%22/%3E%0A%20%20%20%20%3Clink%20rel%3D%22stylesheet%22%20href%3D%22https%3A//maxcdn.bootstrapcdn.com/font-awesome/4.6.3/css/font-awesome.min.css%22/%3E%0A%20%20%20%20%3Clink%20rel%3D%22stylesheet%22%20href%3D%22https%3A//cdnjs.cloudflare.com/ajax/libs/Leaflet.awesome-markers/2.0.2/leaflet.awesome-markers.css%22/%3E%0A%20%20%20%20%3Clink%20rel%3D%22stylesheet%22%20href%3D%22https%3A//rawcdn.githack.com/python-visualization/folium/master/folium/templates/leaflet.awesome.rotate.css%22/%3E%0A%20%20%20%20%3Cstyle%3Ehtml%2C%20body%20%7Bwidth%3A%20100%25%3Bheight%3A%20100%25%3Bmargin%3A%200%3Bpadding%3A%200%3B%7D%3C/style%3E%0A%20%20%20%20%3Cstyle%3E%23map%20%7Bposition%3Aabsolute%3Btop%3A0%3Bbottom%3A0%3Bright%3A0%3Bleft%3A0%3B%7D%3C/style%3E%0A%20%20%20%20%0A%20%20%20%20%3Cmeta%20name%3D%22viewport%22%20content%3D%22width%3Ddevice-width%2C%0A%20%20%20%20%20%20%20%20initial-scale%3D1.0%2C%20maximum-scale%3D1.0%2C%20user-scalable%3Dno%22%20/%3E%0A%20%20%20%20%3Cstyle%3E%23map_60ab34191f2e404b8059e2e8164995c8%20%7B%0A%20%20%20%20%20%20%20%20position%3A%20relative%3B%0A%20%20%20%20%20%20%20%20width%3A%20100.0%25%3B%0A%20%20%20%20%20%20%20%20height%3A%20100.0%25%3B%0A%20%20%20%20%20%20%20%20left%3A%200.0%25%3B%0A%20%20%20%20%20%20%20%20top%3A%200.0%25%3B%0A%20%20%20%20%20%20%20%20%7D%0A%20%20%20%20%3C/style%3E%0A%3C/head%3E%0A%3Cbody%3E%20%20%20%20%0A%20%20%20%20%0A%20%20%20%20%3Cdiv%20class%3D%22folium-map%22%20id%3D%22map_60ab34191f2e404b8059e2e8164995c8%22%20%3E%3C/div%3E%0A%3C/body%3E%0A%3Cscript%3E%20%20%20%20%0A%20%20%20%20%0A%20%20%20%20%0A%20%20%20%20%20%20%20%20var%20bounds%20%3D%20null%3B%0A%20%20%20%20%0A%0A%20%20%20%20var%20map_60ab34191f2e404b8059e2e8164995c8%20%3D%20L.map%28%0A%20%20%20%20%20%20%20%20%27map_60ab34191f2e404b8059e2e8164995c8%27%2C%20%7B%0A%20%20%20%20%20%20%20%20center%3A%20%5B-10.38369101128682%2C%20-52.577133178711705%5D%2C%0A%20%20%20%20%20%20%20%20zoom%3A%2012%2C%0A%20%20%20%20%20%20%20%20maxBounds%3A%20bounds%2C%0A%20%20%20%20%20%20%20%20layers%3A%20%5B%5D%2C%0A%20%20%20%20%20%20%20%20worldCopyJump%3A%20false%2C%0A%20%20%20%20%20%20%20%20crs%3A%20L.CRS.EPSG3857%2C%0A%20%20%20%20%20%20%20%20zoomControl%3A%20true%2C%0A%20%20%20%20%20%20%20%20%7D%29%3B%0A%0A%0A%20%20%20%20%0A%20%20%20%20var%20tile_layer_1d412d6170d5443bb97bfab3e869689b%20%3D%20L.tileLayer%28%0A%20%20%20%20%20%20%20%20%27https%3A//%7Bs%7D.tile.openstreetmap.org/%7Bz%7D/%7Bx%7D/%7By%7D.png%27%2C%0A%20%20%20%20%20%20%20%20%7B%0A%20%20%20%20%20%20%20%20%22attribution%22%3A%20null%2C%0A%20%20%20%20%20%20%20%20%22detectRetina%22%3A%20false%2C%0A%20%20%20%20%20%20%20%20%22maxNativeZoom%22%3A%2018%2C%0A%20%20%20%20%20%20%20%20%22maxZoom%22%3A%2018%2C%0A%20%20%20%20%20%20%20%20%22minZoom%22%3A%200%2C%0A%20%20%20%20%20%20%20%20%22noWrap%22%3A%20false%2C%0A%20%20%20%20%20%20%20%20%22opacity%22%3A%201%2C%0A%20%20%20%20%20%20%20%20%22subdomains%22%3A%20%22abc%22%2C%0A%20%20%20%20%20%20%20%20%22tms%22%3A%20false%0A%7D%29.addTo%28map_60ab34191f2e404b8059e2e8164995c8%29%3B%0A%20%20%20%20var%20tile_layer_63f31497ccfa48ce835edaa40c5a08c9%20%3D%20L.tileLayer%28%0A%20%20%20%20%20%20%20%20%27https%3A//mt1.google.com/vt/lyrs%3Dy%26x%3D%7Bx%7D%26y%3D%7By%7D%26z%3D%7Bz%7D%27%2C%0A%20%20%20%20%20%20%20%20%7B%0A%20%20%20%20%20%20%20%20%22attribution%22%3A%20%22Google%22%2C%0A%20%20%20%20%20%20%20%20%22detectRetina%22%3A%20false%2C%0A%20%20%20%20%20%20%20%20%22maxNativeZoom%22%3A%2018%2C%0A%20%20%20%20%20%20%20%20%22maxZoom%22%3A%2018%2C%0A%20%20%20%20%20%20%20%20%22minZoom%22%3A%200%2C%0A%20%20%20%20%20%20%20%20%22noWrap%22%3A%20false%2C%0A%20%20%20%20%20%20%20%20%22opacity%22%3A%201%2C%0A%20%20%20%20%20%20%20%20%22subdomains%22%3A%20%22abc%22%2C%0A%20%20%20%20%20%20%20%20%22tms%22%3A%20false%0A%7D%29.addTo%28map_60ab34191f2e404b8059e2e8164995c8%29%3B%0A%20%20%20%20var%20tile_layer_72e193e0b320473eadc3d6cac50e630b%20%3D%20L.tileLayer%28%0A%20%20%20%20%20%20%20%20%27https%3A//earthengine.googleapis.com/v1alpha/projects/earthengine-legacy/maps/a2f4f6550b6818d89ce0f5ff1535f913-d09acca9054da69650c51f1163599bc3/tiles/%7Bz%7D/%7Bx%7D/%7By%7D%27%2C%0A%20%20%20%20%20%20%20%20%7B%0A%20%20%20%20%20%20%20%20%22attribution%22%3A%20%22Google%20Earth%20Engine%22%2C%0A%20%20%20%20%20%20%20%20%22detectRetina%22%3A%20false%2C%0A%20%20%20%20%20%20%20%20%22maxNativeZoom%22%3A%2018%2C%0A%20%20%20%20%20%20%20%20%22maxZoom%22%3A%2018%2C%0A%20%20%20%20%20%20%20%20%22minZoom%22%3A%200%2C%0A%20%20%20%20%20%20%20%20%22noWrap%22%3A%20false%2C%0A%20%20%20%20%20%20%20%20%22opacity%22%3A%201%2C%0A%20%20%20%20%20%20%20%20%22subdomains%22%3A%20%22abc%22%2C%0A%20%20%20%20%20%20%20%20%22tms%22%3A%20false%0A%7D%29.addTo%28map_60ab34191f2e404b8059e2e8164995c8%29%3B%0A%20%20%20%20var%20tile_layer_25e7c5e561f044cebd1d523506107315%20%3D%20L.tileLayer%28%0A%20%20%20%20%20%20%20%20%27https%3A//earthengine.googleapis.com/v1alpha/projects/earthengine-legacy/maps/0f7cade52e3f6be307ebf81a04c86f6b-4122a404942521df5bf8d6bbc22783b3/tiles/%7Bz%7D/%7Bx%7D/%7By%7D%27%2C%0A%20%20%20%20%20%20%20%20%7B%0A%20%20%20%20%20%20%20%20%22attribution%22%3A%20%22Google%20Earth%20Engine%22%2C%0A%20%20%20%20%20%20%20%20%22detectRetina%22%3A%20false%2C%0A%20%20%20%20%20%20%20%20%22maxNativeZoom%22%3A%2018%2C%0A%20%20%20%20%20%20%20%20%22maxZoom%22%3A%2018%2C%0A%20%20%20%20%20%20%20%20%22minZoom%22%3A%200%2C%0A%20%20%20%20%20%20%20%20%22noWrap%22%3A%20false%2C%0A%20%20%20%20%20%20%20%20%22opacity%22%3A%201%2C%0A%20%20%20%20%20%20%20%20%22subdomains%22%3A%20%22abc%22%2C%0A%20%20%20%20%20%20%20%20%22tms%22%3A%20false%0A%7D%29.addTo%28map_60ab34191f2e404b8059e2e8164995c8%29%3B%0A%20%20%20%20var%20tile_layer_99107fb6334048d98cebb8064f0e9d02%20%3D%20L.tileLayer%28%0A%20%20%20%20%20%20%20%20%27https%3A//earthengine.googleapis.com/v1alpha/projects/earthengine-legacy/maps/3ffb839166803930855d991446a5da51-bd8cf53441391f6cc37992a9a8cfa4d5/tiles/%7Bz%7D/%7Bx%7D/%7By%7D%27%2C%0A%20%20%20%20%20%20%20%20%7B%0A%20%20%20%20%20%20%20%20%22attribution%22%3A%20%22Google%20Earth%20Engine%22%2C%0A%20%20%20%20%20%20%20%20%22detectRetina%22%3A%20false%2C%0A%20%20%20%20%20%20%20%20%22maxNativeZoom%22%3A%2018%2C%0A%20%20%20%20%20%20%20%20%22maxZoom%22%3A%2018%2C%0A%20%20%20%20%20%20%20%20%22minZoom%22%3A%200%2C%0A%20%20%20%20%20%20%20%20%22noWrap%22%3A%20false%2C%0A%20%20%20%20%20%20%20%20%22opacity%22%3A%201%2C%0A%20%20%20%20%20%20%20%20%22subdomains%22%3A%20%22abc%22%2C%0A%20%20%20%20%20%20%20%20%22tms%22%3A%20false%0A%7D%29.addTo%28map_60ab34191f2e404b8059e2e8164995c8%29%3B%0A%20%20%20%20var%20tile_layer_f0367e8dbaa049cab7702e962338fc76%20%3D%20L.tileLayer%28%0A%20%20%20%20%20%20%20%20%27https%3A//earthengine.googleapis.com/v1alpha/projects/earthengine-legacy/maps/fe98ca46535b5444e2a950809163649b-be7e75287a0073b79aec3848e23c38d6/tiles/%7Bz%7D/%7Bx%7D/%7By%7D%27%2C%0A%20%20%20%20%20%20%20%20%7B%0A%20%20%20%20%20%20%20%20%22attribution%22%3A%20%22Google%20Earth%20Engine%22%2C%0A%20%20%20%20%20%20%20%20%22detectRetina%22%3A%20false%2C%0A%20%20%20%20%20%20%20%20%22maxNativeZoom%22%3A%2018%2C%0A%20%20%20%20%20%20%20%20%22maxZoom%22%3A%2018%2C%0A%20%20%20%20%20%20%20%20%22minZoom%22%3A%200%2C%0A%20%20%20%20%20%20%20%20%22noWrap%22%3A%20false%2C%0A%20%20%20%20%20%20%20%20%22opacity%22%3A%201%2C%0A%20%20%20%20%20%20%20%20%22subdomains%22%3A%20%22abc%22%2C%0A%20%20%20%20%20%20%20%20%22tms%22%3A%20false%0A%7D%29.addTo%28map_60ab34191f2e404b8059e2e8164995c8%29%3B%0A%20%20%20%20var%20tile_layer_0c6678c6f7b24b76aff30f9eeace0597%20%3D%20L.tileLayer%28%0A%20%20%20%20%20%20%20%20%27https%3A//earthengine.googleapis.com/v1alpha/projects/earthengine-legacy/maps/bb912034e049459d972b3bd3eb639a0d-ff52ee84552f1f18054255aea62e091c/tiles/%7Bz%7D/%7Bx%7D/%7By%7D%27%2C%0A%20%20%20%20%20%20%20%20%7B%0A%20%20%20%20%20%20%20%20%22attribution%22%3A%20%22Google%20Earth%20Engine%22%2C%0A%20%20%20%20%20%20%20%20%22detectRetina%22%3A%20false%2C%0A%20%20%20%20%20%20%20%20%22maxNativeZoom%22%3A%2018%2C%0A%20%20%20%20%20%20%20%20%22maxZoom%22%3A%2018%2C%0A%20%20%20%20%20%20%20%20%22minZoom%22%3A%200%2C%0A%20%20%20%20%20%20%20%20%22noWrap%22%3A%20false%2C%0A%20%20%20%20%20%20%20%20%22opacity%22%3A%201%2C%0A%20%20%20%20%20%20%20%20%22subdomains%22%3A%20%22abc%22%2C%0A%20%20%20%20%20%20%20%20%22tms%22%3A%20false%0A%7D%29.addTo%28map_60ab34191f2e404b8059e2e8164995c8%29%3B%0A%20%20%20%20var%20tile_layer_97795a939bde405e95602dbafa0801c4%20%3D%20L.tileLayer%28%0A%20%20%20%20%20%20%20%20%27https%3A//earthengine.googleapis.com/v1alpha/projects/earthengine-legacy/maps/7f846375c3dde0612cec12febda43e08-80a6b0f7bb005add8b73f60219c1a3d7/tiles/%7Bz%7D/%7Bx%7D/%7By%7D%27%2C%0A%20%20%20%20%20%20%20%20%7B%0A%20%20%20%20%20%20%20%20%22attribution%22%3A%20%22Google%20Earth%20Engine%22%2C%0A%20%20%20%20%20%20%20%20%22detectRetina%22%3A%20false%2C%0A%20%20%20%20%20%20%20%20%22maxNativeZoom%22%3A%2018%2C%0A%20%20%20%20%20%20%20%20%22maxZoom%22%3A%2018%2C%0A%20%20%20%20%20%20%20%20%22minZoom%22%3A%200%2C%0A%20%20%20%20%20%20%20%20%22noWrap%22%3A%20false%2C%0A%20%20%20%20%20%20%20%20%22opacity%22%3A%201%2C%0A%20%20%20%20%20%20%20%20%22subdomains%22%3A%20%22abc%22%2C%0A%20%20%20%20%20%20%20%20%22tms%22%3A%20false%0A%7D%29.addTo%28map_60ab34191f2e404b8059e2e8164995c8%29%3B%0A%20%20%20%20%0A%20%20%20%20%20%20%20%20%20%20%20%20var%20layer_control_50c5bf879da44bd4927a1a4d0e571577%20%3D%20%7B%0A%20%20%20%20%20%20%20%20%20%20%20%20%20%20%20%20base_layers%20%3A%20%7B%20%22openstreetmap%22%20%3A%20tile_layer_1d412d6170d5443bb97bfab3e869689b%2C%20%7D%2C%0A%20%20%20%20%20%20%20%20%20%20%20%20%20%20%20%20overlays%20%3A%20%7B%20%22Google%20Satellite%22%20%3A%20tile_layer_63f31497ccfa48ce835edaa40c5a08c9%2C%22Deforestation%20Year%22%20%3A%20tile_layer_72e193e0b320473eadc3d6cac50e630b%2C%22Intensity%22%20%3A%20tile_layer_25e7c5e561f044cebd1d523506107315%2C%22Transition%20Map%22%20%3A%20tile_layer_99107fb6334048d98cebb8064f0e9d02%2C%22Landsat%20NDVI%22%20%3A%20tile_layer_f0367e8dbaa049cab7702e962338fc76%2C%22PALSAR%22%20%3A%20tile_layer_0c6678c6f7b24b76aff30f9eeace0597%2C%22Sentinel-1%22%20%3A%20tile_layer_97795a939bde405e95602dbafa0801c4%2C%20%7D%0A%20%20%20%20%20%20%20%20%20%20%20%20%20%20%20%20%7D%3B%0A%20%20%20%20%20%20%20%20%20%20%20%20L.control.layers%28%0A%20%20%20%20%20%20%20%20%20%20%20%20%20%20%20%20layer_control_50c5bf879da44bd4927a1a4d0e571577.base_layers%2C%0A%20%20%20%20%20%20%20%20%20%20%20%20%20%20%20%20layer_control_50c5bf879da44bd4927a1a4d0e571577.overlays%2C%0A%20%20%20%20%20%20%20%20%20%20%20%20%20%20%20%20%7Bposition%3A%20%27topright%27%2C%0A%20%20%20%20%20%20%20%20%20%20%20%20%20%20%20%20%20collapsed%3A%20true%2C%0A%20%20%20%20%20%20%20%20%20%20%20%20%20%20%20%20%20autoZIndex%3A%20true%0A%20%20%20%20%20%20%20%20%20%20%20%20%20%20%20%20%7D%29.addTo%28map_60ab34191f2e404b8059e2e8164995c8%29%3B%0A%20%20%20%20%20%20%20%20%20%20%20%20%0A%20%20%20%20%20%20%20%20%0A%3C/script%3E onload=\"this.contentDocument.open();this.contentDocument.write(    decodeURIComponent(this.getAttribute('data-html')));this.contentDocument.close();\" \"allowfullscreen\" \"webkitallowfullscreen\" \"mozallowfullscreen\"></iframe>"
            ],
            "text/plain": [
              "<branca.element.Figure at 0x7fb6fab59890>"

            ]
          },
          "metadata": {},
          "execution_count": 9
        }
      ]
    },
    {
      "cell_type": "markdown",
      "source": [
        "# Visualize the test set map"
      ],
      "metadata": {
        "id": "X7RTG6Dj9ppF"
      }
    },
    {
      "cell_type": "code",
      "source": [
        "# Get one image from the deforestation year collection, and remove values where no deforestation has occurred\n",
        "test_deforestation_year_image = test_deforestation_year.first().clip(test_aoi)\n",
        "test_deforestation_year_image = test_deforestation_year_image.updateMask(test_deforestation_year_image.neq(0))\n",
        "\n",
        "# Convert to folium coordinates\n",
        "test_location = test_aoi.centroid().coordinates().getInfo()[::-1]\n",
        "\n",
        "# Colour parameters for deforestation_year\n",
        "vis_params = {\n",
        "'min': 1982,\n",
        "'max': 2020,\n",
        "#\"palette\": [\"#2892c7\", \"#b30800\"]}\n",
        "\"palette\": [rgb(40,146,199), rgb(179,8,0)]}\n",
        "\n",
        "# Create the map object.\n",
        "f = folium.Figure(width=1000, height=500)\n",
        "m = folium.Map(location=test_location, zoom_start=12).add_to(f)\n",
        "\n",
        "# add satellite imagery\n",
        "basemaps['Google Satellite Hybrid'].add_to(m)\n",
        "\n",
        "# Add the deforestation year to the map\n",
        "m.add_ee_layer(test_deforestation_year_image, vis_params, 'Deforestation Year')\n",
        "\n",
        "\n",
        "\n",
        "# Get one image from the intensity collection\n",
        "test_intensity_image = test_intensity.first().clip(test_aoi)\n",
        "\n",
        "# Colour parameters for intensity\n",
        "vis_params = {\n",
        "'min': 1,\n",
        "'max': 500,\n",
        "\"palette\": [rgb(0,128,0), rgb(255,0,0)]}\n",
        "\n",
        "# Add the intensity to the map\n",
        "m.add_ee_layer(test_intensity_image, vis_params, 'Intensity')\n",
        "\n",
        "\n",
        "\n",
        "\n",
        "# Get one image from the transition map collection\n",
        "test_transition_map_image = test_transition_map.clip(test_aoi)\n",
        "\n",
        "# Colour parameters for transition map\n",
        "vis_params = {\n",
        "\"palette\": [rgb(0,80,0), rgb(210,250,60 ), rgb(255,230,100 ), rgb(0,70,160 ), rgb(255,255,255)]}\n",
        "\n",
        "# Add the transition map to the map\n",
        "m.add_ee_layer(test_transition_map_image, vis_params, 'Transition Map')\n",
        "\n",
        "\n",
        "\n",
        "\n",
        "# Get one image from the 2019 landsat NDVI collection with the least clouds\n",
        "test_landsat_ndvi_image = test_landsat_ndvi.sort('CLOUD_COVER').first().clip(test_aoi) #2019 image is not blank, but when using .filterDate('2014-01-01', '2020-01-01') it was blank... why?\n",
        "\n",
        "# Colour parameters for NDVI\n",
        "vis_params = {\n",
        "    'min': -1,\n",
        "    'max': 1,\n",
        "    \"palette\": [rgb(255, 255, 204), rgb(0, 153, 0)]}\n",
        "\n",
        "# Add the NDVI to the map\n",
        "m.add_ee_layer(test_landsat_ndvi_image, vis_params, 'Landsat NDVI')\n",
        "\n",
        "\n",
        "\n",
        "# Get one image of the most recent PALSAR data\n",
        "test_palsar_image = test_palsar.sort('system:time_start', False).first().clip(test_aoi)\n",
        "\n",
        "# Colour parameters for PALSAR\n",
        "vis_params = {\n",
        "    'min': 0,\n",
        "    'max': 10000,}\n",
        "\n",
        "# Add the PALSAR to the map\n",
        "m.add_ee_layer(test_palsar_image, vis_params, 'PALSAR')\n",
        "\n",
        "\n",
        "\n",
        "\n",
        "# Get one image of the most recent Sentinel data\n",
        "test_sentinel_image = test_sentinel.mosaic().clip(test_aoi)\n",
        "\n",
        "# Colour parameters for Sentinel\n",
        "vis_params = {\n",
        "    'min': -50,\n",
        "    'max': 1,}\n",
        "\n",
        "# Add the Sentinel to the map\n",
        "m.add_ee_layer(test_sentinel_image, vis_params, 'Sentinel-1')\n",
        "\n",
        "\n",
        "\n",
        "\n",
        "# Add a layer control panel to the map.\n",
        "m.add_child(folium.LayerControl())\n",
        "\n",
        "# Display the map.\n",
        "f"
      ],
      "metadata": {
        "colab": {
          "base_uri": "https://localhost:8080/",
          "height": 541
        },
        "id": "tJgkqB8532Wf",

        "outputId": "e54a4260-23ff-49f5-cd9c-572ce0e30db6"

      },
      "execution_count": 10,
      "outputs": [
        {
          "output_type": "execute_result",
          "data": {
            "text/html": [

              "<iframe src=\"about:blank\" width=\"1000\" height=\"500\"style=\"border:none !important;\" data-html=%3C%21DOCTYPE%20html%3E%0A%3Chead%3E%20%20%20%20%0A%20%20%20%20%3Cmeta%20http-equiv%3D%22content-type%22%20content%3D%22text/html%3B%20charset%3DUTF-8%22%20/%3E%0A%20%20%20%20%3Cscript%3EL_PREFER_CANVAS%3Dfalse%3B%20L_NO_TOUCH%3Dfalse%3B%20L_DISABLE_3D%3Dfalse%3B%3C/script%3E%0A%20%20%20%20%3Cscript%20src%3D%22https%3A//cdn.jsdelivr.net/npm/leaflet%401.4.0/dist/leaflet.js%22%3E%3C/script%3E%0A%20%20%20%20%3Cscript%20src%3D%22https%3A//code.jquery.com/jquery-1.12.4.min.js%22%3E%3C/script%3E%0A%20%20%20%20%3Cscript%20src%3D%22https%3A//maxcdn.bootstrapcdn.com/bootstrap/3.2.0/js/bootstrap.min.js%22%3E%3C/script%3E%0A%20%20%20%20%3Cscript%20src%3D%22https%3A//cdnjs.cloudflare.com/ajax/libs/Leaflet.awesome-markers/2.0.2/leaflet.awesome-markers.js%22%3E%3C/script%3E%0A%20%20%20%20%3Clink%20rel%3D%22stylesheet%22%20href%3D%22https%3A//cdn.jsdelivr.net/npm/leaflet%401.4.0/dist/leaflet.css%22/%3E%0A%20%20%20%20%3Clink%20rel%3D%22stylesheet%22%20href%3D%22https%3A//maxcdn.bootstrapcdn.com/bootstrap/3.2.0/css/bootstrap.min.css%22/%3E%0A%20%20%20%20%3Clink%20rel%3D%22stylesheet%22%20href%3D%22https%3A//maxcdn.bootstrapcdn.com/bootstrap/3.2.0/css/bootstrap-theme.min.css%22/%3E%0A%20%20%20%20%3Clink%20rel%3D%22stylesheet%22%20href%3D%22https%3A//maxcdn.bootstrapcdn.com/font-awesome/4.6.3/css/font-awesome.min.css%22/%3E%0A%20%20%20%20%3Clink%20rel%3D%22stylesheet%22%20href%3D%22https%3A//cdnjs.cloudflare.com/ajax/libs/Leaflet.awesome-markers/2.0.2/leaflet.awesome-markers.css%22/%3E%0A%20%20%20%20%3Clink%20rel%3D%22stylesheet%22%20href%3D%22https%3A//rawcdn.githack.com/python-visualization/folium/master/folium/templates/leaflet.awesome.rotate.css%22/%3E%0A%20%20%20%20%3Cstyle%3Ehtml%2C%20body%20%7Bwidth%3A%20100%25%3Bheight%3A%20100%25%3Bmargin%3A%200%3Bpadding%3A%200%3B%7D%3C/style%3E%0A%20%20%20%20%3Cstyle%3E%23map%20%7Bposition%3Aabsolute%3Btop%3A0%3Bbottom%3A0%3Bright%3A0%3Bleft%3A0%3B%7D%3C/style%3E%0A%20%20%20%20%0A%20%20%20%20%3Cmeta%20name%3D%22viewport%22%20content%3D%22width%3Ddevice-width%2C%0A%20%20%20%20%20%20%20%20initial-scale%3D1.0%2C%20maximum-scale%3D1.0%2C%20user-scalable%3Dno%22%20/%3E%0A%20%20%20%20%3Cstyle%3E%23map_6a950e2e0baf4c42ae031f3d45afac9a%20%7B%0A%20%20%20%20%20%20%20%20position%3A%20relative%3B%0A%20%20%20%20%20%20%20%20width%3A%20100.0%25%3B%0A%20%20%20%20%20%20%20%20height%3A%20100.0%25%3B%0A%20%20%20%20%20%20%20%20left%3A%200.0%25%3B%0A%20%20%20%20%20%20%20%20top%3A%200.0%25%3B%0A%20%20%20%20%20%20%20%20%7D%0A%20%20%20%20%3C/style%3E%0A%3C/head%3E%0A%3Cbody%3E%20%20%20%20%0A%20%20%20%20%0A%20%20%20%20%3Cdiv%20class%3D%22folium-map%22%20id%3D%22map_6a950e2e0baf4c42ae031f3d45afac9a%22%20%3E%3C/div%3E%0A%3C/body%3E%0A%3Cscript%3E%20%20%20%20%0A%20%20%20%20%0A%20%20%20%20%0A%20%20%20%20%20%20%20%20var%20bounds%20%3D%20null%3B%0A%20%20%20%20%0A%0A%20%20%20%20var%20map_6a950e2e0baf4c42ae031f3d45afac9a%20%3D%20L.map%28%0A%20%20%20%20%20%20%20%20%27map_6a950e2e0baf4c42ae031f3d45afac9a%27%2C%20%7B%0A%20%20%20%20%20%20%20%20center%3A%20%5B-9.93097535159907%2C%20-50.65246582031609%5D%2C%0A%20%20%20%20%20%20%20%20zoom%3A%2012%2C%0A%20%20%20%20%20%20%20%20maxBounds%3A%20bounds%2C%0A%20%20%20%20%20%20%20%20layers%3A%20%5B%5D%2C%0A%20%20%20%20%20%20%20%20worldCopyJump%3A%20false%2C%0A%20%20%20%20%20%20%20%20crs%3A%20L.CRS.EPSG3857%2C%0A%20%20%20%20%20%20%20%20zoomControl%3A%20true%2C%0A%20%20%20%20%20%20%20%20%7D%29%3B%0A%0A%0A%20%20%20%20%0A%20%20%20%20var%20tile_layer_cb63d5ebb9ec44cd8f474354a49fd4fb%20%3D%20L.tileLayer%28%0A%20%20%20%20%20%20%20%20%27https%3A//%7Bs%7D.tile.openstreetmap.org/%7Bz%7D/%7Bx%7D/%7By%7D.png%27%2C%0A%20%20%20%20%20%20%20%20%7B%0A%20%20%20%20%20%20%20%20%22attribution%22%3A%20null%2C%0A%20%20%20%20%20%20%20%20%22detectRetina%22%3A%20false%2C%0A%20%20%20%20%20%20%20%20%22maxNativeZoom%22%3A%2018%2C%0A%20%20%20%20%20%20%20%20%22maxZoom%22%3A%2018%2C%0A%20%20%20%20%20%20%20%20%22minZoom%22%3A%200%2C%0A%20%20%20%20%20%20%20%20%22noWrap%22%3A%20false%2C%0A%20%20%20%20%20%20%20%20%22opacity%22%3A%201%2C%0A%20%20%20%20%20%20%20%20%22subdomains%22%3A%20%22abc%22%2C%0A%20%20%20%20%20%20%20%20%22tms%22%3A%20false%0A%7D%29.addTo%28map_6a950e2e0baf4c42ae031f3d45afac9a%29%3B%0A%20%20%20%20var%20tile_layer_63f31497ccfa48ce835edaa40c5a08c9%20%3D%20L.tileLayer%28%0A%20%20%20%20%20%20%20%20%27https%3A//mt1.google.com/vt/lyrs%3Dy%26x%3D%7Bx%7D%26y%3D%7By%7D%26z%3D%7Bz%7D%27%2C%0A%20%20%20%20%20%20%20%20%7B%0A%20%20%20%20%20%20%20%20%22attribution%22%3A%20%22Google%22%2C%0A%20%20%20%20%20%20%20%20%22detectRetina%22%3A%20false%2C%0A%20%20%20%20%20%20%20%20%22maxNativeZoom%22%3A%2018%2C%0A%20%20%20%20%20%20%20%20%22maxZoom%22%3A%2018%2C%0A%20%20%20%20%20%20%20%20%22minZoom%22%3A%200%2C%0A%20%20%20%20%20%20%20%20%22noWrap%22%3A%20false%2C%0A%20%20%20%20%20%20%20%20%22opacity%22%3A%201%2C%0A%20%20%20%20%20%20%20%20%22subdomains%22%3A%20%22abc%22%2C%0A%20%20%20%20%20%20%20%20%22tms%22%3A%20false%0A%7D%29.addTo%28map_6a950e2e0baf4c42ae031f3d45afac9a%29%3B%0A%20%20%20%20var%20tile_layer_7175b225941f4c0d88840dffaf3f1622%20%3D%20L.tileLayer%28%0A%20%20%20%20%20%20%20%20%27https%3A//earthengine.googleapis.com/v1alpha/projects/earthengine-legacy/maps/0a45d332e00464f7a7de3335ab606522-bb1df75fabd453efa459b74edb0d4754/tiles/%7Bz%7D/%7Bx%7D/%7By%7D%27%2C%0A%20%20%20%20%20%20%20%20%7B%0A%20%20%20%20%20%20%20%20%22attribution%22%3A%20%22Google%20Earth%20Engine%22%2C%0A%20%20%20%20%20%20%20%20%22detectRetina%22%3A%20false%2C%0A%20%20%20%20%20%20%20%20%22maxNativeZoom%22%3A%2018%2C%0A%20%20%20%20%20%20%20%20%22maxZoom%22%3A%2018%2C%0A%20%20%20%20%20%20%20%20%22minZoom%22%3A%200%2C%0A%20%20%20%20%20%20%20%20%22noWrap%22%3A%20false%2C%0A%20%20%20%20%20%20%20%20%22opacity%22%3A%201%2C%0A%20%20%20%20%20%20%20%20%22subdomains%22%3A%20%22abc%22%2C%0A%20%20%20%20%20%20%20%20%22tms%22%3A%20false%0A%7D%29.addTo%28map_6a950e2e0baf4c42ae031f3d45afac9a%29%3B%0A%20%20%20%20var%20tile_layer_5b1add8fea9f4759a3fa4822e6934b30%20%3D%20L.tileLayer%28%0A%20%20%20%20%20%20%20%20%27https%3A//earthengine.googleapis.com/v1alpha/projects/earthengine-legacy/maps/b62a994788b0405f2365e47891fb1c52-2df61a8b15c5b22197d2707562d9d5d4/tiles/%7Bz%7D/%7Bx%7D/%7By%7D%27%2C%0A%20%20%20%20%20%20%20%20%7B%0A%20%20%20%20%20%20%20%20%22attribution%22%3A%20%22Google%20Earth%20Engine%22%2C%0A%20%20%20%20%20%20%20%20%22detectRetina%22%3A%20false%2C%0A%20%20%20%20%20%20%20%20%22maxNativeZoom%22%3A%2018%2C%0A%20%20%20%20%20%20%20%20%22maxZoom%22%3A%2018%2C%0A%20%20%20%20%20%20%20%20%22minZoom%22%3A%200%2C%0A%20%20%20%20%20%20%20%20%22noWrap%22%3A%20false%2C%0A%20%20%20%20%20%20%20%20%22opacity%22%3A%201%2C%0A%20%20%20%20%20%20%20%20%22subdomains%22%3A%20%22abc%22%2C%0A%20%20%20%20%20%20%20%20%22tms%22%3A%20false%0A%7D%29.addTo%28map_6a950e2e0baf4c42ae031f3d45afac9a%29%3B%0A%20%20%20%20var%20tile_layer_4cfc716591bc447c8e43355f6e7e3e42%20%3D%20L.tileLayer%28%0A%20%20%20%20%20%20%20%20%27https%3A//earthengine.googleapis.com/v1alpha/projects/earthengine-legacy/maps/0303283648cf9fcc083a310d07beb67e-2bbbb71de18faa25a1a3a8ad92f676d0/tiles/%7Bz%7D/%7Bx%7D/%7By%7D%27%2C%0A%20%20%20%20%20%20%20%20%7B%0A%20%20%20%20%20%20%20%20%22attribution%22%3A%20%22Google%20Earth%20Engine%22%2C%0A%20%20%20%20%20%20%20%20%22detectRetina%22%3A%20false%2C%0A%20%20%20%20%20%20%20%20%22maxNativeZoom%22%3A%2018%2C%0A%20%20%20%20%20%20%20%20%22maxZoom%22%3A%2018%2C%0A%20%20%20%20%20%20%20%20%22minZoom%22%3A%200%2C%0A%20%20%20%20%20%20%20%20%22noWrap%22%3A%20false%2C%0A%20%20%20%20%20%20%20%20%22opacity%22%3A%201%2C%0A%20%20%20%20%20%20%20%20%22subdomains%22%3A%20%22abc%22%2C%0A%20%20%20%20%20%20%20%20%22tms%22%3A%20false%0A%7D%29.addTo%28map_6a950e2e0baf4c42ae031f3d45afac9a%29%3B%0A%20%20%20%20var%20tile_layer_24880a6bbc1d4ca8b1367a2a8d9399e7%20%3D%20L.tileLayer%28%0A%20%20%20%20%20%20%20%20%27https%3A//earthengine.googleapis.com/v1alpha/projects/earthengine-legacy/maps/b06a393ad4e9cee251b074fdd79c03c7-3811ad34baa452c479dea27f8ec63013/tiles/%7Bz%7D/%7Bx%7D/%7By%7D%27%2C%0A%20%20%20%20%20%20%20%20%7B%0A%20%20%20%20%20%20%20%20%22attribution%22%3A%20%22Google%20Earth%20Engine%22%2C%0A%20%20%20%20%20%20%20%20%22detectRetina%22%3A%20false%2C%0A%20%20%20%20%20%20%20%20%22maxNativeZoom%22%3A%2018%2C%0A%20%20%20%20%20%20%20%20%22maxZoom%22%3A%2018%2C%0A%20%20%20%20%20%20%20%20%22minZoom%22%3A%200%2C%0A%20%20%20%20%20%20%20%20%22noWrap%22%3A%20false%2C%0A%20%20%20%20%20%20%20%20%22opacity%22%3A%201%2C%0A%20%20%20%20%20%20%20%20%22subdomains%22%3A%20%22abc%22%2C%0A%20%20%20%20%20%20%20%20%22tms%22%3A%20false%0A%7D%29.addTo%28map_6a950e2e0baf4c42ae031f3d45afac9a%29%3B%0A%20%20%20%20var%20tile_layer_903d816524464dee8a8623a0368e3467%20%3D%20L.tileLayer%28%0A%20%20%20%20%20%20%20%20%27https%3A//earthengine.googleapis.com/v1alpha/projects/earthengine-legacy/maps/3b5e732ef93a65b7934c48256104dbe7-8d78e0dd3f2fdaf44684662c587b960e/tiles/%7Bz%7D/%7Bx%7D/%7By%7D%27%2C%0A%20%20%20%20%20%20%20%20%7B%0A%20%20%20%20%20%20%20%20%22attribution%22%3A%20%22Google%20Earth%20Engine%22%2C%0A%20%20%20%20%20%20%20%20%22detectRetina%22%3A%20false%2C%0A%20%20%20%20%20%20%20%20%22maxNativeZoom%22%3A%2018%2C%0A%20%20%20%20%20%20%20%20%22maxZoom%22%3A%2018%2C%0A%20%20%20%20%20%20%20%20%22minZoom%22%3A%200%2C%0A%20%20%20%20%20%20%20%20%22noWrap%22%3A%20false%2C%0A%20%20%20%20%20%20%20%20%22opacity%22%3A%201%2C%0A%20%20%20%20%20%20%20%20%22subdomains%22%3A%20%22abc%22%2C%0A%20%20%20%20%20%20%20%20%22tms%22%3A%20false%0A%7D%29.addTo%28map_6a950e2e0baf4c42ae031f3d45afac9a%29%3B%0A%20%20%20%20var%20tile_layer_3d4a79f2c789484b9c6f0e3cfd16935e%20%3D%20L.tileLayer%28%0A%20%20%20%20%20%20%20%20%27https%3A//earthengine.googleapis.com/v1alpha/projects/earthengine-legacy/maps/4eb9aae54a980693d2d9c82aba72bc3d-2c9373f55030a21b8a6538c7b808886c/tiles/%7Bz%7D/%7Bx%7D/%7By%7D%27%2C%0A%20%20%20%20%20%20%20%20%7B%0A%20%20%20%20%20%20%20%20%22attribution%22%3A%20%22Google%20Earth%20Engine%22%2C%0A%20%20%20%20%20%20%20%20%22detectRetina%22%3A%20false%2C%0A%20%20%20%20%20%20%20%20%22maxNativeZoom%22%3A%2018%2C%0A%20%20%20%20%20%20%20%20%22maxZoom%22%3A%2018%2C%0A%20%20%20%20%20%20%20%20%22minZoom%22%3A%200%2C%0A%20%20%20%20%20%20%20%20%22noWrap%22%3A%20false%2C%0A%20%20%20%20%20%20%20%20%22opacity%22%3A%201%2C%0A%20%20%20%20%20%20%20%20%22subdomains%22%3A%20%22abc%22%2C%0A%20%20%20%20%20%20%20%20%22tms%22%3A%20false%0A%7D%29.addTo%28map_6a950e2e0baf4c42ae031f3d45afac9a%29%3B%0A%20%20%20%20%0A%20%20%20%20%20%20%20%20%20%20%20%20var%20layer_control_2ff29283f92a401594e268560320aeb2%20%3D%20%7B%0A%20%20%20%20%20%20%20%20%20%20%20%20%20%20%20%20base_layers%20%3A%20%7B%20%22openstreetmap%22%20%3A%20tile_layer_cb63d5ebb9ec44cd8f474354a49fd4fb%2C%20%7D%2C%0A%20%20%20%20%20%20%20%20%20%20%20%20%20%20%20%20overlays%20%3A%20%7B%20%22Google%20Satellite%22%20%3A%20tile_layer_63f31497ccfa48ce835edaa40c5a08c9%2C%22Deforestation%20Year%22%20%3A%20tile_layer_7175b225941f4c0d88840dffaf3f1622%2C%22Intensity%22%20%3A%20tile_layer_5b1add8fea9f4759a3fa4822e6934b30%2C%22Transition%20Map%22%20%3A%20tile_layer_4cfc716591bc447c8e43355f6e7e3e42%2C%22Landsat%20NDVI%22%20%3A%20tile_layer_24880a6bbc1d4ca8b1367a2a8d9399e7%2C%22PALSAR%22%20%3A%20tile_layer_903d816524464dee8a8623a0368e3467%2C%22Sentinel-1%22%20%3A%20tile_layer_3d4a79f2c789484b9c6f0e3cfd16935e%2C%20%7D%0A%20%20%20%20%20%20%20%20%20%20%20%20%20%20%20%20%7D%3B%0A%20%20%20%20%20%20%20%20%20%20%20%20L.control.layers%28%0A%20%20%20%20%20%20%20%20%20%20%20%20%20%20%20%20layer_control_2ff29283f92a401594e268560320aeb2.base_layers%2C%0A%20%20%20%20%20%20%20%20%20%20%20%20%20%20%20%20layer_control_2ff29283f92a401594e268560320aeb2.overlays%2C%0A%20%20%20%20%20%20%20%20%20%20%20%20%20%20%20%20%7Bposition%3A%20%27topright%27%2C%0A%20%20%20%20%20%20%20%20%20%20%20%20%20%20%20%20%20collapsed%3A%20true%2C%0A%20%20%20%20%20%20%20%20%20%20%20%20%20%20%20%20%20autoZIndex%3A%20true%0A%20%20%20%20%20%20%20%20%20%20%20%20%20%20%20%20%7D%29.addTo%28map_6a950e2e0baf4c42ae031f3d45afac9a%29%3B%0A%20%20%20%20%20%20%20%20%20%20%20%20%0A%20%20%20%20%20%20%20%20%0A%3C/script%3E onload=\"this.contentDocument.open();this.contentDocument.write(    decodeURIComponent(this.getAttribute('data-html')));this.contentDocument.close();\" \"allowfullscreen\" \"webkitallowfullscreen\" \"mozallowfullscreen\"></iframe>"
            ],
            "text/plain": [
              "<branca.element.Figure at 0x7fb6faa97cd0>"

            ]
          },
          "metadata": {},
          "execution_count": 10
        }
      ]
    },
    {
      "cell_type": "markdown",
      "source": [
        "# Prepare images for training/testing"
      ],
      "metadata": {
        "id": "tnnu_PrP1r8X"
      }
    },
    {
      "cell_type": "code",
      "source": [
        "# For training/testing data, we only use the SAR + NDVI\n",
        "# Also, we do normalization here based on nominal min/max values of each satellite, though it probably should have been done earlier during data loading\n",
        "train_img = train_palsar_image.rename(\"PALSAR\").unitScale(0,10000).addBands([train_sentinel_image.rename(\"Sentinel\").unitScale(-50,1), train_landsat_ndvi_image.rename(\"NDVI\").unitScale(-1,1)])\n",
        "\n",
        "# Add a band to the training data that contains the transition map (i.e. the class label)\n",
        "train_img = train_img.addBands(train_transition_map)\n",
        "\n",
        "test_img = test_palsar_image.rename(\"PALSAR\").unitScale(0,10000).addBands([test_sentinel_image.rename(\"Sentinel\").unitScale(-50,1), test_landsat_ndvi_image.rename(\"NDVI\").unitScale(-1,1)])\n",
        "\n",
        "# visualize to make sure it is working correctly\n",
        "\n",
        "f = folium.Figure(width=1000, height=500)\n",
        "m = folium.Map(location=train_location, zoom_start=12).add_to(f)\n",
        "\n",
        "vis_params = {\n",
        "    'bands': [\"NDVI\"],\n",
        "    'min': 0,\n",
        "    'max': 1,}\n",
        "\n",
        "m.add_ee_layer(train_img, vis_params, \"Training Image\")\n",
        "\n",
        "f\n",
        "\n"
      ],
      "metadata": {
        "colab": {
          "base_uri": "https://localhost:8080/",
          "height": 541
        },
        "id": "IIkDTopwxUeW",

        "outputId": "8f00f3dc-b78c-4638-d279-c9d31d773715"

      },
      "execution_count": 11,
      "outputs": [
        {
          "output_type": "execute_result",
          "data": {
            "text/html": [

              "<iframe src=\"about:blank\" width=\"1000\" height=\"500\"style=\"border:none !important;\" data-html=%3C%21DOCTYPE%20html%3E%0A%3Chead%3E%20%20%20%20%0A%20%20%20%20%3Cmeta%20http-equiv%3D%22content-type%22%20content%3D%22text/html%3B%20charset%3DUTF-8%22%20/%3E%0A%20%20%20%20%3Cscript%3EL_PREFER_CANVAS%3Dfalse%3B%20L_NO_TOUCH%3Dfalse%3B%20L_DISABLE_3D%3Dfalse%3B%3C/script%3E%0A%20%20%20%20%3Cscript%20src%3D%22https%3A//cdn.jsdelivr.net/npm/leaflet%401.4.0/dist/leaflet.js%22%3E%3C/script%3E%0A%20%20%20%20%3Cscript%20src%3D%22https%3A//code.jquery.com/jquery-1.12.4.min.js%22%3E%3C/script%3E%0A%20%20%20%20%3Cscript%20src%3D%22https%3A//maxcdn.bootstrapcdn.com/bootstrap/3.2.0/js/bootstrap.min.js%22%3E%3C/script%3E%0A%20%20%20%20%3Cscript%20src%3D%22https%3A//cdnjs.cloudflare.com/ajax/libs/Leaflet.awesome-markers/2.0.2/leaflet.awesome-markers.js%22%3E%3C/script%3E%0A%20%20%20%20%3Clink%20rel%3D%22stylesheet%22%20href%3D%22https%3A//cdn.jsdelivr.net/npm/leaflet%401.4.0/dist/leaflet.css%22/%3E%0A%20%20%20%20%3Clink%20rel%3D%22stylesheet%22%20href%3D%22https%3A//maxcdn.bootstrapcdn.com/bootstrap/3.2.0/css/bootstrap.min.css%22/%3E%0A%20%20%20%20%3Clink%20rel%3D%22stylesheet%22%20href%3D%22https%3A//maxcdn.bootstrapcdn.com/bootstrap/3.2.0/css/bootstrap-theme.min.css%22/%3E%0A%20%20%20%20%3Clink%20rel%3D%22stylesheet%22%20href%3D%22https%3A//maxcdn.bootstrapcdn.com/font-awesome/4.6.3/css/font-awesome.min.css%22/%3E%0A%20%20%20%20%3Clink%20rel%3D%22stylesheet%22%20href%3D%22https%3A//cdnjs.cloudflare.com/ajax/libs/Leaflet.awesome-markers/2.0.2/leaflet.awesome-markers.css%22/%3E%0A%20%20%20%20%3Clink%20rel%3D%22stylesheet%22%20href%3D%22https%3A//rawcdn.githack.com/python-visualization/folium/master/folium/templates/leaflet.awesome.rotate.css%22/%3E%0A%20%20%20%20%3Cstyle%3Ehtml%2C%20body%20%7Bwidth%3A%20100%25%3Bheight%3A%20100%25%3Bmargin%3A%200%3Bpadding%3A%200%3B%7D%3C/style%3E%0A%20%20%20%20%3Cstyle%3E%23map%20%7Bposition%3Aabsolute%3Btop%3A0%3Bbottom%3A0%3Bright%3A0%3Bleft%3A0%3B%7D%3C/style%3E%0A%20%20%20%20%0A%20%20%20%20%3Cmeta%20name%3D%22viewport%22%20content%3D%22width%3Ddevice-width%2C%0A%20%20%20%20%20%20%20%20initial-scale%3D1.0%2C%20maximum-scale%3D1.0%2C%20user-scalable%3Dno%22%20/%3E%0A%20%20%20%20%3Cstyle%3E%23map_1db7aa3cbd634bbbb7af207a995a55ef%20%7B%0A%20%20%20%20%20%20%20%20position%3A%20relative%3B%0A%20%20%20%20%20%20%20%20width%3A%20100.0%25%3B%0A%20%20%20%20%20%20%20%20height%3A%20100.0%25%3B%0A%20%20%20%20%20%20%20%20left%3A%200.0%25%3B%0A%20%20%20%20%20%20%20%20top%3A%200.0%25%3B%0A%20%20%20%20%20%20%20%20%7D%0A%20%20%20%20%3C/style%3E%0A%3C/head%3E%0A%3Cbody%3E%20%20%20%20%0A%20%20%20%20%0A%20%20%20%20%3Cdiv%20class%3D%22folium-map%22%20id%3D%22map_1db7aa3cbd634bbbb7af207a995a55ef%22%20%3E%3C/div%3E%0A%3C/body%3E%0A%3Cscript%3E%20%20%20%20%0A%20%20%20%20%0A%20%20%20%20%0A%20%20%20%20%20%20%20%20var%20bounds%20%3D%20null%3B%0A%20%20%20%20%0A%0A%20%20%20%20var%20map_1db7aa3cbd634bbbb7af207a995a55ef%20%3D%20L.map%28%0A%20%20%20%20%20%20%20%20%27map_1db7aa3cbd634bbbb7af207a995a55ef%27%2C%20%7B%0A%20%20%20%20%20%20%20%20center%3A%20%5B-10.38369101128682%2C%20-52.577133178711705%5D%2C%0A%20%20%20%20%20%20%20%20zoom%3A%2012%2C%0A%20%20%20%20%20%20%20%20maxBounds%3A%20bounds%2C%0A%20%20%20%20%20%20%20%20layers%3A%20%5B%5D%2C%0A%20%20%20%20%20%20%20%20worldCopyJump%3A%20false%2C%0A%20%20%20%20%20%20%20%20crs%3A%20L.CRS.EPSG3857%2C%0A%20%20%20%20%20%20%20%20zoomControl%3A%20true%2C%0A%20%20%20%20%20%20%20%20%7D%29%3B%0A%0A%0A%20%20%20%20%0A%20%20%20%20var%20tile_layer_ea3a983cae61432286cacec851b64035%20%3D%20L.tileLayer%28%0A%20%20%20%20%20%20%20%20%27https%3A//%7Bs%7D.tile.openstreetmap.org/%7Bz%7D/%7Bx%7D/%7By%7D.png%27%2C%0A%20%20%20%20%20%20%20%20%7B%0A%20%20%20%20%20%20%20%20%22attribution%22%3A%20null%2C%0A%20%20%20%20%20%20%20%20%22detectRetina%22%3A%20false%2C%0A%20%20%20%20%20%20%20%20%22maxNativeZoom%22%3A%2018%2C%0A%20%20%20%20%20%20%20%20%22maxZoom%22%3A%2018%2C%0A%20%20%20%20%20%20%20%20%22minZoom%22%3A%200%2C%0A%20%20%20%20%20%20%20%20%22noWrap%22%3A%20false%2C%0A%20%20%20%20%20%20%20%20%22opacity%22%3A%201%2C%0A%20%20%20%20%20%20%20%20%22subdomains%22%3A%20%22abc%22%2C%0A%20%20%20%20%20%20%20%20%22tms%22%3A%20false%0A%7D%29.addTo%28map_1db7aa3cbd634bbbb7af207a995a55ef%29%3B%0A%20%20%20%20var%20tile_layer_c5ff66df10ba4d71914d69cf52b379c4%20%3D%20L.tileLayer%28%0A%20%20%20%20%20%20%20%20%27https%3A//earthengine.googleapis.com/v1alpha/projects/earthengine-legacy/maps/373e03c90e48051970d300f833396fcf-310eb3c6fc56089ab6edfe3d08dcab1f/tiles/%7Bz%7D/%7Bx%7D/%7By%7D%27%2C%0A%20%20%20%20%20%20%20%20%7B%0A%20%20%20%20%20%20%20%20%22attribution%22%3A%20%22Google%20Earth%20Engine%22%2C%0A%20%20%20%20%20%20%20%20%22detectRetina%22%3A%20false%2C%0A%20%20%20%20%20%20%20%20%22maxNativeZoom%22%3A%2018%2C%0A%20%20%20%20%20%20%20%20%22maxZoom%22%3A%2018%2C%0A%20%20%20%20%20%20%20%20%22minZoom%22%3A%200%2C%0A%20%20%20%20%20%20%20%20%22noWrap%22%3A%20false%2C%0A%20%20%20%20%20%20%20%20%22opacity%22%3A%201%2C%0A%20%20%20%20%20%20%20%20%22subdomains%22%3A%20%22abc%22%2C%0A%20%20%20%20%20%20%20%20%22tms%22%3A%20false%0A%7D%29.addTo%28map_1db7aa3cbd634bbbb7af207a995a55ef%29%3B%0A%3C/script%3E onload=\"this.contentDocument.open();this.contentDocument.write(    decodeURIComponent(this.getAttribute('data-html')));this.contentDocument.close();\" \"allowfullscreen\" \"webkitallowfullscreen\" \"mozallowfullscreen\"></iframe>"
            ],
            "text/plain": [
              "<branca.element.Figure at 0x7fb6fab7c910>"

            ]
          },
          "metadata": {},
          "execution_count": 11
        }
      ]
    },
    {
      "cell_type": "markdown",
      "source": [
        "# Supervised learning"
      ],
      "metadata": {
        "id": "aSImv7mTtFSX"
      }
    },
    {
      "cell_type": "markdown",
      "source": [
        "Training"
      ],
      "metadata": {
        "id": "_RD10TDqZ0eA"
      }
    },
    {
      "cell_type": "code",
      "source": [
        "# PALSAR is 25m, Sentinel is 10m, NDVI from Landat8 is 30m, and the Vancutsem transition map is also 30m, so we use a scale of 30m for simplicity\n",
        "# Sample 1000 points from the training dataset\n",
        "train_points = train_img.sample(numPixels = 1000, \n",
        "                                scale = 30, \n",
        "                                seed = 0)\n",
        "\n",
        "rf_classifier = ee.Classifier.smileRandomForest(numberOfTrees = 10).train(features = train_points,\n",
        "                                                                          classProperty = 'class',\n",
        "                                                                          inputProperties = [\"PALSAR\", \"Sentinel\", \"NDVI\"])\n",
        "\n",
        "\n"
      ],
      "metadata": {
        "id": "V1m1tM6JtIzn"
      },
      "execution_count": 12,
      "outputs": []
    },
    {
      "cell_type": "markdown",
      "source": [
        "Testing"
      ],
      "metadata": {
        "id": "6yQkOXlyZz2o"
      }
    },
    {
      "cell_type": "code",
      "source": [
        "classified_test_img = test_img.classify(rf_classifier).clip(test_aoi)"
      ],
      "metadata": {
        "id": "inE6t2pcZzqo"
      },
      "execution_count": 13,
      "outputs": []
    },
    {
      "cell_type": "markdown",
      "source": [
        "Visualize predicted classes against true classes"
      ],
      "metadata": {
        "id": "Pl358iFMaOKY"
      }
    },
    {
      "cell_type": "code",
      "source": [
        "f = folium.Figure(width=1000, height=500)\n",
        "m = folium.Map(location=test_location, zoom_start=12).add_to(f)\n",
        "\n",
        "test_transition_map_image = test_transition_map.clip(test_aoi)\n",
        "\n",
        "vis_params = {\n",
        "\"min\": 0,\n",
        "\"max\": 4,\n",
        "\"palette\": [rgb(0,80,0), rgb(210,250,60), rgb(255,230,100), rgb(0,70,160 ), rgb(255,255,255)]}\n",
        "\n",
        "# this forces Earth Engine to render at 30m scale\n",
        "classified_test_img = classified_test_img.reproject(classified_test_img.projection().crs(), scale=30)\n",
        "\n",
        "\n",
        "m.add_ee_layer(test_transition_map_image, vis_params, 'True Transition Map')\n",
        "m.add_ee_layer(classified_test_img, vis_params, 'Predicted Transition Map')\n",
        "m.add_child(folium.LayerControl())\n",
        "\n",
        "f"
      ],
      "metadata": {
        "colab": {
          "base_uri": "https://localhost:8080/",
          "height": 521
        },
        "id": "XKyB3dSfaS3Q",
        "outputId": "68af96c6-8c56-46e6-d520-2f430c09c793"
      },
      "execution_count": 15,
      "outputs": [
        {
          "output_type": "execute_result",
          "data": {
            "text/html": [
              "<iframe src=\"about:blank\" width=\"1000\" height=\"500\"style=\"border:none !important;\" data-html=%3C%21DOCTYPE%20html%3E%0A%3Chead%3E%20%20%20%20%0A%20%20%20%20%3Cmeta%20http-equiv%3D%22content-type%22%20content%3D%22text/html%3B%20charset%3DUTF-8%22%20/%3E%0A%20%20%20%20%3Cscript%3EL_PREFER_CANVAS%3Dfalse%3B%20L_NO_TOUCH%3Dfalse%3B%20L_DISABLE_3D%3Dfalse%3B%3C/script%3E%0A%20%20%20%20%3Cscript%20src%3D%22https%3A//cdn.jsdelivr.net/npm/leaflet%401.4.0/dist/leaflet.js%22%3E%3C/script%3E%0A%20%20%20%20%3Cscript%20src%3D%22https%3A//code.jquery.com/jquery-1.12.4.min.js%22%3E%3C/script%3E%0A%20%20%20%20%3Cscript%20src%3D%22https%3A//maxcdn.bootstrapcdn.com/bootstrap/3.2.0/js/bootstrap.min.js%22%3E%3C/script%3E%0A%20%20%20%20%3Cscript%20src%3D%22https%3A//cdnjs.cloudflare.com/ajax/libs/Leaflet.awesome-markers/2.0.2/leaflet.awesome-markers.js%22%3E%3C/script%3E%0A%20%20%20%20%3Clink%20rel%3D%22stylesheet%22%20href%3D%22https%3A//cdn.jsdelivr.net/npm/leaflet%401.4.0/dist/leaflet.css%22/%3E%0A%20%20%20%20%3Clink%20rel%3D%22stylesheet%22%20href%3D%22https%3A//maxcdn.bootstrapcdn.com/bootstrap/3.2.0/css/bootstrap.min.css%22/%3E%0A%20%20%20%20%3Clink%20rel%3D%22stylesheet%22%20href%3D%22https%3A//maxcdn.bootstrapcdn.com/bootstrap/3.2.0/css/bootstrap-theme.min.css%22/%3E%0A%20%20%20%20%3Clink%20rel%3D%22stylesheet%22%20href%3D%22https%3A//maxcdn.bootstrapcdn.com/font-awesome/4.6.3/css/font-awesome.min.css%22/%3E%0A%20%20%20%20%3Clink%20rel%3D%22stylesheet%22%20href%3D%22https%3A//cdnjs.cloudflare.com/ajax/libs/Leaflet.awesome-markers/2.0.2/leaflet.awesome-markers.css%22/%3E%0A%20%20%20%20%3Clink%20rel%3D%22stylesheet%22%20href%3D%22https%3A//rawcdn.githack.com/python-visualization/folium/master/folium/templates/leaflet.awesome.rotate.css%22/%3E%0A%20%20%20%20%3Cstyle%3Ehtml%2C%20body%20%7Bwidth%3A%20100%25%3Bheight%3A%20100%25%3Bmargin%3A%200%3Bpadding%3A%200%3B%7D%3C/style%3E%0A%20%20%20%20%3Cstyle%3E%23map%20%7Bposition%3Aabsolute%3Btop%3A0%3Bbottom%3A0%3Bright%3A0%3Bleft%3A0%3B%7D%3C/style%3E%0A%20%20%20%20%0A%20%20%20%20%3Cmeta%20name%3D%22viewport%22%20content%3D%22width%3Ddevice-width%2C%0A%20%20%20%20%20%20%20%20initial-scale%3D1.0%2C%20maximum-scale%3D1.0%2C%20user-scalable%3Dno%22%20/%3E%0A%20%20%20%20%3Cstyle%3E%23map_f8db7b74d7f6437eae08824b1bb1ba34%20%7B%0A%20%20%20%20%20%20%20%20position%3A%20relative%3B%0A%20%20%20%20%20%20%20%20width%3A%20100.0%25%3B%0A%20%20%20%20%20%20%20%20height%3A%20100.0%25%3B%0A%20%20%20%20%20%20%20%20left%3A%200.0%25%3B%0A%20%20%20%20%20%20%20%20top%3A%200.0%25%3B%0A%20%20%20%20%20%20%20%20%7D%0A%20%20%20%20%3C/style%3E%0A%3C/head%3E%0A%3Cbody%3E%20%20%20%20%0A%20%20%20%20%0A%20%20%20%20%3Cdiv%20class%3D%22folium-map%22%20id%3D%22map_f8db7b74d7f6437eae08824b1bb1ba34%22%20%3E%3C/div%3E%0A%3C/body%3E%0A%3Cscript%3E%20%20%20%20%0A%20%20%20%20%0A%20%20%20%20%0A%20%20%20%20%20%20%20%20var%20bounds%20%3D%20null%3B%0A%20%20%20%20%0A%0A%20%20%20%20var%20map_f8db7b74d7f6437eae08824b1bb1ba34%20%3D%20L.map%28%0A%20%20%20%20%20%20%20%20%27map_f8db7b74d7f6437eae08824b1bb1ba34%27%2C%20%7B%0A%20%20%20%20%20%20%20%20center%3A%20%5B-9.93097535159907%2C%20-50.65246582031609%5D%2C%0A%20%20%20%20%20%20%20%20zoom%3A%2012%2C%0A%20%20%20%20%20%20%20%20maxBounds%3A%20bounds%2C%0A%20%20%20%20%20%20%20%20layers%3A%20%5B%5D%2C%0A%20%20%20%20%20%20%20%20worldCopyJump%3A%20false%2C%0A%20%20%20%20%20%20%20%20crs%3A%20L.CRS.EPSG3857%2C%0A%20%20%20%20%20%20%20%20zoomControl%3A%20true%2C%0A%20%20%20%20%20%20%20%20%7D%29%3B%0A%0A%0A%20%20%20%20%0A%20%20%20%20var%20tile_layer_55a45990c02c40fda6c0363c677c0b00%20%3D%20L.tileLayer%28%0A%20%20%20%20%20%20%20%20%27https%3A//%7Bs%7D.tile.openstreetmap.org/%7Bz%7D/%7Bx%7D/%7By%7D.png%27%2C%0A%20%20%20%20%20%20%20%20%7B%0A%20%20%20%20%20%20%20%20%22attribution%22%3A%20null%2C%0A%20%20%20%20%20%20%20%20%22detectRetina%22%3A%20false%2C%0A%20%20%20%20%20%20%20%20%22maxNativeZoom%22%3A%2018%2C%0A%20%20%20%20%20%20%20%20%22maxZoom%22%3A%2018%2C%0A%20%20%20%20%20%20%20%20%22minZoom%22%3A%200%2C%0A%20%20%20%20%20%20%20%20%22noWrap%22%3A%20false%2C%0A%20%20%20%20%20%20%20%20%22opacity%22%3A%201%2C%0A%20%20%20%20%20%20%20%20%22subdomains%22%3A%20%22abc%22%2C%0A%20%20%20%20%20%20%20%20%22tms%22%3A%20false%0A%7D%29.addTo%28map_f8db7b74d7f6437eae08824b1bb1ba34%29%3B%0A%20%20%20%20var%20tile_layer_1009f084db1248339f91f0d7ec4d0b3f%20%3D%20L.tileLayer%28%0A%20%20%20%20%20%20%20%20%27https%3A//earthengine.googleapis.com/v1alpha/projects/earthengine-legacy/maps/ae26cd7df8ba80e7d58ecd1d090fd91e-7aa31cbff9093b77673869babc2115fd/tiles/%7Bz%7D/%7Bx%7D/%7By%7D%27%2C%0A%20%20%20%20%20%20%20%20%7B%0A%20%20%20%20%20%20%20%20%22attribution%22%3A%20%22Google%20Earth%20Engine%22%2C%0A%20%20%20%20%20%20%20%20%22detectRetina%22%3A%20false%2C%0A%20%20%20%20%20%20%20%20%22maxNativeZoom%22%3A%2018%2C%0A%20%20%20%20%20%20%20%20%22maxZoom%22%3A%2018%2C%0A%20%20%20%20%20%20%20%20%22minZoom%22%3A%200%2C%0A%20%20%20%20%20%20%20%20%22noWrap%22%3A%20false%2C%0A%20%20%20%20%20%20%20%20%22opacity%22%3A%201%2C%0A%20%20%20%20%20%20%20%20%22subdomains%22%3A%20%22abc%22%2C%0A%20%20%20%20%20%20%20%20%22tms%22%3A%20false%0A%7D%29.addTo%28map_f8db7b74d7f6437eae08824b1bb1ba34%29%3B%0A%20%20%20%20var%20tile_layer_7a49614ba9cb4a78b790b7dbfb43dbf7%20%3D%20L.tileLayer%28%0A%20%20%20%20%20%20%20%20%27https%3A//earthengine.googleapis.com/v1alpha/projects/earthengine-legacy/maps/26299a1c5c2bdd896b47f6873ca1a55b-7e33b99b6be7f6b62b8fbd7d8db0503e/tiles/%7Bz%7D/%7Bx%7D/%7By%7D%27%2C%0A%20%20%20%20%20%20%20%20%7B%0A%20%20%20%20%20%20%20%20%22attribution%22%3A%20%22Google%20Earth%20Engine%22%2C%0A%20%20%20%20%20%20%20%20%22detectRetina%22%3A%20false%2C%0A%20%20%20%20%20%20%20%20%22maxNativeZoom%22%3A%2018%2C%0A%20%20%20%20%20%20%20%20%22maxZoom%22%3A%2018%2C%0A%20%20%20%20%20%20%20%20%22minZoom%22%3A%200%2C%0A%20%20%20%20%20%20%20%20%22noWrap%22%3A%20false%2C%0A%20%20%20%20%20%20%20%20%22opacity%22%3A%201%2C%0A%20%20%20%20%20%20%20%20%22subdomains%22%3A%20%22abc%22%2C%0A%20%20%20%20%20%20%20%20%22tms%22%3A%20false%0A%7D%29.addTo%28map_f8db7b74d7f6437eae08824b1bb1ba34%29%3B%0A%20%20%20%20%0A%20%20%20%20%20%20%20%20%20%20%20%20var%20layer_control_ae5574919a0e4b75bc77faab712c2aed%20%3D%20%7B%0A%20%20%20%20%20%20%20%20%20%20%20%20%20%20%20%20base_layers%20%3A%20%7B%20%22openstreetmap%22%20%3A%20tile_layer_55a45990c02c40fda6c0363c677c0b00%2C%20%7D%2C%0A%20%20%20%20%20%20%20%20%20%20%20%20%20%20%20%20overlays%20%3A%20%7B%20%22True%20Transition%20Map%22%20%3A%20tile_layer_1009f084db1248339f91f0d7ec4d0b3f%2C%22Predicted%20Transition%20Map%22%20%3A%20tile_layer_7a49614ba9cb4a78b790b7dbfb43dbf7%2C%20%7D%0A%20%20%20%20%20%20%20%20%20%20%20%20%20%20%20%20%7D%3B%0A%20%20%20%20%20%20%20%20%20%20%20%20L.control.layers%28%0A%20%20%20%20%20%20%20%20%20%20%20%20%20%20%20%20layer_control_ae5574919a0e4b75bc77faab712c2aed.base_layers%2C%0A%20%20%20%20%20%20%20%20%20%20%20%20%20%20%20%20layer_control_ae5574919a0e4b75bc77faab712c2aed.overlays%2C%0A%20%20%20%20%20%20%20%20%20%20%20%20%20%20%20%20%7Bposition%3A%20%27topright%27%2C%0A%20%20%20%20%20%20%20%20%20%20%20%20%20%20%20%20%20collapsed%3A%20true%2C%0A%20%20%20%20%20%20%20%20%20%20%20%20%20%20%20%20%20autoZIndex%3A%20true%0A%20%20%20%20%20%20%20%20%20%20%20%20%20%20%20%20%7D%29.addTo%28map_f8db7b74d7f6437eae08824b1bb1ba34%29%3B%0A%20%20%20%20%20%20%20%20%20%20%20%20%0A%20%20%20%20%20%20%20%20%0A%3C/script%3E onload=\"this.contentDocument.open();this.contentDocument.write(    decodeURIComponent(this.getAttribute('data-html')));this.contentDocument.close();\" \"allowfullscreen\" \"webkitallowfullscreen\" \"mozallowfullscreen\"></iframe>"
            ],
            "text/plain": [
              "<branca.element.Figure at 0x7fb6faa97e50>"
            ]
          },
          "metadata": {},
          "execution_count": 15
        }
      ]
    },
    {
      "cell_type": "markdown",
      "source": [
        "# Unsupervised learning"
      ],
      "metadata": {
        "id": "vGa5cNsOwfpX"
      }
    },
    {
      "cell_type": "markdown",
      "source": [
        "Training"
      ],
      "metadata": {
        "id": "iZq8MauGDkyD"
      }
    },
    {
      "cell_type": "code",
      "source": [
        "train_points = train_img.sample(numPixels = 1000, \n",
        "                                scale = 30, \n",
        "                                seed = 0)\n",
        "\n",
        "# Note that although this outputs four classes (all classes except water are present in the image) the colours are randomly assigned when visualizing\n",
        "k_means = ee.Clusterer.wekaKMeans(4).train(train_points)"
      ],
      "metadata": {
        "id": "7yJm6Sl1widv"
      },
      "execution_count": 15,
      "outputs": []
    },
    {
      "cell_type": "markdown",
      "source": [
        "Testing"
      ],
      "metadata": {
        "id": "6DAN6sgXD1O7"
      }
    },
    {
      "cell_type": "code",
      "source": [
        "clustered_test_img = test_img.cluster(k_means).clip(test_aoi)"
      ],
      "metadata": {
        "id": "4vKBbG6CD2ps"
      },
      "execution_count": 16,
      "outputs": []
    },
    {
      "cell_type": "markdown",
      "source": [
        "Visualize results"
      ],
      "metadata": {
        "id": "WiS-O18xEFE7"
      }
    },
    {
      "cell_type": "code",
      "source": [
        "f = folium.Figure(width=1000, height=500)\n",
        "m = folium.Map(location=test_location, zoom_start=12).add_to(f)\n",
        "\n",
        "test_transition_map_image = test_transition_map.clip(test_aoi)\n",
        "\n",
        "vis_params = {\n",
        "\"min\": 0,\n",
        "\"max\": 4,\n",
        "\"palette\": [rgb(0,80,0), rgb(210,250,60), rgb(255,230,100), rgb(0,70,160 ), rgb(255,255,255)]}\n",
        "\n",
        "# this forces Earth Engine to render at 30m scale\n",
        "clustered_test_img = clustered_test_img.reproject(clustered_test_img.projection().crs(), scale=30)\n",
        "\n",
        "\n",
        "m.add_ee_layer(test_transition_map_image, vis_params, 'True Transition Map')\n",
        "m.add_ee_layer(clustered_test_img, vis_params, 'Predicted Transition Map')\n",
        "m.add_child(folium.LayerControl())\n",
        "\n",
        "f"
      ],
      "metadata": {
        "colab": {
          "base_uri": "https://localhost:8080/",
          "height": 521
        },
        "id": "clMWGBAqEGQs",
        "outputId": "cbfc24de-a00a-4c13-b616-23c34d126f90"
      },
      "execution_count": 17,
      "outputs": [
        {
          "output_type": "execute_result",
          "data": {
            "text/html": [
              "<iframe src=\"about:blank\" width=\"1000\" height=\"500\"style=\"border:none !important;\" data-html=%3C%21DOCTYPE%20html%3E%0A%3Chead%3E%20%20%20%20%0A%20%20%20%20%3Cmeta%20http-equiv%3D%22content-type%22%20content%3D%22text/html%3B%20charset%3DUTF-8%22%20/%3E%0A%20%20%20%20%3Cscript%3EL_PREFER_CANVAS%3Dfalse%3B%20L_NO_TOUCH%3Dfalse%3B%20L_DISABLE_3D%3Dfalse%3B%3C/script%3E%0A%20%20%20%20%3Cscript%20src%3D%22https%3A//cdn.jsdelivr.net/npm/leaflet%401.4.0/dist/leaflet.js%22%3E%3C/script%3E%0A%20%20%20%20%3Cscript%20src%3D%22https%3A//code.jquery.com/jquery-1.12.4.min.js%22%3E%3C/script%3E%0A%20%20%20%20%3Cscript%20src%3D%22https%3A//maxcdn.bootstrapcdn.com/bootstrap/3.2.0/js/bootstrap.min.js%22%3E%3C/script%3E%0A%20%20%20%20%3Cscript%20src%3D%22https%3A//cdnjs.cloudflare.com/ajax/libs/Leaflet.awesome-markers/2.0.2/leaflet.awesome-markers.js%22%3E%3C/script%3E%0A%20%20%20%20%3Clink%20rel%3D%22stylesheet%22%20href%3D%22https%3A//cdn.jsdelivr.net/npm/leaflet%401.4.0/dist/leaflet.css%22/%3E%0A%20%20%20%20%3Clink%20rel%3D%22stylesheet%22%20href%3D%22https%3A//maxcdn.bootstrapcdn.com/bootstrap/3.2.0/css/bootstrap.min.css%22/%3E%0A%20%20%20%20%3Clink%20rel%3D%22stylesheet%22%20href%3D%22https%3A//maxcdn.bootstrapcdn.com/bootstrap/3.2.0/css/bootstrap-theme.min.css%22/%3E%0A%20%20%20%20%3Clink%20rel%3D%22stylesheet%22%20href%3D%22https%3A//maxcdn.bootstrapcdn.com/font-awesome/4.6.3/css/font-awesome.min.css%22/%3E%0A%20%20%20%20%3Clink%20rel%3D%22stylesheet%22%20href%3D%22https%3A//cdnjs.cloudflare.com/ajax/libs/Leaflet.awesome-markers/2.0.2/leaflet.awesome-markers.css%22/%3E%0A%20%20%20%20%3Clink%20rel%3D%22stylesheet%22%20href%3D%22https%3A//rawcdn.githack.com/python-visualization/folium/master/folium/templates/leaflet.awesome.rotate.css%22/%3E%0A%20%20%20%20%3Cstyle%3Ehtml%2C%20body%20%7Bwidth%3A%20100%25%3Bheight%3A%20100%25%3Bmargin%3A%200%3Bpadding%3A%200%3B%7D%3C/style%3E%0A%20%20%20%20%3Cstyle%3E%23map%20%7Bposition%3Aabsolute%3Btop%3A0%3Bbottom%3A0%3Bright%3A0%3Bleft%3A0%3B%7D%3C/style%3E%0A%20%20%20%20%0A%20%20%20%20%3Cmeta%20name%3D%22viewport%22%20content%3D%22width%3Ddevice-width%2C%0A%20%20%20%20%20%20%20%20initial-scale%3D1.0%2C%20maximum-scale%3D1.0%2C%20user-scalable%3Dno%22%20/%3E%0A%20%20%20%20%3Cstyle%3E%23map_d89cfc8c8e694845b2ee5be8c2a1d59a%20%7B%0A%20%20%20%20%20%20%20%20position%3A%20relative%3B%0A%20%20%20%20%20%20%20%20width%3A%20100.0%25%3B%0A%20%20%20%20%20%20%20%20height%3A%20100.0%25%3B%0A%20%20%20%20%20%20%20%20left%3A%200.0%25%3B%0A%20%20%20%20%20%20%20%20top%3A%200.0%25%3B%0A%20%20%20%20%20%20%20%20%7D%0A%20%20%20%20%3C/style%3E%0A%3C/head%3E%0A%3Cbody%3E%20%20%20%20%0A%20%20%20%20%0A%20%20%20%20%3Cdiv%20class%3D%22folium-map%22%20id%3D%22map_d89cfc8c8e694845b2ee5be8c2a1d59a%22%20%3E%3C/div%3E%0A%3C/body%3E%0A%3Cscript%3E%20%20%20%20%0A%20%20%20%20%0A%20%20%20%20%0A%20%20%20%20%20%20%20%20var%20bounds%20%3D%20null%3B%0A%20%20%20%20%0A%0A%20%20%20%20var%20map_d89cfc8c8e694845b2ee5be8c2a1d59a%20%3D%20L.map%28%0A%20%20%20%20%20%20%20%20%27map_d89cfc8c8e694845b2ee5be8c2a1d59a%27%2C%20%7B%0A%20%20%20%20%20%20%20%20center%3A%20%5B-9.93097535159907%2C%20-50.65246582031609%5D%2C%0A%20%20%20%20%20%20%20%20zoom%3A%2012%2C%0A%20%20%20%20%20%20%20%20maxBounds%3A%20bounds%2C%0A%20%20%20%20%20%20%20%20layers%3A%20%5B%5D%2C%0A%20%20%20%20%20%20%20%20worldCopyJump%3A%20false%2C%0A%20%20%20%20%20%20%20%20crs%3A%20L.CRS.EPSG3857%2C%0A%20%20%20%20%20%20%20%20zoomControl%3A%20true%2C%0A%20%20%20%20%20%20%20%20%7D%29%3B%0A%0A%0A%20%20%20%20%0A%20%20%20%20var%20tile_layer_19d7e556ee3f4c808d35513c56db9c56%20%3D%20L.tileLayer%28%0A%20%20%20%20%20%20%20%20%27https%3A//%7Bs%7D.tile.openstreetmap.org/%7Bz%7D/%7Bx%7D/%7By%7D.png%27%2C%0A%20%20%20%20%20%20%20%20%7B%0A%20%20%20%20%20%20%20%20%22attribution%22%3A%20null%2C%0A%20%20%20%20%20%20%20%20%22detectRetina%22%3A%20false%2C%0A%20%20%20%20%20%20%20%20%22maxNativeZoom%22%3A%2018%2C%0A%20%20%20%20%20%20%20%20%22maxZoom%22%3A%2018%2C%0A%20%20%20%20%20%20%20%20%22minZoom%22%3A%200%2C%0A%20%20%20%20%20%20%20%20%22noWrap%22%3A%20false%2C%0A%20%20%20%20%20%20%20%20%22opacity%22%3A%201%2C%0A%20%20%20%20%20%20%20%20%22subdomains%22%3A%20%22abc%22%2C%0A%20%20%20%20%20%20%20%20%22tms%22%3A%20false%0A%7D%29.addTo%28map_d89cfc8c8e694845b2ee5be8c2a1d59a%29%3B%0A%20%20%20%20var%20tile_layer_f1de951fcb0d492fade49b4a6badf899%20%3D%20L.tileLayer%28%0A%20%20%20%20%20%20%20%20%27https%3A//earthengine.googleapis.com/v1alpha/projects/earthengine-legacy/maps/ae26cd7df8ba80e7d58ecd1d090fd91e-aecbe36ec1aeb8df931949ca1df1b5bc/tiles/%7Bz%7D/%7Bx%7D/%7By%7D%27%2C%0A%20%20%20%20%20%20%20%20%7B%0A%20%20%20%20%20%20%20%20%22attribution%22%3A%20%22Google%20Earth%20Engine%22%2C%0A%20%20%20%20%20%20%20%20%22detectRetina%22%3A%20false%2C%0A%20%20%20%20%20%20%20%20%22maxNativeZoom%22%3A%2018%2C%0A%20%20%20%20%20%20%20%20%22maxZoom%22%3A%2018%2C%0A%20%20%20%20%20%20%20%20%22minZoom%22%3A%200%2C%0A%20%20%20%20%20%20%20%20%22noWrap%22%3A%20false%2C%0A%20%20%20%20%20%20%20%20%22opacity%22%3A%201%2C%0A%20%20%20%20%20%20%20%20%22subdomains%22%3A%20%22abc%22%2C%0A%20%20%20%20%20%20%20%20%22tms%22%3A%20false%0A%7D%29.addTo%28map_d89cfc8c8e694845b2ee5be8c2a1d59a%29%3B%0A%20%20%20%20var%20tile_layer_90829b7a338f474b8f5900b3856e6c19%20%3D%20L.tileLayer%28%0A%20%20%20%20%20%20%20%20%27https%3A//earthengine.googleapis.com/v1alpha/projects/earthengine-legacy/maps/b9a23298a16da5918a31a7dd8b2b691f-e39494b296a92c2ca01cca8f78104419/tiles/%7Bz%7D/%7Bx%7D/%7By%7D%27%2C%0A%20%20%20%20%20%20%20%20%7B%0A%20%20%20%20%20%20%20%20%22attribution%22%3A%20%22Google%20Earth%20Engine%22%2C%0A%20%20%20%20%20%20%20%20%22detectRetina%22%3A%20false%2C%0A%20%20%20%20%20%20%20%20%22maxNativeZoom%22%3A%2018%2C%0A%20%20%20%20%20%20%20%20%22maxZoom%22%3A%2018%2C%0A%20%20%20%20%20%20%20%20%22minZoom%22%3A%200%2C%0A%20%20%20%20%20%20%20%20%22noWrap%22%3A%20false%2C%0A%20%20%20%20%20%20%20%20%22opacity%22%3A%201%2C%0A%20%20%20%20%20%20%20%20%22subdomains%22%3A%20%22abc%22%2C%0A%20%20%20%20%20%20%20%20%22tms%22%3A%20false%0A%7D%29.addTo%28map_d89cfc8c8e694845b2ee5be8c2a1d59a%29%3B%0A%20%20%20%20%0A%20%20%20%20%20%20%20%20%20%20%20%20var%20layer_control_fc94e356ded6442c8895cc6c9a186f9b%20%3D%20%7B%0A%20%20%20%20%20%20%20%20%20%20%20%20%20%20%20%20base_layers%20%3A%20%7B%20%22openstreetmap%22%20%3A%20tile_layer_19d7e556ee3f4c808d35513c56db9c56%2C%20%7D%2C%0A%20%20%20%20%20%20%20%20%20%20%20%20%20%20%20%20overlays%20%3A%20%7B%20%22True%20Transition%20Map%22%20%3A%20tile_layer_f1de951fcb0d492fade49b4a6badf899%2C%22Predicted%20Transition%20Map%22%20%3A%20tile_layer_90829b7a338f474b8f5900b3856e6c19%2C%20%7D%0A%20%20%20%20%20%20%20%20%20%20%20%20%20%20%20%20%7D%3B%0A%20%20%20%20%20%20%20%20%20%20%20%20L.control.layers%28%0A%20%20%20%20%20%20%20%20%20%20%20%20%20%20%20%20layer_control_fc94e356ded6442c8895cc6c9a186f9b.base_layers%2C%0A%20%20%20%20%20%20%20%20%20%20%20%20%20%20%20%20layer_control_fc94e356ded6442c8895cc6c9a186f9b.overlays%2C%0A%20%20%20%20%20%20%20%20%20%20%20%20%20%20%20%20%7Bposition%3A%20%27topright%27%2C%0A%20%20%20%20%20%20%20%20%20%20%20%20%20%20%20%20%20collapsed%3A%20true%2C%0A%20%20%20%20%20%20%20%20%20%20%20%20%20%20%20%20%20autoZIndex%3A%20true%0A%20%20%20%20%20%20%20%20%20%20%20%20%20%20%20%20%7D%29.addTo%28map_d89cfc8c8e694845b2ee5be8c2a1d59a%29%3B%0A%20%20%20%20%20%20%20%20%20%20%20%20%0A%20%20%20%20%20%20%20%20%0A%3C/script%3E onload=\"this.contentDocument.open();this.contentDocument.write(    decodeURIComponent(this.getAttribute('data-html')));this.contentDocument.close();\" \"allowfullscreen\" \"webkitallowfullscreen\" \"mozallowfullscreen\"></iframe>"
            ],
            "text/plain": [
              "<branca.element.Figure at 0x7f856d7d55d0>"
            ]
          },
          "metadata": {},
          "execution_count": 17
        }
      ]
    }
  ]
}